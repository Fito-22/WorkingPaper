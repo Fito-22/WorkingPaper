{
 "cells": [
  {
   "cell_type": "markdown",
   "id": "b3d2a512",
   "metadata": {},
   "source": [
    "## OPTIMIZING "
   ]
  },
  {
   "cell_type": "code",
   "execution_count": 41,
   "id": "35ea3a95",
   "metadata": {
    "scrolled": true
   },
   "outputs": [
    {
     "name": "stdout",
     "output_type": "stream",
     "text": [
      "Collecting pdfminer.six\n",
      "  Using cached pdfminer.six-20220524-py3-none-any.whl (5.6 MB)\n",
      "Collecting cryptography>=36.0.0\n",
      "  Using cached cryptography-37.0.4-cp36-abi3-manylinux_2_24_x86_64.whl (4.1 MB)\n",
      "Requirement already satisfied: charset-normalizer>=2.0.0 in /home/adolfo/.pyenv/versions/3.8.12/envs/WorkingPaper/lib/python3.8/site-packages (from pdfminer.six) (2.1.1)\n",
      "Requirement already satisfied: cffi>=1.12 in /home/adolfo/.pyenv/versions/3.8.12/envs/WorkingPaper/lib/python3.8/site-packages (from cryptography>=36.0.0->pdfminer.six) (1.15.1)\n",
      "Requirement already satisfied: pycparser in /home/adolfo/.pyenv/versions/3.8.12/envs/WorkingPaper/lib/python3.8/site-packages (from cffi>=1.12->cryptography>=36.0.0->pdfminer.six) (2.21)\n",
      "Installing collected packages: cryptography, pdfminer.six\n",
      "Successfully installed cryptography-37.0.4 pdfminer.six-20220524\n"
     ]
    }
   ],
   "source": [
    "!pip install pdfminer.six"
   ]
  },
  {
   "cell_type": "code",
   "execution_count": 1,
   "id": "bc7bf533",
   "metadata": {},
   "outputs": [
    {
     "ename": "ModuleNotFoundError",
     "evalue": "No module named 'pdfminer.pdfinterp'",
     "output_type": "error",
     "traceback": [
      "\u001b[0;31m---------------------------------------------------------------------------\u001b[0m",
      "\u001b[0;31mModuleNotFoundError\u001b[0m                       Traceback (most recent call last)",
      "Input \u001b[0;32mIn [1]\u001b[0m, in \u001b[0;36m<cell line: 4>\u001b[0;34m()\u001b[0m\n\u001b[1;32m      2\u001b[0m \u001b[38;5;28;01mimport\u001b[39;00m \u001b[38;5;21;01mio\u001b[39;00m\n\u001b[1;32m      3\u001b[0m \u001b[38;5;28;01mimport\u001b[39;00m \u001b[38;5;21;01mpdfminer\u001b[39;00m\n\u001b[0;32m----> 4\u001b[0m \u001b[38;5;28;01mfrom\u001b[39;00m \u001b[38;5;21;01mpdfminer\u001b[39;00m\u001b[38;5;21;01m.\u001b[39;00m\u001b[38;5;21;01mpdfinterp\u001b[39;00m \u001b[38;5;28;01mimport\u001b[39;00m PDFResourceManager, PDFPageInterpreter\n\u001b[1;32m      5\u001b[0m \u001b[38;5;28;01mfrom\u001b[39;00m \u001b[38;5;21;01mio\u001b[39;00m \u001b[38;5;28;01mimport\u001b[39;00m StringIO\n\u001b[1;32m      6\u001b[0m \u001b[38;5;28;01mfrom\u001b[39;00m \u001b[38;5;21;01mpdfminer\u001b[39;00m\u001b[38;5;21;01m.\u001b[39;00m\u001b[38;5;21;01mlayout\u001b[39;00m \u001b[38;5;28;01mimport\u001b[39;00m LAParams\n",
      "\u001b[0;31mModuleNotFoundError\u001b[0m: No module named 'pdfminer.pdfinterp'"
     ]
    }
   ],
   "source": [
    "import requests\n",
    "import io\n",
    "import pdfminer\n",
    "from pdfminer.pdfinterp import PDFResourceManager, PDFPageInterpreter\n",
    "from io import StringIO\n",
    "from pdfminer.layout import LAParams\n",
    "from pdfminer.converter import TextConverter\n",
    "from pdfminer.pdfpage import PDFPage"
   ]
  },
  {
   "cell_type": "code",
   "execution_count": 44,
   "id": "43256827",
   "metadata": {},
   "outputs": [],
   "source": [
    "def convert_pdf_to_txt(fp):\n",
    "    rsrcmgr = PDFResourceManager()\n",
    "    retstr = StringIO()\n",
    "    codec = \"utf-8\"\n",
    "    # codec ='ISO-8859-1'\n",
    "    laparams = LAParams()\n",
    "    device = TextConverter(\n",
    "        rsrcmgr, retstr, laparams=laparams\n",
    "    )\n",
    "\n",
    "    interpreter = PDFPageInterpreter(rsrcmgr, device)\n",
    "    password = \"\"\n",
    "    maxpages = 1\n",
    "    caching = True\n",
    "    pagenos = set()\n",
    "\n",
    "    for page in PDFPage.get_pages(\n",
    "        fp,\n",
    "        pagenos,\n",
    "        maxpages=maxpages,\n",
    "        password=password,\n",
    "        caching=caching,\n",
    "        check_extractable=True,\n",
    "    ):\n",
    "        interpreter.process_page(page)\n",
    "\n",
    "    text = retstr.getvalue()\n",
    "    device.close()\n",
    "    retstr.close()\n",
    "    text = str(text)\n",
    "    text = text.replace(\"\\\\n\", \"\")\n",
    "    text = text.replace('\\n','')\n",
    "    return text"
   ]
  },
  {
   "cell_type": "code",
   "execution_count": 39,
   "id": "2a54af5a",
   "metadata": {},
   "outputs": [],
   "source": [
    "url = 'https://arxiv.org/pdf/2208.13517.pdf'"
   ]
  },
  {
   "cell_type": "code",
   "execution_count": 40,
   "id": "f6e0a16c",
   "metadata": {
    "collapsed": true
   },
   "outputs": [
    {
     "data": {
      "text/plain": [
       "'Prepared for submission to JHEPOn the question of the analysis ofJ/ψ → ρπ → π+π−π0K.Yu. Todysheva,baBudker Institute of Nuclear Physics, 11, akademika Lavrentieva prospect, Novosibirsk, 630090,RussiabNovosibirsk State University, 1, Pirogova street, Novosibirsk, 630090, RussiaE-mail: todyshev@inp.nsk.suAbstract: This paper presents a method for the analysis of process J/ψ → ρπ → π+π−π0based on the consideration of the angles of expansion of ﬁnite pion pairs. The proposedapproach makes it possible to eﬀectively carry out selection of events in both neutral andcharge-conjugate modes of the decay of J/ψ → ρπ. Application of the method for theanalysis of similar three-body decays in some cases will simplify the analysis and reﬁnecurrent results.2202 guA92   ]hp-peh[  1v71531.8022:viXra\\x0cContents1 Introduction2 The main idea of analysis of the process J/ψ → ρπ3 Conclusion1Introduction116The interest in the issue of eﬀective separation of the J/ψ → ρπ decay modes arose fromconsidering the experimental results of the analysis of the J/ψ decay into three pions. Themain contribution to this process is determined by the decay of J/ψ → ρπ followed by thedecay ρ meson into two pions. The probability of this process was measured in a numberof experiments [1–9] and is the highest among J/ψ decays with an intermediate hadronresonance Bρπ(J/ψ) = 1.69 ± 0.15% [10]. In addition, the ratio of partial widths Γρ0π0/Γρπwas measured in [1–4, 6], whence, taking into account the result of the latest experimentρ0π0(J/ψ) = (5.6 ± 0.7) × 10−3. A feature of the available[6], the PDG [10] gives the value Bexperimental measurements of the Bρπ(J/ψ) value is a signiﬁcant discrepancy between theresults of early experiments [1–7] and later measurements by the collaborations BES [8]and BABAR [9]. Resulting error scaling factor, according to PDG[10] is 2.4. These reasonsmake it interesting to continue the study both the J/ψ → ρπ process and the entire set ofJ/ψ decay processes leading to a three-pion ﬁnal state.The distribution of squared invariant masses of pion pairs π+π0, π−π0, π+π− is shownin three dimensions in the ﬁgure 1. Any of the three 2D projections of a 3D distribution isa Dalitz plot [12]. Plots of this kind are widely used in the analysis of various processes,including those for the three-pion J/ψ meson decay. Complexity of measuring the partialprobabilities of modes J/ψ → ρ+π−, J/ψ → ρ−π+, J/ψ → ρ0π0 in such an approach isassociated with a signiﬁcant overlap of distributions of squared invariant masses of pionspairs, as well as the need for a reliable description of the resolution function for a two-dimensional distribution over invariant masses. The inaccuracies of this function, as a rule,introduce a noticeable systematic uncertainty into the result.2 The main idea of analysis of the process J/ψ → ρπAs an alternative to the two-dimensional ﬁtting of Dalitz plots, one can propose the fol-lowing analysis procedure. At the initial stage, three subsets of events are selected inaccordance with the following conditions: cos θπ+π0 > cos θπ+π− ∧ cos θπ+π0 > cos θπ−π0,cos θπ−π0>cos θπ+π− ∧ cos θπ−π0>cos θπ+π0, and cos θπ+π−>cos θπ−π0 ∧ cos θπ+π−>cos θπ+π0.– 1 –\\x0cm2π+π−(ρ0), GeV2/c498765432100 1 2 3 4 5 6 7 8 9π−π0(ρ−), GeV2/c4m28796PSfrag replacements01235m24π+π0(ρ+), GeV2/c4π+π0 , m2π−π0 , m2Figure 1. The distribution of events over the squares of the invariant masses of pion pairsm2pi+ π− obtained by MC simulation of the process J/ψ → ρπ. The simulationwas performed within the framework of the KEDR experiment software [13]. The red, blue andgreen regions correspond to the conditions that select the J/ψ decay modes ρ+π−, ρ−π+ and ρ0π0,respectively, as described in the text of the article.Here and further, θπ+π0, θπ+π− and θπ−π+ are the angles between the momentum vectorsof the corresponding π mesons.Figure 2 shows the distribution of events over the values of the cosines of the angles ofexpansion of pion pairs in a three-dimensional form. The criteria listed above determinethe boundaries of the regions of three subsets of events, where one or another mode of theprocess under study predominates.cos θπ+π−10.80.60.40.2-0-0.2-0.4-0.6-0.8-1-1-0.8-0.6-0.4-0.2-00.2PSfrag replacementscos θπ+π00.40.60.80.20.40.6110.8-0.4-0.2-0cos θπ−π0-0.8-0.6-1Figure 2. Simulation data of the process J/ψ → ρπ. The distribution of events over the cosinesof the angles cos θπ+π0 , cos θπ−π0, cos θπ+π− is given. The red, blue, and green regions correspondto the conditions that single out, respectively, the J/ψ meson decay modes ρ+π−, ρ−π+ and ρ0π0.The next stage of the analysis consists in constructing the distributions of the invariantmass of the positively and negatively charged ρ meson according to the ﬁrst and the secondsubset of events, as well as the distribution of the invariant mass ρ0 meson over the eventsof the third subset. The simultaneous ﬁtting of the three resulting distributions involves– 2 –\\x0cthe calculation of all necessary parameters, as in the case of ﬁtting two-dimensional Dalitzplot. Let us discuss the advantages of the proposed approach.Consider the events corresponding to the selection conditions cos θπ+π− < cos θπ−π0 ∨cos θπ+π− < cos θπ+π0. These criteria allow to reject most of the J/ψ → ρ0π0 events, whichmakes it possible to single out the J/ψ → ρ+π− and J/ψ → ρ−π+ ”conditional” in itspurest form.Figure 3 shows the distribution of the invariant mass for the π−π0 pair for eventsthat meet the above criteria. The resulting histogram is marked with a dotted line. Thearea with horizontal blue hatching meets the condition cos θπ−π0 > cos θπ+π0, and the partshaded with vertical red lines is the inverse relation cos θπ−π0 < cos θπ+π0. The area of theintersection of the distributions determined by this condition is approximately 7.4% of allevents in the histogram.dN/dMπ−π0(ρ−)50004000300020001000PSfrag replacements00.511.52Mπ−π0(ρ−), GeV/c22.53Figure 3. The invariant mass distribution of the pair π− and π0 under the conditions cos θπ+π− <cos θπ−π0 ∨ cos θπ+π− < cos θπ+π0 .Consider now the distribution of the cosine of the angle between the momentum vectorsof π− and π0 under the same conditions in the ﬁgure 4. The overlap area of the event subsetfor one-dimensional distributions in magnitude cos θπ−π0 in this case is 2.3%. The resultingvalue characterizes the overlap of subsets of events J/ψ → ρ+π0 and J/ψ → ρ−π0 on thethree-dimensional plot of the angles of expansion of π meson pairs. A similar parameter atthe boundaries of the intersection of charged modes with a subset of events neutral mode isaround 2.5%. In all possible variants of intersections, approximately a threefold advantageremains compared to the values of overlapping distributions of invariant masses.The event compaction eﬀect of the “corners” area in ﬁgure 2 is a consequence of asimple fact. The shell or boundary of the area occupied by the Dalitz plot for a three-piondecay corresponds to ”collinear” events, when the momenta of two particles are directedagainst the direction of motion of the third particle. In this case, the events of each of theJ/ψ → ρπ decay modes are located in the region close to the corresponding side of thetriangle in the ﬁgure 1, and on the cosine plot of the expansion angles of π meson pairs in– 3 –\\x0cdN/dcos θπ−π02500200015001000500PSfrag replacements0-1-0.8 -0.6 -0.4 -0.2-00.20.40.60.81cos θπ−π0Figure 4. Distributions of the cosine of the angle between π− and π0 under the conditionscos θπ+π− < cos θπ−π0 ∨ cos θπ+π− < cos θπ+π0.the corresponding part of the 3D drawing in ﬁgure 2.In this case, 2E1E2(1 − cos θ12) = m2It is possible to ﬁnd a relation between the observed angle of expansion of a pairof charged pions and their invariant mass, in an approximation where pion masses canbe neglected.12, where E1 and E2 are energiesof the corresponding pions. Consider the π−π0 pair. Under the condition cos θπ−π0 >cos θπ+π− ∧ cos θπ−π0 >cos θπ+π0, the observable value is cos θπ−π0 > −0.5 (Fig. 4), fromhere one can determine that m212 < 3E1E2. The maximum of the product E1E2 is reachedat E1 = E2 = s−m2, hence m210 , holding the next order of smallness in pion16 + 4m2mass leads to m2π). In numerical form, this corresponds to the conditionm12 < 1.73 GeV/c2 (for s = M 212 < 3sπ +m2124√s12 < 85 ( 3sJ/ψ).Using the above conditions on the cosines of the pion pair expansion angles, it ispossible to represent the entire set of events in the form of one-dimensional distributionsof invariant masses for pion pairs, which is demonstrated in the ﬁgures 5, 6 and 7. Theupper bound of each of the distributions agrees well with the constraint found above.Consider the problem of optimizing the mode factorization procedure for the processJ/ψ → ρπ, that is, we determine the possible region of each of the modes so that thesum of the overlaps of the subsets ε is minimal. Introduce the parameter δ and change”cos θπ+π−” to ”cos θπ+π− +δ” in all conditions listed above. Positive values of δ correspondto an increase in the region where the events of the J/ψ → ρ0π0 mode are distinguished,and negative values correspond to its decrease. Figure 8 shows the resulting dependence.The optimal value of δ is found to be equal to −0.3. At the same time, the region ofthe minimum of the chosen optimization function is rather wide, and its diﬀerence fromthe value at zero δ is insigniﬁcant. Modiﬁcation of the criteria on cos θπ+π0 and cos θπ−π0by introducing additional oﬀsets is not required due to the symmetry selection conditionsfor these parameters, which is conﬁrmed by numerical calculation.The observed asymmetry of the optimal boundaries of the selected events is associ-– 4 –\\x0cdN/dMπ−π0(ρ−)500040003000200010000PSfrag replacements0.40.60.811.21.61.41.8Mπ−π0(ρ−), GeV/c2Figure 5. Distribution of the invariant mass of the pair π−π0 under the conditions cos θπ−π0 >cos θπ+π− ∧cos θπ−π0 > cos θπ+π0 .dN/dMπ+π0(ρ+)500040003000200010000PSfrag replacements0.40.60.811.21.61.41.8Mπ+π0(ρ+), GeV/c2Figure 6. Distribution of the invariant mass of the pair π+π0 under the conditions cos θπ+π0 >cos θπ+π− ∧cos θπ+π0 > cos θπ−π0 .ated with a lower eﬃciency of registration of the J/ψ → ρ0π0 process compared to chargedmodes. When analyzing real experimental data, the optimal criteria for mode factorizationmay not correspond exactly to the conditions described in this article due to the featuresof the detector, the inﬂuence of background events, and the interference of the decay understudy with other processes. Nevertheless, selection criteria for the angles of expansion ofpion pairs of registered π mesons in the process J/ψ → ρπ signiﬁcantly increase the eﬃ-ciency of separation of various modes of a given decay. Such criteria are more eﬃcient thanrestrictions on the squares of the invariant masses and the invariant masses themselves forprocesses of this kind, if only one-dimensional distributions are considered. Factorizationof diﬀerent J/ψ → ρπ decay modes can be useful for a more accurate measurement of thepartial probability this process.– 5 –\\x0cdN/dMπ+π−(ρ0)300025002000150010005000PSfrag replacements0.40.60.811.21.61.41.8Mπ+π−(ρ0), GeV/c2Figure 7. Distribution of the invariant mass of the pair π+π− under the conditions cos θπ+π− >cos θπ−π0 ∧ cos θπ+π−> cos θπ+π0.2c2c / ndf  / ndf p0       p0       p1       p1       p2       p2        1.631 / 5 1.631 / 5 0.06971  0.06971  0.0004337 0.0004337 -0.2977  -0.2977  0.02238 0.02238 0.03141  0.03141  0.006397 0.006397ε0.0760.0740.0720.07PSfrag replacements-0.6-0.4-0.2-00.2δFigure 8. Dependence of the sum of overlaps of subsets of distinguished events ε on the value δ,which sets the shift to the value cos θπ+π− under the conditions that determine the boundaries ofthe regions of the J/ψ decay modes under study.3 ConclusionA number of critical remarks should be made. The problem of interference of the mainρπ channel with the J/ψ → ρ(1450)π decay and other possible processes leading to thethree-pion state is not considered here, but the corresponding analysis of one-dimensionaldistributions of the constructed invariant masses preserves information about interference.– 6 –––––––\\x0cSuch a one-dimensional analysis is simpler than the description of the elements of a two-dimensional distribution on the Dalitz plot, since a reliable description of the resolutionfunction in a multidimensional space is quite a diﬃcult task. The two-dimensional approachin describing the distribution of events over invariant masses on the Dalitz plot carriesmore information, but the proposed alternative is more eﬃcient to measure the partialprobability of the process J/ψ → ρπ. This is due to the fact that the main part of theevents of this process is concentrated in the ”corners” of the three-dimensional distributionof the cosines of the expansion angles of π meson pairs. Regions where one or anothermode of the J/ψ → ρπ process predominates can also be distinguished by other conditionsthat include the main set of events of each considered mode. However, this does not aﬀectthe nature of the distributions over the invariant mass for pairs of pions, which will becharacterized by a ”tail” falling to the right. This, ultimately, provides the advantage ofsuch an analysis in ﬁnding the systematic uncertainties associated with the interferencewith resonances lying above the ρ meson.The construction of Dalitz plots and selection criteria based on the restriction of thesquares of the invariant masses, or the invariant masses themselves, are familiar toolsof modern high-energy physics used to analyze the processes leading to three particlesin ﬁnal state. At the same time, for the analysis of such processes, plots and selectioncriteria based on the values of the cosines of the expansion angles between the ﬁnal par-ticles can be considered. Application of the method described above for determining theprobabilities of various J/ψ → ρπ decay modes will allow us to check more accuratelythe conservation of isotopic invariance for the process under consideration. The proposedmethod can be useful in the study of the charge asymmetry in the decays J/ψ → ρπ andthe so-called ρ − π puzzle [5], if we carry out a similar analysis of various ψ(2S) → ρπdecay modes. Also, the described method of analysis can be used in the study of the de-cays Υ(1S), Υ(2S) → π+π−π0, φK +K−, ωπ+π−, K∗0(892)K−π+ and other processes withsimilar kinematic features.AcknowledgmentsThe author is grateful to Andrey Shamov and Vladimir Blinov for their interest to thiswork.References[1] B. Jean-Marie et al., Determination of the G Parity and Isospin of ψ(3095) by Study ofMulti-Pion Decays, Phys. Rev. Lett. 36 (1976) 291.[2] W. Bartel et al., Measurement of the Branching Ratios for the Decays J/ψ → ρπ andJ/ψ → γη′, Phys. Lett. B 64 (1976) 483.[3] R. Brandelik et al., J/ψ Radiative Decays Into ππγ and KKγ, Phys. Lett. B 74 (1978)292.[4] G. Alexander et al., Measurement of the J/ψ Radiative Decay Into f 0(1270)γ, Phys. Lett.B 72 (1978) 493.– 7 –\\x0c[5] M. E. B. Franklinet al., Measurement of ψ(3097) and ψ′(3686) Decays Into Selected HadronicModes, Phys. Rev. Lett. 51 963 (1983).[6] D. Coﬀman et al., Measurements of J/ψ Decays Into a Vector and a Pseudoscalar Meson,Phys. Rev. D 38 (1988) 2695.[7] J. Z. Bai et al., Search for a vector glueball by a scan of the J/ψ resonance, Phys. Rev. D 54(1996) 1221.[8] J. Z. Bai et al., Measurement of the branching fraction of J/ψ → π+π−π0, Phys. Rev. D 70(2004) 012005.[9] B. Aubert et al., Study of e+e− → π+π−π0 process using initial state radiation with BaBar,Phys. Rev. D 70 (2004) 072004.[10] R. L. Workman et al., Prog. Theor. Exp. Phys. (2020) 083C01.[11] J.P. Lees et al., Dalitz plot analyses of J/ψ → π+π−π0, K +K −π0 and J/ψ → K 0SK ±π∓produces via e+e− annihilation with initial state radiation, Phys. Rev. D 95 (2017) 072007.[12] R. H. Dalitz, Decay of tau Mesons of Known Charge, Phys. Rev. 94, (1954) 1046.[13] V. V. Anashin et al., The KEDR detector, Physics of particles and nuclei 44 (2013) 657.– 8 –\\x0c'"
      ]
     },
     "execution_count": 40,
     "metadata": {},
     "output_type": "execute_result"
    }
   ],
   "source": [
    "response_pdf = requests.get(url)\n",
    "pdf_stream = io.BytesIO(response_pdf.content)\n",
    "text = convert_pdf_to_txt(pdf_stream)\n",
    "text"
   ]
  },
  {
   "cell_type": "markdown",
   "id": "f3b7a46b",
   "metadata": {},
   "source": [
    "## ONLY ONE PAGE GOING TROW THIS SHIT"
   ]
  },
  {
   "cell_type": "code",
   "execution_count": 2,
   "id": "191e080d",
   "metadata": {},
   "outputs": [],
   "source": [
    "import re \n",
    "import requests\n",
    "from bs4 import BeautifulSoup\n"
   ]
  },
  {
   "cell_type": "code",
   "execution_count": 3,
   "id": "7730c678",
   "metadata": {},
   "outputs": [],
   "source": [
    "response = requests.get('https://arxiv.org/')   \n",
    "soup = BeautifulSoup(response.content, 'html.parser')"
   ]
  },
  {
   "cell_type": "markdown",
   "id": "ff846254",
   "metadata": {},
   "source": [
    "### Math subtopics\n"
   ]
  },
  {
   "cell_type": "code",
   "execution_count": 4,
   "id": "e2e5459e",
   "metadata": {},
   "outputs": [],
   "source": [
    "a =  soup.find_all('a', id= re.compile('math.'))\n",
    "b=[]\n",
    "c=[]\n",
    "for i in a:\n",
    "    b.append(i['id'])\n",
    "    c.append(i.text)\n",
    "math_subtopics_names = [c[0]] + c[4:]\n",
    "math_subtopics_index = [b[0]] + b[4:]\n",
    "Math_subtopics ={}\n",
    "for i in range(len(math_subtopics_names)):\n",
    "    Math_subtopics[math_subtopics_names[i]]=math_subtopics_index[i]\n",
    "# Math_subtopics"
   ]
  },
  {
   "cell_type": "markdown",
   "id": "3a1d5079",
   "metadata": {},
   "source": [
    "### Physics Subtopics\n"
   ]
  },
  {
   "cell_type": "code",
   "execution_count": 5,
   "id": "fee07e4d",
   "metadata": {},
   "outputs": [],
   "source": [
    "a =  soup.find_all('strong')\n",
    "a_2 = soup.find_all('a', id=re.compile('main'))\n",
    "b=[]\n",
    "c=[]\n",
    "for i in a:\n",
    "    c.append('recent-' + i.text)\n",
    "for i in a_2:\n",
    "    b.append(i.text)\n",
    "ph_subtopics_index = c[0:11] + [c[12]]\n",
    "#ph_subtopics_names= [Astrophysics,Condensed Matter, General Relativity ]\n",
    "ph_subtopics_names = b[:11] + [b[12]]\n",
    "\n",
    "Physics_subtopics ={}\n",
    "for i in range(len(ph_subtopics_index)):\n",
    "    Physics_subtopics[ph_subtopics_names[i]]=ph_subtopics_index[i]\n"
   ]
  },
  {
   "cell_type": "code",
   "execution_count": 6,
   "id": "d2f32767",
   "metadata": {},
   "outputs": [
    {
     "data": {
      "text/plain": [
       "(2085, 2019, 2085)"
      ]
     },
     "execution_count": 6,
     "metadata": {},
     "output_type": "execute_result"
    }
   ],
   "source": [
    "response = requests.get('https://arxiv.org/')   \n",
    "soup = BeautifulSoup(response.content, 'html.parser')         #Open the web and search for astrophysics articles\n",
    "\n",
    "main_topics =[Physics_subtopics, Math_subtopics]\n",
    "PDF_list=[]\n",
    "counts={}\n",
    "a=[]\n",
    "for topic in main_topics:\n",
    "    for sub_topic_name, sub_topic_index in topic.items(): \n",
    "        counts_subtopic = 0\n",
    "        sub_topic = soup.find_all('a', id=f'{sub_topic_index}')[0]['href']\n",
    "        # print(f'Taking PDFs from: {sub_topic_name}')\n",
    "        st_response = requests.get(f'https://arxiv.org{sub_topic}?show=100')\n",
    "        st_soup = BeautifulSoup(st_response.content, 'html.parser')\n",
    "        articles = st_soup.find_all('span', class_='list-identifier') #All the articles here\n",
    "        for i in articles:\n",
    "            try: \n",
    "                a.append([i.find(\"a\", title=\"Download PDF\")[\"href\"], sub_topic_name])\n",
    "                PDF_list.append(f'https://arxiv.org{i.find(\"a\", title=\"Download PDF\")[\"href\"]}.pdf')  \n",
    "                counts_subtopic +=1   \n",
    "            except: continue\n",
    "        counts[sub_topic_name] = counts_subtopic\n",
    "#counts\n",
    "len(PDF_list),sum(counts.values()), len(a)\n"
   ]
  },
  {
   "cell_type": "code",
   "execution_count": 12,
   "id": "13fc45ff",
   "metadata": {},
   "outputs": [
    {
     "name": "stdout",
     "output_type": "stream",
     "text": [
      "Collecting pdfminer.six\n",
      "  Using cached pdfminer.six-20220524-py3-none-any.whl (5.6 MB)\n",
      "Requirement already satisfied: charset-normalizer>=2.0.0 in /home/adolfo/.pyenv/versions/3.8.12/envs/WorkingPaper/lib/python3.8/site-packages (from pdfminer.six) (2.1.1)\n",
      "Requirement already satisfied: cryptography>=36.0.0 in /home/adolfo/.pyenv/versions/3.8.12/envs/WorkingPaper/lib/python3.8/site-packages (from pdfminer.six) (37.0.4)\n",
      "Requirement already satisfied: cffi>=1.12 in /home/adolfo/.pyenv/versions/3.8.12/envs/WorkingPaper/lib/python3.8/site-packages (from cryptography>=36.0.0->pdfminer.six) (1.15.1)\n",
      "Requirement already satisfied: pycparser in /home/adolfo/.pyenv/versions/3.8.12/envs/WorkingPaper/lib/python3.8/site-packages (from cffi>=1.12->cryptography>=36.0.0->pdfminer.six) (2.21)\n",
      "Installing collected packages: pdfminer.six\n",
      "Successfully installed pdfminer.six-20220524\n"
     ]
    }
   ],
   "source": [
    "!pip install pdfminer.six"
   ]
  },
  {
   "cell_type": "code",
   "execution_count": 18,
   "id": "964ee9e2",
   "metadata": {},
   "outputs": [],
   "source": [
    "!"
   ]
  },
  {
   "cell_type": "code",
   "execution_count": 14,
   "id": "83f8f55b",
   "metadata": {},
   "outputs": [
    {
     "ename": "ModuleNotFoundError",
     "evalue": "No module named 'pdfminer.high_level'",
     "output_type": "error",
     "traceback": [
      "\u001b[0;31m---------------------------------------------------------------------------\u001b[0m",
      "\u001b[0;31mModuleNotFoundError\u001b[0m                       Traceback (most recent call last)",
      "Input \u001b[0;32mIn [14]\u001b[0m, in \u001b[0;36m<cell line: 1>\u001b[0;34m()\u001b[0m\n\u001b[0;32m----> 1\u001b[0m \u001b[38;5;28;01mfrom\u001b[39;00m \u001b[38;5;21;01mpdfminer\u001b[39;00m\u001b[38;5;21;01m.\u001b[39;00m\u001b[38;5;21;01mhigh_level\u001b[39;00m \u001b[38;5;28;01mimport\u001b[39;00m extract_pages\n\u001b[1;32m      2\u001b[0m \u001b[38;5;28;01mimport\u001b[39;00m \u001b[38;5;21;01mpandas\u001b[39;00m \u001b[38;5;28;01mas\u001b[39;00m \u001b[38;5;21;01mpd\u001b[39;00m\n\u001b[1;32m      3\u001b[0m \u001b[38;5;28;01mimport\u001b[39;00m \u001b[38;5;21;01mos\u001b[39;00m\n",
      "\u001b[0;31mModuleNotFoundError\u001b[0m: No module named 'pdfminer.high_level'"
     ]
    }
   ],
   "source": [
    "from pdfminer.high_level import extract_pages\n",
    "import pandas as pd\n",
    "import os"
   ]
  },
  {
   "cell_type": "code",
   "execution_count": 56,
   "id": "7a0297ea",
   "metadata": {},
   "outputs": [
    {
     "name": "stdout",
     "output_type": "stream",
     "text": [
      "Downloading: file_0.pdf\n",
      "  % Total    % Received % Xferd  Average Speed   Time    Time     Time  Current\n",
      "                                 Dload  Upload   Total   Spent    Left  Speed\n",
      "100 16.3M  100 16.3M    0     0   133k      0  0:02:05  0:02:05 --:--:--  210k0:00:20  0:02:08 163410  90406      0  0:03:09  0:01:28  0:01:41 35289\n"
     ]
    },
    {
     "ename": "NameError",
     "evalue": "name 'os' is not defined",
     "output_type": "error",
     "traceback": [
      "\u001b[0;31m---------------------------------------------------------------------------\u001b[0m",
      "\u001b[0;31mNameError\u001b[0m                                 Traceback (most recent call last)",
      "File \u001b[0;32m<timed exec>:7\u001b[0m, in \u001b[0;36m<module>\u001b[0;34m\u001b[0m\n",
      "\u001b[0;31mNameError\u001b[0m: name 'os' is not defined"
     ]
    }
   ],
   "source": [
    "%%time\n",
    "X=[]\n",
    "errors=[]\n",
    "for index, url in enumerate(PDF_list):\n",
    "    print(f'Downloading: file_{index}.pdf')\n",
    "    name = f\"file_{index}.pdf\"\n",
    "    !curl -o $name $url\n",
    "    size = int(os.path.getsize(name))*(1/1024)*(1/1024) \n",
    "    if size <= 5:\n",
    "        print('Saving it')\n",
    "        try:\n",
    "            text = extract_text(name) \n",
    "        except: \n",
    "            Print('error')\n",
    "            errors.append(index)\n",
    "            !rm -r $name\n",
    "            continue\n",
    "        b = a.replace('´', '')                  #Text with áéíóú\n",
    "        X.append(b)\n",
    "    else: \n",
    "        print('The file is too big')\n",
    "        bigs.append(index) \n",
    "    print(f'Removing: file_{index}.pdf')\n",
    "    !rm -r $name\n"
   ]
  },
  {
   "cell_type": "code",
   "execution_count": null,
   "id": "c63c333b",
   "metadata": {},
   "outputs": [],
   "source": [
    "import numpy as np\n",
    "y_array=np.array(a)\n",
    "y=list(y_array[:,1])\n",
    "y.pop(311)\n",
    "y.pop(390)\n",
    "y.pop(742)\n",
    "len(y), len(PDF_list)\n",
    "\n",
    "small_dataset = pd.DataFrame(X)\n",
    "small_dataset['subtopic'] = y\n",
    "small_dataset\n"
   ]
  },
  {
   "cell_type": "code",
   "execution_count": null,
   "id": "ffe1e40a",
   "metadata": {},
   "outputs": [],
   "source": [
    "small_dataset = pd.DataFrame(X)\n",
    "small_dataset['subtopic'] = y\n",
    "small_dataset\n"
   ]
  },
  {
   "cell_type": "code",
   "execution_count": null,
   "id": "6b0c16ed",
   "metadata": {},
   "outputs": [],
   "source": [
    "small_dataset.to_csv('small_dataset.csv')"
   ]
  }
 ],
 "metadata": {
  "hide_input": false,
  "kernelspec": {
   "display_name": "Python 3 (ipykernel)",
   "language": "python",
   "name": "python3"
  },
  "language_info": {
   "codemirror_mode": {
    "name": "ipython",
    "version": 3
   },
   "file_extension": ".py",
   "mimetype": "text/x-python",
   "name": "python",
   "nbconvert_exporter": "python",
   "pygments_lexer": "ipython3",
   "version": "3.8.12"
  },
  "toc": {
   "base_numbering": 1,
   "nav_menu": {},
   "number_sections": true,
   "sideBar": true,
   "skip_h1_title": false,
   "title_cell": "Table of Contents",
   "title_sidebar": "Contents",
   "toc_cell": false,
   "toc_position": {},
   "toc_section_display": true,
   "toc_window_display": false
  },
  "vscode": {
   "interpreter": {
    "hash": "79e3cbcb12727a13c538e8f4c33487126bc93fdf98a9f8be4968948500aea80e"
   }
  }
 },
 "nbformat": 4,
 "nbformat_minor": 5
}
