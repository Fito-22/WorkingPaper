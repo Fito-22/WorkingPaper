{
 "cells": [
  {
   "cell_type": "code",
   "execution_count": 1,
   "metadata": {},
   "outputs": [],
   "source": [
    "import pandas as pd\n",
    "import numpy as np\n",
    "import os\n",
    "import string\n"
   ]
  },
  {
   "cell_type": "markdown",
   "metadata": {},
   "source": [
    "# 1. Loading Data"
   ]
  },
  {
   "cell_type": "markdown",
   "metadata": {},
   "source": [
    "## 1.1. Loading csv"
   ]
  },
  {
   "cell_type": "code",
   "execution_count": 3,
   "metadata": {},
   "outputs": [],
   "source": [
    "def load_csv(path = '../raw_data/small_dataset.csv'): \n",
    "       \n",
    "    '''creating an absolute path to be able\n",
    "    to run the code on every machine '''\n",
    "    \n",
    "    abs_path = os.path.abspath(path)\n",
    "\n",
    "    df = pd.read_csv(abs_path)\n",
    "    return df"
   ]
  },
  {
   "cell_type": "code",
   "execution_count": 4,
   "metadata": {},
   "outputs": [
    {
     "data": {
      "text/html": [
       "<div>\n",
       "<style scoped>\n",
       "    .dataframe tbody tr th:only-of-type {\n",
       "        vertical-align: middle;\n",
       "    }\n",
       "\n",
       "    .dataframe tbody tr th {\n",
       "        vertical-align: top;\n",
       "    }\n",
       "\n",
       "    .dataframe thead th {\n",
       "        text-align: right;\n",
       "    }\n",
       "</style>\n",
       "<table border=\"1\" class=\"dataframe\">\n",
       "  <thead>\n",
       "    <tr style=\"text-align: right;\">\n",
       "      <th></th>\n",
       "      <th>Unnamed: 0</th>\n",
       "      <th>0</th>\n",
       "      <th>subtopic</th>\n",
       "    </tr>\n",
       "  </thead>\n",
       "  <tbody>\n",
       "    <tr>\n",
       "      <th>0</th>\n",
       "      <td>0</td>\n",
       "      <td>2 2 0 2  g u A 6 2  ] E H . h p - o r t s a [ ...</td>\n",
       "      <td>Astrophysics</td>\n",
       "    </tr>\n",
       "    <tr>\n",
       "      <th>1</th>\n",
       "      <td>1</td>\n",
       "      <td>Draft version August 29, 2022 Typeset using LA...</td>\n",
       "      <td>Astrophysics</td>\n",
       "    </tr>\n",
       "    <tr>\n",
       "      <th>2</th>\n",
       "      <td>2</td>\n",
       "      <td>Astronomy &amp; Astrophysics manuscript no. 41891c...</td>\n",
       "      <td>Astrophysics</td>\n",
       "    </tr>\n",
       "    <tr>\n",
       "      <th>3</th>\n",
       "      <td>3</td>\n",
       "      <td>Astronomy &amp; Astrophysics manuscript no. aa Aug...</td>\n",
       "      <td>Astrophysics</td>\n",
       "    </tr>\n",
       "    <tr>\n",
       "      <th>4</th>\n",
       "      <td>4</td>\n",
       "      <td>2 2 0 2  g u A 6 2  ]  R S . h p - o r t s a [...</td>\n",
       "      <td>Astrophysics</td>\n",
       "    </tr>\n",
       "  </tbody>\n",
       "</table>\n",
       "</div>"
      ],
      "text/plain": [
       "   Unnamed: 0                                                  0      subtopic\n",
       "0           0  2 2 0 2  g u A 6 2  ] E H . h p - o r t s a [ ...  Astrophysics\n",
       "1           1  Draft version August 29, 2022 Typeset using LA...  Astrophysics\n",
       "2           2  Astronomy & Astrophysics manuscript no. 41891c...  Astrophysics\n",
       "3           3  Astronomy & Astrophysics manuscript no. aa Aug...  Astrophysics\n",
       "4           4  2 2 0 2  g u A 6 2  ]  R S . h p - o r t s a [...  Astrophysics"
      ]
     },
     "execution_count": 4,
     "metadata": {},
     "output_type": "execute_result"
    }
   ],
   "source": [
    "df = load_csv()\n",
    "df.head()"
   ]
  },
  {
   "cell_type": "markdown",
   "metadata": {},
   "source": [
    "## 1.2. Preparing DataFrame"
   ]
  },
  {
   "cell_type": "code",
   "execution_count": 5,
   "metadata": {},
   "outputs": [],
   "source": [
    "def preparing_dataframe(df):\n",
    "    ''' \n",
    "    Changing the names of the columns of the df\n",
    "    '''\n",
    "    \n",
    "    df.rename(\n",
    "        columns={\"Unnamed: 0\":\"Index\",\n",
    "            \"0\":\"paper_text\"}\n",
    "              ,inplace=True)\n",
    "    df.set_index(\"Index\",inplace=True)\n",
    "    return df\n",
    "    "
   ]
  },
  {
   "cell_type": "code",
   "execution_count": 6,
   "metadata": {},
   "outputs": [
    {
     "data": {
      "text/plain": [
       "subtopic                                \n",
       "Mathematical Physics                        140\n",
       "High Energy Physics - Theory                100\n",
       "Astrophysics                                100\n",
       "Quantum Physics                             100\n",
       "Condensed Matter                            100\n",
       "High Energy Physics - Phenomenology          99\n",
       "General Relativity and Quantum Cosmology     95\n",
       "Combinatorics                                90\n",
       "Optimization and Control                     86\n",
       "Probability                                  85\n",
       "Analysis of PDEs                             84\n",
       "Nonlinear Sciences                           72\n",
       "Numerical Analysis                           67\n",
       "Algebraic Geometry                           59\n",
       "Dynamical Systems                            58\n",
       "Information Theory                           56\n",
       "High Energy Physics - Experiment             56\n",
       "Number Theory                                50\n",
       "Differential Geometry                        45\n",
       "Nuclear Theory                               42\n",
       "Functional Analysis                          42\n",
       "Statistics Theory                            40\n",
       "Representation Theory                        29\n",
       "Geometric Topology                           29\n",
       "Complex Variables                            28\n",
       "Rings and Algebras                           27\n",
       "Classical Analysis and ODEs                  27\n",
       "Algebraic Topology                           26\n",
       "Group Theory                                 25\n",
       "Commutative Algebra                          23\n",
       "Nuclear Experiment                           22\n",
       "Logic                                        15\n",
       "Operator Algebras                            15\n",
       "Quantum Algebra                              14\n",
       "General Mathematics                          13\n",
       "Metric Geometry                              13\n",
       "High Energy Physics - Lattice                13\n",
       "Category Theory                              11\n",
       "History and Overview                         11\n",
       "General Topology                              8\n",
       "Symplectic Geometry                           8\n",
       "K-Theory and Homology                         6\n",
       "Spectral Theory                               6\n",
       "dtype: int64"
      ]
     },
     "execution_count": 6,
     "metadata": {},
     "output_type": "execute_result"
    }
   ],
   "source": [
    "df[['subtopic']].value_counts()"
   ]
  },
  {
   "cell_type": "code",
   "execution_count": 7,
   "metadata": {},
   "outputs": [
    {
     "data": {
      "text/html": [
       "<div>\n",
       "<style scoped>\n",
       "    .dataframe tbody tr th:only-of-type {\n",
       "        vertical-align: middle;\n",
       "    }\n",
       "\n",
       "    .dataframe tbody tr th {\n",
       "        vertical-align: top;\n",
       "    }\n",
       "\n",
       "    .dataframe thead th {\n",
       "        text-align: right;\n",
       "    }\n",
       "</style>\n",
       "<table border=\"1\" class=\"dataframe\">\n",
       "  <thead>\n",
       "    <tr style=\"text-align: right;\">\n",
       "      <th></th>\n",
       "      <th>paper_text</th>\n",
       "      <th>subtopic</th>\n",
       "    </tr>\n",
       "    <tr>\n",
       "      <th>Index</th>\n",
       "      <th></th>\n",
       "      <th></th>\n",
       "    </tr>\n",
       "  </thead>\n",
       "  <tbody>\n",
       "    <tr>\n",
       "      <th>0</th>\n",
       "      <td>2 2 0 2  g u A 6 2  ] E H . h p - o r t s a [ ...</td>\n",
       "      <td>Astrophysics</td>\n",
       "    </tr>\n",
       "    <tr>\n",
       "      <th>1</th>\n",
       "      <td>Draft version August 29, 2022 Typeset using LA...</td>\n",
       "      <td>Astrophysics</td>\n",
       "    </tr>\n",
       "    <tr>\n",
       "      <th>2</th>\n",
       "      <td>Astronomy &amp; Astrophysics manuscript no. 41891c...</td>\n",
       "      <td>Astrophysics</td>\n",
       "    </tr>\n",
       "    <tr>\n",
       "      <th>3</th>\n",
       "      <td>Astronomy &amp; Astrophysics manuscript no. aa Aug...</td>\n",
       "      <td>Astrophysics</td>\n",
       "    </tr>\n",
       "    <tr>\n",
       "      <th>4</th>\n",
       "      <td>2 2 0 2  g u A 6 2  ]  R S . h p - o r t s a [...</td>\n",
       "      <td>Astrophysics</td>\n",
       "    </tr>\n",
       "    <tr>\n",
       "      <th>...</th>\n",
       "      <td>...</td>\n",
       "      <td>...</td>\n",
       "    </tr>\n",
       "    <tr>\n",
       "      <th>2030</th>\n",
       "      <td>2 2 0 2  g u A 3 2  ]  A F . h t a m  [  1 v 5...</td>\n",
       "      <td>Symplectic Geometry</td>\n",
       "    </tr>\n",
       "    <tr>\n",
       "      <th>2031</th>\n",
       "      <td>UNIVERSIDAD COMPLUTENSE DE MADRID  FACULTAD DE...</td>\n",
       "      <td>Symplectic Geometry</td>\n",
       "    </tr>\n",
       "    <tr>\n",
       "      <th>2032</th>\n",
       "      <td>2 2 0 2  g u A 0 2  ]  G S . h t a m  [  1 v 4...</td>\n",
       "      <td>Symplectic Geometry</td>\n",
       "    </tr>\n",
       "    <tr>\n",
       "      <th>2033</th>\n",
       "      <td>2 2 0 2  g u A 6 1  ]  G S . h t a m  [  1 v 4...</td>\n",
       "      <td>Symplectic Geometry</td>\n",
       "    </tr>\n",
       "    <tr>\n",
       "      <th>2034</th>\n",
       "      <td>Free ﬁeld realisation and the chiral universal...</td>\n",
       "      <td>Symplectic Geometry</td>\n",
       "    </tr>\n",
       "  </tbody>\n",
       "</table>\n",
       "<p>2035 rows × 2 columns</p>\n",
       "</div>"
      ],
      "text/plain": [
       "                                              paper_text             subtopic\n",
       "Index                                                                        \n",
       "0      2 2 0 2  g u A 6 2  ] E H . h p - o r t s a [ ...         Astrophysics\n",
       "1      Draft version August 29, 2022 Typeset using LA...         Astrophysics\n",
       "2      Astronomy & Astrophysics manuscript no. 41891c...         Astrophysics\n",
       "3      Astronomy & Astrophysics manuscript no. aa Aug...         Astrophysics\n",
       "4      2 2 0 2  g u A 6 2  ]  R S . h p - o r t s a [...         Astrophysics\n",
       "...                                                  ...                  ...\n",
       "2030   2 2 0 2  g u A 3 2  ]  A F . h t a m  [  1 v 5...  Symplectic Geometry\n",
       "2031   UNIVERSIDAD COMPLUTENSE DE MADRID  FACULTAD DE...  Symplectic Geometry\n",
       "2032   2 2 0 2  g u A 0 2  ]  G S . h t a m  [  1 v 4...  Symplectic Geometry\n",
       "2033   2 2 0 2  g u A 6 1  ]  G S . h t a m  [  1 v 4...  Symplectic Geometry\n",
       "2034   Free ﬁeld realisation and the chiral universal...  Symplectic Geometry\n",
       "\n",
       "[2035 rows x 2 columns]"
      ]
     },
     "execution_count": 7,
     "metadata": {},
     "output_type": "execute_result"
    }
   ],
   "source": [
    "preparing_dataframe(df)\n"
   ]
  },
  {
   "cell_type": "code",
   "execution_count": 86,
   "metadata": {},
   "outputs": [
    {
     "data": {
      "text/html": [
       "<div>\n",
       "<style scoped>\n",
       "    .dataframe tbody tr th:only-of-type {\n",
       "        vertical-align: middle;\n",
       "    }\n",
       "\n",
       "    .dataframe tbody tr th {\n",
       "        vertical-align: top;\n",
       "    }\n",
       "\n",
       "    .dataframe thead th {\n",
       "        text-align: right;\n",
       "    }\n",
       "</style>\n",
       "<table border=\"1\" class=\"dataframe\">\n",
       "  <thead>\n",
       "    <tr style=\"text-align: right;\">\n",
       "      <th></th>\n",
       "      <th>paper_text</th>\n",
       "      <th>subtopic</th>\n",
       "      <th>topic</th>\n",
       "    </tr>\n",
       "    <tr>\n",
       "      <th>Index</th>\n",
       "      <th></th>\n",
       "      <th></th>\n",
       "      <th></th>\n",
       "    </tr>\n",
       "  </thead>\n",
       "  <tbody>\n",
       "    <tr>\n",
       "      <th>0</th>\n",
       "      <td>2 2 0 2  g u A 6 2  ] E H . h p - o r t s a [ ...</td>\n",
       "      <td>Astrophysics</td>\n",
       "      <td>physics</td>\n",
       "    </tr>\n",
       "    <tr>\n",
       "      <th>1</th>\n",
       "      <td>Draft version August 29, 2022 Typeset using LA...</td>\n",
       "      <td>Astrophysics</td>\n",
       "      <td>physics</td>\n",
       "    </tr>\n",
       "    <tr>\n",
       "      <th>2</th>\n",
       "      <td>Astronomy &amp; Astrophysics manuscript no. 41891c...</td>\n",
       "      <td>Astrophysics</td>\n",
       "      <td>physics</td>\n",
       "    </tr>\n",
       "    <tr>\n",
       "      <th>3</th>\n",
       "      <td>Astronomy &amp; Astrophysics manuscript no. aa Aug...</td>\n",
       "      <td>Astrophysics</td>\n",
       "      <td>physics</td>\n",
       "    </tr>\n",
       "    <tr>\n",
       "      <th>4</th>\n",
       "      <td>2 2 0 2  g u A 6 2  ]  R S . h p - o r t s a [...</td>\n",
       "      <td>Astrophysics</td>\n",
       "      <td>physics</td>\n",
       "    </tr>\n",
       "  </tbody>\n",
       "</table>\n",
       "</div>"
      ],
      "text/plain": [
       "                                              paper_text      subtopic  \\\n",
       "Index                                                                    \n",
       "0      2 2 0 2  g u A 6 2  ] E H . h p - o r t s a [ ...  Astrophysics   \n",
       "1      Draft version August 29, 2022 Typeset using LA...  Astrophysics   \n",
       "2      Astronomy & Astrophysics manuscript no. 41891c...  Astrophysics   \n",
       "3      Astronomy & Astrophysics manuscript no. aa Aug...  Astrophysics   \n",
       "4      2 2 0 2  g u A 6 2  ]  R S . h p - o r t s a [...  Astrophysics   \n",
       "\n",
       "         topic  \n",
       "Index           \n",
       "0      physics  \n",
       "1      physics  \n",
       "2      physics  \n",
       "3      physics  \n",
       "4      physics  "
      ]
     },
     "execution_count": 86,
     "metadata": {},
     "output_type": "execute_result"
    }
   ],
   "source": [
    "df.head()"
   ]
  },
  {
   "cell_type": "markdown",
   "metadata": {},
   "source": [
    "## 1.3. Add topics columns\n"
   ]
  },
  {
   "cell_type": "code",
   "execution_count": 8,
   "metadata": {},
   "outputs": [],
   "source": [
    "math_lst_topics = [\"Algebraic Geometry\",\n",
    "\"Algebraic Topology\",\n",
    "\"Analysis of PDEs\", \n",
    "\"Category Theory\", \n",
    "\"Classical Analysis and ODEs\", \n",
    "\"Combinatorics\", \n",
    "\"Commutative Algebra\", \n",
    "\"Complex Variables\", \n",
    "\"Differential Geometry\", \n",
    "\"Dynamical Systems\", \n",
    "\"Functional Analysis\", \n",
    "\"General Mathematics\", \n",
    "\"General Topology\", \n",
    "\"Geometric Topology\", \n",
    "\"Group Theory\", \n",
    "\"History and Overview\", \n",
    "\"Information Theory\", \n",
    "\"K-Theory and Homology\", \n",
    "\"Logic; Mathematical Physics\", \n",
    "\"Metric Geometry\", \n",
    "\"Number Theory\", \n",
    "\"Numerical Analysis\", \n",
    "\"Operator Algebras\", \n",
    "\"Optimization and Control\",\n",
    "\"Probability; Quantum Algebra\", \n",
    "\"Representation Theory\", \n",
    "\"Rings and Algebras\", \n",
    "\"Spectral Theory\", \n",
    "\"Statistics Theory\", \n",
    "\"Symplectic Geometry\"]"
   ]
  },
  {
   "cell_type": "code",
   "execution_count": 43,
   "metadata": {},
   "outputs": [],
   "source": [
    "lst_math_algebra = [\n",
    "    \"Algebraic Geometry\",\n",
    "    \"Algebraic Geometry\",\n",
    "    \"Algebraic Topology\",\n",
    "    \"Commutative Algebra\",\n",
    "    \"Differential Geometry\",\n",
    "    \"General Topology\",\n",
    "    \"Geometric Topology\",\n",
    "    \"Group Theory\",\n",
    "    \"Symplectic Geometry\",\n",
    "    \"Representation Theory\",\n",
    "    \"K-Theory and Homology\",\n",
    "    \"Category Theory\",\n",
    "    \"Quantum Algebra\",\n",
    "    \"Spectral Theory\",\n",
    "    \"Rings and Algebra\",\n",
    "    \"Operator Algebra\"\n",
    "]\n",
    "lst_math_num_analysis = [\n",
    "    \"Analysis of PDE\",\n",
    "    \"Classical Analysis and ODE\",\n",
    "    \"Functional Analysis\",\n",
    "    \"General Mathematics\",\n",
    "    \"Numerical Analysis\"\n",
    "]\n",
    "lst_math_opti = [\n",
    "    \"Dynamical Systems\",\n",
    "    \"Logic\",\n",
    "    \"Optimization and Control\"\n",
    "]\n",
    "lst_math_stat = [\n",
    "    \"Combinatorics\",\n",
    "    \"Probability\",\n",
    "    \"Statistics Theory\"\n",
    "]\n",
    "lst_math_rest = [\n",
    "    \"Mathematical Physic\",\n",
    "    \"Information Theory\"\n",
    "]\n"
   ]
  },
  {
   "cell_type": "code",
   "execution_count": 9,
   "metadata": {},
   "outputs": [],
   "source": [
    "def add_topic(df,lst_math_topics):\n",
    "    ''' \n",
    "    Add a columns topics that sort\n",
    "    the papers by their sub topics\n",
    "    '''\n",
    "    df['topic'] = df['subtopic'].apply(lambda x: 'mathematic' if x in lst_math_topics else 'physics')\n",
    "    return df"
   ]
  },
  {
   "cell_type": "code",
   "execution_count": 10,
   "metadata": {},
   "outputs": [
    {
     "data": {
      "text/html": [
       "<div>\n",
       "<style scoped>\n",
       "    .dataframe tbody tr th:only-of-type {\n",
       "        vertical-align: middle;\n",
       "    }\n",
       "\n",
       "    .dataframe tbody tr th {\n",
       "        vertical-align: top;\n",
       "    }\n",
       "\n",
       "    .dataframe thead th {\n",
       "        text-align: right;\n",
       "    }\n",
       "</style>\n",
       "<table border=\"1\" class=\"dataframe\">\n",
       "  <thead>\n",
       "    <tr style=\"text-align: right;\">\n",
       "      <th></th>\n",
       "      <th>paper_text</th>\n",
       "      <th>subtopic</th>\n",
       "      <th>topic</th>\n",
       "    </tr>\n",
       "    <tr>\n",
       "      <th>Index</th>\n",
       "      <th></th>\n",
       "      <th></th>\n",
       "      <th></th>\n",
       "    </tr>\n",
       "  </thead>\n",
       "  <tbody>\n",
       "    <tr>\n",
       "      <th>0</th>\n",
       "      <td>2 2 0 2  g u A 6 2  ] E H . h p - o r t s a [ ...</td>\n",
       "      <td>Astrophysics</td>\n",
       "      <td>physics</td>\n",
       "    </tr>\n",
       "    <tr>\n",
       "      <th>1</th>\n",
       "      <td>Draft version August 29, 2022 Typeset using LA...</td>\n",
       "      <td>Astrophysics</td>\n",
       "      <td>physics</td>\n",
       "    </tr>\n",
       "    <tr>\n",
       "      <th>2</th>\n",
       "      <td>Astronomy &amp; Astrophysics manuscript no. 41891c...</td>\n",
       "      <td>Astrophysics</td>\n",
       "      <td>physics</td>\n",
       "    </tr>\n",
       "    <tr>\n",
       "      <th>3</th>\n",
       "      <td>Astronomy &amp; Astrophysics manuscript no. aa Aug...</td>\n",
       "      <td>Astrophysics</td>\n",
       "      <td>physics</td>\n",
       "    </tr>\n",
       "    <tr>\n",
       "      <th>4</th>\n",
       "      <td>2 2 0 2  g u A 6 2  ]  R S . h p - o r t s a [...</td>\n",
       "      <td>Astrophysics</td>\n",
       "      <td>physics</td>\n",
       "    </tr>\n",
       "    <tr>\n",
       "      <th>...</th>\n",
       "      <td>...</td>\n",
       "      <td>...</td>\n",
       "      <td>...</td>\n",
       "    </tr>\n",
       "    <tr>\n",
       "      <th>2030</th>\n",
       "      <td>2 2 0 2  g u A 3 2  ]  A F . h t a m  [  1 v 5...</td>\n",
       "      <td>Symplectic Geometry</td>\n",
       "      <td>mathematic</td>\n",
       "    </tr>\n",
       "    <tr>\n",
       "      <th>2031</th>\n",
       "      <td>UNIVERSIDAD COMPLUTENSE DE MADRID  FACULTAD DE...</td>\n",
       "      <td>Symplectic Geometry</td>\n",
       "      <td>mathematic</td>\n",
       "    </tr>\n",
       "    <tr>\n",
       "      <th>2032</th>\n",
       "      <td>2 2 0 2  g u A 0 2  ]  G S . h t a m  [  1 v 4...</td>\n",
       "      <td>Symplectic Geometry</td>\n",
       "      <td>mathematic</td>\n",
       "    </tr>\n",
       "    <tr>\n",
       "      <th>2033</th>\n",
       "      <td>2 2 0 2  g u A 6 1  ]  G S . h t a m  [  1 v 4...</td>\n",
       "      <td>Symplectic Geometry</td>\n",
       "      <td>mathematic</td>\n",
       "    </tr>\n",
       "    <tr>\n",
       "      <th>2034</th>\n",
       "      <td>Free ﬁeld realisation and the chiral universal...</td>\n",
       "      <td>Symplectic Geometry</td>\n",
       "      <td>mathematic</td>\n",
       "    </tr>\n",
       "  </tbody>\n",
       "</table>\n",
       "<p>2035 rows × 3 columns</p>\n",
       "</div>"
      ],
      "text/plain": [
       "                                              paper_text             subtopic  \\\n",
       "Index                                                                           \n",
       "0      2 2 0 2  g u A 6 2  ] E H . h p - o r t s a [ ...         Astrophysics   \n",
       "1      Draft version August 29, 2022 Typeset using LA...         Astrophysics   \n",
       "2      Astronomy & Astrophysics manuscript no. 41891c...         Astrophysics   \n",
       "3      Astronomy & Astrophysics manuscript no. aa Aug...         Astrophysics   \n",
       "4      2 2 0 2  g u A 6 2  ]  R S . h p - o r t s a [...         Astrophysics   \n",
       "...                                                  ...                  ...   \n",
       "2030   2 2 0 2  g u A 3 2  ]  A F . h t a m  [  1 v 5...  Symplectic Geometry   \n",
       "2031   UNIVERSIDAD COMPLUTENSE DE MADRID  FACULTAD DE...  Symplectic Geometry   \n",
       "2032   2 2 0 2  g u A 0 2  ]  G S . h t a m  [  1 v 4...  Symplectic Geometry   \n",
       "2033   2 2 0 2  g u A 6 1  ]  G S . h t a m  [  1 v 4...  Symplectic Geometry   \n",
       "2034   Free ﬁeld realisation and the chiral universal...  Symplectic Geometry   \n",
       "\n",
       "            topic  \n",
       "Index              \n",
       "0         physics  \n",
       "1         physics  \n",
       "2         physics  \n",
       "3         physics  \n",
       "4         physics  \n",
       "...           ...  \n",
       "2030   mathematic  \n",
       "2031   mathematic  \n",
       "2032   mathematic  \n",
       "2033   mathematic  \n",
       "2034   mathematic  \n",
       "\n",
       "[2035 rows x 3 columns]"
      ]
     },
     "execution_count": 10,
     "metadata": {},
     "output_type": "execute_result"
    }
   ],
   "source": [
    "add_topic(df,math_lst_topics)"
   ]
  },
  {
   "cell_type": "code",
   "execution_count": 11,
   "metadata": {},
   "outputs": [
    {
     "data": {
      "text/html": [
       "<div>\n",
       "<style scoped>\n",
       "    .dataframe tbody tr th:only-of-type {\n",
       "        vertical-align: middle;\n",
       "    }\n",
       "\n",
       "    .dataframe tbody tr th {\n",
       "        vertical-align: top;\n",
       "    }\n",
       "\n",
       "    .dataframe thead th {\n",
       "        text-align: right;\n",
       "    }\n",
       "</style>\n",
       "<table border=\"1\" class=\"dataframe\">\n",
       "  <thead>\n",
       "    <tr style=\"text-align: right;\">\n",
       "      <th></th>\n",
       "      <th>paper_text</th>\n",
       "      <th>subtopic</th>\n",
       "      <th>topic</th>\n",
       "    </tr>\n",
       "    <tr>\n",
       "      <th>Index</th>\n",
       "      <th></th>\n",
       "      <th></th>\n",
       "      <th></th>\n",
       "    </tr>\n",
       "  </thead>\n",
       "  <tbody>\n",
       "    <tr>\n",
       "      <th>0</th>\n",
       "      <td>2 2 0 2  g u A 6 2  ] E H . h p - o r t s a [ ...</td>\n",
       "      <td>Astrophysics</td>\n",
       "      <td>physics</td>\n",
       "    </tr>\n",
       "    <tr>\n",
       "      <th>1</th>\n",
       "      <td>Draft version August 29, 2022 Typeset using LA...</td>\n",
       "      <td>Astrophysics</td>\n",
       "      <td>physics</td>\n",
       "    </tr>\n",
       "    <tr>\n",
       "      <th>2</th>\n",
       "      <td>Astronomy &amp; Astrophysics manuscript no. 41891c...</td>\n",
       "      <td>Astrophysics</td>\n",
       "      <td>physics</td>\n",
       "    </tr>\n",
       "    <tr>\n",
       "      <th>3</th>\n",
       "      <td>Astronomy &amp; Astrophysics manuscript no. aa Aug...</td>\n",
       "      <td>Astrophysics</td>\n",
       "      <td>physics</td>\n",
       "    </tr>\n",
       "    <tr>\n",
       "      <th>4</th>\n",
       "      <td>2 2 0 2  g u A 6 2  ]  R S . h p - o r t s a [...</td>\n",
       "      <td>Astrophysics</td>\n",
       "      <td>physics</td>\n",
       "    </tr>\n",
       "  </tbody>\n",
       "</table>\n",
       "</div>"
      ],
      "text/plain": [
       "                                              paper_text      subtopic  \\\n",
       "Index                                                                    \n",
       "0      2 2 0 2  g u A 6 2  ] E H . h p - o r t s a [ ...  Astrophysics   \n",
       "1      Draft version August 29, 2022 Typeset using LA...  Astrophysics   \n",
       "2      Astronomy & Astrophysics manuscript no. 41891c...  Astrophysics   \n",
       "3      Astronomy & Astrophysics manuscript no. aa Aug...  Astrophysics   \n",
       "4      2 2 0 2  g u A 6 2  ]  R S . h p - o r t s a [...  Astrophysics   \n",
       "\n",
       "         topic  \n",
       "Index           \n",
       "0      physics  \n",
       "1      physics  \n",
       "2      physics  \n",
       "3      physics  \n",
       "4      physics  "
      ]
     },
     "execution_count": 11,
     "metadata": {},
     "output_type": "execute_result"
    }
   ],
   "source": [
    "df.head()"
   ]
  },
  {
   "cell_type": "code",
   "execution_count": 12,
   "metadata": {},
   "outputs": [],
   "source": [
    "from sklearn.preprocessing import OneHotEncoder\n",
    "from sklearn.model_selection import train_test_split\n",
    "\n",
    "def def_X_y(df):\n",
    "    '''\n",
    "    Split the data frame into X_train and X_test\n",
    "    oneHotencode the two target (topics and subtopics)\n",
    "    '''\n",
    "    X = df[['paper_text']]\n",
    "    y_topic = df[['topic']]\n",
    "    y_subtopic = df[['subtopic']]\n",
    "\n",
    "    enc1 = OneHotEncoder(sparse = False, handle_unknown='ignore')\n",
    "    y_topic_cat = enc1.fit_transform(df[['topic']])\n",
    "    new_column_names1 = enc1.get_feature_names_out()\n",
    "    y_topic_cat = pd.DataFrame(y_topic_cat)\n",
    "    y_topic_cat.columns = new_column_names1\n",
    "\n",
    "    enc2 = OneHotEncoder(sparse = False, handle_unknown='ignore')\n",
    "    y_subtopic_cat = enc2.fit_transform(df[['subtopic']])\n",
    "    new_column_names1 = enc2.get_feature_names_out()\n",
    "    y_subtopic_cat = pd.DataFrame(y_subtopic_cat)\n",
    "    y_subtopic_cat.columns = new_column_names1\n",
    "\n",
    "    aggregated = X.join(y_topic_cat)\n",
    "    aggregated = aggregated.join(y_subtopic_cat)\n",
    "\n",
    "    X_train, X_test = train_test_split(aggregated, test_size=0.33)\n",
    "\n",
    "    topic_col_name = []\n",
    "    subtopic_col_name = []\n",
    "    for elem in X_train.columns:\n",
    "        if elem[0] == 't':\n",
    "            topic_col_name.append(elem)\n",
    "        elif elem[0] == 's':\n",
    "            subtopic_col_name.append(elem)\n",
    "\n",
    "    y_topic_train = X_train[topic_col_name]\n",
    "    y_subtopic_train = X_train[subtopic_col_name]\n",
    "    y_topic_test = X_test[topic_col_name]\n",
    "    y_subtopic_test = X_test[subtopic_col_name]\n",
    "\n",
    "    X_train = X_train[['paper_text']]\n",
    "    X_test = X_test[['paper_text']]\n",
    "\n",
    "    return X_train,X_test,y_topic_train,y_subtopic_train,y_topic_test,y_subtopic_test"
   ]
  },
  {
   "cell_type": "code",
   "execution_count": 13,
   "metadata": {},
   "outputs": [],
   "source": [
    "X_train,X_test,y_topic_train,y_subtopic_train,y_topic_test,y_subtopic_test = def_X_y(df)"
   ]
  },
  {
   "cell_type": "code",
   "execution_count": 18,
   "metadata": {},
   "outputs": [
    {
     "name": "stdout",
     "output_type": "stream",
     "text": [
      "(1363, 1)\n",
      "(672, 1)\n",
      "(1363, 2)\n",
      "(1363, 43)\n",
      "(672, 2)\n",
      "(672, 43)\n"
     ]
    }
   ],
   "source": [
    "print(X_train.shape)\n",
    "print(X_test.shape)\n",
    "print(y_topic_train.shape)\n",
    "print(y_subtopic_train.shape)\n",
    "print(y_topic_test.shape)\n",
    "print(y_subtopic_test.shape)"
   ]
  },
  {
   "cell_type": "code",
   "execution_count": null,
   "metadata": {},
   "outputs": [],
   "source": []
  },
  {
   "cell_type": "markdown",
   "metadata": {},
   "source": [
    "## 1.4. All together"
   ]
  },
  {
   "cell_type": "code",
   "execution_count": 85,
   "metadata": {},
   "outputs": [],
   "source": [
    "def preparing_df(path,df,lst_math_topics):\n",
    "    ''' \n",
    "    putting the dataframe in the right shape\n",
    "    '''\n",
    "    return add_topic(preparing_dataframe(load_csv(path)),lst_math_topics)"
   ]
  },
  {
   "cell_type": "markdown",
   "metadata": {},
   "source": [
    "# 2. Preprocessing"
   ]
  },
  {
   "cell_type": "markdown",
   "metadata": {},
   "source": [
    "## 2.1. Cutting the abstract"
   ]
  },
  {
   "cell_type": "code",
   "execution_count": 12,
   "metadata": {},
   "outputs": [],
   "source": [
    "def cutting_abs(text):\n",
    "    ''' \n",
    "    Cutting everything before the abstract\n",
    "    '''\n",
    "    return text[text.find(\"ABSTRACT\")+8:]"
   ]
  },
  {
   "cell_type": "markdown",
   "metadata": {},
   "source": [
    "## 2.2. lowercase "
   ]
  },
  {
   "cell_type": "code",
   "execution_count": 13,
   "metadata": {},
   "outputs": [],
   "source": [
    "def lowercase(text):\n",
    "    ''' \n",
    "    Put the text in lowercase\n",
    "    '''\n",
    "    return text.lower()"
   ]
  },
  {
   "cell_type": "markdown",
   "metadata": {},
   "source": [
    "## 2.3. Removing digits"
   ]
  },
  {
   "cell_type": "code",
   "execution_count": 14,
   "metadata": {},
   "outputs": [],
   "source": [
    "def remove_digit(text):\n",
    "    ''' \n",
    "    Removing the digits\n",
    "    '''\n",
    "    cleaned_text = ''.join(char for char in text if not char.isdigit())\n",
    "    return cleaned_text"
   ]
  },
  {
   "cell_type": "markdown",
   "metadata": {},
   "source": [
    "## 2.4. Removing Punctuaction"
   ]
  },
  {
   "cell_type": "code",
   "execution_count": 15,
   "metadata": {},
   "outputs": [],
   "source": [
    "def remove_punctuation(text):\n",
    "    ''' \n",
    "    Removing the punctuation\n",
    "    '''\n",
    "    cleaned_text = ''.join(char for char in text if char not in string.punctuation)\n",
    "    \n",
    "    return cleaned_text"
   ]
  },
  {
   "cell_type": "markdown",
   "metadata": {},
   "source": [
    "## 2.5. Removing special characters "
   ]
  },
  {
   "cell_type": "code",
   "execution_count": 16,
   "metadata": {},
   "outputs": [],
   "source": [
    "import re\n",
    "def try_with_regular_expression(text):\n",
    "    ''' \n",
    "    Removing the last special characters \n",
    "    using Regex\n",
    "    '''\n",
    "    new_string = re.sub(r\"[^a-z]\",\" \",text)\n",
    "    return new_string"
   ]
  },
  {
   "cell_type": "markdown",
   "metadata": {},
   "source": [
    "## 2.6. Normalize space"
   ]
  },
  {
   "cell_type": "code",
   "execution_count": 17,
   "metadata": {},
   "outputs": [],
   "source": [
    "def normalize_space_man(text):\n",
    "    ''' \n",
    "    Normalize all the space in one character size\n",
    "    '''\n",
    "    lst_word = text.split()\n",
    "    return \" \".join(word for word in lst_word)\n",
    "    "
   ]
  },
  {
   "cell_type": "markdown",
   "metadata": {},
   "source": [
    "## 2.7. Removing single characters words"
   ]
  },
  {
   "cell_type": "code",
   "execution_count": 18,
   "metadata": {},
   "outputs": [],
   "source": [
    "def remove_single(text):\n",
    "    ''' \n",
    "    A lot of single characters word appears during\n",
    "    prepro(due to mathematical formula) and we\n",
    "    don't want them.\n",
    "    '''\n",
    "    lst_word = text.split()\n",
    "    return \" \".join(word for word in lst_word if len(word)>1)"
   ]
  },
  {
   "cell_type": "markdown",
   "metadata": {},
   "source": [
    "# 3. Global cleaning"
   ]
  },
  {
   "cell_type": "code",
   "execution_count": 19,
   "metadata": {},
   "outputs": [],
   "source": [
    "def pre_clean_data(text):\n",
    "    ''' \n",
    "    Applying all the cleaning functions together\n",
    "    '''\n",
    "    cleaned_text = remove_single(normalize_space_man(try_with_regular_expression(remove_punctuation(remove_digit(lowercase(cutting_abs(text)))))))\n",
    "    return cleaned_text"
   ]
  },
  {
   "cell_type": "markdown",
   "metadata": {},
   "source": [
    "# 4. Tokkenize, Lemmatize, remove stopsword"
   ]
  },
  {
   "cell_type": "markdown",
   "metadata": {},
   "source": [
    "## 4.1. tokkenizing lemm stopswords"
   ]
  },
  {
   "cell_type": "code",
   "execution_count": 20,
   "metadata": {},
   "outputs": [],
   "source": [
    "from nltk.tokenize import word_tokenize\n",
    "from nltk.corpus import stopwords \n",
    "from nltk import WordNetLemmatizer"
   ]
  },
  {
   "cell_type": "code",
   "execution_count": 21,
   "metadata": {},
   "outputs": [],
   "source": [
    "def tokkenize_words(text):\n",
    "    return word_tokenize(text)"
   ]
  },
  {
   "cell_type": "code",
   "execution_count": 22,
   "metadata": {},
   "outputs": [],
   "source": [
    "def remove_stopwords(lst_word):\n",
    "    stop_words = set(stopwords.words('english'))\n",
    "    return [word for word in lst_word if not word in stop_words] "
   ]
  },
  {
   "cell_type": "code",
   "execution_count": 23,
   "metadata": {},
   "outputs": [],
   "source": [
    "def lemmatize(lst_word):\n",
    "    # Lemmatizing the verbs\n",
    "    \n",
    "    verb_lemmatized = [WordNetLemmatizer().lemmatize(word, pos = \"v\")  # v --> verbs\n",
    "                  for word in lst_word]\n",
    "\n",
    "    # 2 - Lemmatizing the nouns\n",
    "    noun_lemmatized = [WordNetLemmatizer().lemmatize(word, pos = \"n\")  # n --> nouns\n",
    "                  for word in verb_lemmatized]\n",
    "    return noun_lemmatized"
   ]
  },
  {
   "cell_type": "code",
   "execution_count": 24,
   "metadata": {},
   "outputs": [],
   "source": [
    "def final_pre_pro(text:str)->str:\n",
    "    ''' \n",
    "    the input is the dirty text\n",
    "    The output is a cleaned text\n",
    "    '''\n",
    "    def tok_sw_lem(text):\n",
    "        return lemmatize(remove_stopwords(tokkenize_words(text)))\n",
    "    \n",
    "    def get_text_back(lst_word):\n",
    "        return \" \".join(word for word in lst_word)\n",
    "    \n",
    "    return get_text_back(tok_sw_lem(pre_clean_data(text)))"
   ]
  },
  {
   "cell_type": "code",
   "execution_count": 29,
   "metadata": {},
   "outputs": [],
   "source": [
    "#final_pre_pro(df['paper_text'][0])"
   ]
  },
  {
   "cell_type": "markdown",
   "metadata": {},
   "source": [
    "# 5. Creating pre-processor pipeline"
   ]
  },
  {
   "cell_type": "code",
   "execution_count": 25,
   "metadata": {},
   "outputs": [],
   "source": [
    "from sklearn.pipeline import make_pipeline\n",
    "from sklearn.compose import ColumnTransformer, make_column_transformer\n",
    "from sklearn.preprocessing import OneHotEncoder, FunctionTransformer\n",
    "\n",
    "# from WorkingPaper.script.pre_pro import final_pre_pro"
   ]
  },
  {
   "cell_type": "code",
   "execution_count": 97,
   "metadata": {},
   "outputs": [],
   "source": [
    "from tensorflow.keras.models import Sequential \n",
    "from tensorflow.keras.layers import Embedding, Conv1D, Dense, Flatten\n",
    "#len(tokenizer.word_index)"
   ]
  },
  {
   "cell_type": "code",
   "execution_count": 92,
   "metadata": {},
   "outputs": [],
   "source": [
    "\n",
    "def preprocess_features(X):\n",
    "\n",
    "    \n",
    "    cleaning_pipe = make_pipeline(\n",
    "        FunctionTransformer(lambda sentence: sentence.map(final_pre_pro))\n",
    "    )\n",
    "    text_preprocessed = cleaning_pipe.fit_transform(X['paper_text'])\n",
    "    return text_preprocessed"
   ]
  },
  {
   "cell_type": "code",
   "execution_count": 95,
   "metadata": {},
   "outputs": [
    {
     "data": {
      "text/plain": [
       "Index\n",
       "522     modular graph form ii iterate integral uuitp m...\n",
       "513     submission jhep note ramondramond spinors bisp...\n",
       "81      report coj detection molecular cloud extend ul...\n",
       "1249    bound multigraded regularity juliette bruce la...\n",
       "1036    radial solution fully non linear degenerate si...\n",
       "                              ...                        \n",
       "1130    qualitative analysis solution mixedorder posit...\n",
       "1294    let relatively compact connect open subset smo...\n",
       "860     current literature quantum key distribution qk...\n",
       "1459    word measure unitary group improve bound small...\n",
       "1126    aximal operator haar multiplier variable lebes...\n",
       "Name: paper_text, Length: 1363, dtype: object"
      ]
     },
     "execution_count": 95,
     "metadata": {},
     "output_type": "execute_result"
    }
   ],
   "source": [
    "#X['paper_text'][0]\n",
    "preprocess_features(X_train)"
   ]
  },
  {
   "cell_type": "code",
   "execution_count": null,
   "metadata": {},
   "outputs": [],
   "source": []
  },
  {
   "cell_type": "markdown",
   "metadata": {},
   "source": [
    "# 6. model"
   ]
  },
  {
   "cell_type": "code",
   "execution_count": 99,
   "metadata": {},
   "outputs": [],
   "source": [
    "#from WorkingPaper.preprocessing import final_pre_pro\n",
    "from sklearn.preprocessing import OrdinalEncoder\n",
    "from sklearn.model_selection import train_test_split\n",
    "from tensorflow.keras.preprocessing.sequence import pad_sequences\n",
    "from tensorflow.keras.preprocessing.text import Tokenizer\n",
    "from tensorflow.keras.models import Sequential \n",
    "from tensorflow.keras.layers import Embedding, Conv1D, Dense, Flatten"
   ]
  },
  {
   "cell_type": "code",
   "execution_count": null,
   "metadata": {},
   "outputs": [],
   "source": [
    "def model_conv(X_train):\n",
    "    ''' \n",
    "    Buiding the model\n",
    "    '''\n",
    "    tokenizer = Tokenizer()\n",
    "    tokenizer.fit_on_texts(X_train)\n",
    "    ## Vectorizing data \n",
    "    X_train_vect = pad_sequences(tokenizer.texts_to_sequences(X_train), padding=\"post\", value=0.)\n",
    "    \n",
    "    embed_len = 50\n",
    "\n",
    "    # Conv1D\n",
    "    cnn = Sequential([\n",
    "        Embedding(input_dim=len(tokenizer.word_index)+1, input_length=X_train_vect.shape[1], output_dim=embed_len, mask_zero=True),\n",
    "        Conv1D(20, kernel_size=3),\n",
    "        Flatten(),\n",
    "        Dense(1, activation=\"sigmoid\"),\n",
    "    ])\n",
    "\n",
    "    cnn.summary()\n",
    "    cnn.compile(loss='binary_crossentropy',\n",
    "                  optimizer='adam',\n",
    "                  metrics=['accuracy'])\n",
    "    return cnn\n",
    "    "
   ]
  },
  {
   "cell_type": "code",
   "execution_count": null,
   "metadata": {},
   "outputs": [],
   "source": []
  },
  {
   "cell_type": "code",
   "execution_count": null,
   "metadata": {},
   "outputs": [],
   "source": []
  }
 ],
 "metadata": {
  "kernelspec": {
   "display_name": "Python 3.8.12 64-bit ('WorkingPaper')",
   "language": "python",
   "name": "python3"
  },
  "language_info": {
   "codemirror_mode": {
    "name": "ipython",
    "version": 3
   },
   "file_extension": ".py",
   "mimetype": "text/x-python",
   "name": "python",
   "nbconvert_exporter": "python",
   "pygments_lexer": "ipython3",
   "version": "3.8.12"
  },
  "orig_nbformat": 4,
  "vscode": {
   "interpreter": {
    "hash": "1e586201604a5b35e9150247dec59911dfaaad6994608e828b5c764230b96f67"
   }
  }
 },
 "nbformat": 4,
 "nbformat_minor": 2
}
