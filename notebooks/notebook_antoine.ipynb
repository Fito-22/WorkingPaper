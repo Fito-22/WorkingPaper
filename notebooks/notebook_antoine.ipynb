{
 "cells": [
  {
   "cell_type": "code",
   "execution_count": 1,
   "metadata": {},
   "outputs": [],
   "source": [
    "import pandas as pd\n",
    "import numpy as np\n",
    "import os\n",
    "import string\n"
   ]
  },
  {
   "cell_type": "markdown",
   "metadata": {},
   "source": [
    "# 1 reading .csv"
   ]
  },
  {
   "cell_type": "code",
   "execution_count": 2,
   "metadata": {},
   "outputs": [
    {
     "data": {
      "text/html": [
       "<div>\n",
       "<style scoped>\n",
       "    .dataframe tbody tr th:only-of-type {\n",
       "        vertical-align: middle;\n",
       "    }\n",
       "\n",
       "    .dataframe tbody tr th {\n",
       "        vertical-align: top;\n",
       "    }\n",
       "\n",
       "    .dataframe thead th {\n",
       "        text-align: right;\n",
       "    }\n",
       "</style>\n",
       "<table border=\"1\" class=\"dataframe\">\n",
       "  <thead>\n",
       "    <tr style=\"text-align: right;\">\n",
       "      <th></th>\n",
       "      <th>Unnamed: 0</th>\n",
       "      <th>0</th>\n",
       "      <th>topic</th>\n",
       "    </tr>\n",
       "  </thead>\n",
       "  <tbody>\n",
       "    <tr>\n",
       "      <th>0</th>\n",
       "      <td>0</td>\n",
       "      <td>2 2 0 2  g u A 6 2  ] E H . h p - o r t s a [ ...</td>\n",
       "      <td>Astrophysics</td>\n",
       "    </tr>\n",
       "    <tr>\n",
       "      <th>1</th>\n",
       "      <td>1</td>\n",
       "      <td>Draft version August 29, 2022 Typeset using LA...</td>\n",
       "      <td>Astrophysics</td>\n",
       "    </tr>\n",
       "    <tr>\n",
       "      <th>2</th>\n",
       "      <td>2</td>\n",
       "      <td>Astronomy &amp; Astrophysics manuscript no. 41891c...</td>\n",
       "      <td>Astrophysics</td>\n",
       "    </tr>\n",
       "    <tr>\n",
       "      <th>3</th>\n",
       "      <td>3</td>\n",
       "      <td>Astronomy &amp; Astrophysics manuscript no. aa Aug...</td>\n",
       "      <td>Astrophysics</td>\n",
       "    </tr>\n",
       "    <tr>\n",
       "      <th>4</th>\n",
       "      <td>4</td>\n",
       "      <td>2 2 0 2  g u A 6 2  ]  R S . h p - o r t s a [...</td>\n",
       "      <td>Astrophysics</td>\n",
       "    </tr>\n",
       "  </tbody>\n",
       "</table>\n",
       "</div>"
      ],
      "text/plain": [
       "   Unnamed: 0                                                  0         topic\n",
       "0           0  2 2 0 2  g u A 6 2  ] E H . h p - o r t s a [ ...  Astrophysics\n",
       "1           1  Draft version August 29, 2022 Typeset using LA...  Astrophysics\n",
       "2           2  Astronomy & Astrophysics manuscript no. 41891c...  Astrophysics\n",
       "3           3  Astronomy & Astrophysics manuscript no. aa Aug...  Astrophysics\n",
       "4           4  2 2 0 2  g u A 6 2  ]  R S . h p - o r t s a [...  Astrophysics"
      ]
     },
     "execution_count": 2,
     "metadata": {},
     "output_type": "execute_result"
    }
   ],
   "source": [
    "pre_path = \"../raw_data/\"\n",
    "path = \"example_data.csv\"\n",
    "## creating an absolute path to be able to run the code on every machine\n",
    "abs_path = os.path.abspath(pre_path + path)\n",
    "\n",
    "\n",
    "df = pd.read_csv(abs_path)\n",
    "df.head()"
   ]
  },
  {
   "cell_type": "code",
   "execution_count": 3,
   "metadata": {},
   "outputs": [],
   "source": [
    "df.rename(\n",
    "    columns={\"Unnamed: 0\":\"Index\",\n",
    "        \"0\":\"paper_text\"}\n",
    "          ,inplace=True)\n",
    "df.set_index(\"Index\",inplace=True)"
   ]
  },
  {
   "cell_type": "markdown",
   "metadata": {},
   "source": [
    "## test loading CSV"
   ]
  },
  {
   "cell_type": "code",
   "execution_count": 39,
   "metadata": {},
   "outputs": [],
   "source": [
    "#df['paper_text'][0]"
   ]
  },
  {
   "cell_type": "markdown",
   "metadata": {},
   "source": [
    "## Starting preprocessing"
   ]
  },
  {
   "cell_type": "markdown",
   "metadata": {},
   "source": [
    "## Cutting the abstract"
   ]
  },
  {
   "cell_type": "code",
   "execution_count": 68,
   "metadata": {},
   "outputs": [],
   "source": [
    "def cutting_abs(text):\n",
    "    return text[text.find(\"ABSTRACT\")+8:]\n",
    "\n",
    "#df['paper_text'][0][df['paper_text'][0].find('ABSTRACT')+8:]"
   ]
  },
  {
   "cell_type": "code",
   "execution_count": 70,
   "metadata": {},
   "outputs": [],
   "source": [
    "#cutting_abs(df['paper_text'][0])"
   ]
  },
  {
   "cell_type": "markdown",
   "metadata": {},
   "source": [
    "## lowercase "
   ]
  },
  {
   "cell_type": "code",
   "execution_count": 5,
   "metadata": {},
   "outputs": [],
   "source": [
    "def lowercase(text):\n",
    "    return text.lower()"
   ]
  },
  {
   "cell_type": "code",
   "execution_count": 6,
   "metadata": {},
   "outputs": [
    {
     "data": {
      "text/plain": [
       "'chdcdghhnjcndhdhebh'"
      ]
     },
     "execution_count": 6,
     "metadata": {},
     "output_type": "execute_result"
    }
   ],
   "source": [
    "lowercase('chdcdGhHnjcndHDHEBH')"
   ]
  },
  {
   "cell_type": "markdown",
   "metadata": {},
   "source": [
    "## Removing digits"
   ]
  },
  {
   "cell_type": "code",
   "execution_count": 7,
   "metadata": {},
   "outputs": [],
   "source": [
    "def remove_digit(text):\n",
    "    cleaned_text = ''.join(char for char in text if not char.isdigit())\n",
    "    return cleaned_text"
   ]
  },
  {
   "cell_type": "code",
   "execution_count": 8,
   "metadata": {},
   "outputs": [
    {
     "data": {
      "text/plain": [
       "'bhccfhdcbhdnjcdjncjdknkj'"
      ]
     },
     "execution_count": 8,
     "metadata": {},
     "output_type": "execute_result"
    }
   ],
   "source": [
    "remove_digit('73838bhccfhdcbhd3njcdj344ncjdknkj576')"
   ]
  },
  {
   "cell_type": "markdown",
   "metadata": {},
   "source": [
    "## Removing Punctuaction"
   ]
  },
  {
   "cell_type": "code",
   "execution_count": 11,
   "metadata": {},
   "outputs": [],
   "source": [
    "def remove_punctuation(text):\n",
    "    cleaned_text = ''.join(char for char in text if char not in string.punctuation)\n",
    "    \n",
    "    return cleaned_text"
   ]
  },
  {
   "cell_type": "code",
   "execution_count": 58,
   "metadata": {},
   "outputs": [
    {
     "data": {
      "text/plain": [
       "' hd jcjd'"
      ]
     },
     "execution_count": 58,
     "metadata": {},
     "output_type": "execute_result"
    }
   ],
   "source": [
    "remove_punctuation(':;:;:;))) hd jcjd!!(\"')\n",
    "#string.punctuation"
   ]
  },
  {
   "cell_type": "markdown",
   "metadata": {},
   "source": [
    "## Removing special characters "
   ]
  },
  {
   "cell_type": "code",
   "execution_count": 51,
   "metadata": {},
   "outputs": [],
   "source": [
    "import re\n",
    "def try_with_regular_expression(text):\n",
    "    new_string = re.sub(r\"[^a-z]\",\" \",text)\n",
    "    return new_string"
   ]
  },
  {
   "cell_type": "code",
   "execution_count": 59,
   "metadata": {},
   "outputs": [
    {
     "data": {
      "text/plain": [
       "'cndjncjd   e        '"
      ]
     },
     "execution_count": 59,
     "metadata": {},
     "output_type": "execute_result"
    }
   ],
   "source": [
    "try_with_regular_expression('cndjncjd-)àe\"ç\"à\"à\"-')"
   ]
  },
  {
   "cell_type": "code",
   "execution_count": null,
   "metadata": {},
   "outputs": [],
   "source": [
    "## must pip install cleantext\n",
    "#import cleantext\n",
    "#def normalize_space(text):\n",
    "#    normalized_string = cleantext.clean(string, normalize_whitespace=True)\n",
    "#    return normalized_string"
   ]
  },
  {
   "cell_type": "markdown",
   "metadata": {},
   "source": [
    "## Normalize space"
   ]
  },
  {
   "cell_type": "code",
   "execution_count": null,
   "metadata": {},
   "outputs": [],
   "source": []
  },
  {
   "cell_type": "code",
   "execution_count": 29,
   "metadata": {},
   "outputs": [],
   "source": [
    "## doing it manually with split and strip\n",
    "def normalize_space_man(text):\n",
    "    lst_word = text.split()\n",
    "    return \" \".join(word for word in lst_word)\n",
    "    \n",
    "    "
   ]
  },
  {
   "cell_type": "code",
   "execution_count": 30,
   "metadata": {},
   "outputs": [
    {
     "data": {
      "text/plain": [
       "'Bonjour Je suis un adulte'"
      ]
     },
     "execution_count": 30,
     "metadata": {},
     "output_type": "execute_result"
    }
   ],
   "source": [
    "test  = 'Bonjour   Je suis un    adulte'\n",
    "normalize_space_man(test)"
   ]
  },
  {
   "cell_type": "markdown",
   "metadata": {},
   "source": [
    "## Removing single words"
   ]
  },
  {
   "cell_type": "code",
   "execution_count": 40,
   "metadata": {},
   "outputs": [],
   "source": [
    "## remove single character word\n",
    "def remove_single(text):\n",
    "    lst_word = text.split()\n",
    "    return \" \".join(word for word in lst_word if len(word)>1)"
   ]
  },
  {
   "cell_type": "code",
   "execution_count": 42,
   "metadata": {},
   "outputs": [
    {
     "data": {
      "text/plain": [
       "'je suis un adulte'"
      ]
     },
     "execution_count": 42,
     "metadata": {},
     "output_type": "execute_result"
    }
   ],
   "source": [
    "remove_single('je suis e un z adulte')"
   ]
  },
  {
   "cell_type": "markdown",
   "metadata": {},
   "source": [
    "# Global cleaning"
   ]
  },
  {
   "cell_type": "code",
   "execution_count": 71,
   "metadata": {},
   "outputs": [],
   "source": [
    "## function all together\n",
    "def pre_clean_data(text):\n",
    "    cleaned_text = remove_single(normalize_space_man(try_with_regular_expression(remove_punctuation(remove_digit(lowercase(cutting_abs(text)))))))\n",
    "    return cleaned_text"
   ]
  },
  {
   "cell_type": "code",
   "execution_count": 72,
   "metadata": {},
   "outputs": [
    {
     "data": {
      "text/plain": [
       "'we present numerical simulation results for the propagation of alfv waves in the charge starvation regime this is the regime where the plasma density is below the critical value required to supply the current for the wave we analyze conservative scenario where alfv waves pick up charges from the region where the charge density exceeds the critical value and advect them along at high lorentz factor the system consisting of the alfv wave and charges being carried with it which we call chargecarrying alfv wave ccaw moves through medium with small but nonzero plasma density we nd that the interaction between ccaw and the stationary medium has stream like instability which leads to the emergence of strong electric eld along the direction of the unperturbed magnetic eld the growth rate of this instability is of order the plasma frequency of the medium encountered by the ccaw our numerical code follows the system for hundreds of wave periods the numerical calculations suggest that the nal strength of the electric eld is of order few percent of the alfv wave amplitude little radiation is produced by the sinusoidally oscillating currents associated with the instability during the linear growth phase however in the nonlinear phase the uctuating current density produces strong em radiation near the plasma frequency and limits the growth of the instability key words fast radio bursts stars neutron radio continuum transients introduction finite amplitude magnetic eld disturbances or alfv waves are ubiquitous in astrophysical plasma they are found in the interstellar medium stellar atmospheres accretion disks the magnetosphere of neutron stars etc there is nonzero current density along the direction of the unperturbed magnetic eld when the wave vector of an alfv wave is not exactly aligned with if the wave propagates in medium of decreasing plasma density under some generic conditions it might face the situation where it enters region with too little density to be able to supply the current for the alfv wave even when charged particles move at the speed of light ie where is unit vector along is the total charge density of electrons and positrons and is the elementary charge the alfv wave is said to have entered the charge starvation re gion in this case or that the wave has become charge starved we are interested in understanding what happens to the alfv wave and its interaction with particles it encounters in this condition the pkastroasutexasedu rgilliryaunammx wenbinluberkeleyedu the authors application we have in mind is the magnetosphere of neutron star where some disturbance in the interior of the star propagates to the surface and shakes up the magnetosphere numerous papers have suggested that some fraction of the alfv wave energy when it enters the charge starvation regime is converted to coherent radio emission eg kumar et al lu kumar yang zhang ioka zhang zhang kumar bo jak lu et al cooper ers wang et al qu zhang the generation of coherent radiation requires that strong electric elds develop along in the charge starvation regime there are also claims to the contrary eg chen et al that nothing interesting happens to the alfv wave when it becomes charge starved these papers suggest that the wave simply advects charge particles with it when it enters the charge star vation region so that it is never truly charge starved and that strong electric eld along never develops to accelerate charge particles to highly relativistic speeds and generate coherent radiation in section we consider propagation of chargecarrying alfven waves ccaw in vacuum and show that even in this case an electric eld parallel to the static magnetic eld slowly develops over time in section we consider ccaw propagating into low density stationary plasma and in this case we nd that the interaction leads kumar gill lu to rapid growth of an electric eld which accelerates charge particles and leads to the dissipation of the alfven wave aw advection of charge particles by alfv waves at the threshold of charge starvation we investigate the scenario where an alfv wave aw packet advects charge particles with it so that it is initially not charge starved the unperturbed magnetic eld is taken to be homogeneous and pointing along the zaxis perturbation to the magnetic eld and the component of the current density are described by by exp cid by cid exp where and is the alfv wave frequency the particular scenario we are considering is where the aw carries charge particles with su cient density to supply the current in equation these particles are taken to move with lorentz factor lf that is independent of initially in this case the particle number density is given by exp where is the charge of advected by the aw strictly speaking the charge density also depends on through the dependence of on however it does so over much larger length scales and so this dependence is ignored here according to this solution half of the wavepacket advects positrons with it and the adjoining half advects electrons as shown in fig these solutions satisfy the particle ux continuity equation and maxwell equations the particle ux equation is because particles are con ned to move along the magnetic eld lines for high particle lf the particle density eq satis es the continuity equation as is the dispersion relation for the alfv wave the xcomponent of ampere law maxwell equation for gives plasma current along is zero as charge particles can only move along the magnetic eld the ycomponent of the induction equation or is satis ed as can be seen from the aw dispersion relation the other two components of the induction equations are satis ed identically thus the solution given by eqs satis es particle ux and maxwell equations to this solution has the property that charge particles of opposite signs are completely separated spatially with positrons in the region with positive by and electrons where this curl is negative these charge particles move along the magnetic eld at high lorentz factor and provide the currentdensity the aw needs along the coulomb eld along the unperturbed magnetic eld due to the charge separation is best calculated in the rest frame of the charges mnras and is given by coulomb ln cid cid where is the distance the wave has traveled from its launching site this is very weak eld for large and it is superseded by the eld that arises due to the current de cit that develops with time the current de cit develops because charge particles lag the aw slightly even when is large and this lag increases with time it should be pointed out that acceleration of particles to high lfs might pose problem since the coulomb eld is strong for small and the electric eld direction switches as the sign of the charge density gradient changes thus only half the particles of one sign are accelerated and the other half are decelerated by this eld the only way out of this problem might be that particles are accelerated to high lf while the plasma is almost neutral which is not the condition conducive to strong electric eld and particle acceleration so the viability of this scenario charges advected by alfven wave at high lf to supply the current the wave requires is uncertain nevertheless we assume that such set up is physically plausible and proceed to investigate whether this solution is stable and how it evolves with time our goal is to determine whether an aw packet will advect particles to avoid chargestarvation and hence energy dissipation we show that even in the conservative scenario where particles are perfectly advected initially the ccaw strongly interacts with the plasma ahead of it causing the dissipation of the aw and generation of coherent radio emission development of current de cit and emergence of electric eld the vacuum case let us consider fully ionized plasma where charges of opposite signs are completely separate spatially and the particle density is the current when particles are moving with lorentz factor lf or speed is the maximum current that this plasma can supply is cid cid max where for cid if the current de cit were to exceed then no amount of acceleration of plasma can make up for this current de cit as long as the plasma density does not increase is given by eq if plasma density were to increase at one location then that can be only at the expense of lower density at another location thereby making current de cit larger at this other location let us start with zero current de cit everywhere ie the current de cit develops with time in some regions of the aw due to the fact that particle speed is always less than the speed of alfv waves aw speed is given by krall trivelpiece kulsrud and the corresponding lf is cid in ns magnetosphere where is the plasma frequency and is the cyclotron frequency the various factors in the expression for the coulomb eld are as fol lows the charge density in the charge comoving frame is the width of the causally connected slab in the comoving frame is and ln gives the charge density di erence in the twohalves of the causally connected region the electric eld vanishes when the charge is uniformly distributed the slip that develops between particles and the aw in time is and thus or cid cid cid cid sign where is aw wavelength along this equation tells us that the current de cit increases linearly with time due to the nite particle speed and in one wave period the de cit becomes too large to be eliminated entirely no matter how rapidly particles are accelerated the zcomponent of the electric eld that develops due to this current de cit or surplus is or where we took to be independent of and the last equality is obtained by integrating over half wavelength of the aw to obtain the peak amplitude of comparing this with the coulomb eld eq we see that the electric eld that develops due to current de cit is larger by factor we can rewrite in terms of the magnetic eld perturbation associated with the aw by making use of the expression for eq cid cid alfv waves figure shown here is the initial density at of times the sign of the charge particle advected by the alfv wave as function of the zcoordinate which is the direction of propagation of the wave is given by eq is aw wavelength along the zdirection note that positron density is shown here as positive numbers and electron density as negative numbers the charges are fully separated initially as the di erent color shadings indicate and they are all moving at the same speed corresponding to lorentz factor initially the current density at is precisely equal to as given by equation the lf of changes in time due to this electric eld by an amount interaction between charge carrying cid cid cid cid this suggests that particles might attain an asymptotic lf of cid cid however it should be pointed out that the electric eld in onequarter of the wavelength where the gradient of is positive will develop negative electric eld and in the adjoining quarter wavelength the eld would be along positive therefore in the former case would be decelerated while in the latter case accelerated this veloc ity di erent would grow quadratically with time and the simple aw solution described by equation will not hold for very long moreover what we have described in this section is highly ide alized situation where the charge carrying aw ccaw is propa gating through medium with zero plasma density from here on we shall use the compact name ccaw for the system consisting of an alfv wave plus the particles being advected with it at high speeds physically more realistic situation is that the ccaw encounters nearly stationary plasma of low density as it travels further out into the magnetosphere the interactions between the alfv wave the charge particles it is advecting along at high speeds and the station ary plasma they encounter make this system complex and full of interesting physics the consequences of these interactions for the development of the zcomponent of the electric eld and the evo lution and dissipation of aws are topics that we explore in the next two sections alfv wave ccaw and stationary plasma we consider the physics of an alfv wave packet that is advect ing charge particles with it and they encounter stationary electron positron plasma of low density that is charge neutral we shall con sider set of equations one space dimension and time which is faster to solve numerically the ccaw is taken to propagate along the zaxis the xdependence of all variables is exp and they are all independent of the conservation of magnetic ux together with and ensures that only the compo nent of the magnetic eld perturbation is nonzero thus the nonzero components of the maxwell equations are these combined with the following particle continuity and momen tum ux conservation equations provide complete description of the problem or we consider only the zcomponent of the momentum equation as particles are locked in the lowest landau state in the presence of the strong magnetic eld being considered in this work and hence con ned to move along the magnetic eld mnras kumar gill lu the initial conditions we use are sin sin for cid cid by cid cid sign where is the unperturbed magnetic eld strength and are the aw amplitude dimensionless and frequency respectively and the aw initially has only positrons in the part of the wave packet where the current density is positive ie and electrons where all particles advected by the wave are taken to have speed initially the initial particle density distribution along zaxis is shown in fig the boundary condition at the head of the aw is that stationary plasma that is charge neutral with prescribed constant density enters the wave and is the coulomb eld of the ccaw the boundary condition at the rear end of the aw is that no particles enter the system here for convenience of later use we de ne frequency associated with the particle density advected with the aw cid cid which is not the physical plasma frequency as it is missing factor of we will include the correct factor when using to construct the plasma frequency the ccaw aw along with particles with density ad vected by the wave encounters stationary plasma of density as they travel outward to larger in all of our simulations we take to be independent of and before particles are accelerated by the ccaw and we experiment with number of di erent values of max in our numerical simulations we consider in the next subsection an approximation where the elds and are speci ed ie these components of the elds are preset to be the time translation of the function in equation this simpli cation makes it possible to easily un derstand using analytical methods some of the key features of our numerical simulation results numerical solutions of the exact prob lem without these approximations are presented in where we show that the main features of the solutions are essentially the same as obtained with the aforementioned approximations the initial conditions for the numerical analysis presented in this work eq is motivated in part by the pic simulations carried out by chen et al of alfv wave propagation in strati ed medium where the particle density for the rst few wavelengths is su ciently high so that the waves are not charge starved and then the wave enters medium with density much smaller than the critical density for the aw they nd the development of charge separation and acceleration of particles to lorentz factors of few when the wave enters the low density medium thus according to their simulations the aw carries charge particles with it into vacuum thereby preventing the charge starvation the viability and stability of this scenario when the wave travels distance of of wavelength is investigated in this work mnras figure stationary encountered by chargecarryingawpacket shown in fig get accelerated by the zcomponent of the electric eld shown in the lower panel the upper panel shows the speed of at xed time along the extent of aw packet on the zaxis should be added to the coordinate shown in the gure to obtain the lab frame location of the aw the unperturbed magnetic eld is along and is the amplitude of the alfv wave packet the positron speed and were calculated at by numerically solving eqs with the simplifying assumption that is given by equation are the alfv wave period and wavelength respectively we took the plasma frequency of the stationary plasma is times the alfv wave frequency and the peak value of de ned by eq is for these simulations charge starved alfv wave propagation when the magnetic eld perturbation is prespeci ed we assume in this subsection that the magnetic eld perturbation associated with the alfv wave packet shifts with time to larger at speed without any distortion to its amplitude or phase this is not strictly correct however this assumption simpli es the calculation as the only em eld variable we need to evolve in this case is the other two eld components viz and are known as per this assumption from the initial condition for the alfv wave packet this assumption makes it possible to obtain approximate analytic solutions for the dynamics of the ccaw system in the charge starvation regime and obtain physical insights regarding some of its basic properties the magnetic eld perturbation according to this assumption is explicitly given by cid sin cid where we have also assumed that the lorentz factor of the alfv wave is much larger than the lf of particles and thus taking the aw dispersion relation to be is quite accurate we show in figs numerical solutions of equations with the approximation mentioned at the beginning of this subsection for one set of parameters we can understand the magnitude and the general behavior of the zcomponent of the electric eld that develops in this interaction using the following approximate calculation let us write the current density as the sum of two parts the rst piece is due to advected by the aw and the second component is due to the charge particles encountered by the ccaw which are accelerated along the direction due to non zero rewriting amp re law with these two components of the current density separately we nd cid by cid cid or cid the nonzero currentdensity de cit cid arises from the fact that charge particles are moving at speed that is smaller than the alfv nwave speed and is given by see for detailed derivation alfv waves where cid is given by equation the oscillator equation for can be solved exactly when and the solution is given by sin cid where we have taken cid the constant is determined by the condition that at xed at time that is when the aw head arrives at that point where is the coordinate at the head of the aw wave at this gives cid cid cid where is given by equation cid sin and is the time elapsed since the aw packet entered the charge starvation region the current density due to the encountered by the ccaw which are accelerated to speed is and the time derivative of this current density is cid cid cid cid where and we have made use of particle conservation equation and the equation of motion of charge particle under electric eld ie or in arriving at the nal expression in equation it follows from equation that where the second term in the expression for vanishes when elec trons and positrons have opposite velocities as one might expect when the electric eld reverses direction on length scale much smaller than the aw wavelength ie cid we note that this approximation breaks down when cid we will use this approximation in our derivation to obtain insights in the behavior of the system the equation for reduces to with this approximation finally we take the time derivative at xed of equation and make use of to arrive at cid the phase can be determined by the condition that at time at and therefore cid as per equation the solution obtained above for the electric eld eqs is superposition of free and forced oscillations with frequencies and respectively we see this behavior very clearly in our numerical simulation results presented in fig the analytic solution eq breaks down when particles encountered by the ccaw are accelerated to speed cid the second term in equation we neglected is no longer small in that case and has to be included in the calculation moreover it is no longer valid approximation to neglect the action of on the current density associated with charge particles advected by the alfven wave packet as we did in our calculations above our numerical simulations of course keep track of all these ects the electric eld strength shown at in fig is weaker than given in equation by factor is the alfv wave period this is because the fresh plasma en countered by the ccaw shields the electric eld ectively but not completely the residual eld is substantially smaller than the eld strength generated by current de cit of the ccaw system as given in eq however the electric eld grows exponentially with time as shown in the lower panel of fig at is larger by factor than the eld at and exceeds the eld strength given by eq we have tried di erent sets of initial conditions for than the one given in equation and they all have exponentially growing the memory of the initial condition is lost after few or fewtens of aw periods depending on the exponential ampli cation of is result of an instability that is very similar to the well known two stream instability the linear stability analysis of the ccaw system encountering low density plasma is presented below in we have performed various checks to ensure that the results of numerical calculations presented in this work are reliable and ac curate our simulation code conserves the total particle number of each charge sign and the plasma displacement currentdensities it calculates are consistent with the curl of magnetic eld we also checked for numerical stability and errors by changing the size of the spatial grid scale by factor of and found little change to the nal results for the electric eld and particle speeds over fairly long time baseline of moreover we crosschecked our nu merical solutions with analytic results eq for less than few and found good agreement and nally the rate of exponential increase of on longer time scale shown in fig lower panel agrees with the linear instability growth rate calculated in and presented in fig mnras kumar gill lu figure the top left and right panels show and at fig also showed these variables but at the parameters for the simulations here are the same as in the calculations presented in figs ie at the peak of aw and see the caption for fig for the explanation for what etc stand for note that the electric eld at topright is larger by factor compared with the eld at fig furthermore the data in fig clearly shows the superposition of free oscillation at frequency and the forced oscillation at frequency the free oscillation grows exponentially with time as described in whereas the forced oscillation does not and the result is that the oscillations of and at is dominated by frequency as seen in the upper panels of this gure the lower panel shows the global maximum of along the nite width of the aw packet at xed as function of time for three di erent values of density encountered by the aw packet the density maxn for the lowest curve points marked by redstars is points denoted by greensquares have maxn and for triangles it is where is given by eq and all points in this panel are obtained from our numerical simulations of alfv wave propagation with initial and boundary conditions speci ed by equation stream like instability associated with ccaw moving through stationary plasma which has the same form as eq is perturbed to obtain an equation for the starting point of linear stability analysis is to perturb equation which gives cid cid when the stationary plasma encountered by the ccaw are accel erated to speed much less than we note that is already rst order perturbation variable which is nonzero only when this is why the perturbation to does not show up on the left side of the above equation moreover the magnetic eld associated with the aw is prespeci ed eq and its perturbation is taken to be zero in the present analysis the equation for current density where and are independent of as per the initial condition for ccaw both and are functions of as given by equation and they oscillate with time with frequency cid as follows cos sign the equation of motion of charge particle mnras alfv waves figure shown in the top left panel is the growth rate of the instability described in as function of wavenumber for three di erent values of blue red green given by eq is the plasma frequency of the medium encountered by the alfven wave packet is given by eq and is the wavenumber for the instability the growth rate of the instability is obtained by solving the dispersion eq to nd the unstable mode the top right panel shows the growth rate im of the fastest growing mode as function of is the lf of plasma advected by the aw to supply the current density the wave needs ie the three di erent colored curves correspond to di erent as before the maximum growth rate scales as as shown by the dotted color curves which are im the bottom panel displays the ective lorentz factor of the most unstable mode ie re for the three di erent values of viz is perturbed to give taking the dependence of perturbations and to be exp where is the wavenumber of the instability these equations reduce to and since and are functions of time the above two equations are approximate and only valid when re cid we show below that re cid eliminating from these two equations we nd cid ln cid where we used substituting this back into equation we obtain the dispersion relation cid cid ln one of the four roots of this equation has an imaginary component with negative sign corresponding to exponentially growing solution the growth rate for few di erent parameters are shown in fig numerical solutions of equation show that the growthrate is highest for re and the dependence of this maximum growth rate on and is see the top right panel of fig maxcidim cid since the instability described in this subsection is really an over stable oscillation ie re with nite wavenumber quan tity of interest for later use in this work is the lorentz factor with mnras kumar gill lu which the oscillations move forward and that is de ned as follows os re cid cid the values of os as function of for are shown in the lower panel of fig for os and os is fairly accurate description for how os increases for cid see fig we close this subsection by providing brief discussion of the physical origin of the instability key component or trigger for the instability is the current density associated with charge particles that are being advected by the alfv wave seed electric eld perturbs this current density which in turn has positive feedback on the electric eld the rst term in equation is the important one for the feedback as it causes to oscillate with frequency which then couples to the electric eld resonantly this feedback loop leads to an exponential increase with time of the component of the electric eld that oscillates at frequency and thus comes to dominate the second term in equation after few growth times as we see in fig charge starved alfv wave propagation solution of exact equations in the previous subsection we assumed that the magnetic eld perturbation amplitude associated with the alfv wave packet does not evolve with time as the wave propagates out and an electric eld along develops this assumption is not strictly correct it was introduced to simplify analytical calculations and gain physical understanding of the ccaw system and the emergence of we drop that assumption in this subsection and solve numerically the exact set of equations for the em eld we keep track of three em eld components and as the ccaw propagates out and encounters nonzero density stationary plasma equations for plasma density evolution and particle dynamics are unchanged we continue to approximate the system as in space by assuming that the spatial variation in the direction is given by exp this is good assumption as long as cid and is not function of the latter is guaranteed to be valid due to the symmetry of the system or the fact that is independent of and thus is conserved quantity this can be seen from the following eikonal equation in fig after we correct for the factor di erence in their values thus the instability described in survives intact for the full set of equations where the magnetic eld perturbation and the component of the electric eld are accorded full dynamical status and are calculated selfconsistently the results we have presented in these gures are for we have veri ed numerically that the results for the exact and approximate models are similar for between about and one di erence we found however is that the growth rate im declines as when and are preset and not allowed to be perturbed and signi cantly faster when the dynamics of these elds are included in the calculation self consistently our numerical code for the exact solution of eqs is unable to handle cid and therefore we are unable to quantify the behavior of the instability at larger values of however according to the approximate analytical calculation of the growth rate presented in when and are prespeci ed im is exactly proportional to for all values of larger than about the perturbation to is shown in the lower left panel of fig this perturbation is de ned to be the di erence between the exact numerical solution of eqs and the approximate analytic solution given by equation the magnitude of is similar to compare the top right and bottom left panels of modulo the factor of for this means that is much term in the second part of eq smaller than the when cid and that is the reason that the results we obtained when we neglected did not make large qualitative di erence to the nal result for the value of for our numerical calculations is whereas for alfv waves in ns magnetosphere the expected value is our numerical code cannot handle but based on the physics of the system we expect the growthrate of presented in this work to apply to parameters appropriate for ns magnetospheres we note that the electric eld perturbation is almost identical to which is what one expects from the rst part of eq radiation from the coherent current oscillating at plasma frequency the oscillating current associated with the instability described in see fig produces coherent radiation the starting point of the calculation of the emergent luminosity is the following exact wave equation results of numerical simulations of the full set of equations are presented in fig at for the same set of parameters as in figs except that for calculations in fig as opposed to in the other two gures the structure of as function of at di erent times with and without the approximation are similar both of which show pronounced oscillations at frequency which have similar amplitudes to within factor after we correct for the di erence in their respective values eq moreover both calculations show superposition of oscillations of frequencies and at early times but later on the exponentially growing mode at frequency becomes the dominant component the growthrate of with time is shown in the bottom right panel of fig the exact calculations nd growthrates that are similar in magnitude to those of the approximate calculations shown mnras where is the current density induced by the instability and is the source for em waves generated by the oscillating current density the solution of this equation is br sr jr where is the location at which the eld is measured is the location of the oscillating charge at the retarded time and rr is the unit vector that points from the latter to the former location as usual the expansion far away from the source cid has been used the current density oscillates along the wave propagation direction at plasma frequency fig but with amplitude that varies alfv waves figure shown in the top left and right panels are the electric eld strength divided by the alfv wave amplitude at times and respectively and for the other parameters are the same as in the calculations presented in figs ie are alfv wave period and wavelength respectively simulation results presented in this gure were calculated using the full set of equations without any simplifying assumption these results should be contrasted with results in figs where the magnetic eld perturbation and the xcomponent of electric eld perturbation associated with the aw packet were prescribed for all and not calculated selfconsistently as is done here the perturbation to alfv wave amplitude which is the deviation of the ycomponent of the magnetic eld from the expression given in eq is shown in the lower left panel the magnitude of is of the same order as top right panel and is identical to the lower right panel shows the peak value of as function of time for two di erent values of plasma density encountered by the aw the density maxn for the points marked by redstars is whereas the density ratio is for points denoted by greensquares where is given by eq and all points in this panel were calculated using numerical simulations of alfv wave propagation without any approximation the growth rates of the instability we nd here have roughly the same magnitudes as in fig along it varies along the other two directions on much longer length scale of jr exp where is the pattern speed of the oscillating current substituting this in equation we nd let us write the functional form of as br exp cid exp where exp and and shift the cid it is convenient to rescale cid integral range by to simplify the above expression cid exp cid cid cid cid cid if the domain of cid integration were to be then where and taking sin cos without loss of generality and using the small and large approximations so that cos results in exp exp exp cid cid let us take coh to be the smaller of the transverse wavelength of the aw and the size of the transverse coherent emission region the amplitude of the wave magnetic eld then is coh exp mnras kumar gill lu and the luminosity when coh and is coh exp where for cid and the exponential suppression factors in equations are there only when the length of the oscillating current is cid and its temporal and spacial structure is sinusoidal otherwise the luminosity is much larger than given by eq the luminosity in is the isotropic equivalent in the observer frame except for the cosmological redshift factors and it is beamed within an angle min coh is the wavelength of the observed radiation for gaussian envelope of the sinusoidally oscillating current density with cid the exponential suppression factor in equa tion makes the radiative loss too small to be of any practical importance the current density during the linear growth phase of the instability has the sinusoidal shape with amplitude that varies over few as shown in fig and therefore radiative losses are small during this period as the instability grows and enters the nonlinear regime ie when the speed becomes close to the current density uctuations increase rapidly in space and time and radiative losses are not small any more the current density in segment of plasma of length decoheres after the plasma has traveled distance of order this is expected from causality as the length in the frame moving with the pattern speed is larger by factor and the elapsed time in this frame is smaller than the ns rest frame also by factor this result is also supported by our simulations in this regime radiation from di erent regions of size can be added incoherently and the resulting luminosity from the length of the alfven wave packet where the instability has entered the nonlinear phase is times the luminosity given by equation with coh coh if the transverse size of the region which contributes to the observed radiation is coh then the above expression for luminosity should be multiplied with factor coh the particle density for plasma frequency hz is cm the current density associated with the instability during the nonlinear phase is cgs for coh cm and cm the emergent isotropic equivalent lumi nosity due to the uctuating current associated with the instability is erg and for ghz erg the radiation is beamed in narrow cone of angle rad and its frequency is of order as the stream instability growth rate peaks at at wave number the rate of loss of energy per particle due to this radiation is coh the factor in the expression for takes into account that the radiation emitted coh for purely sinusoidal envelope of extent much larger than the bandwidth of the emergent frequency is very narrow to see that the luminosity is larger by factor instead of it is best to go back to eq when the phase term in the exponent of that integrand is coherent over length scale which is the distance traveled by the wave when the signal from one end of region of size travels to the other end the contribution to the integral from that is adding di erent segments of length incoherently gives the radiated power to scale as mnras in ns rest frame in time interval arrives at the observer over smaller time duration of thus the radiative loss time is when particles are not accelerated to highly relativistic speed by the instability the shortest growth time for the instability is of order when the relative speed of counterstreaming particles is mildly relativistic fig as discussed before the radiative loss time is much larger than the plasma time during the linear growth phase of the instability due to the exponential suppression factor in eq and therefore the instability grows rapidly on the plasma timescale when the speed of approaches and the plasma becomes turbulent and radiative losses increase dramatically as given by eq and the instability saturates at that point this result can be rephrased in the following way the em radi ation comes from plasma modes moving at the pattern speed with lorentz factor which is of order as long as the rate at which energy is being pumped into these modes is faster than that being radiated away the modes continue to grow the total energy density contained in the modes is which can be shown to be when reaches the strength such that the nonlinearity parameter radiative losses become of order the energy pumped into the modes by the instability and further growth of plasma mode amplitudes is terminated interaction of charge starved alfv waves moving in opposite directions alfv waves moving in opposite directions along magnetic eld line is likely scenario when the neutron star magnetosphere is shook up by crustal disturbance this is because magnetic eld perturbations are launched at the surface of the ns where these eld lines are anchored these perturbations travel along the eld lines away from the ns and they collide and interact somewhere in the magnetosphere the interaction is particularly complex and interesting when it takes place in the charge starvation region for these alfv waves and when the polarization angles of the counter streaming alfv waves are di erent the basic picture that is being suggested is that when alfv waves are launched at opposite ends of magnetic eld bundle anchored on ns surface these waves collide at some height above the ns surface there are two possibilities to consider for the interaction between these alfv waves moving in opposite directions one of which is where the plasma density is marginally above the critical value for charge starvation everywhere along the wave trajectory when one considers the alfv packet traveling from one end of the magnetic bundle to the other and ignore the wave packet coming from the other end of the magnetic bundle however the plasma density along the trajectory is insu cient to support the superposition of these two waves therefore the system becomes charge starved in the region where these two waves collide and it is unavoidable that strong electric eld parallel to the static magnetic eld will develop rapidly and with strength of order the alfv wave amplitude since the plasma density is subcritical for the combined alfv waves moving in opposite directions they cannot advect charge particles with them to prevent charge starvation this is because charge particles advected by the wave from patch in the collision region would create higher charge de cit there the strong electric eld in the collision region would accelerate charge particles and under the right conditions they would generate coherent em emission kumar et al kumar bo njak lu et al zhang the other possibility for the interaction between the counter alfv waves figure shown are current densities at times left panel and right panel the parameters for these calculations are the same as in fig simulation results presented in this gure were calculated using the full set of equations without any simplifying assumption the current density at when the perturbation in linear is sum of two sinusoidal functions of frequencies and alfven wave and plasma frequencies respectively at the perturbations are mildly nonlinear with particle velocity and the current density has uctuations on roughly the plasma length scale moving alfv waves is that at least one of them has become charge starved at some height before running into the other wave in this case the charge starved wave is likely to advect charge particles with it as it travel further away from the ns the ccaw develops particle density uctuation and electric eld parallel to the magnetic eld that also uctuates on the plasma length scale when the ccaws moving in opposite directions along the magnetic eld bun dle collide strong two stream instability leads to formation of particle clumps and development of strong electric eld parallel to the un perturbed magnetic eld and likely generation of strong coherent radiation discussion of the detailed physics of this interaction is outside the scope of this work discussion and conclusion an alfv wave packet that travels through medium of ever de creasing plasma density will eventually become charge starved ie it will nd itself in region where the charge density is too small to be able to supply the current needed by the wave even when particles are accelerated to the speed of light the transition region where particles are rapidly accelerated and carried with the alfv wave is not explored in this work we assumed instead that after crossing this transition region the wave advects just the su cient number of particles with it which move with lorentz factor cid to avoid charge starvation at larger radii we have analyzed how the system of charge particles carried with the alfv wave ccaw interacts with plasma of nite density it encounters beyond the transition re gion and the evolution of the system the main result we nd is that this interaction leads to an instability which is similar to the well known stream instability particles advected by the aw as well as those encountered by the ccaw beyond the transition region form clumps as result of the instability and strong electric eld along the direction of the unperturbed magnetic eld develops the characteristic wavelength and growth time of the instability are the plasma length and frequency of the stationary plasma encountered by the ccaw the spatial scale for the instability is much smaller than the alfv nwave wavelength by factor cid in neutron star magnetosphere and thus according to our numerical simulations strong of order few percent of aw amplitude develops after the ccaw has traveled distance of few of the scenario we have analyzed in this work ccaw is plausible under some physical situation depending on how the aw makes transition to the subcritical density medium this scenario where the aw picks up and transports charge particles with it at high lf is suggested by the work of chen et al one of the main ndings of this work is that development of strong even in this scenario where the aw is never truly chargestarved is unavoidable and therefore coherent radio emission should be generated there is another possible scenario where plasma in the transition zone becomes clumped due to twostream instability and strong and oscillating electric eld develops that accelerates these clumps to high speed this too leads to coherent radio waves we close the paper with brief discussion of this possibility chen et al reported evidence for weak stream instability in their pic simulations this was likely due to the fact that they considered the alfv wave after picking up charges to be moving into very low density medium almost vacuum relatively speaking so that the growth rate of the instability was weak furthermore they followed the alfv wave propagation for only few aw wavelength and that is too short time to see the development of strong electric eld and particle clump formation we nd mnras kumar gill lu electrons and positrons in the transition zone have speed close to that of light the counterstreaming that supply the current to the aw are subject to the stream instability even before the onset of the charge starvation an electric eld along the unperturbed magnetic eld develops on spatial scales of due to this instability is the plasma frequency in the transition zone where the aw is starting to become charge starved the strength of the eld is of order where is the alfv wave amplitude and is the dimension less plasma current de cit this electric eld propagates outward like traveling wave as discussed in and therefore particles moving in the same direction as the electricwave are accelerated for time that is longer than by factor that depends on the lf of the electricwave front which is of order few as shown in fig thus and particle lf where is the dimensionless alfv wave amplitude and xrad is the cy clotron frequency for magnetars at taking aw frequency hz and hz we nd when the charge de cit is of order unity the clumps of particles moving along curved magnetic eld lines would produce coherent emission which would also limit their lf to these clumps would last for at least the lightcrossing time in the comoving frame of the clump and that is su cient for the generation of coherent radiation acknowledgments this work has been funded in part by an nsf grant ast wl was supported by the lyman spitzer jr fellowship at princeton university some of the work presented here was carried out while pk was visiting the yukawa institute yitp kyoto he is grateful to prof kunihito ioka for the hospitality for organizing an frb work shop during that visit and for many stimulating science discussions he would like to thank yitp for the nancial support provided under the visitors program of fy and yitpw for funds for the worshop data availability the code developed to perform calculations in this paper is avail able upon request references chen yuan beloborodov li arxiv eprints arxiv cooper ers mnras ioka zhang apj krall trivelpiece principles of plasma physics mcgraw hill kogakusha kulsrud plasma physics for astrophysics princeton university press kumar bo njak mnras kumar lu bhattacharya mnras lu kumar apj lu kumar zhang mnras qu zhang arxiv eprints arxiv wang wy yang yp niu ch xu zhang arxiv eprints arxiv yang yp zhang apj zhang nature mnras'"
      ]
     },
     "execution_count": 72,
     "metadata": {},
     "output_type": "execute_result"
    }
   ],
   "source": [
    "pre_clean_data(df['paper_text'][0])"
   ]
  },
  {
   "cell_type": "markdown",
   "metadata": {},
   "source": [
    "# Tokkenize, Lemmatize, remove stopsword"
   ]
  },
  {
   "cell_type": "code",
   "execution_count": 80,
   "metadata": {},
   "outputs": [],
   "source": [
    "from nltk.tokenize import word_tokenize\n",
    "from nltk.corpus import stopwords \n",
    "from nltk import WordNetLemmatizer"
   ]
  },
  {
   "cell_type": "code",
   "execution_count": 75,
   "metadata": {},
   "outputs": [],
   "source": [
    "def tokkenize_words(text):\n",
    "    return word_tokenize(text)"
   ]
  },
  {
   "cell_type": "code",
   "execution_count": 77,
   "metadata": {},
   "outputs": [],
   "source": [
    "def remove_stopwords(lst_word):\n",
    "    stop_words = set(stopwords.words('english'))\n",
    "    return [word for word in lst_word if not w in stop_words] "
   ]
  },
  {
   "cell_type": "code",
   "execution_count": 81,
   "metadata": {},
   "outputs": [],
   "source": [
    "def lemmatize(lst_word):\n",
    "    # Lemmatizing the verbs\n",
    "    verb_lemmatized = [WordNetLemmatizer().lemmatize(word, pos = \"v\")  # v --> verbs\n",
    "                  for word in tokenized_sentence_no_stopword]\n",
    "\n",
    "    # 2 - Lemmatizing the nouns\n",
    "    noun_lemmatized = [WordNetLemmatizer().lemmatize(word, pos = \"n\")  # n --> nouns\n",
    "                  for word in verb_lemmatized]"
   ]
  },
  {
   "cell_type": "markdown",
   "metadata": {},
   "source": [
    "## All together"
   ]
  },
  {
   "cell_type": "code",
   "execution_count": 83,
   "metadata": {},
   "outputs": [],
   "source": [
    "def tok_sw_lem(text):\n",
    "    return lemmatize(remove_stopwords(tokkenize_words(text)))"
   ]
  },
  {
   "cell_type": "code",
   "execution_count": null,
   "metadata": {},
   "outputs": [],
   "source": []
  }
 ],
 "metadata": {
  "kernelspec": {
   "display_name": "Python 3.8.12 64-bit ('WorkingPaper')",
   "language": "python",
   "name": "python3"
  },
  "language_info": {
   "codemirror_mode": {
    "name": "ipython",
    "version": 3
   },
   "file_extension": ".py",
   "mimetype": "text/x-python",
   "name": "python",
   "nbconvert_exporter": "python",
   "pygments_lexer": "ipython3",
   "version": "3.8.12"
  },
  "orig_nbformat": 4,
  "vscode": {
   "interpreter": {
    "hash": "1e586201604a5b35e9150247dec59911dfaaad6994608e828b5c764230b96f67"
   }
  }
 },
 "nbformat": 4,
 "nbformat_minor": 2
}
