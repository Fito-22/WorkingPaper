{
 "cells": [
  {
   "cell_type": "code",
   "execution_count": 1,
   "metadata": {},
   "outputs": [],
   "source": [
    "%load_ext autoreload\n",
    "%autoreload 2"
   ]
  },
  {
   "cell_type": "code",
   "execution_count": 2,
   "metadata": {},
   "outputs": [
    {
     "name": "stderr",
     "output_type": "stream",
     "text": [
      "2022-09-01 10:57:35.031751: I tensorflow/core/util/util.cc:169] oneDNN custom operations are on. You may see slightly different numerical results due to floating-point round-off errors from different computation orders. To turn them off, set the environment variable `TF_ENABLE_ONEDNN_OPTS=0`.\n",
      "2022-09-01 10:57:35.090049: W tensorflow/stream_executor/platform/default/dso_loader.cc:64] Could not load dynamic library 'libcudart.so.11.0'; dlerror: libcudart.so.11.0: cannot open shared object file: No such file or directory\n",
      "2022-09-01 10:57:35.090065: I tensorflow/stream_executor/cuda/cudart_stub.cc:29] Ignore above cudart dlerror if you do not have a GPU set up on your machine.\n"
     ]
    }
   ],
   "source": [
    "import pandas as pd\n",
    "import numpy as np\n",
    "import re\n",
    "from sklearn.model_selection import train_test_split\n",
    "from nltk.tokenize import word_tokenize\n",
    "from nltk.corpus import stopwords\n",
    "from gensim.models import Word2Vec\n",
    "import gensim.downloader as api\n",
    "from tensorflow.keras.preprocessing.text import Tokenizer\n",
    "from tensorflow.keras.preprocessing.sequence import pad_sequences\n",
    "from tensorflow.keras import layers, Sequential #, Dense, Flatten"
   ]
  },
  {
   "cell_type": "markdown",
   "metadata": {},
   "source": [
    "# Early Experimenting in order to get to a BaseModel\n",
    "#### with only minimal preprocessing"
   ]
  },
  {
   "cell_type": "code",
   "execution_count": 3,
   "metadata": {},
   "outputs": [
    {
     "data": {
      "text/html": [
       "<div>\n",
       "<style scoped>\n",
       "    .dataframe tbody tr th:only-of-type {\n",
       "        vertical-align: middle;\n",
       "    }\n",
       "\n",
       "    .dataframe tbody tr th {\n",
       "        vertical-align: top;\n",
       "    }\n",
       "\n",
       "    .dataframe thead th {\n",
       "        text-align: right;\n",
       "    }\n",
       "</style>\n",
       "<table border=\"1\" class=\"dataframe\">\n",
       "  <thead>\n",
       "    <tr style=\"text-align: right;\">\n",
       "      <th></th>\n",
       "      <th>text</th>\n",
       "      <th>subtopic</th>\n",
       "    </tr>\n",
       "  </thead>\n",
       "  <tbody>\n",
       "    <tr>\n",
       "      <th>0</th>\n",
       "      <td>2 2 0 2  g u A 6 2  ] E H . h p - o r t s a [ ...</td>\n",
       "      <td>Astrophysics</td>\n",
       "    </tr>\n",
       "    <tr>\n",
       "      <th>1</th>\n",
       "      <td>Draft version August 29, 2022 Typeset using LA...</td>\n",
       "      <td>Astrophysics</td>\n",
       "    </tr>\n",
       "    <tr>\n",
       "      <th>2</th>\n",
       "      <td>Astronomy &amp; Astrophysics manuscript no. 41891c...</td>\n",
       "      <td>Astrophysics</td>\n",
       "    </tr>\n",
       "    <tr>\n",
       "      <th>3</th>\n",
       "      <td>Astronomy &amp; Astrophysics manuscript no. aa Aug...</td>\n",
       "      <td>Astrophysics</td>\n",
       "    </tr>\n",
       "    <tr>\n",
       "      <th>4</th>\n",
       "      <td>2 2 0 2  g u A 6 2  ]  R S . h p - o r t s a [...</td>\n",
       "      <td>Astrophysics</td>\n",
       "    </tr>\n",
       "  </tbody>\n",
       "</table>\n",
       "</div>"
      ],
      "text/plain": [
       "                                                text      subtopic\n",
       "0  2 2 0 2  g u A 6 2  ] E H . h p - o r t s a [ ...  Astrophysics\n",
       "1  Draft version August 29, 2022 Typeset using LA...  Astrophysics\n",
       "2  Astronomy & Astrophysics manuscript no. 41891c...  Astrophysics\n",
       "3  Astronomy & Astrophysics manuscript no. aa Aug...  Astrophysics\n",
       "4  2 2 0 2  g u A 6 2  ]  R S . h p - o r t s a [...  Astrophysics"
      ]
     },
     "execution_count": 3,
     "metadata": {},
     "output_type": "execute_result"
    }
   ],
   "source": [
    "# Reading Data\n",
    "data = pd.read_csv('../raw_data/small_dataset.csv')\n",
    "data = data.drop(columns='Unnamed: 0')\n",
    "data = data.rename(columns={'0': 'text'})\n",
    "data.head()"
   ]
  },
  {
   "cell_type": "code",
   "execution_count": 4,
   "metadata": {},
   "outputs": [],
   "source": [
    "# Lowercasing everything\n",
    "data = data.apply(lambda x: x.astype(str).str.lower())"
   ]
  },
  {
   "cell_type": "code",
   "execution_count": 5,
   "metadata": {},
   "outputs": [],
   "source": [
    "# Removing anything apart from lower case letters \n",
    "data['text'] = data['text'].apply(lambda x: re.sub(r'[^a-z]', ' ', x))"
   ]
  },
  {
   "cell_type": "code",
   "execution_count": 6,
   "metadata": {},
   "outputs": [],
   "source": [
    "# Tokenizing\n",
    "data['modified text'] = data['text'].apply(word_tokenize)"
   ]
  },
  {
   "cell_type": "code",
   "execution_count": 7,
   "metadata": {},
   "outputs": [
    {
     "data": {
      "text/html": [
       "<div>\n",
       "<style scoped>\n",
       "    .dataframe tbody tr th:only-of-type {\n",
       "        vertical-align: middle;\n",
       "    }\n",
       "\n",
       "    .dataframe tbody tr th {\n",
       "        vertical-align: top;\n",
       "    }\n",
       "\n",
       "    .dataframe thead th {\n",
       "        text-align: right;\n",
       "    }\n",
       "</style>\n",
       "<table border=\"1\" class=\"dataframe\">\n",
       "  <thead>\n",
       "    <tr style=\"text-align: right;\">\n",
       "      <th></th>\n",
       "      <th>text</th>\n",
       "      <th>subtopic</th>\n",
       "      <th>modified text</th>\n",
       "      <th>words per text</th>\n",
       "      <th>words per modified text</th>\n",
       "    </tr>\n",
       "  </thead>\n",
       "  <tbody>\n",
       "    <tr>\n",
       "      <th>0</th>\n",
       "      <td>g u a        e h   h p   o r t s a   ...</td>\n",
       "      <td>astrophysics</td>\n",
       "      <td>[mnras, preprint, august, compiled, using, mnr...</td>\n",
       "      <td>58690</td>\n",
       "      <td>4674</td>\n",
       "    </tr>\n",
       "    <tr>\n",
       "      <th>1</th>\n",
       "      <td>draft version august          typeset using la...</td>\n",
       "      <td>astrophysics</td>\n",
       "      <td>[draft, version, august, typeset, using, latex...</td>\n",
       "      <td>55930</td>\n",
       "      <td>5331</td>\n",
       "    </tr>\n",
       "    <tr>\n",
       "      <th>2</th>\n",
       "      <td>astronomy   astrophysics manuscript no       c...</td>\n",
       "      <td>astrophysics</td>\n",
       "      <td>[astronomy, astrophysics, manuscript, corr, au...</td>\n",
       "      <td>46117</td>\n",
       "      <td>4103</td>\n",
       "    </tr>\n",
       "    <tr>\n",
       "      <th>3</th>\n",
       "      <td>astronomy   astrophysics manuscript no  aa aug...</td>\n",
       "      <td>astrophysics</td>\n",
       "      <td>[astronomy, astrophysics, manuscript, aa, augu...</td>\n",
       "      <td>78395</td>\n",
       "      <td>7614</td>\n",
       "    </tr>\n",
       "    <tr>\n",
       "      <th>4</th>\n",
       "      <td>g u a         r s   h p   o r t s a  ...</td>\n",
       "      <td>astrophysics</td>\n",
       "      <td>[mnras, preprint, august, compiled, using, mnr...</td>\n",
       "      <td>61921</td>\n",
       "      <td>5454</td>\n",
       "    </tr>\n",
       "    <tr>\n",
       "      <th>...</th>\n",
       "      <td>...</td>\n",
       "      <td>...</td>\n",
       "      <td>...</td>\n",
       "      <td>...</td>\n",
       "      <td>...</td>\n",
       "    </tr>\n",
       "    <tr>\n",
       "      <th>2030</th>\n",
       "      <td>g u a         a f   h t a m       v  ...</td>\n",
       "      <td>symplectic geometry</td>\n",
       "      <td>[fusion, frame, homotopy, tightening, fusion, ...</td>\n",
       "      <td>70325</td>\n",
       "      <td>6085</td>\n",
       "    </tr>\n",
       "    <tr>\n",
       "      <th>2031</th>\n",
       "      <td>universidad complutense de madrid  facultad de...</td>\n",
       "      <td>symplectic geometry</td>\n",
       "      <td>[universidad, complutense, de, madrid, faculta...</td>\n",
       "      <td>79210</td>\n",
       "      <td>4816</td>\n",
       "    </tr>\n",
       "    <tr>\n",
       "      <th>2032</th>\n",
       "      <td>g u a         g s   h t a m       v  ...</td>\n",
       "      <td>symplectic geometry</td>\n",
       "      <td>[barcode, pair, compact, exact, lagrangians, p...</td>\n",
       "      <td>46697</td>\n",
       "      <td>3556</td>\n",
       "    </tr>\n",
       "    <tr>\n",
       "      <th>2033</th>\n",
       "      <td>g u a         g s   h t a m       v  ...</td>\n",
       "      <td>symplectic geometry</td>\n",
       "      <td>[locally, conformally, symplectic, deformation...</td>\n",
       "      <td>26625</td>\n",
       "      <td>2023</td>\n",
       "    </tr>\n",
       "    <tr>\n",
       "      <th>2034</th>\n",
       "      <td>free  eld realisation and the chiral universal...</td>\n",
       "      <td>symplectic geometry</td>\n",
       "      <td>[free, eld, realisation, chiral, universal, ce...</td>\n",
       "      <td>144101</td>\n",
       "      <td>10758</td>\n",
       "    </tr>\n",
       "  </tbody>\n",
       "</table>\n",
       "<p>2035 rows × 5 columns</p>\n",
       "</div>"
      ],
      "text/plain": [
       "                                                   text             subtopic  \\\n",
       "0              g u a        e h   h p   o r t s a   ...         astrophysics   \n",
       "1     draft version august          typeset using la...         astrophysics   \n",
       "2     astronomy   astrophysics manuscript no       c...         astrophysics   \n",
       "3     astronomy   astrophysics manuscript no  aa aug...         astrophysics   \n",
       "4              g u a         r s   h p   o r t s a  ...         astrophysics   \n",
       "...                                                 ...                  ...   \n",
       "2030           g u a         a f   h t a m       v  ...  symplectic geometry   \n",
       "2031  universidad complutense de madrid  facultad de...  symplectic geometry   \n",
       "2032           g u a         g s   h t a m       v  ...  symplectic geometry   \n",
       "2033           g u a         g s   h t a m       v  ...  symplectic geometry   \n",
       "2034  free  eld realisation and the chiral universal...  symplectic geometry   \n",
       "\n",
       "                                          modified text  words per text  \\\n",
       "0     [mnras, preprint, august, compiled, using, mnr...           58690   \n",
       "1     [draft, version, august, typeset, using, latex...           55930   \n",
       "2     [astronomy, astrophysics, manuscript, corr, au...           46117   \n",
       "3     [astronomy, astrophysics, manuscript, aa, augu...           78395   \n",
       "4     [mnras, preprint, august, compiled, using, mnr...           61921   \n",
       "...                                                 ...             ...   \n",
       "2030  [fusion, frame, homotopy, tightening, fusion, ...           70325   \n",
       "2031  [universidad, complutense, de, madrid, faculta...           79210   \n",
       "2032  [barcode, pair, compact, exact, lagrangians, p...           46697   \n",
       "2033  [locally, conformally, symplectic, deformation...           26625   \n",
       "2034  [free, eld, realisation, chiral, universal, ce...          144101   \n",
       "\n",
       "      words per modified text  \n",
       "0                        4674  \n",
       "1                        5331  \n",
       "2                        4103  \n",
       "3                        7614  \n",
       "4                        5454  \n",
       "...                       ...  \n",
       "2030                     6085  \n",
       "2031                     4816  \n",
       "2032                     3556  \n",
       "2033                     2023  \n",
       "2034                    10758  \n",
       "\n",
       "[2035 rows x 5 columns]"
      ]
     },
     "execution_count": 7,
     "metadata": {},
     "output_type": "execute_result"
    }
   ],
   "source": [
    "# Stopwords Removal and Removal of words consisting of single letters\n",
    "stop_words = set(stopwords.words('english'))\n",
    "\n",
    "data['modified text'] = data['modified text'].apply(lambda x: [word for word in x if not word in stop_words])\n",
    "data['modified text'] = data['modified text'].apply(lambda x: [word for word in x if len(word)>1])\n",
    "\n",
    "data['words per text'] = data['text'].apply(lambda x : len(x)) \n",
    "data['words per modified text'] = data['modified text'].apply(lambda x : len(x)) \n",
    "data"
   ]
  },
  {
   "cell_type": "code",
   "execution_count": 8,
   "metadata": {},
   "outputs": [
    {
     "data": {
      "text/plain": [
       "array(['astrophysics', 'condensed matter',\n",
       "       'general relativity and quantum cosmology',\n",
       "       'high energy physics - experiment',\n",
       "       'high energy physics - lattice',\n",
       "       'high energy physics - phenomenology',\n",
       "       'high energy physics - theory', 'mathematical physics',\n",
       "       'nonlinear sciences', 'nuclear experiment', 'nuclear theory',\n",
       "       'quantum physics', 'algebraic geometry', 'algebraic topology',\n",
       "       'analysis of pdes', 'category theory',\n",
       "       'classical analysis and odes', 'combinatorics',\n",
       "       'commutative algebra', 'complex variables',\n",
       "       'differential geometry', 'dynamical systems',\n",
       "       'functional analysis', 'general mathematics', 'general topology',\n",
       "       'geometric topology', 'group theory', 'history and overview',\n",
       "       'information theory', 'k-theory and homology', 'logic',\n",
       "       'metric geometry', 'number theory', 'numerical analysis',\n",
       "       'operator algebras', 'optimization and control', 'probability',\n",
       "       'quantum algebra', 'representation theory', 'rings and algebras',\n",
       "       'spectral theory', 'statistics theory', 'symplectic geometry'],\n",
       "      dtype=object)"
      ]
     },
     "execution_count": 8,
     "metadata": {},
     "output_type": "execute_result"
    }
   ],
   "source": [
    "# Target Encoding, but turning subtopics into topics first\n",
    "data['subtopic'].unique()"
   ]
  },
  {
   "cell_type": "code",
   "execution_count": 9,
   "metadata": {},
   "outputs": [],
   "source": [
    "physics_list = ['astrophysics', 'condensed matter', 'general relativity and quantum cosmology', 'high energy physics - experiment', \n",
    "                'high energy physics - lattice', 'high energy physics - phenomenology', 'high energy physics - Tteory',\n",
    "                'mathematical physics', 'nonlinear sciences', 'nuclear experiment', 'nuclear theory', 'physics', 'quantum physics']"
   ]
  },
  {
   "cell_type": "code",
   "execution_count": 10,
   "metadata": {},
   "outputs": [],
   "source": [
    "# Physics as mapped with 0, Maths is mapped with 1\n",
    "data['topic'] = data['subtopic'].apply(lambda x: 0 if x in physics_list else 1)"
   ]
  },
  {
   "cell_type": "code",
   "execution_count": 11,
   "metadata": {},
   "outputs": [
    {
     "data": {
      "text/plain": [
       "1    1196\n",
       "0     839\n",
       "Name: topic, dtype: int64"
      ]
     },
     "execution_count": 11,
     "metadata": {},
     "output_type": "execute_result"
    }
   ],
   "source": [
    "data['topic'].value_counts()"
   ]
  },
  {
   "cell_type": "code",
   "execution_count": 12,
   "metadata": {},
   "outputs": [
    {
     "data": {
      "text/html": [
       "<div>\n",
       "<style scoped>\n",
       "    .dataframe tbody tr th:only-of-type {\n",
       "        vertical-align: middle;\n",
       "    }\n",
       "\n",
       "    .dataframe tbody tr th {\n",
       "        vertical-align: top;\n",
       "    }\n",
       "\n",
       "    .dataframe thead th {\n",
       "        text-align: right;\n",
       "    }\n",
       "</style>\n",
       "<table border=\"1\" class=\"dataframe\">\n",
       "  <thead>\n",
       "    <tr style=\"text-align: right;\">\n",
       "      <th></th>\n",
       "      <th>modified text</th>\n",
       "      <th>topic</th>\n",
       "    </tr>\n",
       "  </thead>\n",
       "  <tbody>\n",
       "    <tr>\n",
       "      <th>0</th>\n",
       "      <td>[mnras, preprint, august, compiled, using, mnr...</td>\n",
       "      <td>0</td>\n",
       "    </tr>\n",
       "    <tr>\n",
       "      <th>1</th>\n",
       "      <td>[draft, version, august, typeset, using, latex...</td>\n",
       "      <td>0</td>\n",
       "    </tr>\n",
       "    <tr>\n",
       "      <th>2</th>\n",
       "      <td>[astronomy, astrophysics, manuscript, corr, au...</td>\n",
       "      <td>0</td>\n",
       "    </tr>\n",
       "    <tr>\n",
       "      <th>3</th>\n",
       "      <td>[astronomy, astrophysics, manuscript, aa, augu...</td>\n",
       "      <td>0</td>\n",
       "    </tr>\n",
       "    <tr>\n",
       "      <th>4</th>\n",
       "      <td>[mnras, preprint, august, compiled, using, mnr...</td>\n",
       "      <td>0</td>\n",
       "    </tr>\n",
       "    <tr>\n",
       "      <th>...</th>\n",
       "      <td>...</td>\n",
       "      <td>...</td>\n",
       "    </tr>\n",
       "    <tr>\n",
       "      <th>2030</th>\n",
       "      <td>[fusion, frame, homotopy, tightening, fusion, ...</td>\n",
       "      <td>1</td>\n",
       "    </tr>\n",
       "    <tr>\n",
       "      <th>2031</th>\n",
       "      <td>[universidad, complutense, de, madrid, faculta...</td>\n",
       "      <td>1</td>\n",
       "    </tr>\n",
       "    <tr>\n",
       "      <th>2032</th>\n",
       "      <td>[barcode, pair, compact, exact, lagrangians, p...</td>\n",
       "      <td>1</td>\n",
       "    </tr>\n",
       "    <tr>\n",
       "      <th>2033</th>\n",
       "      <td>[locally, conformally, symplectic, deformation...</td>\n",
       "      <td>1</td>\n",
       "    </tr>\n",
       "    <tr>\n",
       "      <th>2034</th>\n",
       "      <td>[free, eld, realisation, chiral, universal, ce...</td>\n",
       "      <td>1</td>\n",
       "    </tr>\n",
       "  </tbody>\n",
       "</table>\n",
       "<p>2035 rows × 2 columns</p>\n",
       "</div>"
      ],
      "text/plain": [
       "                                          modified text  topic\n",
       "0     [mnras, preprint, august, compiled, using, mnr...      0\n",
       "1     [draft, version, august, typeset, using, latex...      0\n",
       "2     [astronomy, astrophysics, manuscript, corr, au...      0\n",
       "3     [astronomy, astrophysics, manuscript, aa, augu...      0\n",
       "4     [mnras, preprint, august, compiled, using, mnr...      0\n",
       "...                                                 ...    ...\n",
       "2030  [fusion, frame, homotopy, tightening, fusion, ...      1\n",
       "2031  [universidad, complutense, de, madrid, faculta...      1\n",
       "2032  [barcode, pair, compact, exact, lagrangians, p...      1\n",
       "2033  [locally, conformally, symplectic, deformation...      1\n",
       "2034  [free, eld, realisation, chiral, universal, ce...      1\n",
       "\n",
       "[2035 rows x 2 columns]"
      ]
     },
     "execution_count": 12,
     "metadata": {},
     "output_type": "execute_result"
    }
   ],
   "source": [
    "data[['modified text', 'topic']]"
   ]
  },
  {
   "cell_type": "markdown",
   "metadata": {},
   "source": [
    "### If we wanted to feed our paper fulltexts directly into RNNs:"
   ]
  },
  {
   "cell_type": "code",
   "execution_count": 13,
   "metadata": {},
   "outputs": [
    {
     "name": "stdout",
     "output_type": "stream",
     "text": [
      "There are 143055 different words in our corpus\n"
     ]
    }
   ],
   "source": [
    "# Tokenize according to goal (feed into RNN)\n",
    "tk = Tokenizer()\n",
    "tk.fit_on_texts(data['modified text'])\n",
    "vocab_size = len(tk.word_index)\n",
    "print(f'There are {vocab_size} different words in our corpus')\n",
    "\n",
    "X_token = tk.texts_to_sequences(data['modified text'])"
   ]
  },
  {
   "cell_type": "code",
   "execution_count": 14,
   "metadata": {},
   "outputs": [],
   "source": [
    "# Add Padding\n",
    "X_pad = pad_sequences(X_token, dtype='float32', padding='post', value=0)"
   ]
  },
  {
   "cell_type": "code",
   "execution_count": 15,
   "metadata": {},
   "outputs": [
    {
     "name": "stdout",
     "output_type": "stream",
     "text": [
      "The shape of the padding X_pad.shape (2035, 46773) matches the length of the longest list in our dataframe (46773), so it seems the padding went alright.\n"
     ]
    }
   ],
   "source": [
    "longest_list_in_data = data['modified text'].map(len).max()\n",
    "print(f'The shape of the padding X_pad.shape {X_pad.shape} matches the length of the longest list in our dataframe ({longest_list_in_data}), so it seems the padding went alright.')"
   ]
  },
  {
   "cell_type": "code",
   "execution_count": 16,
   "metadata": {},
   "outputs": [],
   "source": [
    "# Train Test Split\n",
    "X_train, X_test, y_train, y_test = train_test_split(X_pad, data['topic'], test_size=0.3)"
   ]
  },
  {
   "cell_type": "markdown",
   "metadata": {},
   "source": [
    "#### But here we will embed our sentences into an already pretrained word embedding (so we actually don't need the tokenization and the padding as provided by tensorflow)"
   ]
  },
  {
   "cell_type": "code",
   "execution_count": 17,
   "metadata": {},
   "outputs": [
    {
     "data": {
      "text/html": [
       "<div>\n",
       "<style scoped>\n",
       "    .dataframe tbody tr th:only-of-type {\n",
       "        vertical-align: middle;\n",
       "    }\n",
       "\n",
       "    .dataframe tbody tr th {\n",
       "        vertical-align: top;\n",
       "    }\n",
       "\n",
       "    .dataframe thead th {\n",
       "        text-align: right;\n",
       "    }\n",
       "</style>\n",
       "<table border=\"1\" class=\"dataframe\">\n",
       "  <thead>\n",
       "    <tr style=\"text-align: right;\">\n",
       "      <th></th>\n",
       "      <th>modified text</th>\n",
       "      <th>topic</th>\n",
       "      <th>words per modified text</th>\n",
       "    </tr>\n",
       "  </thead>\n",
       "  <tbody>\n",
       "    <tr>\n",
       "      <th>0</th>\n",
       "      <td>[mnras, preprint, august, compiled, using, mnr...</td>\n",
       "      <td>0</td>\n",
       "      <td>4674</td>\n",
       "    </tr>\n",
       "    <tr>\n",
       "      <th>1</th>\n",
       "      <td>[draft, version, august, typeset, using, latex...</td>\n",
       "      <td>0</td>\n",
       "      <td>5331</td>\n",
       "    </tr>\n",
       "    <tr>\n",
       "      <th>2</th>\n",
       "      <td>[astronomy, astrophysics, manuscript, corr, au...</td>\n",
       "      <td>0</td>\n",
       "      <td>4103</td>\n",
       "    </tr>\n",
       "    <tr>\n",
       "      <th>3</th>\n",
       "      <td>[astronomy, astrophysics, manuscript, aa, augu...</td>\n",
       "      <td>0</td>\n",
       "      <td>7614</td>\n",
       "    </tr>\n",
       "    <tr>\n",
       "      <th>4</th>\n",
       "      <td>[mnras, preprint, august, compiled, using, mnr...</td>\n",
       "      <td>0</td>\n",
       "      <td>5454</td>\n",
       "    </tr>\n",
       "    <tr>\n",
       "      <th>...</th>\n",
       "      <td>...</td>\n",
       "      <td>...</td>\n",
       "      <td>...</td>\n",
       "    </tr>\n",
       "    <tr>\n",
       "      <th>2030</th>\n",
       "      <td>[fusion, frame, homotopy, tightening, fusion, ...</td>\n",
       "      <td>1</td>\n",
       "      <td>6085</td>\n",
       "    </tr>\n",
       "    <tr>\n",
       "      <th>2031</th>\n",
       "      <td>[universidad, complutense, de, madrid, faculta...</td>\n",
       "      <td>1</td>\n",
       "      <td>4816</td>\n",
       "    </tr>\n",
       "    <tr>\n",
       "      <th>2032</th>\n",
       "      <td>[barcode, pair, compact, exact, lagrangians, p...</td>\n",
       "      <td>1</td>\n",
       "      <td>3556</td>\n",
       "    </tr>\n",
       "    <tr>\n",
       "      <th>2033</th>\n",
       "      <td>[locally, conformally, symplectic, deformation...</td>\n",
       "      <td>1</td>\n",
       "      <td>2023</td>\n",
       "    </tr>\n",
       "    <tr>\n",
       "      <th>2034</th>\n",
       "      <td>[free, eld, realisation, chiral, universal, ce...</td>\n",
       "      <td>1</td>\n",
       "      <td>10758</td>\n",
       "    </tr>\n",
       "  </tbody>\n",
       "</table>\n",
       "<p>2035 rows × 3 columns</p>\n",
       "</div>"
      ],
      "text/plain": [
       "                                          modified text  topic  \\\n",
       "0     [mnras, preprint, august, compiled, using, mnr...      0   \n",
       "1     [draft, version, august, typeset, using, latex...      0   \n",
       "2     [astronomy, astrophysics, manuscript, corr, au...      0   \n",
       "3     [astronomy, astrophysics, manuscript, aa, augu...      0   \n",
       "4     [mnras, preprint, august, compiled, using, mnr...      0   \n",
       "...                                                 ...    ...   \n",
       "2030  [fusion, frame, homotopy, tightening, fusion, ...      1   \n",
       "2031  [universidad, complutense, de, madrid, faculta...      1   \n",
       "2032  [barcode, pair, compact, exact, lagrangians, p...      1   \n",
       "2033  [locally, conformally, symplectic, deformation...      1   \n",
       "2034  [free, eld, realisation, chiral, universal, ce...      1   \n",
       "\n",
       "      words per modified text  \n",
       "0                        4674  \n",
       "1                        5331  \n",
       "2                        4103  \n",
       "3                        7614  \n",
       "4                        5454  \n",
       "...                       ...  \n",
       "2030                     6085  \n",
       "2031                     4816  \n",
       "2032                     3556  \n",
       "2033                     2023  \n",
       "2034                    10758  \n",
       "\n",
       "[2035 rows x 3 columns]"
      ]
     },
     "execution_count": 17,
     "metadata": {},
     "output_type": "execute_result"
    }
   ],
   "source": [
    "# Let's go back to our original data\n",
    "data[['modified text', 'topic', 'words per modified text']]"
   ]
  },
  {
   "cell_type": "markdown",
   "metadata": {},
   "source": [
    "## Neural network architechture with three components:\n",
    "\n",
    "    1. An embedding layer that inherits word embedding from word2vec.\n",
    "    2. A hidden layer of one or more layers, which introduces non-linearity to the embeddings.\n",
    "    3. A softmax function that produces probability distribution over all the words in the vocabulary. \n"
   ]
  },
  {
   "cell_type": "markdown",
   "metadata": {},
   "source": [
    "### Embedding our papers into a word2vec representation"
   ]
  },
  {
   "cell_type": "code",
   "execution_count": 18,
   "metadata": {},
   "outputs": [
    {
     "name": "stdout",
     "output_type": "stream",
     "text": [
      "Vocabulary size 400000\n"
     ]
    }
   ],
   "source": [
    "# Downloading a pre-trained model, based on a 50 space vector representation from wikidata\n",
    "word2vec_transfer = api.load(\"glove-wiki-gigaword-50\")\n",
    "word2vec_transfer['saturn'].shape # checking the shape of the vectors: (50, )\n",
    "print('Vocabulary size', len(word2vec_transfer))"
   ]
  },
  {
   "cell_type": "code",
   "execution_count": 19,
   "metadata": {},
   "outputs": [],
   "source": [
    "# Function to convert an article (list of words) into a matrix representing the words in the embedding space\n",
    "def embed_article(word2vec_space, article):\n",
    "    embedded_sentence = []\n",
    "    for word in article:\n",
    "        if word in word2vec_space:\n",
    "            embedded_sentence.append(word2vec_space[word])\n",
    "        \n",
    "    return np.array(embedded_sentence)"
   ]
  },
  {
   "cell_type": "code",
   "execution_count": 20,
   "metadata": {},
   "outputs": [
    {
     "data": {
      "text/plain": [
       "(4468, 50)"
      ]
     },
     "execution_count": 20,
     "metadata": {},
     "output_type": "execute_result"
    }
   ],
   "source": [
    "test_sentence_embedded = embed_article(word2vec_transfer, data['modified text'][0])\n",
    "test_sentence_embedded.shape # some words have been skipped, because certainly they weren't contained in the glove-wiki-gigaword-50 representation\n"
   ]
  },
  {
   "cell_type": "code",
   "execution_count": 21,
   "metadata": {},
   "outputs": [],
   "source": [
    "# Function that converts a list of sentences into a list of matrices\n",
    "def embedding(word2vec_space, series_of_articles):\n",
    "    embed = []\n",
    "    \n",
    "    for ele in series_of_articles:\n",
    "        embedded_article = embed_article(word2vec_space, ele)\n",
    "        embed.append(embedded_article)\n",
    "        \n",
    "    return embed"
   ]
  },
  {
   "cell_type": "code",
   "execution_count": 22,
   "metadata": {},
   "outputs": [],
   "source": [
    "# Adding a column with embedded words into data frame\n",
    "series_embedded = embedding(word2vec_transfer, data['modified text'])\n",
    "data['embedded text'] = series_embedded"
   ]
  },
  {
   "cell_type": "code",
   "execution_count": 23,
   "metadata": {},
   "outputs": [
    {
     "data": {
      "text/html": [
       "<div>\n",
       "<style scoped>\n",
       "    .dataframe tbody tr th:only-of-type {\n",
       "        vertical-align: middle;\n",
       "    }\n",
       "\n",
       "    .dataframe tbody tr th {\n",
       "        vertical-align: top;\n",
       "    }\n",
       "\n",
       "    .dataframe thead th {\n",
       "        text-align: right;\n",
       "    }\n",
       "</style>\n",
       "<table border=\"1\" class=\"dataframe\">\n",
       "  <thead>\n",
       "    <tr style=\"text-align: right;\">\n",
       "      <th></th>\n",
       "      <th>modified text</th>\n",
       "      <th>topic</th>\n",
       "      <th>words per modified text</th>\n",
       "      <th>embedded text</th>\n",
       "    </tr>\n",
       "  </thead>\n",
       "  <tbody>\n",
       "    <tr>\n",
       "      <th>27</th>\n",
       "      <td>[chasing, tails, active, asteroid, centaur, qu...</td>\n",
       "      <td>0</td>\n",
       "      <td>46773</td>\n",
       "      <td>[[0.15951, -0.5635, 0.72258, -0.47059, 0.50038...</td>\n",
       "    </tr>\n",
       "    <tr>\n",
       "      <th>111</th>\n",
       "      <td>[laser, plasma, research, institute, shahid, b...</td>\n",
       "      <td>0</td>\n",
       "      <td>46303</td>\n",
       "      <td>[[0.23938, 0.26055, 1.3418, 0.13929, -0.71689,...</td>\n",
       "    </tr>\n",
       "    <tr>\n",
       "      <th>1531</th>\n",
       "      <td>[orthogonal, time, frequency, space, otfs, mod...</td>\n",
       "      <td>1</td>\n",
       "      <td>36256</td>\n",
       "      <td>[[1.9414, -0.11206, 0.3262, 0.73552, 2.1636, 0...</td>\n",
       "    </tr>\n",
       "    <tr>\n",
       "      <th>1054</th>\n",
       "      <td>[attractors, sergey, zelik, abstract, survey, ...</td>\n",
       "      <td>1</td>\n",
       "      <td>31767</td>\n",
       "      <td>[[0.89704, -1.0991, -0.51563, 1.425, -0.010864...</td>\n",
       "    </tr>\n",
       "    <tr>\n",
       "      <th>1339</th>\n",
       "      <td>[attractors, sergey, zelik, abstract, survey, ...</td>\n",
       "      <td>1</td>\n",
       "      <td>31767</td>\n",
       "      <td>[[0.89704, -1.0991, -0.51563, 1.425, -0.010864...</td>\n",
       "    </tr>\n",
       "    <tr>\n",
       "      <th>...</th>\n",
       "      <td>...</td>\n",
       "      <td>...</td>\n",
       "      <td>...</td>\n",
       "      <td>...</td>\n",
       "    </tr>\n",
       "    <tr>\n",
       "      <th>1569</th>\n",
       "      <td>[sdbert, sparsedistilbert, faster, smaller, be...</td>\n",
       "      <td>1</td>\n",
       "      <td>493</td>\n",
       "      <td>[[0.10351, -0.83927, 1.446, -0.51137, -0.32939...</td>\n",
       "    </tr>\n",
       "    <tr>\n",
       "      <th>940</th>\n",
       "      <td>[proof, brill, noether, method, scratch, elena...</td>\n",
       "      <td>1</td>\n",
       "      <td>462</td>\n",
       "      <td>[[0.37481, 0.57314, 0.48017, -0.056679, 0.7047...</td>\n",
       "    </tr>\n",
       "    <tr>\n",
       "      <th>1774</th>\n",
       "      <td>[short, simple, proof, closedness, convex, con...</td>\n",
       "      <td>1</td>\n",
       "      <td>229</td>\n",
       "      <td>[[0.08226, 0.52026, -0.13314, -0.78449, -0.236...</td>\n",
       "    </tr>\n",
       "    <tr>\n",
       "      <th>1964</th>\n",
       "      <td>[short, simple, proof, closedness, convex, con...</td>\n",
       "      <td>1</td>\n",
       "      <td>229</td>\n",
       "      <td>[[0.08226, 0.52026, -0.13314, -0.78449, -0.236...</td>\n",
       "    </tr>\n",
       "    <tr>\n",
       "      <th>1390</th>\n",
       "      <td>[msc, classi, cation, codes, qn, lp, klp, dx, ...</td>\n",
       "      <td>1</td>\n",
       "      <td>215</td>\n",
       "      <td>[[0.39922, 0.47021, -0.38552, 0.39814, -0.8333...</td>\n",
       "    </tr>\n",
       "  </tbody>\n",
       "</table>\n",
       "<p>2035 rows × 4 columns</p>\n",
       "</div>"
      ],
      "text/plain": [
       "                                          modified text  topic  \\\n",
       "27    [chasing, tails, active, asteroid, centaur, qu...      0   \n",
       "111   [laser, plasma, research, institute, shahid, b...      0   \n",
       "1531  [orthogonal, time, frequency, space, otfs, mod...      1   \n",
       "1054  [attractors, sergey, zelik, abstract, survey, ...      1   \n",
       "1339  [attractors, sergey, zelik, abstract, survey, ...      1   \n",
       "...                                                 ...    ...   \n",
       "1569  [sdbert, sparsedistilbert, faster, smaller, be...      1   \n",
       "940   [proof, brill, noether, method, scratch, elena...      1   \n",
       "1774  [short, simple, proof, closedness, convex, con...      1   \n",
       "1964  [short, simple, proof, closedness, convex, con...      1   \n",
       "1390  [msc, classi, cation, codes, qn, lp, klp, dx, ...      1   \n",
       "\n",
       "      words per modified text  \\\n",
       "27                      46773   \n",
       "111                     46303   \n",
       "1531                    36256   \n",
       "1054                    31767   \n",
       "1339                    31767   \n",
       "...                       ...   \n",
       "1569                      493   \n",
       "940                       462   \n",
       "1774                      229   \n",
       "1964                      229   \n",
       "1390                      215   \n",
       "\n",
       "                                          embedded text  \n",
       "27    [[0.15951, -0.5635, 0.72258, -0.47059, 0.50038...  \n",
       "111   [[0.23938, 0.26055, 1.3418, 0.13929, -0.71689,...  \n",
       "1531  [[1.9414, -0.11206, 0.3262, 0.73552, 2.1636, 0...  \n",
       "1054  [[0.89704, -1.0991, -0.51563, 1.425, -0.010864...  \n",
       "1339  [[0.89704, -1.0991, -0.51563, 1.425, -0.010864...  \n",
       "...                                                 ...  \n",
       "1569  [[0.10351, -0.83927, 1.446, -0.51137, -0.32939...  \n",
       "940   [[0.37481, 0.57314, 0.48017, -0.056679, 0.7047...  \n",
       "1774  [[0.08226, 0.52026, -0.13314, -0.78449, -0.236...  \n",
       "1964  [[0.08226, 0.52026, -0.13314, -0.78449, -0.236...  \n",
       "1390  [[0.39922, 0.47021, -0.38552, 0.39814, -0.8333...  \n",
       "\n",
       "[2035 rows x 4 columns]"
      ]
     },
     "execution_count": 23,
     "metadata": {},
     "output_type": "execute_result"
    }
   ],
   "source": [
    "# Checking the data in terms of the padding\n",
    "data[['modified text', 'topic', 'words per modified text', 'embedded text']]\\\n",
    "    .sort_values(by=['words per modified text'], ascending=False)"
   ]
  },
  {
   "cell_type": "code",
   "execution_count": 24,
   "metadata": {},
   "outputs": [
    {
     "data": {
      "text/plain": [
       "<AxesSubplot:>"
      ]
     },
     "execution_count": 24,
     "metadata": {},
     "output_type": "execute_result"
    },
    {
     "data": {
      "image/png": "[encoded data removed]",
      "text/plain": [
       "<Figure size 640x480 with 1 Axes>"
      ]
     },
     "metadata": {},
     "output_type": "display_data"
    }
   ],
   "source": [
    "data['words per modified text'].hist(bins = 50)"
   ]
  },
  {
   "cell_type": "code",
   "execution_count": 25,
   "metadata": {},
   "outputs": [],
   "source": [
    "# Padding all the embedded words\n",
    "X_pad = pad_sequences(series_embedded, dtype='float32', padding='post', value=0, maxlen=15000)"
   ]
  },
  {
   "cell_type": "code",
   "execution_count": 1,
   "metadata": {},
   "outputs": [
    {
     "ename": "NameError",
     "evalue": "name 'train_test_split' is not defined",
     "output_type": "error",
     "traceback": [
      "\u001b[0;31m---------------------------------------------------------------------------\u001b[0m",
      "\u001b[0;31mNameError\u001b[0m                                 Traceback (most recent call last)",
      "\u001b[1;32m/home/stefanie/code/WorkingPaper/notebooks/stef_model_experimentation.ipynb Cell 31\u001b[0m in \u001b[0;36m<cell line: 2>\u001b[0;34m()\u001b[0m\n\u001b[1;32m      <a href='vscode-notebook-cell:/home/stefanie/code/WorkingPaper/notebooks/stef_model_experimentation.ipynb#X65sZmlsZQ%3D%3D?line=0'>1</a>\u001b[0m \u001b[39m# Train test split\u001b[39;00m\n\u001b[0;32m----> <a href='vscode-notebook-cell:/home/stefanie/code/WorkingPaper/notebooks/stef_model_experimentation.ipynb#X65sZmlsZQ%3D%3D?line=1'>2</a>\u001b[0m X_train, X_test, y_train, y_test \u001b[39m=\u001b[39m train_test_split(X_pad, data[\u001b[39m'\u001b[39m\u001b[39mtopic\u001b[39m\u001b[39m'\u001b[39m], test_size\u001b[39m=\u001b[39m\u001b[39m0.3\u001b[39m)\n",
      "\u001b[0;31mNameError\u001b[0m: name 'train_test_split' is not defined"
     ]
    }
   ],
   "source": [
    "# Train test split\n",
    "X_train, X_test, y_train, y_test = train_test_split(X_pad, data['topic'], test_size=0.3)"
   ]
  },
  {
   "cell_type": "code",
   "execution_count": null,
   "metadata": {},
   "outputs": [],
   "source": []
  }
 ],
 "metadata": {
  "kernelspec": {
   "display_name": "Python 3.8.12 64-bit ('shims')",
   "language": "python",
   "name": "python3"
  },
  "language_info": {
   "codemirror_mode": {
    "name": "ipython",
    "version": 3
   },
   "file_extension": ".py",
   "mimetype": "text/x-python",
   "name": "python",
   "nbconvert_exporter": "python",
   "pygments_lexer": "ipython3",
   "version": "3.8.12"
  },
  "orig_nbformat": 4,
  "vscode": {
   "interpreter": {
    "hash": "736150739e4fb3df6051488b43d6994f529cd492b8cd4a40882204b23398c180"
   }
  }
 },
 "nbformat": 4,
 "nbformat_minor": 2
}
