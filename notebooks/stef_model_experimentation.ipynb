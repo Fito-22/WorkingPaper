{
 "cells": [
  {
   "cell_type": "code",
   "execution_count": 29,
   "metadata": {},
   "outputs": [
    {
     "name": "stdout",
     "output_type": "stream",
     "text": [
      "The autoreload extension is already loaded. To reload it, use:\n",
      "  %reload_ext autoreload\n"
     ]
    }
   ],
   "source": [
    "%load_ext autoreload\n",
    "%autoreload 2"
   ]
  },
  {
   "cell_type": "code",
   "execution_count": 75,
   "metadata": {},
   "outputs": [],
   "source": [
    "import pandas as pd\n",
    "import re\n",
    "from nltk.tokenize import word_tokenize\n",
    "from nltk.corpus import stopwords\n",
    "from gensim.models import Word2Vec\n",
    "import gensim.downloader\n",
    "from sklearn.model_selection import train_test_split\n",
    "from sklearn.preprocessing import OneHotEncoder\n",
    "from tensorflow.keras import layers, Sequential #, Dense, Flatten\n",
    "from tensorflow.keras.preprocessing.sequence import pad_sequences"
   ]
  },
  {
   "cell_type": "markdown",
   "metadata": {},
   "source": [
    "# Early Experimenting in order to get to a BaseModel\n",
    "#### with only minimal preprocessing"
   ]
  },
  {
   "cell_type": "code",
   "execution_count": 40,
   "metadata": {},
   "outputs": [
    {
     "data": {
      "text/html": [
       "<div>\n",
       "<style scoped>\n",
       "    .dataframe tbody tr th:only-of-type {\n",
       "        vertical-align: middle;\n",
       "    }\n",
       "\n",
       "    .dataframe tbody tr th {\n",
       "        vertical-align: top;\n",
       "    }\n",
       "\n",
       "    .dataframe thead th {\n",
       "        text-align: right;\n",
       "    }\n",
       "</style>\n",
       "<table border=\"1\" class=\"dataframe\">\n",
       "  <thead>\n",
       "    <tr style=\"text-align: right;\">\n",
       "      <th></th>\n",
       "      <th>text</th>\n",
       "      <th>subtopic</th>\n",
       "    </tr>\n",
       "  </thead>\n",
       "  <tbody>\n",
       "    <tr>\n",
       "      <th>0</th>\n",
       "      <td>2 2 0 2  g u A 6 2  ] E H . h p - o r t s a [ ...</td>\n",
       "      <td>Astrophysics</td>\n",
       "    </tr>\n",
       "    <tr>\n",
       "      <th>1</th>\n",
       "      <td>Draft version August 29, 2022 Typeset using LA...</td>\n",
       "      <td>Astrophysics</td>\n",
       "    </tr>\n",
       "    <tr>\n",
       "      <th>2</th>\n",
       "      <td>Astronomy &amp; Astrophysics manuscript no. 41891c...</td>\n",
       "      <td>Astrophysics</td>\n",
       "    </tr>\n",
       "    <tr>\n",
       "      <th>3</th>\n",
       "      <td>Astronomy &amp; Astrophysics manuscript no. aa Aug...</td>\n",
       "      <td>Astrophysics</td>\n",
       "    </tr>\n",
       "    <tr>\n",
       "      <th>4</th>\n",
       "      <td>2 2 0 2  g u A 6 2  ]  R S . h p - o r t s a [...</td>\n",
       "      <td>Astrophysics</td>\n",
       "    </tr>\n",
       "  </tbody>\n",
       "</table>\n",
       "</div>"
      ],
      "text/plain": [
       "                                                text      subtopic\n",
       "0  2 2 0 2  g u A 6 2  ] E H . h p - o r t s a [ ...  Astrophysics\n",
       "1  Draft version August 29, 2022 Typeset using LA...  Astrophysics\n",
       "2  Astronomy & Astrophysics manuscript no. 41891c...  Astrophysics\n",
       "3  Astronomy & Astrophysics manuscript no. aa Aug...  Astrophysics\n",
       "4  2 2 0 2  g u A 6 2  ]  R S . h p - o r t s a [...  Astrophysics"
      ]
     },
     "execution_count": 40,
     "metadata": {},
     "output_type": "execute_result"
    }
   ],
   "source": [
    "# Reading Data\n",
    "data = pd.read_csv('../raw_data/small_dataset.csv')\n",
    "data = data.drop(columns='Unnamed: 0')\n",
    "data = data.rename(columns={'0': 'text'})\n",
    "data.head()"
   ]
  },
  {
   "cell_type": "code",
   "execution_count": 41,
   "metadata": {},
   "outputs": [],
   "source": [
    "# Lowercasing everything\n",
    "data = data.apply(lambda x: x.astype(str).str.lower())"
   ]
  },
  {
   "cell_type": "code",
   "execution_count": 42,
   "metadata": {},
   "outputs": [],
   "source": [
    "# Removing anything apart from lower case letters \n",
    "data['text'] = data['text'].apply(lambda x: re.sub(r'[^a-z]', ' ', x))"
   ]
  },
  {
   "cell_type": "code",
   "execution_count": 44,
   "metadata": {},
   "outputs": [],
   "source": [
    "# Tokenizing\n",
    "data['modified text'] = data['text'].apply(word_tokenize)"
   ]
  },
  {
   "cell_type": "code",
   "execution_count": 49,
   "metadata": {},
   "outputs": [
    {
     "data": {
      "text/html": [
       "<div>\n",
       "<style scoped>\n",
       "    .dataframe tbody tr th:only-of-type {\n",
       "        vertical-align: middle;\n",
       "    }\n",
       "\n",
       "    .dataframe tbody tr th {\n",
       "        vertical-align: top;\n",
       "    }\n",
       "\n",
       "    .dataframe thead th {\n",
       "        text-align: right;\n",
       "    }\n",
       "</style>\n",
       "<table border=\"1\" class=\"dataframe\">\n",
       "  <thead>\n",
       "    <tr style=\"text-align: right;\">\n",
       "      <th></th>\n",
       "      <th>text</th>\n",
       "      <th>subtopic</th>\n",
       "      <th>modified text</th>\n",
       "      <th>words per text</th>\n",
       "      <th>words per modified text</th>\n",
       "    </tr>\n",
       "  </thead>\n",
       "  <tbody>\n",
       "    <tr>\n",
       "      <th>0</th>\n",
       "      <td>g u a        e h   h p   o r t s a   ...</td>\n",
       "      <td>astrophysics</td>\n",
       "      <td>[mnras, preprint, august, compiled, using, mnr...</td>\n",
       "      <td>58690</td>\n",
       "      <td>4674</td>\n",
       "    </tr>\n",
       "    <tr>\n",
       "      <th>1</th>\n",
       "      <td>draft version august          typeset using la...</td>\n",
       "      <td>astrophysics</td>\n",
       "      <td>[draft, version, august, typeset, using, latex...</td>\n",
       "      <td>55930</td>\n",
       "      <td>5331</td>\n",
       "    </tr>\n",
       "    <tr>\n",
       "      <th>2</th>\n",
       "      <td>astronomy   astrophysics manuscript no       c...</td>\n",
       "      <td>astrophysics</td>\n",
       "      <td>[astronomy, astrophysics, manuscript, corr, au...</td>\n",
       "      <td>46117</td>\n",
       "      <td>4103</td>\n",
       "    </tr>\n",
       "    <tr>\n",
       "      <th>3</th>\n",
       "      <td>astronomy   astrophysics manuscript no  aa aug...</td>\n",
       "      <td>astrophysics</td>\n",
       "      <td>[astronomy, astrophysics, manuscript, aa, augu...</td>\n",
       "      <td>78395</td>\n",
       "      <td>7614</td>\n",
       "    </tr>\n",
       "    <tr>\n",
       "      <th>4</th>\n",
       "      <td>g u a         r s   h p   o r t s a  ...</td>\n",
       "      <td>astrophysics</td>\n",
       "      <td>[mnras, preprint, august, compiled, using, mnr...</td>\n",
       "      <td>61921</td>\n",
       "      <td>5454</td>\n",
       "    </tr>\n",
       "    <tr>\n",
       "      <th>...</th>\n",
       "      <td>...</td>\n",
       "      <td>...</td>\n",
       "      <td>...</td>\n",
       "      <td>...</td>\n",
       "      <td>...</td>\n",
       "    </tr>\n",
       "    <tr>\n",
       "      <th>2030</th>\n",
       "      <td>g u a         a f   h t a m       v  ...</td>\n",
       "      <td>symplectic geometry</td>\n",
       "      <td>[fusion, frame, homotopy, tightening, fusion, ...</td>\n",
       "      <td>70325</td>\n",
       "      <td>6085</td>\n",
       "    </tr>\n",
       "    <tr>\n",
       "      <th>2031</th>\n",
       "      <td>universidad complutense de madrid  facultad de...</td>\n",
       "      <td>symplectic geometry</td>\n",
       "      <td>[universidad, complutense, de, madrid, faculta...</td>\n",
       "      <td>79210</td>\n",
       "      <td>4816</td>\n",
       "    </tr>\n",
       "    <tr>\n",
       "      <th>2032</th>\n",
       "      <td>g u a         g s   h t a m       v  ...</td>\n",
       "      <td>symplectic geometry</td>\n",
       "      <td>[barcode, pair, compact, exact, lagrangians, p...</td>\n",
       "      <td>46697</td>\n",
       "      <td>3556</td>\n",
       "    </tr>\n",
       "    <tr>\n",
       "      <th>2033</th>\n",
       "      <td>g u a         g s   h t a m       v  ...</td>\n",
       "      <td>symplectic geometry</td>\n",
       "      <td>[locally, conformally, symplectic, deformation...</td>\n",
       "      <td>26625</td>\n",
       "      <td>2023</td>\n",
       "    </tr>\n",
       "    <tr>\n",
       "      <th>2034</th>\n",
       "      <td>free  eld realisation and the chiral universal...</td>\n",
       "      <td>symplectic geometry</td>\n",
       "      <td>[free, eld, realisation, chiral, universal, ce...</td>\n",
       "      <td>144101</td>\n",
       "      <td>10758</td>\n",
       "    </tr>\n",
       "  </tbody>\n",
       "</table>\n",
       "<p>2035 rows × 5 columns</p>\n",
       "</div>"
      ],
      "text/plain": [
       "                                                   text             subtopic  \\\n",
       "0              g u a        e h   h p   o r t s a   ...         astrophysics   \n",
       "1     draft version august          typeset using la...         astrophysics   \n",
       "2     astronomy   astrophysics manuscript no       c...         astrophysics   \n",
       "3     astronomy   astrophysics manuscript no  aa aug...         astrophysics   \n",
       "4              g u a         r s   h p   o r t s a  ...         astrophysics   \n",
       "...                                                 ...                  ...   \n",
       "2030           g u a         a f   h t a m       v  ...  symplectic geometry   \n",
       "2031  universidad complutense de madrid  facultad de...  symplectic geometry   \n",
       "2032           g u a         g s   h t a m       v  ...  symplectic geometry   \n",
       "2033           g u a         g s   h t a m       v  ...  symplectic geometry   \n",
       "2034  free  eld realisation and the chiral universal...  symplectic geometry   \n",
       "\n",
       "                                          modified text  words per text  \\\n",
       "0     [mnras, preprint, august, compiled, using, mnr...           58690   \n",
       "1     [draft, version, august, typeset, using, latex...           55930   \n",
       "2     [astronomy, astrophysics, manuscript, corr, au...           46117   \n",
       "3     [astronomy, astrophysics, manuscript, aa, augu...           78395   \n",
       "4     [mnras, preprint, august, compiled, using, mnr...           61921   \n",
       "...                                                 ...             ...   \n",
       "2030  [fusion, frame, homotopy, tightening, fusion, ...           70325   \n",
       "2031  [universidad, complutense, de, madrid, faculta...           79210   \n",
       "2032  [barcode, pair, compact, exact, lagrangians, p...           46697   \n",
       "2033  [locally, conformally, symplectic, deformation...           26625   \n",
       "2034  [free, eld, realisation, chiral, universal, ce...          144101   \n",
       "\n",
       "      words per modified text  \n",
       "0                        4674  \n",
       "1                        5331  \n",
       "2                        4103  \n",
       "3                        7614  \n",
       "4                        5454  \n",
       "...                       ...  \n",
       "2030                     6085  \n",
       "2031                     4816  \n",
       "2032                     3556  \n",
       "2033                     2023  \n",
       "2034                    10758  \n",
       "\n",
       "[2035 rows x 5 columns]"
      ]
     },
     "execution_count": 49,
     "metadata": {},
     "output_type": "execute_result"
    }
   ],
   "source": [
    "# Stopwords Removal and Removal of words consisting of single letters\n",
    "stop_words = set(stopwords.words('english'))\n",
    "\n",
    "data['modified text'] = data['modified text'].apply(lambda x: [word for word in x if not word in stop_words])\n",
    "data['modified text'] = data['modified text'].apply(lambda x: [word for word in x if len(word)>1])\n",
    "\n",
    "data['words per text'] = data['text'].apply(lambda x : len(x)) \n",
    "data['words per modified text'] = data['modified text'].apply(lambda x : len(x)) \n",
    "data"
   ]
  },
  {
   "cell_type": "code",
   "execution_count": 57,
   "metadata": {},
   "outputs": [
    {
     "data": {
      "text/plain": [
       "array(['astrophysics', 'condensed matter',\n",
       "       'general relativity and quantum cosmology',\n",
       "       'high energy physics - experiment',\n",
       "       'high energy physics - lattice',\n",
       "       'high energy physics - phenomenology',\n",
       "       'high energy physics - theory', 'mathematical physics',\n",
       "       'nonlinear sciences', 'nuclear experiment', 'nuclear theory',\n",
       "       'quantum physics', 'algebraic geometry', 'algebraic topology',\n",
       "       'analysis of pdes', 'category theory',\n",
       "       'classical analysis and odes', 'combinatorics',\n",
       "       'commutative algebra', 'complex variables',\n",
       "       'differential geometry', 'dynamical systems',\n",
       "       'functional analysis', 'general mathematics', 'general topology',\n",
       "       'geometric topology', 'group theory', 'history and overview',\n",
       "       'information theory', 'k-theory and homology', 'logic',\n",
       "       'metric geometry', 'number theory', 'numerical analysis',\n",
       "       'operator algebras', 'optimization and control', 'probability',\n",
       "       'quantum algebra', 'representation theory', 'rings and algebras',\n",
       "       'spectral theory', 'statistics theory', 'symplectic geometry'],\n",
       "      dtype=object)"
      ]
     },
     "execution_count": 57,
     "metadata": {},
     "output_type": "execute_result"
    }
   ],
   "source": [
    "# Target Encoding, but turning subtopics into topics first\n",
    "data['subtopic'].unique()"
   ]
  },
  {
   "cell_type": "code",
   "execution_count": 68,
   "metadata": {},
   "outputs": [],
   "source": [
    "physics_list = ['astrophysics', 'condensed matter', 'general relativity and quantum cosmology', 'high energy physics - experiment', \n",
    "                'high energy physics - lattice', 'high energy physics - phenomenology', 'high energy physics - Tteory',\n",
    "                'mathematical physics', 'nonlinear sciences', 'nuclear experiment', 'nuclear theory', 'physics', 'quantum physics']"
   ]
  },
  {
   "cell_type": "code",
   "execution_count": 76,
   "metadata": {},
   "outputs": [],
   "source": [
    "# Physics as mapped with 0, Maths is mapped with 1\n",
    "data['topic'] = data['subtopic'].apply(lambda x: 0 if x in physics_list else 1)"
   ]
  },
  {
   "cell_type": "code",
   "execution_count": 77,
   "metadata": {},
   "outputs": [
    {
     "data": {
      "text/plain": [
       "1    1196\n",
       "0     839\n",
       "Name: topic, dtype: int64"
      ]
     },
     "execution_count": 77,
     "metadata": {},
     "output_type": "execute_result"
    }
   ],
   "source": [
    "data['topic'].value_counts()"
   ]
  },
  {
   "cell_type": "code",
   "execution_count": 82,
   "metadata": {},
   "outputs": [
    {
     "data": {
      "text/html": [
       "<div>\n",
       "<style scoped>\n",
       "    .dataframe tbody tr th:only-of-type {\n",
       "        vertical-align: middle;\n",
       "    }\n",
       "\n",
       "    .dataframe tbody tr th {\n",
       "        vertical-align: top;\n",
       "    }\n",
       "\n",
       "    .dataframe thead th {\n",
       "        text-align: right;\n",
       "    }\n",
       "</style>\n",
       "<table border=\"1\" class=\"dataframe\">\n",
       "  <thead>\n",
       "    <tr style=\"text-align: right;\">\n",
       "      <th></th>\n",
       "      <th>modified text</th>\n",
       "      <th>topic</th>\n",
       "    </tr>\n",
       "  </thead>\n",
       "  <tbody>\n",
       "    <tr>\n",
       "      <th>0</th>\n",
       "      <td>[mnras, preprint, august, compiled, using, mnr...</td>\n",
       "      <td>0</td>\n",
       "    </tr>\n",
       "    <tr>\n",
       "      <th>1</th>\n",
       "      <td>[draft, version, august, typeset, using, latex...</td>\n",
       "      <td>0</td>\n",
       "    </tr>\n",
       "    <tr>\n",
       "      <th>2</th>\n",
       "      <td>[astronomy, astrophysics, manuscript, corr, au...</td>\n",
       "      <td>0</td>\n",
       "    </tr>\n",
       "    <tr>\n",
       "      <th>3</th>\n",
       "      <td>[astronomy, astrophysics, manuscript, aa, augu...</td>\n",
       "      <td>0</td>\n",
       "    </tr>\n",
       "    <tr>\n",
       "      <th>4</th>\n",
       "      <td>[mnras, preprint, august, compiled, using, mnr...</td>\n",
       "      <td>0</td>\n",
       "    </tr>\n",
       "    <tr>\n",
       "      <th>...</th>\n",
       "      <td>...</td>\n",
       "      <td>...</td>\n",
       "    </tr>\n",
       "    <tr>\n",
       "      <th>2030</th>\n",
       "      <td>[fusion, frame, homotopy, tightening, fusion, ...</td>\n",
       "      <td>1</td>\n",
       "    </tr>\n",
       "    <tr>\n",
       "      <th>2031</th>\n",
       "      <td>[universidad, complutense, de, madrid, faculta...</td>\n",
       "      <td>1</td>\n",
       "    </tr>\n",
       "    <tr>\n",
       "      <th>2032</th>\n",
       "      <td>[barcode, pair, compact, exact, lagrangians, p...</td>\n",
       "      <td>1</td>\n",
       "    </tr>\n",
       "    <tr>\n",
       "      <th>2033</th>\n",
       "      <td>[locally, conformally, symplectic, deformation...</td>\n",
       "      <td>1</td>\n",
       "    </tr>\n",
       "    <tr>\n",
       "      <th>2034</th>\n",
       "      <td>[free, eld, realisation, chiral, universal, ce...</td>\n",
       "      <td>1</td>\n",
       "    </tr>\n",
       "  </tbody>\n",
       "</table>\n",
       "<p>2035 rows × 2 columns</p>\n",
       "</div>"
      ],
      "text/plain": [
       "                                          modified text  topic\n",
       "0     [mnras, preprint, august, compiled, using, mnr...      0\n",
       "1     [draft, version, august, typeset, using, latex...      0\n",
       "2     [astronomy, astrophysics, manuscript, corr, au...      0\n",
       "3     [astronomy, astrophysics, manuscript, aa, augu...      0\n",
       "4     [mnras, preprint, august, compiled, using, mnr...      0\n",
       "...                                                 ...    ...\n",
       "2030  [fusion, frame, homotopy, tightening, fusion, ...      1\n",
       "2031  [universidad, complutense, de, madrid, faculta...      1\n",
       "2032  [barcode, pair, compact, exact, lagrangians, p...      1\n",
       "2033  [locally, conformally, symplectic, deformation...      1\n",
       "2034  [free, eld, realisation, chiral, universal, ce...      1\n",
       "\n",
       "[2035 rows x 2 columns]"
      ]
     },
     "execution_count": 82,
     "metadata": {},
     "output_type": "execute_result"
    }
   ],
   "source": [
    "data[['modified text', 'topic']]"
   ]
  },
  {
   "cell_type": "code",
   "execution_count": 79,
   "metadata": {},
   "outputs": [],
   "source": [
    "# Train Test Split\n",
    "X_train, X_test, y_train, y_test = train_test_split(data['modified text'], data['topic'], test_size=0.3)"
   ]
  },
  {
   "cell_type": "code",
   "execution_count": 8,
   "metadata": {},
   "outputs": [],
   "source": [
    "# Downloading a pre-trained model, based on a 50 space vector representation from wikidata\n",
    "model_wiki = gensim.downloader.load('glove-wiki-gigaword-50')"
   ]
  },
  {
   "cell_type": "code",
   "execution_count": 12,
   "metadata": {},
   "outputs": [
    {
     "data": {
      "text/plain": [
       "(50,)"
      ]
     },
     "execution_count": 12,
     "metadata": {},
     "output_type": "execute_result"
    }
   ],
   "source": [
    "# Checing the shape of the vector\n",
    "model_wiki['saturn'].shape"
   ]
  },
  {
   "cell_type": "code",
   "execution_count": null,
   "metadata": {},
   "outputs": [],
   "source": [
    "glove_file = datapath('~/gensim-data/glove-wiki-gigaword-50/glove-wiki-gigaword-50.gz')\n",
    "tmp_file = get_tmpfile(\"test_word2vec.txt\")\n",
    "#tmp_file = data['modified text']\n",
    "\n",
    "_ = glove2word2vec(glove_file, tmp_file)\n",
    "\n",
    "glove_vectors = KeyedVectors.load_word2vec_format(tmp_file)"
   ]
  },
  {
   "cell_type": "code",
   "execution_count": null,
   "metadata": {},
   "outputs": [],
   "source": [
    "# Add Padding\n",
    "# data['modified text padded']\n",
    "X_pad = pad_sequences(data['modified text'], dtype='str', padding='post', value=0)"
   ]
  },
  {
   "cell_type": "markdown",
   "metadata": {},
   "source": [
    "### Neural network architechture with three components:\n",
    "\n",
    "    An embedding layer that generates word embedding, and the parameters are shared across words.\n",
    "    A hidden layer of one or more layers, which introduces non-linearity to the embeddings.\n",
    "    A softmax function that produces probability distribution over all the words in the vocabulary. \n",
    "\n"
   ]
  },
  {
   "cell_type": "code",
   "execution_count": null,
   "metadata": {},
   "outputs": [],
   "source": [
    "embedding_size = 50 # same as in the pretrained model\n",
    "\n",
    "model = Sequential()\n",
    "\n",
    "model.add(layers.LSTM(20))\n",
    "model.add(layers.Dense(1, activation=\"sigmoid\"))\n",
    "model.summary()\n",
    "\n",
    "model.compile(optimizer='adam', loss='binary_crossentropy', metrics=['accuracy'])"
   ]
  }
 ],
 "metadata": {
  "kernelspec": {
   "display_name": "Python 3.8.12 64-bit ('shims')",
   "language": "python",
   "name": "python3"
  },
  "language_info": {
   "codemirror_mode": {
    "name": "ipython",
    "version": 3
   },
   "file_extension": ".py",
   "mimetype": "text/x-python",
   "name": "python",
   "nbconvert_exporter": "python",
   "pygments_lexer": "ipython3",
   "version": "3.8.12"
  },
  "orig_nbformat": 4,
  "vscode": {
   "interpreter": {
    "hash": "736150739e4fb3df6051488b43d6994f529cd492b8cd4a40882204b23398c180"
   }
  }
 },
 "nbformat": 4,
 "nbformat_minor": 2
}
