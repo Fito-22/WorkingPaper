{
 "cells": [
  {
   "cell_type": "markdown",
   "id": "6ea948ce",
   "metadata": {},
   "source": [
    "# PROJECT OBTAINING_DATA"
   ]
  },
  {
   "cell_type": "markdown",
   "id": "1d00fe05",
   "metadata": {},
   "source": [
    "## Looking for the data"
   ]
  },
  {
   "cell_type": "markdown",
   "id": "63936d4d",
   "metadata": {},
   "source": [
    "I will choose some web that contains science articles and then i will try to scraping into the data"
   ]
  },
  {
   "cell_type": "code",
   "execution_count": 12,
   "id": "a00c950e",
   "metadata": {},
   "outputs": [
    {
     "name": "stdout",
     "output_type": "stream",
     "text": [
      "The autoreload extension is already loaded. To reload it, use:\n",
      "  %reload_ext autoreload\n"
     ]
    }
   ],
   "source": [
    "%load_ext autoreload\n",
    "%autoreload 2"
   ]
  },
  {
   "cell_type": "code",
   "execution_count": 20,
   "id": "615fa20f",
   "metadata": {},
   "outputs": [
    {
     "data": {
      "text/plain": [
       "['Mathematical Physics',\n",
       " 'Algebraic Geometry',\n",
       " 'Algebraic Topology',\n",
       " 'Analysis of PDEs',\n",
       " 'Category Theory',\n",
       " 'Classical Analysis and ODEs',\n",
       " 'Combinatorics',\n",
       " 'Commutative Algebra',\n",
       " 'Complex Variables',\n",
       " 'Differential Geometry',\n",
       " 'Dynamical Systems',\n",
       " 'Functional Analysis',\n",
       " 'General Mathematics',\n",
       " 'General Topology',\n",
       " 'Geometric Topology',\n",
       " 'Group Theory',\n",
       " 'History and Overview',\n",
       " 'Information Theory',\n",
       " 'K-Theory and Homology',\n",
       " 'Logic',\n",
       " 'Mathematical Physics',\n",
       " 'Metric Geometry',\n",
       " 'Number Theory',\n",
       " 'Numerical Analysis',\n",
       " 'Operator Algebras',\n",
       " 'Optimization and Control',\n",
       " 'Probability',\n",
       " 'Quantum Algebra',\n",
       " 'Representation Theory',\n",
       " 'Rings and Algebras',\n",
       " 'Spectral Theory',\n",
       " 'Statistics Theory',\n",
       " 'Symplectic Geometry']"
      ]
     },
     "execution_count": 20,
     "metadata": {},
     "output_type": "execute_result"
    }
   ],
   "source": [
    "import re \n",
    "import requests\n",
    "from bs4 import BeautifulSoup\n",
    "\n",
    "response = requests.get('https://arxiv.org/')   \n",
    "soup = BeautifulSoup(response.content, 'html.parser')\n",
    "a =  soup.find_all('a', id= re.compile('math.'))\n",
    "b=[]\n",
    "c=[]\n",
    "for i in a:\n",
    "    b.append(i['id'])\n",
    "    c.append(i.text)\n",
    "[c[0]] + c[4:]"
   ]
  },
  {
   "cell_type": "code",
   "execution_count": 13,
   "id": "af31e7cf",
   "metadata": {
    "scrolled": true
   },
   "outputs": [
    {
     "data": {
      "text/plain": [
       "'/list/astro-ph/recent'"
      ]
     },
     "execution_count": 13,
     "metadata": {},
     "output_type": "execute_result"
    }
   ],
   "source": [
    "import requests\n",
    "from bs4 import BeautifulSoup\n",
    "\n",
    "response = requests.get('https://arxiv.org/')   \n",
    "soup = BeautifulSoup(response.content, 'html.parser')         #Open the web and search for astrophysics articles\n",
    "astrophysics = soup.find_all('a', id='recent-astro-ph')[0]['href']\n",
    "\n",
    "as_response = requests.get(f'https://arxiv.org{astrophysics}?show=100')\n",
    "as_soup = BeautifulSoup(as_response.content, 'html.parser')\n",
    "articles = as_soup.find_all('span', class_='list-identifier') #All the articles here\n",
    "PDF_list=[]\n",
    "for i in articles:\n",
    "    PDF_list.append(f'https://arxiv.org{i.find(\"a\", title=\"Download PDF\")[\"href\"]}.pdf') \n",
    "astrophysics"
   ]
  },
  {
   "cell_type": "markdown",
   "id": "5280211f",
   "metadata": {},
   "source": [
    "I KNOW HOW TO OBTAIN THE PDF NOW WE HAVE TWO POSIBILITYS LOOK AN API THAT TURNS PDF INTO SOMETHING READABLE OR TRY TO LOOK FOR HTML FORMAT"
   ]
  },
  {
   "cell_type": "markdown",
   "id": "b6c75043",
   "metadata": {},
   "source": [
    "- I'm going to use PyPDF2, a python modul that allows me to take PDFs and turn them in strings"
   ]
  },
  {
   "cell_type": "code",
   "execution_count": 14,
   "id": "1b57707b",
   "metadata": {},
   "outputs": [
    {
     "name": "stdout",
     "output_type": "stream",
     "text": [
      "/home/adolfo/code/Fito-22/Proyect\r\n"
     ]
    }
   ],
   "source": [
    "!pwd"
   ]
  },
  {
   "cell_type": "code",
   "execution_count": 15,
   "id": "88901b8c",
   "metadata": {},
   "outputs": [
    {
     "name": "stdout",
     "output_type": "stream",
     "text": [
      "  % Total    % Received % Xferd  Average Speed   Time    Time     Time  Current\n",
      "                                 Dload  Upload   Total   Spent    Left  Speed\n",
      "100 1075k  100 1075k    0     0   322k      0  0:00:03  0:00:03 --:--:--  322k\n",
      "  % Total    % Received % Xferd  Average Speed   Time    Time     Time  Current\n",
      "                                 Dload  Upload   Total   Spent    Left  Speed\n",
      " 72 9046k   72 6560k    0     0   494k      0  0:00:18  0:00:13  0:00:05  572k^C\n",
      "  % Total    % Received % Xferd  Average Speed   Time    Time     Time  Current\n",
      "                                 Dload  Upload   Total   Spent    Left  Speed\n",
      "100 2483k  100 2483k    0     0   457k      0  0:00:05  0:00:05 --:--:--  567k\n",
      "  % Total    % Received % Xferd  Average Speed   Time    Time     Time  Current\n",
      "                                 Dload  Upload   Total   Spent    Left  Speed\n",
      " 20 9250k   20 1936k    0     0   409k      0  0:00:22  0:00:04  0:00:18  409k^C\n",
      "  % Total    % Received % Xferd  Average Speed   Time    Time     Time  Current\n",
      "                                 Dload  Upload   Total   Spent    Left  Speed\n",
      "  0 3266k    0     0    0     0      0      0 --:--:-- --:--:-- --:--:--     0^C\n",
      "  % Total    % Received % Xferd  Average Speed   Time    Time     Time  Current\n",
      "                                 Dload  Upload   Total   Spent    Left  Speed\n",
      "  0     0    0     0    0     0      0      0 --:--:-- --:--:-- --:--:--     0^C\n",
      "  % Total    % Received % Xferd  Average Speed   Time    Time     Time  Current\n",
      "                                 Dload  Upload   Total   Spent    Left  Speed\n",
      "  2 13.9M    2  384k    0     0   199k      0  0:01:11  0:00:01  0:01:10  199k^C\n",
      "  % Total    % Received % Xferd  Average Speed   Time    Time     Time  Current\n",
      "                                 Dload  Upload   Total   Spent    Left  Speed\n",
      "  0     0    0     0    0     0      0      0 --:--:-- --:--:-- --:--:--     0^C\n",
      "  % Total    % Received % Xferd  Average Speed   Time    Time     Time  Current\n",
      "                                 Dload  Upload   Total   Spent    Left  Speed\n",
      "  0     0    0     0    0     0      0      0 --:--:-- --:--:-- --:--:--     0^C\n",
      "  % Total    % Received % Xferd  Average Speed   Time    Time     Time  Current\n",
      "                                 Dload  Upload   Total   Spent    Left  Speed\n",
      "  0     0    0     0    0     0      0      0 --:--:-- --:--:-- --:--:--     0^C\n"
     ]
    }
   ],
   "source": [
    "for index, url in enumerate(PDF_list[0:10]):\n",
    "    !curl -o f\"file_{index}.pdf\" $url"
   ]
  },
  {
   "cell_type": "code",
   "execution_count": 16,
   "id": "934d62d0",
   "metadata": {},
   "outputs": [
    {
     "name": "stdout",
     "output_type": "stream",
     "text": [
      "  % Total    % Received % Xferd  Average Speed   Time    Time     Time  Current\n",
      "                                 Dload  Upload   Total   Spent    Left  Speed\n",
      "100 1075k  100 1075k    0     0   390k      0  0:00:02  0:00:02 --:--:--  390k\n",
      "  % Total    % Received % Xferd  Average Speed   Time    Time     Time  Current\n",
      "                                 Dload  Upload   Total   Spent    Left  Speed\n",
      "100 9046k  100 9046k    0     0   497k      0  0:00:18  0:00:18 --:--:--  549k\n",
      "  % Total    % Received % Xferd  Average Speed   Time    Time     Time  Current\n",
      "                                 Dload  Upload   Total   Spent    Left  Speed\n",
      "100 2483k  100 2483k    0     0   436k      0  0:00:05  0:00:05 --:--:--  543k\n",
      "  % Total    % Received % Xferd  Average Speed   Time    Time     Time  Current\n",
      "                                 Dload  Upload   Total   Spent    Left  Speed\n",
      "100 9250k  100 9250k    0     0   556k      0  0:00:16  0:00:16 --:--:--  582k\n",
      "  % Total    % Received % Xferd  Average Speed   Time    Time     Time  Current\n",
      "                                 Dload  Upload   Total   Spent    Left  Speed\n",
      "100 3266k  100 3266k    0     0   467k      0  0:00:06  0:00:06 --:--:--  535k\n",
      "  % Total    % Received % Xferd  Average Speed   Time    Time     Time  Current\n",
      "                                 Dload  Upload   Total   Spent    Left  Speed\n",
      "100 6506k  100 6506k    0     0   518k      0  0:00:12  0:00:12 --:--:--  573k\n",
      "  % Total    % Received % Xferd  Average Speed   Time    Time     Time  Current\n",
      "                                 Dload  Upload   Total   Spent    Left  Speed\n",
      "100 13.9M  100 13.9M    0     0   504k      0  0:00:28  0:00:28 --:--:--  527k\n",
      "  % Total    % Received % Xferd  Average Speed   Time    Time     Time  Current\n",
      "                                 Dload  Upload   Total   Spent    Left  Speed\n",
      "100 2710k  100 2710k    0     0   475k      0  0:00:05  0:00:05 --:--:--  571k\n",
      "  % Total    % Received % Xferd  Average Speed   Time    Time     Time  Current\n",
      "                                 Dload  Upload   Total   Spent    Left  Speed\n",
      "100 8584k  100 8584k    0     0   529k      0  0:00:16  0:00:16 --:--:--  572k\n",
      "  % Total    % Received % Xferd  Average Speed   Time    Time     Time  Current\n",
      "                                 Dload  Upload   Total   Spent    Left  Speed\n",
      "100 3794k  100 3794k    0     0   486k      0  0:00:07  0:00:07 --:--:--  570k\n"
     ]
    }
   ],
   "source": [
    "for index, url in enumerate(PDF_list[:10]):\n",
    "    name = f\"file_{index}.pdf\"\n",
    "    !curl -o $name $url"
   ]
  },
  {
   "cell_type": "code",
   "execution_count": 19,
   "id": "5d630953",
   "metadata": {},
   "outputs": [
    {
     "data": {
      "text/plain": [
       "10"
      ]
     },
     "execution_count": 19,
     "metadata": {},
     "output_type": "execute_result"
    }
   ],
   "source": [
    "from pdfminer.high_level import extract_text\n",
    "c=[]\n",
    "for i in range(10):\n",
    "    text = extract_text(f'file_{i}.pdf') \n",
    "    a = text.replace('\\n', ' ')\n",
    "    b = a.replace('´', '')\n",
    "    c.append(b) \n",
    "len(c)"
   ]
  },
  {
   "cell_type": "markdown",
   "id": "cfd29404",
   "metadata": {},
   "source": [
    "- I have all the PDFs of one sub_class I want. And I know how to read pdfs from my computer.\n",
    "- The next step is find something that can save PDFs without taking space in my computer"
   ]
  },
  {
   "cell_type": "markdown",
   "id": "17f492d1",
   "metadata": {},
   "source": [
    "## List of types"
   ]
  },
  {
   "cell_type": "code",
   "execution_count": null,
   "id": "08947dd2",
   "metadata": {},
   "outputs": [],
   "source": [
    "main_topics_names = ['Physics','Mathematics'] #, 'Computer Science', 'Quantitative Biology', 'Quantitative Finance', 'Statistics', 'Electrical Engineering and Systems Science', 'Economics']\n",
    "\n",
    "Physics = {'Astrophysics': 'recent-astro-ph', \n",
    "           'Condensed Matter': 'recent-cond-mat',                                 #For each topic look for the sub_classes and their index_names\n",
    "           'General Relativity and Quantum Cosmology':'recent-gr-qc',\n",
    "           ''}\n",
    "\n",
    "Mathematics = {'Algebraic Geometry' : 'math.AG', \n",
    "               ' Algebraic Topology', 'math.AT'}"
   ]
  },
  {
   "cell_type": "markdown",
   "id": "d8320d85",
   "metadata": {},
   "source": [
    "## Create the data frame"
   ]
  },
  {
   "cell_type": "code",
   "execution_count": 23,
   "id": "1f589460",
   "metadata": {},
   "outputs": [],
   "source": [
    "import pandas as pd\n",
    "example_data = pd.DataFrame(c)\n",
    "example_data['topic'] = 'Astrophysics'\n",
    "example_data\n",
    "example_data.to_csv('example_data.csv')"
   ]
  },
  {
   "cell_type": "code",
   "execution_count": null,
   "id": "630487d1",
   "metadata": {},
   "outputs": [],
   "source": []
  },
  {
   "cell_type": "code",
   "execution_count": null,
   "id": "110fe5c9",
   "metadata": {},
   "outputs": [],
   "source": []
  },
  {
   "cell_type": "code",
   "execution_count": 5,
   "id": "d800e153",
   "metadata": {},
   "outputs": [
    {
     "name": "stdout",
     "output_type": "stream",
     "text": [
      "/home/adolfo/code/Fito-22/Proyect\r\n"
     ]
    }
   ],
   "source": [
    "!pwd"
   ]
  },
  {
   "cell_type": "code",
   "execution_count": 8,
   "id": "1f8f0b15",
   "metadata": {},
   "outputs": [
    {
     "name": "stdout",
     "output_type": "stream",
     "text": [
      "finished\n"
     ]
    }
   ],
   "source": [
    "for index, url in enumerate(PDF_list[:6]):\n",
    "    name = f\"file_{index}.pdf\"\n",
    "    !rm -r $name\n",
    "print('finished')"
   ]
  }
 ],
 "metadata": {
  "hide_input": false,
  "kernelspec": {
   "display_name": "Python 3.8.12 64-bit ('shims')",
   "language": "python",
   "name": "python3"
  },
  "language_info": {
   "codemirror_mode": {
    "name": "ipython",
    "version": 3
   },
   "file_extension": ".py",
   "mimetype": "text/x-python",
   "name": "python",
   "nbconvert_exporter": "python",
   "pygments_lexer": "ipython3",
   "version": "3.8.12"
  },
  "toc": {
   "base_numbering": 1,
   "nav_menu": {},
   "number_sections": true,
   "sideBar": true,
   "skip_h1_title": false,
   "title_cell": "Table of Contents",
   "title_sidebar": "Contents",
   "toc_cell": false,
   "toc_position": {},
   "toc_section_display": true,
   "toc_window_display": false
  },
  "vscode": {
   "interpreter": {
    "hash": "79e3cbcb12727a13c538e8f4c33487126bc93fdf98a9f8be4968948500aea80e"
   }
  }
 },
 "nbformat": 4,
 "nbformat_minor": 5
}
