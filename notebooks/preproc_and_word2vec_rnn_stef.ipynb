{
 "cells": [
  {
   "cell_type": "code",
   "execution_count": 1,
   "metadata": {},
   "outputs": [],
   "source": [
    "%load_ext autoreload\n",
    "%autoreload 2"
   ]
  },
  {
   "cell_type": "code",
   "execution_count": 89,
   "metadata": {},
   "outputs": [],
   "source": [
    "import pandas as pd\n",
    "import numpy as np\n",
    "import re\n",
    "from collections import Counter\n",
    "import matplotlib.pyplot as plt\n",
    "from sklearn.preprocessing import OneHotEncoder\n",
    "from sklearn.model_selection import train_test_split\n",
    "from nltk.tokenize import word_tokenize\n",
    "from nltk.corpus import stopwords\n",
    "from gensim.models import Word2Vec\n",
    "import gensim.downloader as api\n",
    "from sklearn.utils.class_weight import compute_class_weight\n",
    "from tensorflow.keras.preprocessing.text import Tokenizer\n",
    "from tensorflow.keras.preprocessing.sequence import pad_sequences\n",
    "from tensorflow.keras import layers, Sequential, regularizers\n",
    "from tensorflow.keras.callbacks import EarlyStopping\n",
    "from tensorflow.keras.optimizers import Adam\n",
    "from tensorflow.keras.optimizers.schedules import ExponentialDecay"
   ]
  },
  {
   "cell_type": "markdown",
   "metadata": {},
   "source": [
    "# Preprocessing, Target Engineering and RNN model with Word2Vec embedding \n",
    "### on final Data Set from OpenAlex"
   ]
  },
  {
   "cell_type": "code",
   "execution_count": 116,
   "metadata": {},
   "outputs": [
    {
     "data": {
      "text/html": [
       "<div>\n",
       "<style scoped>\n",
       "    .dataframe tbody tr th:only-of-type {\n",
       "        vertical-align: middle;\n",
       "    }\n",
       "\n",
       "    .dataframe tbody tr th {\n",
       "        vertical-align: top;\n",
       "    }\n",
       "\n",
       "    .dataframe thead th {\n",
       "        text-align: right;\n",
       "    }\n",
       "</style>\n",
       "<table border=\"1\" class=\"dataframe\">\n",
       "  <thead>\n",
       "    <tr style=\"text-align: right;\">\n",
       "      <th></th>\n",
       "      <th>id</th>\n",
       "      <th>title</th>\n",
       "      <th>text</th>\n",
       "      <th>topic</th>\n",
       "      <th>subtopic</th>\n",
       "    </tr>\n",
       "  </thead>\n",
       "  <tbody>\n",
       "    <tr>\n",
       "      <th>0</th>\n",
       "      <td>https://openalex.org/W2100716186</td>\n",
       "      <td>Large-scale screening of hypothetical metal-or...</td>\n",
       "      <td>PUBLISHED ONLINE: 6 NOVEMBER 2011 | DOI: 10.10...</td>\n",
       "      <td>Chemistry</td>\n",
       "      <td>Nanotechnology</td>\n",
       "    </tr>\n",
       "    <tr>\n",
       "      <th>1</th>\n",
       "      <td>https://openalex.org/W2109370530</td>\n",
       "      <td>Routing and wavelength assignment in all-optic...</td>\n",
       "      <td>[H+./ACM TRANSACTIONS ON NETWORKING, VO1. 3, N...</td>\n",
       "      <td>Computer science</td>\n",
       "      <td>Telecommunications</td>\n",
       "    </tr>\n",
       "    <tr>\n",
       "      <th>2</th>\n",
       "      <td>https://openalex.org/W2131625303</td>\n",
       "      <td>Potassium channel antibody-associated encephal...</td>\n",
       "      <td>DOI: 10.1093/brain/awh077  Brain (2004), 127, ...</td>\n",
       "      <td>Medicine</td>\n",
       "      <td>Pediatrics</td>\n",
       "    </tr>\n",
       "    <tr>\n",
       "      <th>3</th>\n",
       "      <td>https://openalex.org/W2131736388</td>\n",
       "      <td>MODBASE, a database of annotated comparative p...</td>\n",
       "      <td>D336–D346 Nucleic Acids Research, 2014, Vol. 4...</td>\n",
       "      <td>Computer science</td>\n",
       "      <td>Bioinformatics</td>\n",
       "    </tr>\n",
       "    <tr>\n",
       "      <th>4</th>\n",
       "      <td>https://openalex.org/W2144966005</td>\n",
       "      <td>Regional brain volume abnormalities and long-t...</td>\n",
       "      <td>ORIGINAL CONTRIBUTION  Regional Brain Volume A...</td>\n",
       "      <td>Medicine</td>\n",
       "      <td>Internal medicine</td>\n",
       "    </tr>\n",
       "  </tbody>\n",
       "</table>\n",
       "</div>"
      ],
      "text/plain": [
       "                                 id  \\\n",
       "0  https://openalex.org/W2100716186   \n",
       "1  https://openalex.org/W2109370530   \n",
       "2  https://openalex.org/W2131625303   \n",
       "3  https://openalex.org/W2131736388   \n",
       "4  https://openalex.org/W2144966005   \n",
       "\n",
       "                                               title  \\\n",
       "0  Large-scale screening of hypothetical metal-or...   \n",
       "1  Routing and wavelength assignment in all-optic...   \n",
       "2  Potassium channel antibody-associated encephal...   \n",
       "3  MODBASE, a database of annotated comparative p...   \n",
       "4  Regional brain volume abnormalities and long-t...   \n",
       "\n",
       "                                                text             topic  \\\n",
       "0  PUBLISHED ONLINE: 6 NOVEMBER 2011 | DOI: 10.10...         Chemistry   \n",
       "1  [H+./ACM TRANSACTIONS ON NETWORKING, VO1. 3, N...  Computer science   \n",
       "2  DOI: 10.1093/brain/awh077  Brain (2004), 127, ...          Medicine   \n",
       "3  D336–D346 Nucleic Acids Research, 2014, Vol. 4...  Computer science   \n",
       "4  ORIGINAL CONTRIBUTION  Regional Brain Volume A...          Medicine   \n",
       "\n",
       "             subtopic  \n",
       "0      Nanotechnology  \n",
       "1  Telecommunications  \n",
       "2          Pediatrics  \n",
       "3      Bioinformatics  \n",
       "4   Internal medicine  "
      ]
     },
     "execution_count": 116,
     "metadata": {},
     "output_type": "execute_result"
    }
   ],
   "source": [
    "# Reading Data\n",
    "data = pd.read_csv('../raw_data/data_1k.csv')\n",
    "data = data.drop(columns='Unnamed: 0')\n",
    "data.head()"
   ]
  },
  {
   "cell_type": "code",
   "execution_count": 124,
   "metadata": {},
   "outputs": [],
   "source": [
    "# Dropping duplicates\n",
    "data.drop_duplicates(subset=['id'], keep='first', inplace=True, ignore_index=True)"
   ]
  },
  {
   "cell_type": "markdown",
   "metadata": {},
   "source": [
    "#### Further data cleaning is not necessary, since we built this dataset ourselves."
   ]
  },
  {
   "cell_type": "markdown",
   "metadata": {},
   "source": [
    "## Preprocessing"
   ]
  },
  {
   "cell_type": "code",
   "execution_count": 125,
   "metadata": {},
   "outputs": [],
   "source": [
    "# Lowercasing everything\n",
    "data = data.apply(lambda x: x.astype(str).str.lower())"
   ]
  },
  {
   "cell_type": "code",
   "execution_count": 126,
   "metadata": {},
   "outputs": [],
   "source": [
    "# Removing anything apart from lower case letters \n",
    "data['text'] = data['text'].apply(lambda x: re.sub(r'[^a-z]', ' ', x))"
   ]
  },
  {
   "cell_type": "code",
   "execution_count": 127,
   "metadata": {},
   "outputs": [
    {
     "data": {
      "image/png": "[encoded data removed]",
      "text/plain": [
       "<Figure size 640x480 with 1 Axes>"
      ]
     },
     "metadata": {},
     "output_type": "display_data"
    }
   ],
   "source": [
    "# This is the distribution of the total number of words per paper\n",
    "data['total words per text'] = data['text'].apply(lambda x : len(x)) \n",
    "data['total words per text'].hist(bins=100);"
   ]
  },
  {
   "cell_type": "markdown",
   "metadata": {},
   "source": [
    "#### In terms of computational efficiency it is reasonable to scale down the number of word taken into account from every paper. Otherwise, the file wouldn't be executable.\n",
    "\n",
    "#### We will do so by creating a reduced list of tokens from the paper texts, that we will later use for word embedding. To increase the quality we will remove stopwords and singel letter words."
   ]
  },
  {
   "cell_type": "code",
   "execution_count": 128,
   "metadata": {},
   "outputs": [],
   "source": [
    "# Tokenizing\n",
    "embedding_size = 1000 # to save computational costs, we will already implement the embedding_size here\n",
    "num_of_words_to_keep = int(embedding_size*5) # adding some margin, because in spotword removal and word2vec embedding some will be removed\n",
    "\n",
    "data['modified text'] = data['text'].apply(lambda text: ' '.join(text.split()[:num_of_words_to_keep]))\n",
    "data['modified text'] = data['modified text'].apply(word_tokenize)"
   ]
  },
  {
   "cell_type": "code",
   "execution_count": 129,
   "metadata": {},
   "outputs": [],
   "source": [
    "# Removing stopwords and single letter words\n",
    "stop_words = set(stopwords.words('english'))\n",
    "\n",
    "data['modified text'] = data['modified text'].apply(lambda x: [word for word in x if not word in stop_words])\n",
    "data['modified text'] = data['modified text'].apply(lambda x: [word for word in x if len(word)>1])"
   ]
  },
  {
   "cell_type": "code",
   "execution_count": 130,
   "metadata": {},
   "outputs": [
    {
     "data": {
      "image/png": "[encoded data removed]",
      "text/plain": [
       "<Figure size 640x480 with 1 Axes>"
      ]
     },
     "metadata": {},
     "output_type": "display_data"
    }
   ],
   "source": [
    "# This is the distribution of numbers of selected tokens per paper after cutting down\n",
    "data['words per modified text'] = data['modified text'].apply(lambda x : len(x)) \n",
    "data['words per modified text'].hist(bins=100);"
   ]
  },
  {
   "cell_type": "code",
   "execution_count": 131,
   "metadata": {},
   "outputs": [
    {
     "data": {
      "text/plain": [
       "(1013, 8)"
      ]
     },
     "execution_count": 131,
     "metadata": {},
     "output_type": "execute_result"
    }
   ],
   "source": [
    "# Let's also exclude representations with less than 10 tokens\n",
    "data = data[data['words per modified text'] > 9].reset_index().drop(columns=['index'], axis=1)\n",
    "data.shape"
   ]
  },
  {
   "cell_type": "markdown",
   "metadata": {},
   "source": [
    "#### Now we will clean our data some more by reducing the samples of uncommon targets."
   ]
  },
  {
   "cell_type": "markdown",
   "metadata": {},
   "source": [
    "## Taking Care of the Targets"
   ]
  },
  {
   "cell_type": "code",
   "execution_count": 132,
   "metadata": {},
   "outputs": [
    {
     "data": {
      "text/plain": [
       "biology                  302\n",
       "medicine                 247\n",
       "chemistry                 87\n",
       "psychology                82\n",
       "computer science          78\n",
       "physics                   41\n",
       "materials science         35\n",
       "environmental science     30\n",
       "mathematics               29\n",
       "business                  21\n",
       "economics                 21\n",
       "geology                   12\n",
       "geography                  9\n",
       "sociology                  8\n",
       "engineering                6\n",
       "political science          3\n",
       "history                    2\n",
       "Name: topic, dtype: int64"
      ]
     },
     "execution_count": 132,
     "metadata": {},
     "output_type": "execute_result"
    }
   ],
   "source": [
    "# Let's check how our topics and subtopics are distributed\n",
    "data['topic'].value_counts()"
   ]
  },
  {
   "cell_type": "markdown",
   "metadata": {},
   "source": [
    "#### Topics are highly imballanced, we'll have to take care of this later."
   ]
  },
  {
   "cell_type": "code",
   "execution_count": 133,
   "metadata": {},
   "outputs": [
    {
     "data": {
      "text/plain": [
       "internal medicine             64\n",
       "cell biology                  59\n",
       "immunology                    46\n",
       "neuroscience                  46\n",
       "genetics                      44\n",
       "                              ..\n",
       "market economy                 1\n",
       "soil science                   1\n",
       "nuclear magnetic resonance     1\n",
       "international economics        1\n",
       "electronic engineering         1\n",
       "Name: subtopic, Length: 178, dtype: int64"
      ]
     },
     "execution_count": 133,
     "metadata": {},
     "output_type": "execute_result"
    }
   ],
   "source": [
    "# Now checking the counts of the subtopics\n",
    "data['subtopic'].value_counts()"
   ]
  },
  {
   "cell_type": "code",
   "execution_count": 134,
   "metadata": {},
   "outputs": [
    {
     "data": {
      "text/html": [
       "<div>\n",
       "<style scoped>\n",
       "    .dataframe tbody tr th:only-of-type {\n",
       "        vertical-align: middle;\n",
       "    }\n",
       "\n",
       "    .dataframe tbody tr th {\n",
       "        vertical-align: top;\n",
       "    }\n",
       "\n",
       "    .dataframe thead th {\n",
       "        text-align: right;\n",
       "    }\n",
       "</style>\n",
       "<table border=\"1\" class=\"dataframe\">\n",
       "  <thead>\n",
       "    <tr style=\"text-align: right;\">\n",
       "      <th></th>\n",
       "      <th></th>\n",
       "      <th>id</th>\n",
       "      <th>title</th>\n",
       "      <th>text</th>\n",
       "      <th>total words per text</th>\n",
       "      <th>modified text</th>\n",
       "      <th>words per modified text</th>\n",
       "    </tr>\n",
       "    <tr>\n",
       "      <th>topic</th>\n",
       "      <th>subtopic</th>\n",
       "      <th></th>\n",
       "      <th></th>\n",
       "      <th></th>\n",
       "      <th></th>\n",
       "      <th></th>\n",
       "      <th></th>\n",
       "    </tr>\n",
       "  </thead>\n",
       "  <tbody>\n",
       "    <tr>\n",
       "      <th rowspan=\"5\" valign=\"top\">biology</th>\n",
       "      <th>agroforestry</th>\n",
       "      <td>2</td>\n",
       "      <td>2</td>\n",
       "      <td>2</td>\n",
       "      <td>2</td>\n",
       "      <td>2</td>\n",
       "      <td>2</td>\n",
       "    </tr>\n",
       "    <tr>\n",
       "      <th>algorithm</th>\n",
       "      <td>1</td>\n",
       "      <td>1</td>\n",
       "      <td>1</td>\n",
       "      <td>1</td>\n",
       "      <td>1</td>\n",
       "      <td>1</td>\n",
       "    </tr>\n",
       "    <tr>\n",
       "      <th>anatomy</th>\n",
       "      <td>4</td>\n",
       "      <td>4</td>\n",
       "      <td>4</td>\n",
       "      <td>4</td>\n",
       "      <td>4</td>\n",
       "      <td>4</td>\n",
       "    </tr>\n",
       "    <tr>\n",
       "      <th>archaeology</th>\n",
       "      <td>1</td>\n",
       "      <td>1</td>\n",
       "      <td>1</td>\n",
       "      <td>1</td>\n",
       "      <td>1</td>\n",
       "      <td>1</td>\n",
       "    </tr>\n",
       "    <tr>\n",
       "      <th>biochemical engineering</th>\n",
       "      <td>1</td>\n",
       "      <td>1</td>\n",
       "      <td>1</td>\n",
       "      <td>1</td>\n",
       "      <td>1</td>\n",
       "      <td>1</td>\n",
       "    </tr>\n",
       "    <tr>\n",
       "      <th>...</th>\n",
       "      <th>...</th>\n",
       "      <td>...</td>\n",
       "      <td>...</td>\n",
       "      <td>...</td>\n",
       "      <td>...</td>\n",
       "      <td>...</td>\n",
       "      <td>...</td>\n",
       "    </tr>\n",
       "    <tr>\n",
       "      <th rowspan=\"5\" valign=\"top\">sociology</th>\n",
       "      <th>law and economics</th>\n",
       "      <td>1</td>\n",
       "      <td>1</td>\n",
       "      <td>1</td>\n",
       "      <td>1</td>\n",
       "      <td>1</td>\n",
       "      <td>1</td>\n",
       "    </tr>\n",
       "    <tr>\n",
       "      <th>management science</th>\n",
       "      <td>1</td>\n",
       "      <td>1</td>\n",
       "      <td>1</td>\n",
       "      <td>1</td>\n",
       "      <td>1</td>\n",
       "      <td>1</td>\n",
       "    </tr>\n",
       "    <tr>\n",
       "      <th>public relations</th>\n",
       "      <td>1</td>\n",
       "      <td>1</td>\n",
       "      <td>1</td>\n",
       "      <td>1</td>\n",
       "      <td>1</td>\n",
       "      <td>1</td>\n",
       "    </tr>\n",
       "    <tr>\n",
       "      <th>social psychology</th>\n",
       "      <td>1</td>\n",
       "      <td>1</td>\n",
       "      <td>1</td>\n",
       "      <td>1</td>\n",
       "      <td>1</td>\n",
       "      <td>1</td>\n",
       "    </tr>\n",
       "    <tr>\n",
       "      <th>social science</th>\n",
       "      <td>2</td>\n",
       "      <td>2</td>\n",
       "      <td>2</td>\n",
       "      <td>2</td>\n",
       "      <td>2</td>\n",
       "      <td>2</td>\n",
       "    </tr>\n",
       "  </tbody>\n",
       "</table>\n",
       "<p>324 rows × 6 columns</p>\n",
       "</div>"
      ],
      "text/plain": [
       "                                   id  title  text  total words per text  \\\n",
       "topic     subtopic                                                         \n",
       "biology   agroforestry              2      2     2                     2   \n",
       "          algorithm                 1      1     1                     1   \n",
       "          anatomy                   4      4     4                     4   \n",
       "          archaeology               1      1     1                     1   \n",
       "          biochemical engineering   1      1     1                     1   \n",
       "...                                ..    ...   ...                   ...   \n",
       "sociology law and economics         1      1     1                     1   \n",
       "          management science        1      1     1                     1   \n",
       "          public relations          1      1     1                     1   \n",
       "          social psychology         1      1     1                     1   \n",
       "          social science            2      2     2                     2   \n",
       "\n",
       "                                   modified text  words per modified text  \n",
       "topic     subtopic                                                         \n",
       "biology   agroforestry                         2                        2  \n",
       "          algorithm                            1                        1  \n",
       "          anatomy                              4                        4  \n",
       "          archaeology                          1                        1  \n",
       "          biochemical engineering              1                        1  \n",
       "...                                          ...                      ...  \n",
       "sociology law and economics                    1                        1  \n",
       "          management science                   1                        1  \n",
       "          public relations                     1                        1  \n",
       "          social psychology                    1                        1  \n",
       "          social science                       2                        2  \n",
       "\n",
       "[324 rows x 6 columns]"
      ]
     },
     "execution_count": 134,
     "metadata": {},
     "output_type": "execute_result"
    }
   ],
   "source": [
    "# Inspecting the relationship between topics and subtopics\n",
    "data.groupby(by=['topic', 'subtopic']).count()"
   ]
  },
  {
   "cell_type": "code",
   "execution_count": 135,
   "metadata": {},
   "outputs": [
    {
     "name": "stdout",
     "output_type": "stream",
     "text": [
      "Since the number of subtopics is 178 and the number subtopics grouped by their topics increases to 324, we can deduce, that we have subtopics, that belong to several academic fields.\n"
     ]
    }
   ],
   "source": [
    "# Remark on the subtopics\n",
    "num_subtopics = len(data['subtopic'].value_counts())\n",
    "num_subtopics_grouped_by_topics = len(data.groupby(by=['topic', 'subtopic']).count())\n",
    "\n",
    "print(f'Since the number of subtopics is {num_subtopics} and the number subtopics grouped by their topics increases to {num_subtopics_grouped_by_topics}, we can deduce, that we have subtopics, that belong to several academic fields.')"
   ]
  },
  {
   "cell_type": "markdown",
   "metadata": {},
   "source": [
    "#### Which are these? And how common are those multiclass subtopics?"
   ]
  },
  {
   "cell_type": "code",
   "execution_count": 136,
   "metadata": {},
   "outputs": [],
   "source": [
    "# Getting the subtopics that are attributed to several topics\n",
    "def finding_multiassigned_subtopics():\n",
    "    list_of_multiclass_subtopics = []\n",
    "    for i in range(len(data.groupby(by=['subtopic', 'topic']).count())-1):\n",
    "        if (data.groupby(by=['subtopic', 'topic']).count().index[i][0] == \\\n",
    "            data.groupby(by=['subtopic', 'topic']).count().index[i+1][0]):\n",
    "            list_of_multiclass_subtopics.append(data.groupby(by=['subtopic', 'topic']).count().index[i])\n",
    "            list_of_multiclass_subtopics.append(data.groupby(by=['subtopic', 'topic']).count().index[i+1])\n",
    "\n",
    "    return list(set(list_of_multiclass_subtopics))"
   ]
  },
  {
   "cell_type": "code",
   "execution_count": 137,
   "metadata": {},
   "outputs": [
    {
     "data": {
      "text/html": [
       "<div>\n",
       "<style scoped>\n",
       "    .dataframe tbody tr th:only-of-type {\n",
       "        vertical-align: middle;\n",
       "    }\n",
       "\n",
       "    .dataframe tbody tr th {\n",
       "        vertical-align: top;\n",
       "    }\n",
       "\n",
       "    .dataframe thead th {\n",
       "        text-align: right;\n",
       "    }\n",
       "</style>\n",
       "<table border=\"1\" class=\"dataframe\">\n",
       "  <thead>\n",
       "    <tr style=\"text-align: right;\">\n",
       "      <th></th>\n",
       "      <th>id</th>\n",
       "      <th>title</th>\n",
       "      <th>text</th>\n",
       "      <th>topic</th>\n",
       "      <th>total words per text</th>\n",
       "      <th>modified text</th>\n",
       "      <th>words per modified text</th>\n",
       "    </tr>\n",
       "    <tr>\n",
       "      <th>subtopic</th>\n",
       "      <th></th>\n",
       "      <th></th>\n",
       "      <th></th>\n",
       "      <th></th>\n",
       "      <th></th>\n",
       "      <th></th>\n",
       "      <th></th>\n",
       "    </tr>\n",
       "  </thead>\n",
       "  <tbody>\n",
       "    <tr>\n",
       "      <th>internal medicine</th>\n",
       "      <td>64</td>\n",
       "      <td>64</td>\n",
       "      <td>64</td>\n",
       "      <td>64</td>\n",
       "      <td>64</td>\n",
       "      <td>64</td>\n",
       "      <td>64</td>\n",
       "    </tr>\n",
       "    <tr>\n",
       "      <th>cell biology</th>\n",
       "      <td>59</td>\n",
       "      <td>59</td>\n",
       "      <td>59</td>\n",
       "      <td>59</td>\n",
       "      <td>59</td>\n",
       "      <td>59</td>\n",
       "      <td>59</td>\n",
       "    </tr>\n",
       "    <tr>\n",
       "      <th>neuroscience</th>\n",
       "      <td>46</td>\n",
       "      <td>46</td>\n",
       "      <td>46</td>\n",
       "      <td>46</td>\n",
       "      <td>46</td>\n",
       "      <td>46</td>\n",
       "      <td>46</td>\n",
       "    </tr>\n",
       "    <tr>\n",
       "      <th>immunology</th>\n",
       "      <td>46</td>\n",
       "      <td>46</td>\n",
       "      <td>46</td>\n",
       "      <td>46</td>\n",
       "      <td>46</td>\n",
       "      <td>46</td>\n",
       "      <td>46</td>\n",
       "    </tr>\n",
       "    <tr>\n",
       "      <th>genetics</th>\n",
       "      <td>44</td>\n",
       "      <td>44</td>\n",
       "      <td>44</td>\n",
       "      <td>44</td>\n",
       "      <td>44</td>\n",
       "      <td>44</td>\n",
       "      <td>44</td>\n",
       "    </tr>\n",
       "    <tr>\n",
       "      <th>...</th>\n",
       "      <td>...</td>\n",
       "      <td>...</td>\n",
       "      <td>...</td>\n",
       "      <td>...</td>\n",
       "      <td>...</td>\n",
       "      <td>...</td>\n",
       "      <td>...</td>\n",
       "    </tr>\n",
       "    <tr>\n",
       "      <th>nuclear chemistry</th>\n",
       "      <td>2</td>\n",
       "      <td>2</td>\n",
       "      <td>2</td>\n",
       "      <td>2</td>\n",
       "      <td>2</td>\n",
       "      <td>2</td>\n",
       "      <td>2</td>\n",
       "    </tr>\n",
       "    <tr>\n",
       "      <th>inorganic chemistry</th>\n",
       "      <td>2</td>\n",
       "      <td>2</td>\n",
       "      <td>2</td>\n",
       "      <td>2</td>\n",
       "      <td>2</td>\n",
       "      <td>2</td>\n",
       "      <td>2</td>\n",
       "    </tr>\n",
       "    <tr>\n",
       "      <th>monetary economics</th>\n",
       "      <td>2</td>\n",
       "      <td>2</td>\n",
       "      <td>2</td>\n",
       "      <td>2</td>\n",
       "      <td>2</td>\n",
       "      <td>2</td>\n",
       "      <td>2</td>\n",
       "    </tr>\n",
       "    <tr>\n",
       "      <th>internet privacy</th>\n",
       "      <td>2</td>\n",
       "      <td>2</td>\n",
       "      <td>2</td>\n",
       "      <td>2</td>\n",
       "      <td>2</td>\n",
       "      <td>2</td>\n",
       "      <td>2</td>\n",
       "    </tr>\n",
       "    <tr>\n",
       "      <th>advertising</th>\n",
       "      <td>2</td>\n",
       "      <td>2</td>\n",
       "      <td>2</td>\n",
       "      <td>2</td>\n",
       "      <td>2</td>\n",
       "      <td>2</td>\n",
       "      <td>2</td>\n",
       "    </tr>\n",
       "  </tbody>\n",
       "</table>\n",
       "<p>89 rows × 7 columns</p>\n",
       "</div>"
      ],
      "text/plain": [
       "                     id  title  text  topic  total words per text  \\\n",
       "subtopic                                                            \n",
       "internal medicine    64     64    64     64                    64   \n",
       "cell biology         59     59    59     59                    59   \n",
       "neuroscience         46     46    46     46                    46   \n",
       "immunology           46     46    46     46                    46   \n",
       "genetics             44     44    44     44                    44   \n",
       "...                  ..    ...   ...    ...                   ...   \n",
       "nuclear chemistry     2      2     2      2                     2   \n",
       "inorganic chemistry   2      2     2      2                     2   \n",
       "monetary economics    2      2     2      2                     2   \n",
       "internet privacy      2      2     2      2                     2   \n",
       "advertising           2      2     2      2                     2   \n",
       "\n",
       "                     modified text  words per modified text  \n",
       "subtopic                                                     \n",
       "internal medicine               64                       64  \n",
       "cell biology                    59                       59  \n",
       "neuroscience                    46                       46  \n",
       "immunology                      46                       46  \n",
       "genetics                        44                       44  \n",
       "...                            ...                      ...  \n",
       "nuclear chemistry                2                        2  \n",
       "inorganic chemistry              2                        2  \n",
       "monetary economics               2                        2  \n",
       "internet privacy                 2                        2  \n",
       "advertising                      2                        2  \n",
       "\n",
       "[89 rows x 7 columns]"
      ]
     },
     "execution_count": 137,
     "metadata": {},
     "output_type": "execute_result"
    }
   ],
   "source": [
    "# Which multiclass assigned subtopics are the most common ones?\n",
    "multiclass_subtopics = finding_multiassigned_subtopics()\n",
    "\n",
    "df = pd.DataFrame()\n",
    "for i in range(len(multiclass_subtopics)):\n",
    "    extracted_data = (data[(data['subtopic'] == multiclass_subtopics[i][0]) & (data['topic'] == multiclass_subtopics[i][1])])\n",
    "    extracted_data_old = df\n",
    "    df = pd.concat([extracted_data_old, extracted_data], ignore_index=True)\n",
    "df = df.sort_values(by='subtopic')\n",
    "\n",
    "df.groupby(by=\"subtopic\").count().sort_values(by='id', ascending=False)"
   ]
  },
  {
   "cell_type": "markdown",
   "metadata": {},
   "source": [
    "#### We can see that some interdisciplinary subtopics (those with high transfer potential) tend to live in several academic fields."
   ]
  },
  {
   "cell_type": "code",
   "execution_count": 138,
   "metadata": {},
   "outputs": [
    {
     "data": {
      "text/plain": [
       "biology             43\n",
       "chemistry           14\n",
       "computer science     1\n",
       "medicine             1\n",
       "Name: topic, dtype: int64"
      ]
     },
     "execution_count": 138,
     "metadata": {},
     "output_type": "execute_result"
    }
   ],
   "source": [
    "# example subtopic 'cell biology' \n",
    "df[df['subtopic'] == 'cell biology']['topic'].value_counts()"
   ]
  },
  {
   "cell_type": "markdown",
   "metadata": {},
   "source": [
    "### Getting rid of rare topics and subtopics"
   ]
  },
  {
   "cell_type": "code",
   "execution_count": 139,
   "metadata": {},
   "outputs": [
    {
     "data": {
      "text/plain": [
       "Index(['biology', 'medicine', 'chemistry', 'psychology', 'computer science',\n",
       "       'physics', 'materials science', 'environmental science', 'mathematics',\n",
       "       'business', 'economics', 'geology'],\n",
       "      dtype='object')"
      ]
     },
     "execution_count": 139,
     "metadata": {},
     "output_type": "execute_result"
    }
   ],
   "source": [
    "# Filtering for those topics that appear more commonly in our data        <----- percentile should maybe be adjusted\n",
    "common_topics = (data['topic'].value_counts() > np.percentile(data['topic'].value_counts(), 25)) # topics until 25th percentile\n",
    "filtered_topics = common_topics[common_topics == True].index\n",
    "filtered_topics"
   ]
  },
  {
   "cell_type": "code",
   "execution_count": 140,
   "metadata": {},
   "outputs": [
    {
     "data": {
      "text/plain": [
       "Index(['internal medicine', 'cell biology', 'immunology', 'neuroscience',\n",
       "       'genetics', 'molecular biology', 'computational biology',\n",
       "       'biochemistry', 'cancer research', 'nanotechnology', 'endocrinology',\n",
       "       'gerontology', 'ecology', 'cardiology', 'psychiatry', 'surgery',\n",
       "       'bioinformatics', 'biophysics', 'clinical psychology', 'pharmacology',\n",
       "       'physical therapy', 'pathology', 'social psychology', 'microbiology',\n",
       "       'astronomy', 'cognitive psychology', 'botany',\n",
       "       'developmental psychology', 'demography', 'data science', 'anatomy',\n",
       "       'chemical engineering', 'gynecology', 'artificial intelligence',\n",
       "       'statistics', 'quantum mechanics', 'evolutionary biology',\n",
       "       'family medicine', 'virology', 'pure mathematics', 'computer vision',\n",
       "       'pediatrics', 'chemical physics', 'environmental resource management',\n",
       "       'algorithm', 'intensive care medicine'],\n",
       "      dtype='object')"
      ]
     },
     "execution_count": 140,
     "metadata": {},
     "output_type": "execute_result"
    }
   ],
   "source": [
    "# Filtering for those subtopics that appear more commonly in our data     <----- should maybe be adjusted\n",
    "common_subtopics = (data['subtopic'].value_counts() > data['subtopic'].value_counts().mean())\n",
    "filtered_subtopics = common_subtopics[common_subtopics == True].index\n",
    "filtered_subtopics"
   ]
  },
  {
   "cell_type": "code",
   "execution_count": 141,
   "metadata": {},
   "outputs": [
    {
     "data": {
      "text/plain": [
       "(723, 8)"
      ]
     },
     "execution_count": 141,
     "metadata": {},
     "output_type": "execute_result"
    }
   ],
   "source": [
    "# Filtering data according to the topics and subtopics that are more common\n",
    "data = data[data['subtopic'].isin(list(filtered_subtopics)) & data['topic'].isin(list(filtered_topics))]\n",
    "data.shape"
   ]
  },
  {
   "cell_type": "code",
   "execution_count": 142,
   "metadata": {},
   "outputs": [
    {
     "data": {
      "image/png": "[encoded data removed]",
      "text/plain": [
       "<Figure size 1500x500 with 1 Axes>"
      ]
     },
     "metadata": {},
     "output_type": "display_data"
    }
   ],
   "source": [
    "# The remaining topics and the subtopics are distributed as such:\n",
    "plt.figure(figsize=(15, 5))\n",
    "plt.hist(data['topic'], bins=data['topic'].nunique())\n",
    "plt.hist(data['subtopic'], bins=data['subtopic'].nunique())\n",
    "plt.xticks(rotation = 90)\n",
    "plt.show()"
   ]
  },
  {
   "cell_type": "code",
   "execution_count": 143,
   "metadata": {},
   "outputs": [
    {
     "name": "stdout",
     "output_type": "stream",
     "text": [
      "Counter({'biology': 281, 'medicine': 202, 'chemistry': 70, 'psychology': 67, 'computer science': 33, 'materials science': 22, 'physics': 19, 'mathematics': 16, 'environmental science': 7, 'business': 5, 'economics': 1})\n"
     ]
    }
   ],
   "source": [
    "# Printing precise number of occurances for each topic\n",
    "print(Counter(data['topic']))"
   ]
  },
  {
   "cell_type": "markdown",
   "metadata": {},
   "source": [
    "#### The topics and subtopics are highly imbalanced still. They are our targets!!! So, we need to rebalance them (in the training set only) once we made our train-test.split.\n",
    "\n",
    "#### Before though, based on this new shape of the dataframe, we will create word embeddings with Word2Vec!"
   ]
  },
  {
   "cell_type": "markdown",
   "metadata": {},
   "source": [
    "### Word2Vec embedding of the text of the scientific papers"
   ]
  },
  {
   "cell_type": "code",
   "execution_count": 144,
   "metadata": {},
   "outputs": [
    {
     "name": "stdout",
     "output_type": "stream",
     "text": [
      "Vocabulary size 400000\n"
     ]
    }
   ],
   "source": [
    "# Downloading a pre-trained model, based on a 50 space vector representation from Wikipedia\n",
    "word2vec_transfer = api.load(\"glove-wiki-gigaword-50\")\n",
    "word2vec_transfer['saturn'].shape # checking the shape of the vectors: (50, )\n",
    "print('Vocabulary size', len(word2vec_transfer))"
   ]
  },
  {
   "cell_type": "code",
   "execution_count": 145,
   "metadata": {},
   "outputs": [],
   "source": [
    "# Function to convert a paper (list of words) into a matrix representing the words in the embedding space\n",
    "def embed_paper(word2vec_space, paper):\n",
    "    embedded_paper = []\n",
    "    for word in paper:\n",
    "        if word in word2vec_space:\n",
    "            embedded_paper.append(word2vec_space[word])\n",
    "        \n",
    "    return np.array(embedded_paper)"
   ]
  },
  {
   "cell_type": "code",
   "execution_count": 146,
   "metadata": {},
   "outputs": [
    {
     "data": {
      "text/plain": [
       "(2849, 50)"
      ]
     },
     "execution_count": 146,
     "metadata": {},
     "output_type": "execute_result"
    }
   ],
   "source": [
    "# Testing the function\n",
    "test_sentence_embedded = embed_paper(word2vec_transfer, data['modified text'][0])\n",
    "test_sentence_embedded.shape # some words have been skipped, because certainly they weren't contained in the glove-wiki-gigaword-50 representation"
   ]
  },
  {
   "cell_type": "code",
   "execution_count": 147,
   "metadata": {},
   "outputs": [],
   "source": [
    "# Function to convert a list of papers into a list of matrices\n",
    "def embedding(word2vec_space, series_of_papers):\n",
    "    embed = []\n",
    "    \n",
    "    for ele in series_of_papers:\n",
    "        embedded_article = embed_paper(word2vec_space, ele)\n",
    "        embed.append(embedded_article)\n",
    "        \n",
    "    return embed"
   ]
  },
  {
   "cell_type": "code",
   "execution_count": 148,
   "metadata": {},
   "outputs": [
    {
     "data": {
      "text/html": [
       "<div>\n",
       "<style scoped>\n",
       "    .dataframe tbody tr th:only-of-type {\n",
       "        vertical-align: middle;\n",
       "    }\n",
       "\n",
       "    .dataframe tbody tr th {\n",
       "        vertical-align: top;\n",
       "    }\n",
       "\n",
       "    .dataframe thead th {\n",
       "        text-align: right;\n",
       "    }\n",
       "</style>\n",
       "<table border=\"1\" class=\"dataframe\">\n",
       "  <thead>\n",
       "    <tr style=\"text-align: right;\">\n",
       "      <th></th>\n",
       "      <th>id</th>\n",
       "      <th>title</th>\n",
       "      <th>text</th>\n",
       "      <th>topic</th>\n",
       "      <th>subtopic</th>\n",
       "      <th>total words per text</th>\n",
       "      <th>modified text</th>\n",
       "      <th>words per modified text</th>\n",
       "      <th>embedded text</th>\n",
       "    </tr>\n",
       "  </thead>\n",
       "  <tbody>\n",
       "    <tr>\n",
       "      <th>0</th>\n",
       "      <td>https://openalex.org/w2100716186</td>\n",
       "      <td>large-scale screening of hypothetical metal-or...</td>\n",
       "      <td>published online    november        doi       ...</td>\n",
       "      <td>chemistry</td>\n",
       "      <td>nanotechnology</td>\n",
       "      <td>38698</td>\n",
       "      <td>[published, online, november, doi, nchem, arti...</td>\n",
       "      <td>2973</td>\n",
       "      <td>[[-0.066601, 0.59438, -0.68071, -0.57313, -0.4...</td>\n",
       "    </tr>\n",
       "    <tr>\n",
       "      <th>2</th>\n",
       "      <td>https://openalex.org/w2131625303</td>\n",
       "      <td>potassium channel antibody-associated encephal...</td>\n",
       "      <td>doi          brain awh     brain              ...</td>\n",
       "      <td>medicine</td>\n",
       "      <td>pediatrics</td>\n",
       "      <td>59290</td>\n",
       "      <td>[doi, brain, awh, brain, potassium, channel, a...</td>\n",
       "      <td>2944</td>\n",
       "      <td>[[-0.65238, 0.048755, 1.0263, 0.93965, -1.4769...</td>\n",
       "    </tr>\n",
       "    <tr>\n",
       "      <th>3</th>\n",
       "      <td>https://openalex.org/w2131736388</td>\n",
       "      <td>modbase, a database of annotated comparative p...</td>\n",
       "      <td>d    d    nucleic acids research        vol   ...</td>\n",
       "      <td>computer science</td>\n",
       "      <td>bioinformatics</td>\n",
       "      <td>61704</td>\n",
       "      <td>[nucleic, acids, research, vol, database, issu...</td>\n",
       "      <td>3100</td>\n",
       "      <td>[[1.2364, -0.90471, -0.41702, -0.064745, 0.273...</td>\n",
       "    </tr>\n",
       "    <tr>\n",
       "      <th>4</th>\n",
       "      <td>https://openalex.org/w2144966005</td>\n",
       "      <td>regional brain volume abnormalities and long-t...</td>\n",
       "      <td>original contribution  regional brain volume a...</td>\n",
       "      <td>medicine</td>\n",
       "      <td>internal medicine</td>\n",
       "      <td>50244</td>\n",
       "      <td>[original, contribution, regional, brain, volu...</td>\n",
       "      <td>3296</td>\n",
       "      <td>[[0.36584, 0.47422, -0.26492, -0.11875, 0.1736...</td>\n",
       "    </tr>\n",
       "    <tr>\n",
       "      <th>5</th>\n",
       "      <td>https://openalex.org/w2165253681</td>\n",
       "      <td>the intact molecular interaction database in 2012</td>\n",
       "      <td>published online    november       nucleic aci...</td>\n",
       "      <td>biology</td>\n",
       "      <td>computational biology</td>\n",
       "      <td>29340</td>\n",
       "      <td>[published, online, november, nucleic, acids, ...</td>\n",
       "      <td>2612</td>\n",
       "      <td>[[-0.066601, 0.59438, -0.68071, -0.57313, -0.4...</td>\n",
       "    </tr>\n",
       "  </tbody>\n",
       "</table>\n",
       "</div>"
      ],
      "text/plain": [
       "                                 id  \\\n",
       "0  https://openalex.org/w2100716186   \n",
       "2  https://openalex.org/w2131625303   \n",
       "3  https://openalex.org/w2131736388   \n",
       "4  https://openalex.org/w2144966005   \n",
       "5  https://openalex.org/w2165253681   \n",
       "\n",
       "                                               title  \\\n",
       "0  large-scale screening of hypothetical metal-or...   \n",
       "2  potassium channel antibody-associated encephal...   \n",
       "3  modbase, a database of annotated comparative p...   \n",
       "4  regional brain volume abnormalities and long-t...   \n",
       "5  the intact molecular interaction database in 2012   \n",
       "\n",
       "                                                text             topic  \\\n",
       "0  published online    november        doi       ...         chemistry   \n",
       "2  doi          brain awh     brain              ...          medicine   \n",
       "3  d    d    nucleic acids research        vol   ...  computer science   \n",
       "4  original contribution  regional brain volume a...          medicine   \n",
       "5  published online    november       nucleic aci...           biology   \n",
       "\n",
       "                subtopic  total words per text  \\\n",
       "0         nanotechnology                 38698   \n",
       "2             pediatrics                 59290   \n",
       "3         bioinformatics                 61704   \n",
       "4      internal medicine                 50244   \n",
       "5  computational biology                 29340   \n",
       "\n",
       "                                       modified text  words per modified text  \\\n",
       "0  [published, online, november, doi, nchem, arti...                     2973   \n",
       "2  [doi, brain, awh, brain, potassium, channel, a...                     2944   \n",
       "3  [nucleic, acids, research, vol, database, issu...                     3100   \n",
       "4  [original, contribution, regional, brain, volu...                     3296   \n",
       "5  [published, online, november, nucleic, acids, ...                     2612   \n",
       "\n",
       "                                       embedded text  \n",
       "0  [[-0.066601, 0.59438, -0.68071, -0.57313, -0.4...  \n",
       "2  [[-0.65238, 0.048755, 1.0263, 0.93965, -1.4769...  \n",
       "3  [[1.2364, -0.90471, -0.41702, -0.064745, 0.273...  \n",
       "4  [[0.36584, 0.47422, -0.26492, -0.11875, 0.1736...  \n",
       "5  [[-0.066601, 0.59438, -0.68071, -0.57313, -0.4...  "
      ]
     },
     "execution_count": 148,
     "metadata": {},
     "output_type": "execute_result"
    }
   ],
   "source": [
    "# Adding a column with embedded words from the papers into data frame\n",
    "series_embedded = embedding(word2vec_transfer, data['modified text'])\n",
    "data['embedded text'] = series_embedded\n",
    "data.head()"
   ]
  },
  {
   "cell_type": "code",
   "execution_count": 149,
   "metadata": {},
   "outputs": [
    {
     "name": "stdout",
     "output_type": "stream",
     "text": [
      "The embedding_size we had defined above is: 1000\n"
     ]
    }
   ],
   "source": [
    "# Padding all the embedded words\n",
    "print(f'The embedding_size we had defined above is: {embedding_size}')\n",
    "X_pad = pad_sequences(series_embedded, dtype='float32', padding='post', value=0, maxlen=embedding_size)"
   ]
  },
  {
   "cell_type": "markdown",
   "metadata": {},
   "source": [
    "### OneHot Encoding Targets"
   ]
  },
  {
   "cell_type": "code",
   "execution_count": 150,
   "metadata": {},
   "outputs": [
    {
     "data": {
      "text/html": [
       "<div>\n",
       "<style scoped>\n",
       "    .dataframe tbody tr th:only-of-type {\n",
       "        vertical-align: middle;\n",
       "    }\n",
       "\n",
       "    .dataframe tbody tr th {\n",
       "        vertical-align: top;\n",
       "    }\n",
       "\n",
       "    .dataframe thead th {\n",
       "        text-align: right;\n",
       "    }\n",
       "</style>\n",
       "<table border=\"1\" class=\"dataframe\">\n",
       "  <thead>\n",
       "    <tr style=\"text-align: right;\">\n",
       "      <th></th>\n",
       "      <th>topic_biology</th>\n",
       "      <th>topic_business</th>\n",
       "      <th>topic_chemistry</th>\n",
       "      <th>topic_computer science</th>\n",
       "      <th>topic_economics</th>\n",
       "      <th>topic_environmental science</th>\n",
       "      <th>topic_materials science</th>\n",
       "      <th>topic_mathematics</th>\n",
       "      <th>topic_medicine</th>\n",
       "      <th>topic_physics</th>\n",
       "      <th>topic_psychology</th>\n",
       "    </tr>\n",
       "  </thead>\n",
       "  <tbody>\n",
       "    <tr>\n",
       "      <th>0</th>\n",
       "      <td>0.0</td>\n",
       "      <td>0.0</td>\n",
       "      <td>1.0</td>\n",
       "      <td>0.0</td>\n",
       "      <td>0.0</td>\n",
       "      <td>0.0</td>\n",
       "      <td>0.0</td>\n",
       "      <td>0.0</td>\n",
       "      <td>0.0</td>\n",
       "      <td>0.0</td>\n",
       "      <td>0.0</td>\n",
       "    </tr>\n",
       "    <tr>\n",
       "      <th>1</th>\n",
       "      <td>0.0</td>\n",
       "      <td>0.0</td>\n",
       "      <td>0.0</td>\n",
       "      <td>0.0</td>\n",
       "      <td>0.0</td>\n",
       "      <td>0.0</td>\n",
       "      <td>0.0</td>\n",
       "      <td>0.0</td>\n",
       "      <td>1.0</td>\n",
       "      <td>0.0</td>\n",
       "      <td>0.0</td>\n",
       "    </tr>\n",
       "    <tr>\n",
       "      <th>2</th>\n",
       "      <td>0.0</td>\n",
       "      <td>0.0</td>\n",
       "      <td>0.0</td>\n",
       "      <td>1.0</td>\n",
       "      <td>0.0</td>\n",
       "      <td>0.0</td>\n",
       "      <td>0.0</td>\n",
       "      <td>0.0</td>\n",
       "      <td>0.0</td>\n",
       "      <td>0.0</td>\n",
       "      <td>0.0</td>\n",
       "    </tr>\n",
       "    <tr>\n",
       "      <th>3</th>\n",
       "      <td>0.0</td>\n",
       "      <td>0.0</td>\n",
       "      <td>0.0</td>\n",
       "      <td>0.0</td>\n",
       "      <td>0.0</td>\n",
       "      <td>0.0</td>\n",
       "      <td>0.0</td>\n",
       "      <td>0.0</td>\n",
       "      <td>1.0</td>\n",
       "      <td>0.0</td>\n",
       "      <td>0.0</td>\n",
       "    </tr>\n",
       "    <tr>\n",
       "      <th>4</th>\n",
       "      <td>1.0</td>\n",
       "      <td>0.0</td>\n",
       "      <td>0.0</td>\n",
       "      <td>0.0</td>\n",
       "      <td>0.0</td>\n",
       "      <td>0.0</td>\n",
       "      <td>0.0</td>\n",
       "      <td>0.0</td>\n",
       "      <td>0.0</td>\n",
       "      <td>0.0</td>\n",
       "      <td>0.0</td>\n",
       "    </tr>\n",
       "    <tr>\n",
       "      <th>...</th>\n",
       "      <td>...</td>\n",
       "      <td>...</td>\n",
       "      <td>...</td>\n",
       "      <td>...</td>\n",
       "      <td>...</td>\n",
       "      <td>...</td>\n",
       "      <td>...</td>\n",
       "      <td>...</td>\n",
       "      <td>...</td>\n",
       "      <td>...</td>\n",
       "      <td>...</td>\n",
       "    </tr>\n",
       "    <tr>\n",
       "      <th>718</th>\n",
       "      <td>1.0</td>\n",
       "      <td>0.0</td>\n",
       "      <td>0.0</td>\n",
       "      <td>0.0</td>\n",
       "      <td>0.0</td>\n",
       "      <td>0.0</td>\n",
       "      <td>0.0</td>\n",
       "      <td>0.0</td>\n",
       "      <td>0.0</td>\n",
       "      <td>0.0</td>\n",
       "      <td>0.0</td>\n",
       "    </tr>\n",
       "    <tr>\n",
       "      <th>719</th>\n",
       "      <td>0.0</td>\n",
       "      <td>0.0</td>\n",
       "      <td>0.0</td>\n",
       "      <td>1.0</td>\n",
       "      <td>0.0</td>\n",
       "      <td>0.0</td>\n",
       "      <td>0.0</td>\n",
       "      <td>0.0</td>\n",
       "      <td>0.0</td>\n",
       "      <td>0.0</td>\n",
       "      <td>0.0</td>\n",
       "    </tr>\n",
       "    <tr>\n",
       "      <th>720</th>\n",
       "      <td>0.0</td>\n",
       "      <td>0.0</td>\n",
       "      <td>0.0</td>\n",
       "      <td>0.0</td>\n",
       "      <td>0.0</td>\n",
       "      <td>0.0</td>\n",
       "      <td>0.0</td>\n",
       "      <td>0.0</td>\n",
       "      <td>1.0</td>\n",
       "      <td>0.0</td>\n",
       "      <td>0.0</td>\n",
       "    </tr>\n",
       "    <tr>\n",
       "      <th>721</th>\n",
       "      <td>0.0</td>\n",
       "      <td>0.0</td>\n",
       "      <td>0.0</td>\n",
       "      <td>0.0</td>\n",
       "      <td>0.0</td>\n",
       "      <td>0.0</td>\n",
       "      <td>0.0</td>\n",
       "      <td>0.0</td>\n",
       "      <td>1.0</td>\n",
       "      <td>0.0</td>\n",
       "      <td>0.0</td>\n",
       "    </tr>\n",
       "    <tr>\n",
       "      <th>722</th>\n",
       "      <td>1.0</td>\n",
       "      <td>0.0</td>\n",
       "      <td>0.0</td>\n",
       "      <td>0.0</td>\n",
       "      <td>0.0</td>\n",
       "      <td>0.0</td>\n",
       "      <td>0.0</td>\n",
       "      <td>0.0</td>\n",
       "      <td>0.0</td>\n",
       "      <td>0.0</td>\n",
       "      <td>0.0</td>\n",
       "    </tr>\n",
       "  </tbody>\n",
       "</table>\n",
       "<p>723 rows × 11 columns</p>\n",
       "</div>"
      ],
      "text/plain": [
       "     topic_biology  topic_business  topic_chemistry  topic_computer science  \\\n",
       "0              0.0             0.0              1.0                     0.0   \n",
       "1              0.0             0.0              0.0                     0.0   \n",
       "2              0.0             0.0              0.0                     1.0   \n",
       "3              0.0             0.0              0.0                     0.0   \n",
       "4              1.0             0.0              0.0                     0.0   \n",
       "..             ...             ...              ...                     ...   \n",
       "718            1.0             0.0              0.0                     0.0   \n",
       "719            0.0             0.0              0.0                     1.0   \n",
       "720            0.0             0.0              0.0                     0.0   \n",
       "721            0.0             0.0              0.0                     0.0   \n",
       "722            1.0             0.0              0.0                     0.0   \n",
       "\n",
       "     topic_economics  topic_environmental science  topic_materials science  \\\n",
       "0                0.0                          0.0                      0.0   \n",
       "1                0.0                          0.0                      0.0   \n",
       "2                0.0                          0.0                      0.0   \n",
       "3                0.0                          0.0                      0.0   \n",
       "4                0.0                          0.0                      0.0   \n",
       "..               ...                          ...                      ...   \n",
       "718              0.0                          0.0                      0.0   \n",
       "719              0.0                          0.0                      0.0   \n",
       "720              0.0                          0.0                      0.0   \n",
       "721              0.0                          0.0                      0.0   \n",
       "722              0.0                          0.0                      0.0   \n",
       "\n",
       "     topic_mathematics  topic_medicine  topic_physics  topic_psychology  \n",
       "0                  0.0             0.0            0.0               0.0  \n",
       "1                  0.0             1.0            0.0               0.0  \n",
       "2                  0.0             0.0            0.0               0.0  \n",
       "3                  0.0             1.0            0.0               0.0  \n",
       "4                  0.0             0.0            0.0               0.0  \n",
       "..                 ...             ...            ...               ...  \n",
       "718                0.0             0.0            0.0               0.0  \n",
       "719                0.0             0.0            0.0               0.0  \n",
       "720                0.0             1.0            0.0               0.0  \n",
       "721                0.0             1.0            0.0               0.0  \n",
       "722                0.0             0.0            0.0               0.0  \n",
       "\n",
       "[723 rows x 11 columns]"
      ]
     },
     "execution_count": 150,
     "metadata": {},
     "output_type": "execute_result"
    }
   ],
   "source": [
    "# OneHot Encoding topics\n",
    "enc = OneHotEncoder(handle_unknown='ignore', sparse=False)\n",
    "topic_targets_enc = pd.DataFrame(enc.fit_transform(data[['topic']]))\n",
    "topic_targets_enc.columns = enc.get_feature_names_out()\n",
    "topic_targets_enc"
   ]
  },
  {
   "cell_type": "markdown",
   "metadata": {},
   "source": [
    "#### Note to self: with <code>loss='sparse_categorical_crossentropy'</code> while compiling we don't need to OHE the target (which would alter the following process, but makes it more stable)."
   ]
  },
  {
   "cell_type": "markdown",
   "metadata": {},
   "source": [
    "## RNN Model on Word2Vec pretrained vectors"
   ]
  },
  {
   "cell_type": "code",
   "execution_count": 151,
   "metadata": {},
   "outputs": [
    {
     "name": "stdout",
     "output_type": "stream",
     "text": [
      "(506, 1000, 50)\n",
      "(506, 11)\n"
     ]
    }
   ],
   "source": [
    "# Train test split\n",
    "X_train, X_test, y_train, y_test = train_test_split(X_pad, topic_targets_enc, test_size=0.3)\n",
    "print(X_train.shape)\n",
    "print(y_train.shape)"
   ]
  },
  {
   "cell_type": "markdown",
   "metadata": {},
   "source": [
    "#### The rebalancing due to strongly uneven distributed targets will be done by weighting each label's contribution to the cost function inversely proportional to the frequency of the label (since SMOTE doesn't seem to work on vectorized lists of words). \n",
    "#### The Keras model.fit() method has the hypterparameter class_weight that allows us to do this."
   ]
  },
  {
   "cell_type": "code",
   "execution_count": 152,
   "metadata": {},
   "outputs": [
    {
     "data": {
      "text/plain": [
       "{0: 0.22330097087378642,\n",
       " 1: 23.0,\n",
       " 2: 1.0222222222222221,\n",
       " 3: 2.0,\n",
       " 4: 46.0,\n",
       " 5: 7.666666666666667,\n",
       " 6: 2.875,\n",
       " 7: 5.75,\n",
       " 8: 0.3262411347517731,\n",
       " 9: 3.5384615384615383,\n",
       " 10: 1.0222222222222221}"
      ]
     },
     "execution_count": 152,
     "metadata": {},
     "output_type": "execute_result"
    }
   ],
   "source": [
    "# Weighting the labels as a rebalancing technique (tool used: compute_class_weight())\n",
    "y_integers = np.argmax(np.array(y_train), axis=1)\n",
    "class_weights = compute_class_weight(class_weight='balanced', classes=np.unique(y_integers), y=y_integers)\n",
    "d_class_weights = dict(enumerate(class_weights))\n",
    "d_class_weights"
   ]
  },
  {
   "cell_type": "markdown",
   "metadata": {},
   "source": [
    "#### With this dict, we will pass heigher weights for classes that are less present in our data set, that will be considered in the loss function. \n",
    "#### By doing this, we also increase the chance of overfitting to the rare labels, because our model will see the exact same X_train vectors for rarer labels several times instead of only once.\n",
    "#### So we will need to add some regularization."
   ]
  },
  {
   "cell_type": "code",
   "execution_count": 153,
   "metadata": {},
   "outputs": [],
   "source": [
    "# Defining Ridge Regularization\n",
    "#reg_l2 = regularizers.L2(0.001)"
   ]
  },
  {
   "cell_type": "markdown",
   "metadata": {},
   "source": [
    "#### Adding two L2 regularization layers decreases the accuracy on the test set dramatically instead of increasing it. Maybe we hadn't overfit before?"
   ]
  },
  {
   "cell_type": "code",
   "execution_count": 154,
   "metadata": {},
   "outputs": [],
   "source": [
    "# Experimenting with learning rate optimization for Adam\n",
    "lr_schedule = ExponentialDecay(\n",
    "    initial_learning_rate=1e-2,\n",
    "    decay_steps=10000,\n",
    "    decay_rate=0.9)\n",
    "\n",
    "optimized_adam = Adam(learning_rate=lr_schedule)\n"
   ]
  },
  {
   "cell_type": "code",
   "execution_count": 155,
   "metadata": {},
   "outputs": [],
   "source": [
    "def init_model():\n",
    "    model = Sequential()\n",
    "    model.add(layers.Masking(input_shape=(X_train.shape[1], X_train.shape[2])))\n",
    "    model.add(layers.LSTM(20, activation='tanh'))\n",
    "    #model.add(layers.Dense(20, activation='relu', kernel_regularizer=reg_l2))\n",
    "    model.add(layers.Dense(15, activation='relu'))\n",
    "    #model.add(layers.Dense(15, activation='relu', kernel_regularizer=reg_l2))\n",
    "    model.add(layers.Dense(y_train.shape[1], activation='softmax'))\n",
    "\n",
    "    model.compile(loss='categorical_crossentropy',\n",
    "                  #optimizer='adam',\n",
    "                  optimizer=optimized_adam,\n",
    "                  metrics=['accuracy'])\n",
    "    \n",
    "    return model"
   ]
  },
  {
   "cell_type": "code",
   "execution_count": 156,
   "metadata": {},
   "outputs": [
    {
     "name": "stdout",
     "output_type": "stream",
     "text": [
      "Model: \"sequential_11\"\n",
      "_________________________________________________________________\n",
      " Layer (type)                Output Shape              Param #   \n",
      "=================================================================\n",
      " masking_11 (Masking)        (None, 1000, 50)          0         \n",
      "                                                                 \n",
      " lstm_11 (LSTM)              (None, 20)                5680      \n",
      "                                                                 \n",
      " dense_36 (Dense)            (None, 15)                315       \n",
      "                                                                 \n",
      " dense_37 (Dense)            (None, 11)                176       \n",
      "                                                                 \n",
      "=================================================================\n",
      "Total params: 6,171\n",
      "Trainable params: 6,171\n",
      "Non-trainable params: 0\n",
      "_________________________________________________________________\n"
     ]
    }
   ],
   "source": [
    "model = init_model()\n",
    "model.summary()"
   ]
  },
  {
   "cell_type": "code",
   "execution_count": 157,
   "metadata": {},
   "outputs": [
    {
     "name": "stdout",
     "output_type": "stream",
     "text": [
      "Epoch 1/100\n",
      "12/12 [==============================] - 7s 338ms/step - loss: 2.1632 - accuracy: 0.0678 - val_loss: 2.2603 - val_accuracy: 0.0461\n",
      "Epoch 2/100\n",
      "12/12 [==============================] - 3s 251ms/step - loss: 1.9578 - accuracy: 0.1328 - val_loss: 2.2140 - val_accuracy: 0.1316\n",
      "Epoch 3/100\n",
      "12/12 [==============================] - 3s 281ms/step - loss: 1.6778 - accuracy: 0.2458 - val_loss: 2.2279 - val_accuracy: 0.0987\n",
      "Epoch 4/100\n",
      "12/12 [==============================] - 4s 299ms/step - loss: 1.3988 - accuracy: 0.2740 - val_loss: 2.1726 - val_accuracy: 0.1118\n",
      "Epoch 5/100\n",
      "12/12 [==============================] - 4s 300ms/step - loss: 1.2095 - accuracy: 0.3192 - val_loss: 2.1333 - val_accuracy: 0.1842\n",
      "Epoch 6/100\n",
      "12/12 [==============================] - 4s 302ms/step - loss: 1.0590 - accuracy: 0.3503 - val_loss: 2.4001 - val_accuracy: 0.0855\n",
      "Epoch 7/100\n",
      "12/12 [==============================] - 4s 299ms/step - loss: 0.9117 - accuracy: 0.3870 - val_loss: 2.1933 - val_accuracy: 0.1645\n",
      "Epoch 8/100\n",
      "12/12 [==============================] - 4s 309ms/step - loss: 0.8648 - accuracy: 0.4576 - val_loss: 2.1872 - val_accuracy: 0.2566\n",
      "Epoch 9/100\n",
      "12/12 [==============================] - 4s 297ms/step - loss: 0.9519 - accuracy: 0.4096 - val_loss: 2.2660 - val_accuracy: 0.1645\n",
      "Epoch 10/100\n",
      "12/12 [==============================] - 4s 295ms/step - loss: 0.7586 - accuracy: 0.4463 - val_loss: 2.2606 - val_accuracy: 0.1842\n"
     ]
    }
   ],
   "source": [
    "es = EarlyStopping(patience=5, restore_best_weights=True)\n",
    "\n",
    "history = model.fit(X_train, y_train,\n",
    "                    class_weight=d_class_weights,\n",
    "          \t\t\tbatch_size=32,\n",
    "         \t\t\tepochs=100,\n",
    "          \t\t\tvalidation_split=0.3,\n",
    "          \t\t\tcallbacks=[es])"
   ]
  },
  {
   "cell_type": "code",
   "execution_count": 159,
   "metadata": {},
   "outputs": [
    {
     "name": "stdout",
     "output_type": "stream",
     "text": [
      "The accuracy evaluated on the test set with inversely weighted targets is 21.659%\n",
      "The accuracy of the same model without inversely weighted targets, the default Adam optimizer and without regularization had been 43 %...\n"
     ]
    }
   ],
   "source": [
    "res = model.evaluate(X_test, y_test, verbose=0)\n",
    "\n",
    "print(f'The accuracy evaluated on the test set with inversely weighted targets is {res[1]*100:.3f}%')\n",
    "print('The accuracy of the same model without inversely weighted targets, the default Adam optimizer and without regularization had been 43 %...')"
   ]
  },
  {
   "cell_type": "code",
   "execution_count": null,
   "metadata": {},
   "outputs": [],
   "source": []
  }
 ],
 "metadata": {
  "kernelspec": {
   "display_name": "Python 3.8.12 64-bit ('shims')",
   "language": "python",
   "name": "python3"
  },
  "language_info": {
   "codemirror_mode": {
    "name": "ipython",
    "version": 3
   },
   "file_extension": ".py",
   "mimetype": "text/x-python",
   "name": "python",
   "nbconvert_exporter": "python",
   "pygments_lexer": "ipython3",
   "version": "3.8.12"
  },
  "orig_nbformat": 4,
  "vscode": {
   "interpreter": {
    "hash": "736150739e4fb3df6051488b43d6994f529cd492b8cd4a40882204b23398c180"
   }
  }
 },
 "nbformat": 4,
 "nbformat_minor": 2
}
