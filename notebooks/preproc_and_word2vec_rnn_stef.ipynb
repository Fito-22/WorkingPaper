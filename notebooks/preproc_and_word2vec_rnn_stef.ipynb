{
 "cells": [
  {
   "cell_type": "code",
   "execution_count": 1,
   "metadata": {},
   "outputs": [],
   "source": [
    "%load_ext autoreload\n",
    "%autoreload 2"
   ]
  },
  {
   "cell_type": "code",
   "execution_count": 2,
   "metadata": {},
   "outputs": [
    {
     "name": "stderr",
     "output_type": "stream",
     "text": [
      "2022-09-08 10:24:42.906377: I tensorflow/core/util/util.cc:169] oneDNN custom operations are on. You may see slightly different numerical results due to floating-point round-off errors from different computation orders. To turn them off, set the environment variable `TF_ENABLE_ONEDNN_OPTS=0`.\n",
      "2022-09-08 10:24:42.973063: W tensorflow/stream_executor/platform/default/dso_loader.cc:64] Could not load dynamic library 'libcudart.so.11.0'; dlerror: libcudart.so.11.0: cannot open shared object file: No such file or directory\n",
      "2022-09-08 10:24:42.973093: I tensorflow/stream_executor/cuda/cudart_stub.cc:29] Ignore above cudart dlerror if you do not have a GPU set up on your machine.\n"
     ]
    }
   ],
   "source": [
    "import pandas as pd\n",
    "import numpy as np\n",
    "import re\n",
    "import seaborn as sns\n",
    "from collections import Counter\n",
    "import matplotlib.pyplot as plt\n",
    "from sklearn.preprocessing import OneHotEncoder\n",
    "from sklearn.model_selection import train_test_split\n",
    "from nltk import pos_tag\n",
    "import nltk\n",
    "#nltk.download('averaged_perceptron_tagger')\n",
    "from nltk.tokenize import word_tokenize\n",
    "from nltk.corpus import stopwords\n",
    "from nltk.stem import WordNetLemmatizer\n",
    "from gensim.models import Word2Vec\n",
    "import gensim.downloader as api\n",
    "from sklearn.utils.class_weight import compute_class_weight\n",
    "from tensorflow.keras.preprocessing.sequence import pad_sequences\n",
    "from tensorflow.keras import layers, Sequential, regularizers\n",
    "from tensorflow.keras.callbacks import EarlyStopping\n",
    "from tensorflow.keras.optimizers import Adam\n",
    "from tensorflow.keras.optimizers.schedules import ExponentialDecay\n",
    "from tensorflow.math import confusion_matrix"
   ]
  },
  {
   "cell_type": "markdown",
   "metadata": {},
   "source": [
    "# Preprocessing, Target Engineering and RNN model with Word2Vec embedding \n",
    "### on final Data Set from the OpenAlex API and ArXiv.org"
   ]
  },
  {
   "cell_type": "code",
   "execution_count": 3,
   "metadata": {},
   "outputs": [
    {
     "data": {
      "text/html": [
       "<div>\n",
       "<style scoped>\n",
       "    .dataframe tbody tr th:only-of-type {\n",
       "        vertical-align: middle;\n",
       "    }\n",
       "\n",
       "    .dataframe tbody tr th {\n",
       "        vertical-align: top;\n",
       "    }\n",
       "\n",
       "    .dataframe thead th {\n",
       "        text-align: right;\n",
       "    }\n",
       "</style>\n",
       "<table border=\"1\" class=\"dataframe\">\n",
       "  <thead>\n",
       "    <tr style=\"text-align: right;\">\n",
       "      <th></th>\n",
       "      <th>id</th>\n",
       "      <th>title</th>\n",
       "      <th>text</th>\n",
       "      <th>topic</th>\n",
       "      <th>subtopic</th>\n",
       "    </tr>\n",
       "  </thead>\n",
       "  <tbody>\n",
       "    <tr>\n",
       "      <th>0</th>\n",
       "      <td>https://openalex.org/W2100716186</td>\n",
       "      <td>Large-scale screening of hypothetical metal-or...</td>\n",
       "      <td>PUBLISHED ONLINE: 6 NOVEMBER 2011 | DOI: 10.10...</td>\n",
       "      <td>Chemistry</td>\n",
       "      <td>Nanotechnology</td>\n",
       "    </tr>\n",
       "    <tr>\n",
       "      <th>1</th>\n",
       "      <td>https://openalex.org/W2109370530</td>\n",
       "      <td>Routing and wavelength assignment in all-optic...</td>\n",
       "      <td>[H+./ACM TRANSACTIONS ON NETWORKING, VO1. 3, N...</td>\n",
       "      <td>Computer science</td>\n",
       "      <td>Telecommunications</td>\n",
       "    </tr>\n",
       "    <tr>\n",
       "      <th>2</th>\n",
       "      <td>https://openalex.org/W2131625303</td>\n",
       "      <td>Potassium channel antibody-associated encephal...</td>\n",
       "      <td>DOI: 10.1093/brain/awh077  Brain (2004), 127, ...</td>\n",
       "      <td>Medicine</td>\n",
       "      <td>Pediatrics</td>\n",
       "    </tr>\n",
       "    <tr>\n",
       "      <th>3</th>\n",
       "      <td>https://openalex.org/W2131736388</td>\n",
       "      <td>MODBASE, a database of annotated comparative p...</td>\n",
       "      <td>D336–D346 Nucleic Acids Research, 2014, Vol. 4...</td>\n",
       "      <td>Computer science</td>\n",
       "      <td>Bioinformatics</td>\n",
       "    </tr>\n",
       "    <tr>\n",
       "      <th>4</th>\n",
       "      <td>https://openalex.org/W2144966005</td>\n",
       "      <td>Regional brain volume abnormalities and long-t...</td>\n",
       "      <td>ORIGINAL CONTRIBUTION  Regional Brain Volume A...</td>\n",
       "      <td>Medicine</td>\n",
       "      <td>Internal medicine</td>\n",
       "    </tr>\n",
       "  </tbody>\n",
       "</table>\n",
       "</div>"
      ],
      "text/plain": [
       "                                 id  \\\n",
       "0  https://openalex.org/W2100716186   \n",
       "1  https://openalex.org/W2109370530   \n",
       "2  https://openalex.org/W2131625303   \n",
       "3  https://openalex.org/W2131736388   \n",
       "4  https://openalex.org/W2144966005   \n",
       "\n",
       "                                               title  \\\n",
       "0  Large-scale screening of hypothetical metal-or...   \n",
       "1  Routing and wavelength assignment in all-optic...   \n",
       "2  Potassium channel antibody-associated encephal...   \n",
       "3  MODBASE, a database of annotated comparative p...   \n",
       "4  Regional brain volume abnormalities and long-t...   \n",
       "\n",
       "                                                text             topic  \\\n",
       "0  PUBLISHED ONLINE: 6 NOVEMBER 2011 | DOI: 10.10...         Chemistry   \n",
       "1  [H+./ACM TRANSACTIONS ON NETWORKING, VO1. 3, N...  Computer science   \n",
       "2  DOI: 10.1093/brain/awh077  Brain (2004), 127, ...          Medicine   \n",
       "3  D336–D346 Nucleic Acids Research, 2014, Vol. 4...  Computer science   \n",
       "4  ORIGINAL CONTRIBUTION  Regional Brain Volume A...          Medicine   \n",
       "\n",
       "             subtopic  \n",
       "0      Nanotechnology  \n",
       "1  Telecommunications  \n",
       "2          Pediatrics  \n",
       "3      Bioinformatics  \n",
       "4   Internal medicine  "
      ]
     },
     "execution_count": 3,
     "metadata": {},
     "output_type": "execute_result"
    }
   ],
   "source": [
    "# Reading OpenAlex Data\n",
    "openalex_data = pd.read_csv('../raw_data/data_3k.csv')\n",
    "openalex_data = openalex_data.drop(columns='Unnamed: 0')\n",
    "openalex_data.head()"
   ]
  },
  {
   "cell_type": "code",
   "execution_count": 4,
   "metadata": {},
   "outputs": [
    {
     "data": {
      "text/html": [
       "<div>\n",
       "<style scoped>\n",
       "    .dataframe tbody tr th:only-of-type {\n",
       "        vertical-align: middle;\n",
       "    }\n",
       "\n",
       "    .dataframe tbody tr th {\n",
       "        vertical-align: top;\n",
       "    }\n",
       "\n",
       "    .dataframe thead th {\n",
       "        text-align: right;\n",
       "    }\n",
       "</style>\n",
       "<table border=\"1\" class=\"dataframe\">\n",
       "  <thead>\n",
       "    <tr style=\"text-align: right;\">\n",
       "      <th></th>\n",
       "      <th>text</th>\n",
       "      <th>subtopic</th>\n",
       "    </tr>\n",
       "  </thead>\n",
       "  <tbody>\n",
       "    <tr>\n",
       "      <th>0</th>\n",
       "      <td>2 2 0 2  g u A 6 2  ] E H . h p - o r t s a [ ...</td>\n",
       "      <td>Astrophysics</td>\n",
       "    </tr>\n",
       "    <tr>\n",
       "      <th>1</th>\n",
       "      <td>Draft version August 29, 2022 Typeset using LA...</td>\n",
       "      <td>Astrophysics</td>\n",
       "    </tr>\n",
       "    <tr>\n",
       "      <th>2</th>\n",
       "      <td>Astronomy &amp; Astrophysics manuscript no. 41891c...</td>\n",
       "      <td>Astrophysics</td>\n",
       "    </tr>\n",
       "    <tr>\n",
       "      <th>3</th>\n",
       "      <td>Astronomy &amp; Astrophysics manuscript no. aa Aug...</td>\n",
       "      <td>Astrophysics</td>\n",
       "    </tr>\n",
       "    <tr>\n",
       "      <th>4</th>\n",
       "      <td>2 2 0 2  g u A 6 2  ]  R S . h p - o r t s a [...</td>\n",
       "      <td>Astrophysics</td>\n",
       "    </tr>\n",
       "    <tr>\n",
       "      <th>...</th>\n",
       "      <td>...</td>\n",
       "      <td>...</td>\n",
       "    </tr>\n",
       "    <tr>\n",
       "      <th>2030</th>\n",
       "      <td>2 2 0 2  g u A 3 2  ]  A F . h t a m  [  1 v 5...</td>\n",
       "      <td>Symplectic Geometry</td>\n",
       "    </tr>\n",
       "    <tr>\n",
       "      <th>2031</th>\n",
       "      <td>UNIVERSIDAD COMPLUTENSE DE MADRID  FACULTAD DE...</td>\n",
       "      <td>Symplectic Geometry</td>\n",
       "    </tr>\n",
       "    <tr>\n",
       "      <th>2032</th>\n",
       "      <td>2 2 0 2  g u A 0 2  ]  G S . h t a m  [  1 v 4...</td>\n",
       "      <td>Symplectic Geometry</td>\n",
       "    </tr>\n",
       "    <tr>\n",
       "      <th>2033</th>\n",
       "      <td>2 2 0 2  g u A 6 1  ]  G S . h t a m  [  1 v 4...</td>\n",
       "      <td>Symplectic Geometry</td>\n",
       "    </tr>\n",
       "    <tr>\n",
       "      <th>2034</th>\n",
       "      <td>Free ﬁeld realisation and the chiral universal...</td>\n",
       "      <td>Symplectic Geometry</td>\n",
       "    </tr>\n",
       "  </tbody>\n",
       "</table>\n",
       "<p>2035 rows × 2 columns</p>\n",
       "</div>"
      ],
      "text/plain": [
       "                                                   text             subtopic\n",
       "0     2 2 0 2  g u A 6 2  ] E H . h p - o r t s a [ ...         Astrophysics\n",
       "1     Draft version August 29, 2022 Typeset using LA...         Astrophysics\n",
       "2     Astronomy & Astrophysics manuscript no. 41891c...         Astrophysics\n",
       "3     Astronomy & Astrophysics manuscript no. aa Aug...         Astrophysics\n",
       "4     2 2 0 2  g u A 6 2  ]  R S . h p - o r t s a [...         Astrophysics\n",
       "...                                                 ...                  ...\n",
       "2030  2 2 0 2  g u A 3 2  ]  A F . h t a m  [  1 v 5...  Symplectic Geometry\n",
       "2031  UNIVERSIDAD COMPLUTENSE DE MADRID  FACULTAD DE...  Symplectic Geometry\n",
       "2032  2 2 0 2  g u A 0 2  ]  G S . h t a m  [  1 v 4...  Symplectic Geometry\n",
       "2033  2 2 0 2  g u A 6 1  ]  G S . h t a m  [  1 v 4...  Symplectic Geometry\n",
       "2034  Free ﬁeld realisation and the chiral universal...  Symplectic Geometry\n",
       "\n",
       "[2035 rows x 2 columns]"
      ]
     },
     "execution_count": 4,
     "metadata": {},
     "output_type": "execute_result"
    }
   ],
   "source": [
    "# Reading Arxiv Data\n",
    "arxiv_data = pd.read_csv('../raw_data/small_dataset.csv')\n",
    "arxiv_data = arxiv_data.drop(columns='Unnamed: 0')\n",
    "arxiv_data = arxiv_data.rename(columns={'0': 'text'})\n",
    "arxiv_data"
   ]
  },
  {
   "cell_type": "code",
   "execution_count": 5,
   "metadata": {},
   "outputs": [
    {
     "data": {
      "text/html": [
       "<div>\n",
       "<style scoped>\n",
       "    .dataframe tbody tr th:only-of-type {\n",
       "        vertical-align: middle;\n",
       "    }\n",
       "\n",
       "    .dataframe tbody tr th {\n",
       "        vertical-align: top;\n",
       "    }\n",
       "\n",
       "    .dataframe thead th {\n",
       "        text-align: right;\n",
       "    }\n",
       "</style>\n",
       "<table border=\"1\" class=\"dataframe\">\n",
       "  <thead>\n",
       "    <tr style=\"text-align: right;\">\n",
       "      <th></th>\n",
       "      <th>text</th>\n",
       "      <th>subtopic</th>\n",
       "      <th>topic</th>\n",
       "    </tr>\n",
       "  </thead>\n",
       "  <tbody>\n",
       "    <tr>\n",
       "      <th>0</th>\n",
       "      <td>2 2 0 2  g u A 6 2  ] E H . h p - o r t s a [ ...</td>\n",
       "      <td>Astrophysics</td>\n",
       "      <td>physics</td>\n",
       "    </tr>\n",
       "    <tr>\n",
       "      <th>1</th>\n",
       "      <td>Draft version August 29, 2022 Typeset using LA...</td>\n",
       "      <td>Astrophysics</td>\n",
       "      <td>physics</td>\n",
       "    </tr>\n",
       "    <tr>\n",
       "      <th>2</th>\n",
       "      <td>Astronomy &amp; Astrophysics manuscript no. 41891c...</td>\n",
       "      <td>Astrophysics</td>\n",
       "      <td>physics</td>\n",
       "    </tr>\n",
       "    <tr>\n",
       "      <th>3</th>\n",
       "      <td>Astronomy &amp; Astrophysics manuscript no. aa Aug...</td>\n",
       "      <td>Astrophysics</td>\n",
       "      <td>physics</td>\n",
       "    </tr>\n",
       "    <tr>\n",
       "      <th>4</th>\n",
       "      <td>2 2 0 2  g u A 6 2  ]  R S . h p - o r t s a [...</td>\n",
       "      <td>Astrophysics</td>\n",
       "      <td>physics</td>\n",
       "    </tr>\n",
       "    <tr>\n",
       "      <th>...</th>\n",
       "      <td>...</td>\n",
       "      <td>...</td>\n",
       "      <td>...</td>\n",
       "    </tr>\n",
       "    <tr>\n",
       "      <th>2030</th>\n",
       "      <td>2 2 0 2  g u A 3 2  ]  A F . h t a m  [  1 v 5...</td>\n",
       "      <td>Symplectic Geometry</td>\n",
       "      <td>mathematics</td>\n",
       "    </tr>\n",
       "    <tr>\n",
       "      <th>2031</th>\n",
       "      <td>UNIVERSIDAD COMPLUTENSE DE MADRID  FACULTAD DE...</td>\n",
       "      <td>Symplectic Geometry</td>\n",
       "      <td>mathematics</td>\n",
       "    </tr>\n",
       "    <tr>\n",
       "      <th>2032</th>\n",
       "      <td>2 2 0 2  g u A 0 2  ]  G S . h t a m  [  1 v 4...</td>\n",
       "      <td>Symplectic Geometry</td>\n",
       "      <td>mathematics</td>\n",
       "    </tr>\n",
       "    <tr>\n",
       "      <th>2033</th>\n",
       "      <td>2 2 0 2  g u A 6 1  ]  G S . h t a m  [  1 v 4...</td>\n",
       "      <td>Symplectic Geometry</td>\n",
       "      <td>mathematics</td>\n",
       "    </tr>\n",
       "    <tr>\n",
       "      <th>2034</th>\n",
       "      <td>Free ﬁeld realisation and the chiral universal...</td>\n",
       "      <td>Symplectic Geometry</td>\n",
       "      <td>mathematics</td>\n",
       "    </tr>\n",
       "  </tbody>\n",
       "</table>\n",
       "<p>2035 rows × 3 columns</p>\n",
       "</div>"
      ],
      "text/plain": [
       "                                                   text             subtopic  \\\n",
       "0     2 2 0 2  g u A 6 2  ] E H . h p - o r t s a [ ...         Astrophysics   \n",
       "1     Draft version August 29, 2022 Typeset using LA...         Astrophysics   \n",
       "2     Astronomy & Astrophysics manuscript no. 41891c...         Astrophysics   \n",
       "3     Astronomy & Astrophysics manuscript no. aa Aug...         Astrophysics   \n",
       "4     2 2 0 2  g u A 6 2  ]  R S . h p - o r t s a [...         Astrophysics   \n",
       "...                                                 ...                  ...   \n",
       "2030  2 2 0 2  g u A 3 2  ]  A F . h t a m  [  1 v 5...  Symplectic Geometry   \n",
       "2031  UNIVERSIDAD COMPLUTENSE DE MADRID  FACULTAD DE...  Symplectic Geometry   \n",
       "2032  2 2 0 2  g u A 0 2  ]  G S . h t a m  [  1 v 4...  Symplectic Geometry   \n",
       "2033  2 2 0 2  g u A 6 1  ]  G S . h t a m  [  1 v 4...  Symplectic Geometry   \n",
       "2034  Free ﬁeld realisation and the chiral universal...  Symplectic Geometry   \n",
       "\n",
       "            topic  \n",
       "0         physics  \n",
       "1         physics  \n",
       "2         physics  \n",
       "3         physics  \n",
       "4         physics  \n",
       "...           ...  \n",
       "2030  mathematics  \n",
       "2031  mathematics  \n",
       "2032  mathematics  \n",
       "2033  mathematics  \n",
       "2034  mathematics  \n",
       "\n",
       "[2035 rows x 3 columns]"
      ]
     },
     "execution_count": 5,
     "metadata": {},
     "output_type": "execute_result"
    }
   ],
   "source": [
    "# Turning subtopics into topics\n",
    "physics_list = ['astrophysics', 'condensed matter', 'general relativity and quantum cosmology', 'high energy physics - experiment', \n",
    "                'high energy physics - lattice', 'high energy physics - phenomenology', 'high energy physics - Tteory',\n",
    "                'mathematical physics', 'nonlinear sciences', 'nuclear experiment', 'nuclear theory', 'physics', 'quantum physics']\n",
    "\n",
    "arxiv_data['topic'] = arxiv_data['subtopic'].apply(lambda x: 'physics' if x.lower() in physics_list else 'mathematics')\n",
    "arxiv_data"
   ]
  },
  {
   "cell_type": "code",
   "execution_count": 6,
   "metadata": {},
   "outputs": [
    {
     "data": {
      "text/plain": [
       "(4955, 5)"
      ]
     },
     "execution_count": 6,
     "metadata": {},
     "output_type": "execute_result"
    }
   ],
   "source": [
    "# Concatenating both datasets\n",
    "data = pd.concat([openalex_data, arxiv_data], ignore_index=True)\n",
    "data.shape"
   ]
  },
  {
   "cell_type": "code",
   "execution_count": 7,
   "metadata": {},
   "outputs": [
    {
     "data": {
      "text/plain": [
       "(3354, 5)"
      ]
     },
     "execution_count": 7,
     "metadata": {},
     "output_type": "execute_result"
    }
   ],
   "source": [
    "# Dropping duplicates\n",
    "data.drop_duplicates(subset=['text'], keep='first', inplace=True, ignore_index=True)\n",
    "data.shape"
   ]
  },
  {
   "cell_type": "markdown",
   "metadata": {},
   "source": [
    "#### Further data cleaning is not necessary, since we built this dataset ourselves."
   ]
  },
  {
   "cell_type": "markdown",
   "metadata": {},
   "source": [
    "## Preprocessing"
   ]
  },
  {
   "cell_type": "code",
   "execution_count": 8,
   "metadata": {},
   "outputs": [],
   "source": [
    "# Lowercasing everything\n",
    "data = data.apply(lambda x: x.astype(str).str.lower())"
   ]
  },
  {
   "cell_type": "code",
   "execution_count": 9,
   "metadata": {},
   "outputs": [],
   "source": [
    "# Removing anything apart from lower case letters \n",
    "data['text'] = data['text'].apply(lambda x: re.sub(r'[^a-z]', ' ', x))"
   ]
  },
  {
   "cell_type": "code",
   "execution_count": 10,
   "metadata": {},
   "outputs": [],
   "source": [
    "# Removing anything that comes before the abstract\n",
    "data['text'] = data['text'].apply(lambda x: re.sub(r\"^.+?(?=abstract)\", \"\", x))"
   ]
  },
  {
   "cell_type": "code",
   "execution_count": 11,
   "metadata": {},
   "outputs": [
    {
     "data": {
      "image/png": "[encoded data removed]",
      "text/plain": [
       "<Figure size 640x480 with 1 Axes>"
      ]
     },
     "metadata": {},
     "output_type": "display_data"
    }
   ],
   "source": [
    "# This is the distribution of the total number of words per paper\n",
    "data['total words per text'] = data['text'].apply(lambda x : len(x)) \n",
    "data['total words per text'].hist(bins=100);"
   ]
  },
  {
   "cell_type": "markdown",
   "metadata": {},
   "source": [
    "#### In terms of computational efficiency it is reasonable to scale down the number of word taken into account from every paper. Otherwise, the file wouldn't be executable.\n",
    "\n",
    "#### We will do so by creating a reduced list of tokens from the paper texts, that we will later use for word embedding. To increase the quality we will remove stopwords and singel letter words."
   ]
  },
  {
   "cell_type": "code",
   "execution_count": 12,
   "metadata": {},
   "outputs": [],
   "source": [
    "# Tokenizing\n",
    "max_length_of_padding = 1000 # to save computational costs, we will already implement the max_length_of_padding here\n",
    "num_of_words_to_keep = int(max_length_of_padding*5) # adding some margin, because in spotword removal and word2vec embedding some will be removed\n",
    "\n",
    "data['modified text'] = data['text'].apply(lambda text: ' '.join(text.split()[:num_of_words_to_keep]))\n",
    "data['modified text'] = data['modified text'].apply(word_tokenize)"
   ]
  },
  {
   "cell_type": "code",
   "execution_count": 13,
   "metadata": {},
   "outputs": [],
   "source": [
    "# Lemmatizing\n",
    "data['modified text'] = data['modified text'].apply(lambda x: [WordNetLemmatizer().lemmatize(word, pos = 'v') for word in x])\n",
    "data['modified text'] = data['modified text'].apply(lambda x: [WordNetLemmatizer().lemmatize(word, pos = 'n') for word in x])"
   ]
  },
  {
   "cell_type": "code",
   "execution_count": 14,
   "metadata": {},
   "outputs": [],
   "source": [
    "# Removing stopwords and single letter words\n",
    "stop_words = set(stopwords.words('english'))\n",
    "\n",
    "data['modified text'] = data['modified text'].apply(lambda x: [word for word in x if not word in stop_words])\n",
    "data['modified text'] = data['modified text'].apply(lambda x: [word for word in x if len(word)>1])"
   ]
  },
  {
   "cell_type": "code",
   "execution_count": 15,
   "metadata": {},
   "outputs": [],
   "source": [
    "# Keeping only the nouns\n",
    "from nltk import pos_tag\n",
    "import nltk\n",
    "#nltk.download('averaged_perceptron_tagger')\n",
    "data['modified text'] = data['modified text'].apply(lambda x: [tag[0] for tag in nltk.pos_tag(list(x)) if (tag[1]=='NN') or (tag[1]=='NNS')])"
   ]
  },
  {
   "cell_type": "code",
   "execution_count": 16,
   "metadata": {},
   "outputs": [
    {
     "data": {
      "image/png": "[encoded data removed]",
      "text/plain": [
       "<Figure size 640x480 with 1 Axes>"
      ]
     },
     "metadata": {},
     "output_type": "display_data"
    }
   ],
   "source": [
    "# This is the distribution of numbers of selected tokens per paper after cutting down\n",
    "data['words per modified text'] = data['modified text'].apply(lambda x : len(x)) \n",
    "data['words per modified text'].hist(bins=100);"
   ]
  },
  {
   "cell_type": "code",
   "execution_count": 17,
   "metadata": {},
   "outputs": [
    {
     "data": {
      "text/plain": [
       "(3298, 8)"
      ]
     },
     "execution_count": 17,
     "metadata": {},
     "output_type": "execute_result"
    }
   ],
   "source": [
    "# Let's also exclude representations with less than 10 tokens\n",
    "data = data[data['words per modified text'] > 9].reset_index().drop(columns=['index'], axis=1)\n",
    "data.shape"
   ]
  },
  {
   "cell_type": "markdown",
   "metadata": {},
   "source": [
    "#### Now we will clean our data some more by reducing the samples of uncommon targets."
   ]
  },
  {
   "cell_type": "markdown",
   "metadata": {},
   "source": [
    "## Taking Care of the Targets"
   ]
  },
  {
   "cell_type": "code",
   "execution_count": 18,
   "metadata": {},
   "outputs": [
    {
     "data": {
      "text/plain": [
       "mathematics              1053\n",
       "physics                   785\n",
       "biology                   461\n",
       "medicine                  383\n",
       "chemistry                 138\n",
       "computer science          134\n",
       "psychology                118\n",
       "materials science          58\n",
       "environmental science      42\n",
       "economics                  35\n",
       "business                   29\n",
       "geology                    21\n",
       "geography                  15\n",
       "sociology                  10\n",
       "political science           8\n",
       "engineering                 5\n",
       "history                     2\n",
       "art                         1\n",
       "Name: topic, dtype: int64"
      ]
     },
     "execution_count": 18,
     "metadata": {},
     "output_type": "execute_result"
    }
   ],
   "source": [
    "# Let's check how our topics and subtopics are distributed\n",
    "data['topic'].value_counts()"
   ]
  },
  {
   "cell_type": "markdown",
   "metadata": {},
   "source": [
    "#### Topics are highly imballanced, we'll have to take care of this later."
   ]
  },
  {
   "cell_type": "code",
   "execution_count": 19,
   "metadata": {},
   "outputs": [
    {
     "data": {
      "text/plain": [
       "mathematical physics    107\n",
       "astrophysics            101\n",
       "cell biology            101\n",
       "condensed matter        100\n",
       "quantum physics          89\n",
       "                       ... \n",
       "political economy         1\n",
       "nuclear physics           1\n",
       "simulation                1\n",
       "economic system           1\n",
       "market economy            1\n",
       "Name: subtopic, Length: 249, dtype: int64"
      ]
     },
     "execution_count": 19,
     "metadata": {},
     "output_type": "execute_result"
    }
   ],
   "source": [
    "# Now checking the counts of the subtopics\n",
    "data['subtopic'].value_counts()"
   ]
  },
  {
   "cell_type": "code",
   "execution_count": 20,
   "metadata": {},
   "outputs": [
    {
     "data": {
      "text/html": [
       "<div>\n",
       "<style scoped>\n",
       "    .dataframe tbody tr th:only-of-type {\n",
       "        vertical-align: middle;\n",
       "    }\n",
       "\n",
       "    .dataframe tbody tr th {\n",
       "        vertical-align: top;\n",
       "    }\n",
       "\n",
       "    .dataframe thead th {\n",
       "        text-align: right;\n",
       "    }\n",
       "</style>\n",
       "<table border=\"1\" class=\"dataframe\">\n",
       "  <thead>\n",
       "    <tr style=\"text-align: right;\">\n",
       "      <th></th>\n",
       "      <th></th>\n",
       "      <th>id</th>\n",
       "      <th>title</th>\n",
       "      <th>text</th>\n",
       "      <th>total words per text</th>\n",
       "      <th>modified text</th>\n",
       "      <th>words per modified text</th>\n",
       "    </tr>\n",
       "    <tr>\n",
       "      <th>topic</th>\n",
       "      <th>subtopic</th>\n",
       "      <th></th>\n",
       "      <th></th>\n",
       "      <th></th>\n",
       "      <th></th>\n",
       "      <th></th>\n",
       "      <th></th>\n",
       "    </tr>\n",
       "  </thead>\n",
       "  <tbody>\n",
       "    <tr>\n",
       "      <th>art</th>\n",
       "      <th>theology</th>\n",
       "      <td>1</td>\n",
       "      <td>1</td>\n",
       "      <td>1</td>\n",
       "      <td>1</td>\n",
       "      <td>1</td>\n",
       "      <td>1</td>\n",
       "    </tr>\n",
       "    <tr>\n",
       "      <th rowspan=\"4\" valign=\"top\">biology</th>\n",
       "      <th>algorithm</th>\n",
       "      <td>1</td>\n",
       "      <td>1</td>\n",
       "      <td>1</td>\n",
       "      <td>1</td>\n",
       "      <td>1</td>\n",
       "      <td>1</td>\n",
       "    </tr>\n",
       "    <tr>\n",
       "      <th>anatomy</th>\n",
       "      <td>6</td>\n",
       "      <td>6</td>\n",
       "      <td>6</td>\n",
       "      <td>6</td>\n",
       "      <td>6</td>\n",
       "      <td>6</td>\n",
       "    </tr>\n",
       "    <tr>\n",
       "      <th>archaeology</th>\n",
       "      <td>1</td>\n",
       "      <td>1</td>\n",
       "      <td>1</td>\n",
       "      <td>1</td>\n",
       "      <td>1</td>\n",
       "      <td>1</td>\n",
       "    </tr>\n",
       "    <tr>\n",
       "      <th>biochemical engineering</th>\n",
       "      <td>1</td>\n",
       "      <td>1</td>\n",
       "      <td>1</td>\n",
       "      <td>1</td>\n",
       "      <td>1</td>\n",
       "      <td>1</td>\n",
       "    </tr>\n",
       "    <tr>\n",
       "      <th>...</th>\n",
       "      <th>...</th>\n",
       "      <td>...</td>\n",
       "      <td>...</td>\n",
       "      <td>...</td>\n",
       "      <td>...</td>\n",
       "      <td>...</td>\n",
       "      <td>...</td>\n",
       "    </tr>\n",
       "    <tr>\n",
       "      <th rowspan=\"5\" valign=\"top\">sociology</th>\n",
       "      <th>law and economics</th>\n",
       "      <td>1</td>\n",
       "      <td>1</td>\n",
       "      <td>1</td>\n",
       "      <td>1</td>\n",
       "      <td>1</td>\n",
       "      <td>1</td>\n",
       "    </tr>\n",
       "    <tr>\n",
       "      <th>management science</th>\n",
       "      <td>1</td>\n",
       "      <td>1</td>\n",
       "      <td>1</td>\n",
       "      <td>1</td>\n",
       "      <td>1</td>\n",
       "      <td>1</td>\n",
       "    </tr>\n",
       "    <tr>\n",
       "      <th>public relations</th>\n",
       "      <td>2</td>\n",
       "      <td>2</td>\n",
       "      <td>2</td>\n",
       "      <td>2</td>\n",
       "      <td>2</td>\n",
       "      <td>2</td>\n",
       "    </tr>\n",
       "    <tr>\n",
       "      <th>social psychology</th>\n",
       "      <td>1</td>\n",
       "      <td>1</td>\n",
       "      <td>1</td>\n",
       "      <td>1</td>\n",
       "      <td>1</td>\n",
       "      <td>1</td>\n",
       "    </tr>\n",
       "    <tr>\n",
       "      <th>social science</th>\n",
       "      <td>2</td>\n",
       "      <td>2</td>\n",
       "      <td>2</td>\n",
       "      <td>2</td>\n",
       "      <td>2</td>\n",
       "      <td>2</td>\n",
       "    </tr>\n",
       "  </tbody>\n",
       "</table>\n",
       "<p>456 rows × 6 columns</p>\n",
       "</div>"
      ],
      "text/plain": [
       "                                   id  title  text  total words per text  \\\n",
       "topic     subtopic                                                         \n",
       "art       theology                  1      1     1                     1   \n",
       "biology   algorithm                 1      1     1                     1   \n",
       "          anatomy                   6      6     6                     6   \n",
       "          archaeology               1      1     1                     1   \n",
       "          biochemical engineering   1      1     1                     1   \n",
       "...                                ..    ...   ...                   ...   \n",
       "sociology law and economics         1      1     1                     1   \n",
       "          management science        1      1     1                     1   \n",
       "          public relations          2      2     2                     2   \n",
       "          social psychology         1      1     1                     1   \n",
       "          social science            2      2     2                     2   \n",
       "\n",
       "                                   modified text  words per modified text  \n",
       "topic     subtopic                                                         \n",
       "art       theology                             1                        1  \n",
       "biology   algorithm                            1                        1  \n",
       "          anatomy                              6                        6  \n",
       "          archaeology                          1                        1  \n",
       "          biochemical engineering              1                        1  \n",
       "...                                          ...                      ...  \n",
       "sociology law and economics                    1                        1  \n",
       "          management science                   1                        1  \n",
       "          public relations                     2                        2  \n",
       "          social psychology                    1                        1  \n",
       "          social science                       2                        2  \n",
       "\n",
       "[456 rows x 6 columns]"
      ]
     },
     "execution_count": 20,
     "metadata": {},
     "output_type": "execute_result"
    }
   ],
   "source": [
    "# Inspecting the relationship between topics and subtopics\n",
    "data.groupby(by=['topic', 'subtopic']).count()"
   ]
  },
  {
   "cell_type": "code",
   "execution_count": 21,
   "metadata": {},
   "outputs": [
    {
     "name": "stdout",
     "output_type": "stream",
     "text": [
      "Since the number of subtopics is 249 and the number subtopics grouped by their topics increases to 456, we can deduce, that we have subtopics, that belong to several academic fields.\n"
     ]
    }
   ],
   "source": [
    "# Remark on the subtopics\n",
    "num_subtopics = len(data['subtopic'].value_counts())\n",
    "num_subtopics_grouped_by_topics = len(data.groupby(by=['topic', 'subtopic']).count())\n",
    "\n",
    "print(f'Since the number of subtopics is {num_subtopics} and the number subtopics grouped by their topics increases to {num_subtopics_grouped_by_topics}, we can deduce, that we have subtopics, that belong to several academic fields.')"
   ]
  },
  {
   "cell_type": "markdown",
   "metadata": {},
   "source": [
    "#### Which are these? And how common are those multiclass subtopics?"
   ]
  },
  {
   "cell_type": "code",
   "execution_count": 22,
   "metadata": {},
   "outputs": [],
   "source": [
    "# Getting the subtopics that are assigned to several topics\n",
    "def finding_multiassigned_subtopics():\n",
    "    list_of_multiclass_subtopics = []\n",
    "    for i in range(len(data.groupby(by=['subtopic', 'topic']).count())-1):\n",
    "        if (data.groupby(by=['subtopic', 'topic']).count().index[i][0] == \\\n",
    "            data.groupby(by=['subtopic', 'topic']).count().index[i+1][0]):\n",
    "            list_of_multiclass_subtopics.append(data.groupby(by=['subtopic', 'topic']).count().index[i])\n",
    "            list_of_multiclass_subtopics.append(data.groupby(by=['subtopic', 'topic']).count().index[i+1])\n",
    "\n",
    "    return list(set(list_of_multiclass_subtopics))"
   ]
  },
  {
   "cell_type": "code",
   "execution_count": 23,
   "metadata": {},
   "outputs": [
    {
     "data": {
      "text/html": [
       "<div>\n",
       "<style scoped>\n",
       "    .dataframe tbody tr th:only-of-type {\n",
       "        vertical-align: middle;\n",
       "    }\n",
       "\n",
       "    .dataframe tbody tr th {\n",
       "        vertical-align: top;\n",
       "    }\n",
       "\n",
       "    .dataframe thead th {\n",
       "        text-align: right;\n",
       "    }\n",
       "</style>\n",
       "<table border=\"1\" class=\"dataframe\">\n",
       "  <thead>\n",
       "    <tr style=\"text-align: right;\">\n",
       "      <th></th>\n",
       "      <th>id</th>\n",
       "      <th>title</th>\n",
       "      <th>text</th>\n",
       "      <th>topic</th>\n",
       "      <th>total words per text</th>\n",
       "      <th>modified text</th>\n",
       "      <th>words per modified text</th>\n",
       "    </tr>\n",
       "    <tr>\n",
       "      <th>subtopic</th>\n",
       "      <th></th>\n",
       "      <th></th>\n",
       "      <th></th>\n",
       "      <th></th>\n",
       "      <th></th>\n",
       "      <th></th>\n",
       "      <th></th>\n",
       "    </tr>\n",
       "  </thead>\n",
       "  <tbody>\n",
       "    <tr>\n",
       "      <th>cell biology</th>\n",
       "      <td>101</td>\n",
       "      <td>101</td>\n",
       "      <td>101</td>\n",
       "      <td>101</td>\n",
       "      <td>101</td>\n",
       "      <td>101</td>\n",
       "      <td>101</td>\n",
       "    </tr>\n",
       "    <tr>\n",
       "      <th>internal medicine</th>\n",
       "      <td>80</td>\n",
       "      <td>80</td>\n",
       "      <td>80</td>\n",
       "      <td>80</td>\n",
       "      <td>80</td>\n",
       "      <td>80</td>\n",
       "      <td>80</td>\n",
       "    </tr>\n",
       "    <tr>\n",
       "      <th>neuroscience</th>\n",
       "      <td>68</td>\n",
       "      <td>68</td>\n",
       "      <td>68</td>\n",
       "      <td>68</td>\n",
       "      <td>68</td>\n",
       "      <td>68</td>\n",
       "      <td>68</td>\n",
       "    </tr>\n",
       "    <tr>\n",
       "      <th>genetics</th>\n",
       "      <td>66</td>\n",
       "      <td>66</td>\n",
       "      <td>66</td>\n",
       "      <td>66</td>\n",
       "      <td>66</td>\n",
       "      <td>66</td>\n",
       "      <td>66</td>\n",
       "    </tr>\n",
       "    <tr>\n",
       "      <th>immunology</th>\n",
       "      <td>63</td>\n",
       "      <td>63</td>\n",
       "      <td>63</td>\n",
       "      <td>63</td>\n",
       "      <td>63</td>\n",
       "      <td>63</td>\n",
       "      <td>63</td>\n",
       "    </tr>\n",
       "    <tr>\n",
       "      <th>...</th>\n",
       "      <td>...</td>\n",
       "      <td>...</td>\n",
       "      <td>...</td>\n",
       "      <td>...</td>\n",
       "      <td>...</td>\n",
       "      <td>...</td>\n",
       "      <td>...</td>\n",
       "    </tr>\n",
       "    <tr>\n",
       "      <th>agroforestry</th>\n",
       "      <td>2</td>\n",
       "      <td>2</td>\n",
       "      <td>2</td>\n",
       "      <td>2</td>\n",
       "      <td>2</td>\n",
       "      <td>2</td>\n",
       "      <td>2</td>\n",
       "    </tr>\n",
       "    <tr>\n",
       "      <th>internet privacy</th>\n",
       "      <td>2</td>\n",
       "      <td>2</td>\n",
       "      <td>2</td>\n",
       "      <td>2</td>\n",
       "      <td>2</td>\n",
       "      <td>2</td>\n",
       "      <td>2</td>\n",
       "    </tr>\n",
       "    <tr>\n",
       "      <th>law</th>\n",
       "      <td>2</td>\n",
       "      <td>2</td>\n",
       "      <td>2</td>\n",
       "      <td>2</td>\n",
       "      <td>2</td>\n",
       "      <td>2</td>\n",
       "      <td>2</td>\n",
       "    </tr>\n",
       "    <tr>\n",
       "      <th>medical physics</th>\n",
       "      <td>2</td>\n",
       "      <td>2</td>\n",
       "      <td>2</td>\n",
       "      <td>2</td>\n",
       "      <td>2</td>\n",
       "      <td>2</td>\n",
       "      <td>2</td>\n",
       "    </tr>\n",
       "    <tr>\n",
       "      <th>geochemistry</th>\n",
       "      <td>2</td>\n",
       "      <td>2</td>\n",
       "      <td>2</td>\n",
       "      <td>2</td>\n",
       "      <td>2</td>\n",
       "      <td>2</td>\n",
       "      <td>2</td>\n",
       "    </tr>\n",
       "  </tbody>\n",
       "</table>\n",
       "<p>116 rows × 7 columns</p>\n",
       "</div>"
      ],
      "text/plain": [
       "                    id  title  text  topic  total words per text  \\\n",
       "subtopic                                                           \n",
       "cell biology       101    101   101    101                   101   \n",
       "internal medicine   80     80    80     80                    80   \n",
       "neuroscience        68     68    68     68                    68   \n",
       "genetics            66     66    66     66                    66   \n",
       "immunology          63     63    63     63                    63   \n",
       "...                ...    ...   ...    ...                   ...   \n",
       "agroforestry         2      2     2      2                     2   \n",
       "internet privacy     2      2     2      2                     2   \n",
       "law                  2      2     2      2                     2   \n",
       "medical physics      2      2     2      2                     2   \n",
       "geochemistry         2      2     2      2                     2   \n",
       "\n",
       "                   modified text  words per modified text  \n",
       "subtopic                                                   \n",
       "cell biology                 101                      101  \n",
       "internal medicine             80                       80  \n",
       "neuroscience                  68                       68  \n",
       "genetics                      66                       66  \n",
       "immunology                    63                       63  \n",
       "...                          ...                      ...  \n",
       "agroforestry                   2                        2  \n",
       "internet privacy               2                        2  \n",
       "law                            2                        2  \n",
       "medical physics                2                        2  \n",
       "geochemistry                   2                        2  \n",
       "\n",
       "[116 rows x 7 columns]"
      ]
     },
     "execution_count": 23,
     "metadata": {},
     "output_type": "execute_result"
    }
   ],
   "source": [
    "# Which multiclass assigned subtopics are the most common ones?\n",
    "multiclass_subtopics = finding_multiassigned_subtopics()\n",
    "\n",
    "df = pd.DataFrame()\n",
    "for i in range(len(multiclass_subtopics)):\n",
    "    extracted_data = (data[(data['subtopic'] == multiclass_subtopics[i][0]) & (data['topic'] == multiclass_subtopics[i][1])])\n",
    "    extracted_data_old = df\n",
    "    df = pd.concat([extracted_data_old, extracted_data], ignore_index=True)\n",
    "df = df.sort_values(by='subtopic')\n",
    "\n",
    "df.groupby(by=\"subtopic\").count().sort_values(by='id', ascending=False)"
   ]
  },
  {
   "cell_type": "markdown",
   "metadata": {},
   "source": [
    "#### We can see that some interdisciplinary subtopics (those with high transfer potential) tend to live in several academic fields."
   ]
  },
  {
   "cell_type": "code",
   "execution_count": 24,
   "metadata": {},
   "outputs": [
    {
     "data": {
      "text/plain": [
       "biology             76\n",
       "chemistry           21\n",
       "computer science     2\n",
       "mathematics          1\n",
       "medicine             1\n",
       "Name: topic, dtype: int64"
      ]
     },
     "execution_count": 24,
     "metadata": {},
     "output_type": "execute_result"
    }
   ],
   "source": [
    "# example subtopic 'cell biology' \n",
    "df[df['subtopic'] == 'cell biology']['topic'].value_counts()"
   ]
  },
  {
   "cell_type": "markdown",
   "metadata": {},
   "source": [
    "#### We want to join some of the subtopics, so that we have lesser and larger subtopics to classify."
   ]
  },
  {
   "cell_type": "markdown",
   "metadata": {},
   "source": [
    "### Reducing the subtopics"
   ]
  },
  {
   "cell_type": "code",
   "execution_count": 25,
   "metadata": {},
   "outputs": [],
   "source": [
    "#from .. WorkingPaper.preprocessing.utils import make_broader_subdisciplines_physics\n",
    "#make_broader_subdisciplines_physics()"
   ]
  },
  {
   "cell_type": "code",
   "execution_count": 26,
   "metadata": {},
   "outputs": [
    {
     "name": "stdout",
     "output_type": "stream",
     "text": [
      "Counter({'mathematical physics': 107, 'astrophysics': 101, 'condensed matter': 100, 'quantum physics': 89, 'general relativity and quantum cosmology': 87, 'high energy physics - phenomenology': 69, 'nonlinear sciences': 64, 'high energy physics - experiment': 55, 'nuclear theory': 24, 'astronomy': 21, 'nuclear experiment': 16, 'high energy physics - lattice': 12, 'quantum mechanics': 5, 'neuroscience': 4, 'classical mechanics': 4, 'computational physics': 3, 'statistical physics': 2, 'optics': 2, 'mechanics': 2, 'biological system': 2, 'chemical physics': 1, 'theoretical physics': 1, 'nuclear physics': 1, 'geometry': 1, 'systems engineering': 1, 'electrical engineering': 1, 'simulation': 1, 'applied mathematics': 1, 'atomic physics': 1, 'nuclear medicine': 1, 'quantum electrodynamics': 1, 'optoelectronics': 1, 'molecular physics': 1, 'particle physics': 1, 'astrobiology': 1, 'geochemistry': 1})\n"
     ]
    }
   ],
   "source": [
    "# Printing the subtopics from the field \"physics\", for matching purposes\n",
    "print(Counter(data[data['topic'] == 'physics']['subtopic']))"
   ]
  },
  {
   "cell_type": "code",
   "execution_count": 27,
   "metadata": {},
   "outputs": [],
   "source": [
    "# Make a mapping of physics subtopics from our api data to more generalised physics subtopics\n",
    "physics_mapping_dict = {'astrophysics': ['astronomy', 'astrophysics', 'astrobiology'],\\\n",
    "    'condensed matter': ['condensed matter', 'statistical physics', 'neuroscience', 'biological system', 'nanotechnology', 'molecular physics', 'computational physics'],\\\n",
    "    'general relativy and cosmology': ['classical mechanics', 'mechanics', 'optics'],\\\n",
    "    'high energy physics': ['atomic physics', 'particle physics'],\\\n",
    "    'mathematical physics': ['geometry', 'mathematical physics', 'applied mathematics', 'theoretical physics', 'pure mathematics'],\\\n",
    "    'nuclear': ['nuclear physics', 'nuclear medicine', 'physical medicine and rehabilitation'],\\\n",
    "    'quantum physics': ['quantum mechanics', 'quantum electrodinamics']}"
   ]
  },
  {
   "cell_type": "code",
   "execution_count": 28,
   "metadata": {},
   "outputs": [
    {
     "data": {
      "text/plain": [
       "{'astronomy': 'astrophysics',\n",
       " 'astrophysics': 'astrophysics',\n",
       " 'astrobiology': 'astrophysics',\n",
       " 'condensed matter': 'condensed matter',\n",
       " 'statistical physics': 'condensed matter',\n",
       " 'neuroscience': 'condensed matter',\n",
       " 'biological system': 'condensed matter',\n",
       " 'nanotechnology': 'condensed matter',\n",
       " 'molecular physics': 'condensed matter',\n",
       " 'computational physics': 'condensed matter',\n",
       " 'classical mechanics': 'general relativy and cosmology',\n",
       " 'mechanics': 'general relativy and cosmology',\n",
       " 'optics': 'general relativy and cosmology',\n",
       " 'atomic physics': 'high energy physics',\n",
       " 'particle physics': 'high energy physics',\n",
       " 'geometry': 'mathematical physics',\n",
       " 'mathematical physics': 'mathematical physics',\n",
       " 'applied mathematics': 'mathematical physics',\n",
       " 'theoretical physics': 'mathematical physics',\n",
       " 'pure mathematics': 'mathematical physics',\n",
       " 'nuclear physics': 'nuclear',\n",
       " 'nuclear medicine': 'nuclear',\n",
       " 'physical medicine and rehabilitation': 'nuclear',\n",
       " 'quantum mechanics': 'quantum physics',\n",
       " 'quantum electrodinamics': 'quantum physics'}"
      ]
     },
     "execution_count": 28,
     "metadata": {},
     "output_type": "execute_result"
    }
   ],
   "source": [
    "# Turning the dict, which as accidentally coded the wrong way around\n",
    "def turn_dict(physic_dict):\n",
    "    new_dict = {}\n",
    "    for key, values in physic_dict.items():\n",
    "        for value in values:\n",
    "            new_dict[value]=key\n",
    "    return new_dict\n",
    "\n",
    "new_mapping_dict = turn_dict(physics_mapping_dict)\n",
    "new_mapping_dict"
   ]
  },
  {
   "cell_type": "code",
   "execution_count": 29,
   "metadata": {},
   "outputs": [
    {
     "data": {
      "text/html": [
       "<div>\n",
       "<style scoped>\n",
       "    .dataframe tbody tr th:only-of-type {\n",
       "        vertical-align: middle;\n",
       "    }\n",
       "\n",
       "    .dataframe tbody tr th {\n",
       "        vertical-align: top;\n",
       "    }\n",
       "\n",
       "    .dataframe thead th {\n",
       "        text-align: right;\n",
       "    }\n",
       "</style>\n",
       "<table border=\"1\" class=\"dataframe\">\n",
       "  <thead>\n",
       "    <tr style=\"text-align: right;\">\n",
       "      <th></th>\n",
       "      <th>id</th>\n",
       "      <th>title</th>\n",
       "      <th>text</th>\n",
       "      <th>topic</th>\n",
       "      <th>subtopic</th>\n",
       "      <th>total words per text</th>\n",
       "      <th>modified text</th>\n",
       "      <th>words per modified text</th>\n",
       "      <th>broader_subtopic</th>\n",
       "    </tr>\n",
       "  </thead>\n",
       "  <tbody>\n",
       "    <tr>\n",
       "      <th>41</th>\n",
       "      <td>https://openalex.org/w1955575446</td>\n",
       "      <td>sharp wave-associated high-frequency oscillati...</td>\n",
       "      <td>the  journal  of  neuroscience    january     ...</td>\n",
       "      <td>physics</td>\n",
       "      <td>neuroscience</td>\n",
       "      <td>90278</td>\n",
       "      <td>[journal, neuroscience, wave, hippocampus, net...</td>\n",
       "      <td>1858</td>\n",
       "      <td>condensed matter</td>\n",
       "    </tr>\n",
       "    <tr>\n",
       "      <th>44</th>\n",
       "      <td>https://openalex.org/w2025236523</td>\n",
       "      <td>entanglement measures and purification procedures</td>\n",
       "      <td>physical review a  volume     number    march ...</td>\n",
       "      <td>physics</td>\n",
       "      <td>quantum mechanics</td>\n",
       "      <td>102312</td>\n",
       "      <td>[review, volume, number, march, measure, puri,...</td>\n",
       "      <td>1993</td>\n",
       "      <td>quantum physics</td>\n",
       "    </tr>\n",
       "    <tr>\n",
       "      <th>49</th>\n",
       "      <td>https://openalex.org/w2102582588</td>\n",
       "      <td>the peregrine soliton in nonlinear fibre optics</td>\n",
       "      <td>letters  published online     august        do...</td>\n",
       "      <td>physics</td>\n",
       "      <td>quantum mechanics</td>\n",
       "      <td>32391</td>\n",
       "      <td>[letter, online, august, doi, peregrine, solit...</td>\n",
       "      <td>1733</td>\n",
       "      <td>quantum physics</td>\n",
       "    </tr>\n",
       "    <tr>\n",
       "      <th>57</th>\n",
       "      <td>https://openalex.org/w2005241888</td>\n",
       "      <td>constant temperature molecular dynamics methods</td>\n",
       "      <td>progress of theoretical  physics supplement no...</td>\n",
       "      <td>physics</td>\n",
       "      <td>statistical physics</td>\n",
       "      <td>123550</td>\n",
       "      <td>[progress, supplement, temperature, method, sh...</td>\n",
       "      <td>1257</td>\n",
       "      <td>condensed matter</td>\n",
       "    </tr>\n",
       "    <tr>\n",
       "      <th>94</th>\n",
       "      <td>https://openalex.org/w1969658805</td>\n",
       "      <td>on the measurement of a weak classical force c...</td>\n",
       "      <td>abstract  terms focusing attention on  the  dy...</td>\n",
       "      <td>physics</td>\n",
       "      <td>quantum mechanics</td>\n",
       "      <td>182269</td>\n",
       "      <td>[term, focus, attention, system, measure, evol...</td>\n",
       "      <td>1376</td>\n",
       "      <td>quantum physics</td>\n",
       "    </tr>\n",
       "  </tbody>\n",
       "</table>\n",
       "</div>"
      ],
      "text/plain": [
       "                                  id  \\\n",
       "41  https://openalex.org/w1955575446   \n",
       "44  https://openalex.org/w2025236523   \n",
       "49  https://openalex.org/w2102582588   \n",
       "57  https://openalex.org/w2005241888   \n",
       "94  https://openalex.org/w1969658805   \n",
       "\n",
       "                                                title  \\\n",
       "41  sharp wave-associated high-frequency oscillati...   \n",
       "44  entanglement measures and purification procedures   \n",
       "49    the peregrine soliton in nonlinear fibre optics   \n",
       "57    constant temperature molecular dynamics methods   \n",
       "94  on the measurement of a weak classical force c...   \n",
       "\n",
       "                                                 text    topic  \\\n",
       "41  the  journal  of  neuroscience    january     ...  physics   \n",
       "44  physical review a  volume     number    march ...  physics   \n",
       "49  letters  published online     august        do...  physics   \n",
       "57  progress of theoretical  physics supplement no...  physics   \n",
       "94  abstract  terms focusing attention on  the  dy...  physics   \n",
       "\n",
       "               subtopic  total words per text  \\\n",
       "41         neuroscience                 90278   \n",
       "44    quantum mechanics                102312   \n",
       "49    quantum mechanics                 32391   \n",
       "57  statistical physics                123550   \n",
       "94    quantum mechanics                182269   \n",
       "\n",
       "                                        modified text  \\\n",
       "41  [journal, neuroscience, wave, hippocampus, net...   \n",
       "44  [review, volume, number, march, measure, puri,...   \n",
       "49  [letter, online, august, doi, peregrine, solit...   \n",
       "57  [progress, supplement, temperature, method, sh...   \n",
       "94  [term, focus, attention, system, measure, evol...   \n",
       "\n",
       "    words per modified text  broader_subtopic  \n",
       "41                     1858  condensed matter  \n",
       "44                     1993   quantum physics  \n",
       "49                     1733   quantum physics  \n",
       "57                     1257  condensed matter  \n",
       "94                     1376   quantum physics  "
      ]
     },
     "execution_count": 29,
     "metadata": {},
     "output_type": "execute_result"
    }
   ],
   "source": [
    "# Mapping the subtopics from the mapping dict to the broader subtopics\n",
    "data['broader_subtopic'] = data.where(data['topic'] == 'physics')['subtopic'].map(new_mapping_dict)\n",
    "data[data['topic'] == 'physics'].head()"
   ]
  },
  {
   "cell_type": "code",
   "execution_count": 30,
   "metadata": {},
   "outputs": [
    {
     "data": {
      "text/plain": [
       "astrophysics                      123\n",
       "condensed matter                  112\n",
       "mathematical physics              110\n",
       "general relativy and cosmology      8\n",
       "quantum physics                     5\n",
       "nuclear                             2\n",
       "high energy physics                 2\n",
       "Name: broader_subtopic, dtype: int64"
      ]
     },
     "execution_count": 30,
     "metadata": {},
     "output_type": "execute_result"
    }
   ],
   "source": [
    "# Checking if it worked\n",
    "data['broader_subtopic'].value_counts()"
   ]
  },
  {
   "cell_type": "code",
   "execution_count": 31,
   "metadata": {},
   "outputs": [
    {
     "data": {
      "text/plain": [
       "(3188, 9)"
      ]
     },
     "execution_count": 31,
     "metadata": {},
     "output_type": "execute_result"
    }
   ],
   "source": [
    "# 'mathematical physics' is excluded (too similar to mathematics)\n",
    "data = data[data['broader_subtopic'] != 'mathematical physics']\n",
    "data.shape"
   ]
  },
  {
   "cell_type": "code",
   "execution_count": 32,
   "metadata": {},
   "outputs": [
    {
     "data": {
      "text/plain": [
       "genetics and molecular biology    151\n",
       "microbiology                      102\n",
       "physiology                         96\n",
       "computational biology              54\n",
       "botany                             14\n",
       "evolutionary biology               13\n",
       "ecology                             9\n",
       "zoology                             6\n",
       "Name: broader_subtopic, dtype: int64"
      ]
     },
     "execution_count": 32,
     "metadata": {},
     "output_type": "execute_result"
    }
   ],
   "source": [
    "# Make a mapping of biology subtopics from our api data to more generalised biology subtopics\n",
    "biology_mapping_dict = {'zoology': 'zoology', 'fishery':'zoology', 'animal science':'zoology', 'oceanography': 'zoology', 'cancer research':'genetics and molecular biology', \\\n",
    "    'biochemical engineering': 'genetics and molecular biology', 'genetics': 'genetics and molecular biology', 'molecular biology': 'genetics and molecular biology','biochemistry': 'genetics and molecular biology', 'chromatography': 'genetics and molecular biology', \\\n",
    "    'biotechnology':'genetics and molecular biology', 'biophysics': 'genetics and molecular biology', 'horticulture': 'botany','forestry': 'botany', 'agroforestry': 'botany', \\\n",
    "    'endocrinology': 'physiology', 'immunology': 'physiology', 'neuroscience': 'physiology', 'biological system': 'physiology', \\\n",
    "    'cell biology': 'microbiology', 'virology': 'microbiology', 'microbiology': 'microbiology', \\\n",
    "    'soil science': 'ecology', 'environmental health': 'ecology', 'environmental chemistry': 'ecology', 'ecology': 'ecology', \\\n",
    "    'computational biology': 'computational biology', 'bioinformatics': 'computational biology', 'statistics': 'computational biology',\n",
    "    'database': 'computational biology', 'data mining': 'computational biology', 'world wide web': 'computational biology', 'data science': 'computational biology', 'information retrieval': 'computational biology', 'algorithm': 'computational biology', 'programming language': 'computational biology', 'artificial intelligence': 'computational biology',\\\n",
    "    'evolutionary biology': 'evolutionary biology', 'botany': 'botany', 'physiology': 'physiology', 'internal medicine': 'physiology', 'anatomy': 'physiology', 'pathology':'physiology'}\n",
    "\n",
    "# Mapping the subtopics from the mapping dict to the broader subtopics\n",
    "data['broader_subtopic'] = data.where(data['topic'] == 'biology')['subtopic'].map(biology_mapping_dict)\n",
    "\n",
    "# Checking if it worked\n",
    "data['broader_subtopic'].value_counts()"
   ]
  },
  {
   "cell_type": "code",
   "execution_count": 33,
   "metadata": {},
   "outputs": [
    {
     "data": {
      "text/plain": [
       "(3038, 9)"
      ]
     },
     "execution_count": 33,
     "metadata": {},
     "output_type": "execute_result"
    }
   ],
   "source": [
    "# \"physiology\" and \"computational biology\" are excluded (too similar to medicine and computer science)\n",
    "data = data[data['broader_subtopic'] != 'physiology']\n",
    "data = data[data['broader_subtopic'] != 'computational biology']\n",
    "data.shape"
   ]
  },
  {
   "cell_type": "code",
   "execution_count": 34,
   "metadata": {},
   "outputs": [
    {
     "data": {
      "text/plain": [
       "array(['pediatrics', 'internal medicine', 'psychiatry', 'cardiology',\n",
       "       'intensive care medicine', 'cancer research', 'radiology',\n",
       "       'immunology', 'gerontology', 'environmental health',\n",
       "       'clinical psychology', 'gynecology', 'family medicine',\n",
       "       'endocrinology', 'algorithm', 'neuroscience', 'pharmacology',\n",
       "       'physical medicine and rehabilitation', 'oncology', 'pathology',\n",
       "       'medical emergency', 'gastroenterology', 'demography', 'dentistry',\n",
       "       'cell biology', 'environmental ethics', 'anatomy',\n",
       "       'physical therapy', 'surgery', 'audiology', 'physiology',\n",
       "       'virology', 'emergency medicine', 'optics', 'nursing',\n",
       "       'medical physics', 'anesthesia', 'genetics', 'andrology',\n",
       "       'nuclear magnetic resonance', 'bioinformatics', 'general surgery',\n",
       "       'orthodontics', 'data science', 'microbiology', 'nuclear medicine',\n",
       "       'obstetrics', 'microeconomics', 'biotechnology', 'urology',\n",
       "       'computational biology', 'psychotherapist', 'medical education',\n",
       "       'animal science', 'food science'], dtype=object)"
      ]
     },
     "execution_count": 34,
     "metadata": {},
     "output_type": "execute_result"
    }
   ],
   "source": [
    "# Getting subtopics from the medical field\n",
    "data[data['topic'] == 'medicine']['subtopic'].unique()"
   ]
  },
  {
   "cell_type": "code",
   "execution_count": 35,
   "metadata": {},
   "outputs": [],
   "source": [
    "# Filtering the data to exclude interdisciplinary medical subtopics (for more distinguishability)\n",
    "data = data[(data['topic'] != 'medicine') & (data['subtopic'] != 'algorithm')]\n",
    "data = data[(data['topic'] != 'medicine') & (data['subtopic'] != 'cell biology')]\n",
    "data = data[(data['topic'] != 'medicine') & (data['subtopic'] != 'environmental ethics')]\n",
    "data = data[(data['topic'] != 'medicine') & (data['subtopic'] != 'virology')]\n",
    "data = data[(data['topic'] != 'medicine') & (data['subtopic'] != 'optics')]\n",
    "data = data[(data['topic'] != 'medicine') & (data['subtopic'] != 'nursing')]\n",
    "data = data[(data['topic'] != 'medicine') & (data['subtopic'] != 'medical physics')]\n",
    "data = data[(data['topic'] != 'medicine') & (data['subtopic'] != 'genetics')]\n",
    "data = data[(data['topic'] != 'medicine') & (data['subtopic'] != 'bioinformatics')]\n",
    "data = data[(data['topic'] != 'medicine') & (data['subtopic'] != 'data science')]\n",
    "data = data[(data['topic'] != 'medicine') & (data['subtopic'] != 'microbiology')]\n",
    "data = data[(data['topic'] != 'medicine') & (data['subtopic'] != 'microeconomics')]\n",
    "data = data[(data['topic'] != 'medicine') & (data['subtopic'] != 'biotechnology')]\n",
    "data = data[(data['topic'] != 'medicine') & (data['subtopic'] != 'computational biology')]\n",
    "data = data[(data['topic'] != 'medicine') & (data['subtopic'] != 'psychotherapist')]\n",
    "data = data[(data['topic'] != 'medicine') & (data['subtopic'] != 'animal science')]\n",
    "data = data[(data['topic'] != 'medicine') & (data['subtopic'] != 'food science')]"
   ]
  },
  {
   "cell_type": "markdown",
   "metadata": {},
   "source": [
    "### Getting rid of rare topics and subtopics"
   ]
  },
  {
   "cell_type": "code",
   "execution_count": 36,
   "metadata": {},
   "outputs": [
    {
     "data": {
      "text/plain": [
       "Index(['mathematics', 'physics', 'biology', 'psychology'], dtype='object')"
      ]
     },
     "execution_count": 36,
     "metadata": {},
     "output_type": "execute_result"
    }
   ],
   "source": [
    "# Filtering for those topics that occurr more commonly in our data        <----- percentile can be adjusted\n",
    "common_topics = (data['topic'].value_counts() > np.percentile(data['topic'].value_counts(), 80)) # topic occurrence until xxth percentile\n",
    "filtered_topics = common_topics[common_topics == True].index\n",
    "filtered_topics"
   ]
  },
  {
   "cell_type": "code",
   "execution_count": 37,
   "metadata": {},
   "outputs": [
    {
     "data": {
      "text/plain": [
       "Index(['astrophysics', 'condensed matter', 'quantum physics', 'combinatorics',\n",
       "       'general relativity and quantum cosmology', 'analysis of pdes',\n",
       "       'optimization and control', 'probability',\n",
       "       'high energy physics - phenomenology', 'high energy physics - theory',\n",
       "       'nonlinear sciences', 'numerical analysis', 'algebraic geometry',\n",
       "       'molecular biology', 'high energy physics - experiment',\n",
       "       'information theory', 'dynamical systems', 'number theory',\n",
       "       'biochemistry', 'neuroscience', 'differential geometry',\n",
       "       'functional analysis', 'statistics theory', 'nanotechnology',\n",
       "       'classical analysis and odes', 'complex variables', 'nuclear theory',\n",
       "       'algebraic topology', 'representation theory', 'ecology',\n",
       "       'geometric topology', 'astronomy', 'cancer research', 'group theory',\n",
       "       'commutative algebra', 'biophysics', 'rings and algebras',\n",
       "       'nuclear experiment', 'cognitive psychology', 'social psychology',\n",
       "       'botany', 'evolutionary biology'],\n",
       "      dtype='object')"
      ]
     },
     "execution_count": 37,
     "metadata": {},
     "output_type": "execute_result"
    }
   ],
   "source": [
    "# Filtering for those subtopics that occurr more commonly in our data     <----- percentile can be adjusted\n",
    "common_subtopics = (data['subtopic'].value_counts() > np.percentile(data['subtopic'].value_counts(), 80))\n",
    "filtered_subtopics = common_subtopics[common_subtopics == True].index\n",
    "filtered_subtopics"
   ]
  },
  {
   "cell_type": "code",
   "execution_count": 38,
   "metadata": {},
   "outputs": [
    {
     "data": {
      "text/plain": [
       "(1729, 9)"
      ]
     },
     "execution_count": 38,
     "metadata": {},
     "output_type": "execute_result"
    }
   ],
   "source": [
    "# Filtering data according to the topics and subtopics that are more common\n",
    "data = data[data['subtopic'].isin(list(filtered_subtopics)) & data['topic'].isin(list(filtered_topics))]\n",
    "data.shape\n",
    "\n",
    "# There is a catch here though, because the occurrence of both, topics and subtopics, depend on each other.\n",
    "# This might leave us with some scarcely represented topics and subtopics still.\n",
    "# Should there be some time left before the deadline, this should be optimized."
   ]
  },
  {
   "cell_type": "code",
   "execution_count": 39,
   "metadata": {},
   "outputs": [],
   "source": [
    "# Filtering data according to the topics that are more common\n",
    "#data = data[data['topic'].isin(list(filtered_topics))]\n",
    "\n",
    "# That's much worse than filtering for common topics and subtopics at the same time. \n",
    "# Although the above procedure isn't opitmal, it's a measure to reduce all the branching, so we'll stick with it for now."
   ]
  },
  {
   "cell_type": "code",
   "execution_count": 40,
   "metadata": {},
   "outputs": [
    {
     "data": {
      "image/png": "[encoded data removed]",
      "text/plain": [
       "<Figure size 1500x500 with 1 Axes>"
      ]
     },
     "metadata": {},
     "output_type": "display_data"
    }
   ],
   "source": [
    "# The remaining topics and the subtopics are distributed as such:\n",
    "plt.figure(figsize=(15, 5))\n",
    "plt.hist(data['topic'], bins=data['topic'].nunique())\n",
    "plt.hist(data['subtopic'], bins=data['subtopic'].nunique())\n",
    "plt.xticks(rotation = 90)\n",
    "plt.show()"
   ]
  },
  {
   "cell_type": "markdown",
   "metadata": {},
   "source": [
    "#### For this model however, we will only use the main academic fields (in blue)."
   ]
  },
  {
   "cell_type": "code",
   "execution_count": 41,
   "metadata": {},
   "outputs": [
    {
     "name": "stdout",
     "output_type": "stream",
     "text": [
      "Counter({'mathematics': 918, 'physics': 630, 'biology': 129, 'psychology': 52})\n"
     ]
    }
   ],
   "source": [
    "# Printing precise number of occurances for each topic\n",
    "print(Counter(data['topic']))"
   ]
  },
  {
   "cell_type": "code",
   "execution_count": 42,
   "metadata": {},
   "outputs": [],
   "source": [
    "# Saving preprocessed data in a csv\n",
    "data.to_csv(f'../preprocessed_data/preprocessed_3kdata_nouns.csv', index=False)"
   ]
  },
  {
   "cell_type": "markdown",
   "metadata": {},
   "source": [
    "#### The topics and subtopics are highly imbalanced still. They are our targets!!! So, we need to rebalance them (in the training set only) once we made our train-test.split.\n",
    "\n",
    "#### Before though, based on this new shape of the dataframe, we will create word embeddings with Word2Vec!"
   ]
  },
  {
   "cell_type": "markdown",
   "metadata": {},
   "source": [
    "### Word2Vec embedding of the text of the scientific papers"
   ]
  },
  {
   "cell_type": "code",
   "execution_count": 43,
   "metadata": {},
   "outputs": [],
   "source": [
    "# Load preprocessed data\n",
    "data = pd.read_csv('../preprocessed_data/preprocessed_10kdata_nouns.csv')"
   ]
  },
  {
   "cell_type": "code",
   "execution_count": 44,
   "metadata": {},
   "outputs": [
    {
     "name": "stdout",
     "output_type": "stream",
     "text": [
      "Vocabulary size 400000\n"
     ]
    }
   ],
   "source": [
    "# Downloading a pre-trained Word2Vec model, that delivers a 50 space vector representation of any word present in the Wikipedia in 2014\n",
    "word2vec_transfer = api.load(\"glove-wiki-gigaword-50\")\n",
    "word2vec_transfer['saturn'].shape # checking the shape of the vectors: (50, )\n",
    "print('Vocabulary size', len(word2vec_transfer))"
   ]
  },
  {
   "cell_type": "code",
   "execution_count": 45,
   "metadata": {},
   "outputs": [],
   "source": [
    "# Function to convert a paper (list of words) into a matrix representing the words in the embedding space\n",
    "def embed_paper(word2vec_space, paper):\n",
    "    embedded_paper = []\n",
    "    for word in paper:\n",
    "        if word in word2vec_space:\n",
    "            embedded_paper.append(word2vec_space[word])\n",
    "        \n",
    "    return np.array(embedded_paper)"
   ]
  },
  {
   "cell_type": "code",
   "execution_count": 46,
   "metadata": {},
   "outputs": [
    {
     "data": {
      "text/plain": [
       "(13774, 50)"
      ]
     },
     "execution_count": 46,
     "metadata": {},
     "output_type": "execute_result"
    }
   ],
   "source": [
    "# Testing the function\n",
    "test_sentence_embedded = embed_paper(word2vec_transfer, data['modified text'][0])\n",
    "test_sentence_embedded.shape # some words have been skipped, because certainly they weren't contained in the glove-wiki-gigaword-50 representation"
   ]
  },
  {
   "cell_type": "code",
   "execution_count": 47,
   "metadata": {},
   "outputs": [],
   "source": [
    "# Function to convert a list of papers into a list of matrices\n",
    "def embedding(word2vec_space, series_of_papers):\n",
    "    embed = []\n",
    "    \n",
    "    for ele in series_of_papers:\n",
    "        embedded_article = embed_paper(word2vec_space, ele)\n",
    "        embed.append(embedded_article)\n",
    "        \n",
    "    return embed"
   ]
  },
  {
   "cell_type": "code",
   "execution_count": 48,
   "metadata": {},
   "outputs": [
    {
     "data": {
      "text/html": [
       "<div>\n",
       "<style scoped>\n",
       "    .dataframe tbody tr th:only-of-type {\n",
       "        vertical-align: middle;\n",
       "    }\n",
       "\n",
       "    .dataframe tbody tr th {\n",
       "        vertical-align: top;\n",
       "    }\n",
       "\n",
       "    .dataframe thead th {\n",
       "        text-align: right;\n",
       "    }\n",
       "</style>\n",
       "<table border=\"1\" class=\"dataframe\">\n",
       "  <thead>\n",
       "    <tr style=\"text-align: right;\">\n",
       "      <th></th>\n",
       "      <th>Unnamed: 0.1</th>\n",
       "      <th>Unnamed: 0.1.1</th>\n",
       "      <th>Unnamed: 0.1.1.1</th>\n",
       "      <th>id</th>\n",
       "      <th>title</th>\n",
       "      <th>text</th>\n",
       "      <th>topic</th>\n",
       "      <th>subtopic</th>\n",
       "      <th>total words per text</th>\n",
       "      <th>modified text</th>\n",
       "      <th>words per modified text</th>\n",
       "      <th>broader_subtopic</th>\n",
       "      <th>embedded text</th>\n",
       "    </tr>\n",
       "  </thead>\n",
       "  <tbody>\n",
       "    <tr>\n",
       "      <th>0</th>\n",
       "      <td>9.0</td>\n",
       "      <td>9.0</td>\n",
       "      <td>9.0</td>\n",
       "      <td>https://openalex.org/w1968762427</td>\n",
       "      <td>rapid amplification of plasmid and phage dna u...</td>\n",
       "      <td>downloaded from   genome cshlp org   on septem...</td>\n",
       "      <td>biology</td>\n",
       "      <td>molecular biology</td>\n",
       "      <td>23397</td>\n",
       "      <td>['download', 'genome', 'cshlp', 'cold', 'sprin...</td>\n",
       "      <td>1504</td>\n",
       "      <td>genetics and molecular biology</td>\n",
       "      <td>[[-0.61201, 0.98226, 0.11539, 0.014623, 0.2387...</td>\n",
       "    </tr>\n",
       "    <tr>\n",
       "      <th>1</th>\n",
       "      <td>13.0</td>\n",
       "      <td>13.0</td>\n",
       "      <td>13.0</td>\n",
       "      <td>https://openalex.org/w2008205728</td>\n",
       "      <td>marginal likelihood from the metropolis–hastin...</td>\n",
       "      <td>marginal likelihood from the metropolis hastin...</td>\n",
       "      <td>mathematics</td>\n",
       "      <td>econometrics</td>\n",
       "      <td>62078</td>\n",
       "      <td>['likelihood', 'metropolis', 'hastings', 'outp...</td>\n",
       "      <td>1416</td>\n",
       "      <td>NaN</td>\n",
       "      <td>[[-0.61201, 0.98226, 0.11539, 0.014623, 0.2387...</td>\n",
       "    </tr>\n",
       "    <tr>\n",
       "      <th>2</th>\n",
       "      <td>14.0</td>\n",
       "      <td>14.0</td>\n",
       "      <td>14.0</td>\n",
       "      <td>https://openalex.org/w2053593733</td>\n",
       "      <td>diagnosing schizophrenia in the initial prodro...</td>\n",
       "      <td>original article  diagnosing schizophrenia in ...</td>\n",
       "      <td>psychology</td>\n",
       "      <td>clinical psychology</td>\n",
       "      <td>40451</td>\n",
       "      <td>['article', 'phase', 'joachim', 'klosterko', '...</td>\n",
       "      <td>1769</td>\n",
       "      <td>NaN</td>\n",
       "      <td>[[-0.61201, 0.98226, 0.11539, 0.014623, 0.2387...</td>\n",
       "    </tr>\n",
       "    <tr>\n",
       "      <th>3</th>\n",
       "      <td>15.0</td>\n",
       "      <td>15.0</td>\n",
       "      <td>15.0</td>\n",
       "      <td>https://openalex.org/w2099571549</td>\n",
       "      <td>microbial communities in acid mine drainage</td>\n",
       "      <td>abstract  the dissolution of sulfide minerals ...</td>\n",
       "      <td>biology</td>\n",
       "      <td>ecology</td>\n",
       "      <td>71203</td>\n",
       "      <td>['dissolution', 'pyrite', 'fe', 'feass', 'chal...</td>\n",
       "      <td>1670</td>\n",
       "      <td>ecology</td>\n",
       "      <td>[[-0.61201, 0.98226, 0.11539, 0.014623, 0.2387...</td>\n",
       "    </tr>\n",
       "    <tr>\n",
       "      <th>4</th>\n",
       "      <td>19.0</td>\n",
       "      <td>19.0</td>\n",
       "      <td>19.0</td>\n",
       "      <td>https://openalex.org/w2123562143</td>\n",
       "      <td>polynomial time algorithms for multicast netwo...</td>\n",
       "      <td>abstract the famous max  ow min cut theorem st...</td>\n",
       "      <td>mathematics</td>\n",
       "      <td>combinatorics</td>\n",
       "      <td>45200</td>\n",
       "      <td>['max', 'cut', 'theorem', 'state', 'source', '...</td>\n",
       "      <td>1539</td>\n",
       "      <td>NaN</td>\n",
       "      <td>[[-0.61201, 0.98226, 0.11539, 0.014623, 0.2387...</td>\n",
       "    </tr>\n",
       "  </tbody>\n",
       "</table>\n",
       "</div>"
      ],
      "text/plain": [
       "   Unnamed: 0.1  Unnamed: 0.1.1  Unnamed: 0.1.1.1  \\\n",
       "0           9.0             9.0               9.0   \n",
       "1          13.0            13.0              13.0   \n",
       "2          14.0            14.0              14.0   \n",
       "3          15.0            15.0              15.0   \n",
       "4          19.0            19.0              19.0   \n",
       "\n",
       "                                 id  \\\n",
       "0  https://openalex.org/w1968762427   \n",
       "1  https://openalex.org/w2008205728   \n",
       "2  https://openalex.org/w2053593733   \n",
       "3  https://openalex.org/w2099571549   \n",
       "4  https://openalex.org/w2123562143   \n",
       "\n",
       "                                               title  \\\n",
       "0  rapid amplification of plasmid and phage dna u...   \n",
       "1  marginal likelihood from the metropolis–hastin...   \n",
       "2  diagnosing schizophrenia in the initial prodro...   \n",
       "3        microbial communities in acid mine drainage   \n",
       "4  polynomial time algorithms for multicast netwo...   \n",
       "\n",
       "                                                text        topic  \\\n",
       "0  downloaded from   genome cshlp org   on septem...      biology   \n",
       "1  marginal likelihood from the metropolis hastin...  mathematics   \n",
       "2  original article  diagnosing schizophrenia in ...   psychology   \n",
       "3  abstract  the dissolution of sulfide minerals ...      biology   \n",
       "4  abstract the famous max  ow min cut theorem st...  mathematics   \n",
       "\n",
       "              subtopic  total words per text  \\\n",
       "0    molecular biology                 23397   \n",
       "1         econometrics                 62078   \n",
       "2  clinical psychology                 40451   \n",
       "3              ecology                 71203   \n",
       "4        combinatorics                 45200   \n",
       "\n",
       "                                       modified text  words per modified text  \\\n",
       "0  ['download', 'genome', 'cshlp', 'cold', 'sprin...                     1504   \n",
       "1  ['likelihood', 'metropolis', 'hastings', 'outp...                     1416   \n",
       "2  ['article', 'phase', 'joachim', 'klosterko', '...                     1769   \n",
       "3  ['dissolution', 'pyrite', 'fe', 'feass', 'chal...                     1670   \n",
       "4  ['max', 'cut', 'theorem', 'state', 'source', '...                     1539   \n",
       "\n",
       "                 broader_subtopic  \\\n",
       "0  genetics and molecular biology   \n",
       "1                             NaN   \n",
       "2                             NaN   \n",
       "3                         ecology   \n",
       "4                             NaN   \n",
       "\n",
       "                                       embedded text  \n",
       "0  [[-0.61201, 0.98226, 0.11539, 0.014623, 0.2387...  \n",
       "1  [[-0.61201, 0.98226, 0.11539, 0.014623, 0.2387...  \n",
       "2  [[-0.61201, 0.98226, 0.11539, 0.014623, 0.2387...  \n",
       "3  [[-0.61201, 0.98226, 0.11539, 0.014623, 0.2387...  \n",
       "4  [[-0.61201, 0.98226, 0.11539, 0.014623, 0.2387...  "
      ]
     },
     "execution_count": 48,
     "metadata": {},
     "output_type": "execute_result"
    }
   ],
   "source": [
    "# Adding a column with embedded words from the papers into data frame\n",
    "series_embedded = embedding(word2vec_transfer, data['modified text'])\n",
    "data['embedded text'] = series_embedded\n",
    "data.head()"
   ]
  },
  {
   "cell_type": "code",
   "execution_count": 49,
   "metadata": {},
   "outputs": [],
   "source": [
    "# Saving preprocessed data in a csv\n",
    "data = pd.read_csv('../preprocessed_data/preprocessed_10kdata_nouns_for_word2vec.csv')"
   ]
  },
  {
   "cell_type": "code",
   "execution_count": 50,
   "metadata": {},
   "outputs": [],
   "source": [
    "# Loading preprocessed data\n",
    "data = pd.read_csv('../preprocessed_data/preprocessed_10kdata_nouns_for_word2vec.csv')"
   ]
  },
  {
   "cell_type": "code",
   "execution_count": 51,
   "metadata": {},
   "outputs": [],
   "source": [
    "# Padding all the embedded words\n",
    "max_length_of_padding = 100\n",
    "X_pad = pad_sequences(series_embedded, dtype='float32', padding='post', value=0, maxlen=max_length_of_padding)"
   ]
  },
  {
   "cell_type": "markdown",
   "metadata": {},
   "source": [
    "### OneHot Encoding Targets"
   ]
  },
  {
   "cell_type": "code",
   "execution_count": 52,
   "metadata": {},
   "outputs": [
    {
     "data": {
      "text/html": [
       "<div>\n",
       "<style scoped>\n",
       "    .dataframe tbody tr th:only-of-type {\n",
       "        vertical-align: middle;\n",
       "    }\n",
       "\n",
       "    .dataframe tbody tr th {\n",
       "        vertical-align: top;\n",
       "    }\n",
       "\n",
       "    .dataframe thead th {\n",
       "        text-align: right;\n",
       "    }\n",
       "</style>\n",
       "<table border=\"1\" class=\"dataframe\">\n",
       "  <thead>\n",
       "    <tr style=\"text-align: right;\">\n",
       "      <th></th>\n",
       "      <th>topic_biology</th>\n",
       "      <th>topic_mathematics</th>\n",
       "      <th>topic_physics</th>\n",
       "      <th>topic_psychology</th>\n",
       "    </tr>\n",
       "  </thead>\n",
       "  <tbody>\n",
       "    <tr>\n",
       "      <th>0</th>\n",
       "      <td>1.0</td>\n",
       "      <td>0.0</td>\n",
       "      <td>0.0</td>\n",
       "      <td>0.0</td>\n",
       "    </tr>\n",
       "    <tr>\n",
       "      <th>1</th>\n",
       "      <td>0.0</td>\n",
       "      <td>1.0</td>\n",
       "      <td>0.0</td>\n",
       "      <td>0.0</td>\n",
       "    </tr>\n",
       "    <tr>\n",
       "      <th>2</th>\n",
       "      <td>0.0</td>\n",
       "      <td>0.0</td>\n",
       "      <td>0.0</td>\n",
       "      <td>1.0</td>\n",
       "    </tr>\n",
       "    <tr>\n",
       "      <th>3</th>\n",
       "      <td>1.0</td>\n",
       "      <td>0.0</td>\n",
       "      <td>0.0</td>\n",
       "      <td>0.0</td>\n",
       "    </tr>\n",
       "    <tr>\n",
       "      <th>4</th>\n",
       "      <td>0.0</td>\n",
       "      <td>1.0</td>\n",
       "      <td>0.0</td>\n",
       "      <td>0.0</td>\n",
       "    </tr>\n",
       "    <tr>\n",
       "      <th>...</th>\n",
       "      <td>...</td>\n",
       "      <td>...</td>\n",
       "      <td>...</td>\n",
       "      <td>...</td>\n",
       "    </tr>\n",
       "    <tr>\n",
       "      <th>2216</th>\n",
       "      <td>0.0</td>\n",
       "      <td>1.0</td>\n",
       "      <td>0.0</td>\n",
       "      <td>0.0</td>\n",
       "    </tr>\n",
       "    <tr>\n",
       "      <th>2217</th>\n",
       "      <td>0.0</td>\n",
       "      <td>1.0</td>\n",
       "      <td>0.0</td>\n",
       "      <td>0.0</td>\n",
       "    </tr>\n",
       "    <tr>\n",
       "      <th>2218</th>\n",
       "      <td>0.0</td>\n",
       "      <td>1.0</td>\n",
       "      <td>0.0</td>\n",
       "      <td>0.0</td>\n",
       "    </tr>\n",
       "    <tr>\n",
       "      <th>2219</th>\n",
       "      <td>0.0</td>\n",
       "      <td>1.0</td>\n",
       "      <td>0.0</td>\n",
       "      <td>0.0</td>\n",
       "    </tr>\n",
       "    <tr>\n",
       "      <th>2220</th>\n",
       "      <td>0.0</td>\n",
       "      <td>1.0</td>\n",
       "      <td>0.0</td>\n",
       "      <td>0.0</td>\n",
       "    </tr>\n",
       "  </tbody>\n",
       "</table>\n",
       "<p>2221 rows × 4 columns</p>\n",
       "</div>"
      ],
      "text/plain": [
       "      topic_biology  topic_mathematics  topic_physics  topic_psychology\n",
       "0               1.0                0.0            0.0               0.0\n",
       "1               0.0                1.0            0.0               0.0\n",
       "2               0.0                0.0            0.0               1.0\n",
       "3               1.0                0.0            0.0               0.0\n",
       "4               0.0                1.0            0.0               0.0\n",
       "...             ...                ...            ...               ...\n",
       "2216            0.0                1.0            0.0               0.0\n",
       "2217            0.0                1.0            0.0               0.0\n",
       "2218            0.0                1.0            0.0               0.0\n",
       "2219            0.0                1.0            0.0               0.0\n",
       "2220            0.0                1.0            0.0               0.0\n",
       "\n",
       "[2221 rows x 4 columns]"
      ]
     },
     "execution_count": 52,
     "metadata": {},
     "output_type": "execute_result"
    }
   ],
   "source": [
    "# OneHot Encoding topics\n",
    "enc = OneHotEncoder(handle_unknown='ignore', sparse=False)\n",
    "topic_targets_enc = pd.DataFrame(enc.fit_transform(data[['topic']]))\n",
    "topic_targets_enc.columns = enc.get_feature_names_out()\n",
    "topic_targets_enc"
   ]
  },
  {
   "cell_type": "markdown",
   "metadata": {},
   "source": [
    "#### Note to self: with <code>loss='sparse_categorical_crossentropy'</code> while compiling we don't need to OHE the target (which would alter the following process, but makes it more stable)."
   ]
  },
  {
   "cell_type": "markdown",
   "metadata": {},
   "source": [
    "## RNN Model on Word2Vec pretrained vectors"
   ]
  },
  {
   "cell_type": "code",
   "execution_count": 53,
   "metadata": {},
   "outputs": [
    {
     "name": "stdout",
     "output_type": "stream",
     "text": [
      "(1554, 100, 50)\n",
      "(1554, 4)\n"
     ]
    }
   ],
   "source": [
    "# Train test split\n",
    "X_train, X_test, y_train, y_test = train_test_split(X_pad, topic_targets_enc, test_size=0.3)\n",
    "print(X_train.shape)\n",
    "print(y_train.shape)"
   ]
  },
  {
   "cell_type": "markdown",
   "metadata": {},
   "source": [
    "#### The rebalancing due to strongly uneven distributed targets will be done by weighting each label's contribution to the cost function inversely proportional to the frequency of the label (since SMOTE doesn't seem to work on vectorized lists of words). \n",
    "#### The Keras model.fit() method has the hypterparameter class_weight that allows us to do this."
   ]
  },
  {
   "cell_type": "code",
   "execution_count": 54,
   "metadata": {},
   "outputs": [
    {
     "data": {
      "text/plain": [
       "{0: 1.2696078431372548,\n",
       " 1: 0.6023255813953489,\n",
       " 2: 0.8427331887201736,\n",
       " 3: 2.7359154929577465}"
      ]
     },
     "execution_count": 54,
     "metadata": {},
     "output_type": "execute_result"
    }
   ],
   "source": [
    "# Weighting the labels as a rebalancing technique\n",
    "y_integers = np.argmax(np.array(y_train), axis=1)\n",
    "class_weights = compute_class_weight(class_weight='balanced', classes=np.unique(y_integers), y=y_integers)\n",
    "d_class_weights = dict(enumerate(class_weights))\n",
    "d_class_weights"
   ]
  },
  {
   "cell_type": "markdown",
   "metadata": {},
   "source": [
    "#### With this dict, we will pass heigher weights for classes that are less present in our data set, that will be considered in the loss function. \n",
    "#### By doing this, we also increase the chance of overfitting to the rare labels, because our model will see the exact same X_train vectors for rarer labels several times instead of only once.\n",
    "#### So we will need to add some regularization."
   ]
  },
  {
   "cell_type": "code",
   "execution_count": 55,
   "metadata": {},
   "outputs": [],
   "source": [
    "# Defining Ridge Regularization\n",
    "reg_l2 = regularizers.L2(0.0001)"
   ]
  },
  {
   "cell_type": "markdown",
   "metadata": {},
   "source": [
    "#### Adding two L2 regularization layers decreases the accuracy on the test set dramatically instead of increasing it. Maybe we hadn't overfit before?"
   ]
  },
  {
   "cell_type": "code",
   "execution_count": 56,
   "metadata": {},
   "outputs": [],
   "source": [
    "# Experimenting with learning rate optimization for Adam   \n",
    "lr_schedule = ExponentialDecay(\n",
    "    initial_learning_rate=0.1,\n",
    "    decay_steps=100000,\n",
    "    decay_rate=0.96,\n",
    "    staircase=True)\n",
    "\n",
    "optimized_adam = Adam(learning_rate=lr_schedule)\n"
   ]
  },
  {
   "cell_type": "code",
   "execution_count": 57,
   "metadata": {},
   "outputs": [],
   "source": [
    "# Defining the F1 score manually\n",
    "from keras import backend as K\n",
    "\n",
    "def recall_m(y_true, y_pred):\n",
    "    true_positives = K.sum(K.round(K.clip(y_true * y_pred, 0, 1)))\n",
    "    possible_positives = K.sum(K.round(K.clip(y_true, 0, 1)))\n",
    "    recall = true_positives / (possible_positives + K.epsilon())\n",
    "    return recall\n",
    "\n",
    "def precision_m(y_true, y_pred):\n",
    "    true_positives = K.sum(K.round(K.clip(y_true * y_pred, 0, 1)))\n",
    "    predicted_positives = K.sum(K.round(K.clip(y_pred, 0, 1)))\n",
    "    precision = true_positives / (predicted_positives + K.epsilon())\n",
    "    return precision\n",
    "\n",
    "def f1_m(y_true, y_pred):\n",
    "    precision = precision_m(y_true, y_pred)\n",
    "    recall = recall_m(y_true, y_pred)\n",
    "    return 2*((precision*recall)/(precision+recall+K.epsilon()))\n"
   ]
  },
  {
   "cell_type": "code",
   "execution_count": 58,
   "metadata": {},
   "outputs": [],
   "source": [
    "# Model architecture\n",
    "def init_word2vev_rnn_model():\n",
    "    word2vev_rnn_model = Sequential()\n",
    "    word2vev_rnn_model.add(layers.Masking(input_shape=(X_train.shape[1], X_train.shape[2])))\n",
    "    word2vev_rnn_model.add(layers.LSTM(20, activation='tanh'))\n",
    "    #word2vev_rnn_model.add(layers.Dropout(rate=0.2)) \n",
    "    #word2vev_rnn_model.add(layers.Dense(20, activation='relu', kernel_regularizer=reg_l2))\n",
    "    word2vev_rnn_model.add(layers.Dense(20, activation='relu'))\n",
    "    #word2vev_rnn_model.add(layers.Dropout(rate=0.2)) \n",
    "    #word2vev_rnn_model.add(layers.Dense(15, activation='relu', kernel_regularizer=reg_l2))\n",
    "    word2vev_rnn_model.add(layers.Dense(10, activation='relu'))\n",
    "    #word2vev_rnn_model.add(layers.Dropout(rate=0.2)) \n",
    "    word2vev_rnn_model.add(layers.Dense(y_train.shape[1], activation='softmax'))\n",
    "\n",
    "    word2vev_rnn_model.compile(loss='categorical_crossentropy',\n",
    "                  #optimizer='adam',\n",
    "                  optimizer=optimized_adam,\n",
    "                  #optimizer='rmsprop',\n",
    "                  metrics=['accuracy', f1_m])\n",
    "    \n",
    "    return word2vev_rnn_model"
   ]
  },
  {
   "cell_type": "code",
   "execution_count": 59,
   "metadata": {},
   "outputs": [
    {
     "name": "stderr",
     "output_type": "stream",
     "text": [
      "2022-09-08 10:34:33.707292: W tensorflow/stream_executor/platform/default/dso_loader.cc:64] Could not load dynamic library 'libcuda.so.1'; dlerror: libcuda.so.1: cannot open shared object file: No such file or directory\n",
      "2022-09-08 10:34:33.707315: W tensorflow/stream_executor/cuda/cuda_driver.cc:269] failed call to cuInit: UNKNOWN ERROR (303)\n",
      "2022-09-08 10:34:33.707332: I tensorflow/stream_executor/cuda/cuda_diagnostics.cc:156] kernel driver does not appear to be running on this host (Future): /proc/driver/nvidia/version does not exist\n",
      "2022-09-08 10:34:33.708349: I tensorflow/core/platform/cpu_feature_guard.cc:193] This TensorFlow binary is optimized with oneAPI Deep Neural Network Library (oneDNN) to use the following CPU instructions in performance-critical operations:  AVX2 AVX512F AVX512_VNNI FMA\n",
      "To enable them in other operations, rebuild TensorFlow with the appropriate compiler flags.\n"
     ]
    },
    {
     "name": "stdout",
     "output_type": "stream",
     "text": [
      "Model: \"sequential\"\n",
      "_________________________________________________________________\n",
      " Layer (type)                Output Shape              Param #   \n",
      "=================================================================\n",
      " masking (Masking)           (None, 100, 50)           0         \n",
      "                                                                 \n",
      " lstm (LSTM)                 (None, 20)                5680      \n",
      "                                                                 \n",
      " dense (Dense)               (None, 20)                420       \n",
      "                                                                 \n",
      " dense_1 (Dense)             (None, 10)                210       \n",
      "                                                                 \n",
      " dense_2 (Dense)             (None, 4)                 44        \n",
      "                                                                 \n",
      "=================================================================\n",
      "Total params: 6,354\n",
      "Trainable params: 6,354\n",
      "Non-trainable params: 0\n",
      "_________________________________________________________________\n"
     ]
    }
   ],
   "source": [
    "# Building the model and looking at it's summary\n",
    "word2vev_rnn_model = init_word2vev_rnn_model()\n",
    "word2vev_rnn_model.summary()"
   ]
  },
  {
   "cell_type": "code",
   "execution_count": 60,
   "metadata": {},
   "outputs": [
    {
     "name": "stdout",
     "output_type": "stream",
     "text": [
      "Epoch 1/500\n",
      "34/34 [==============================] - 5s 56ms/step - loss: 1.3894 - accuracy: 0.2603 - f1_m: 0.0028 - val_loss: 1.3505 - val_accuracy: 0.4261 - val_f1_m: 0.0000e+00\n",
      "Epoch 2/500\n",
      "34/34 [==============================] - 1s 27ms/step - loss: 1.3773 - accuracy: 0.3284 - f1_m: 0.0000e+00 - val_loss: 1.4185 - val_accuracy: 0.1777 - val_f1_m: 0.0000e+00\n",
      "Epoch 3/500\n",
      "34/34 [==============================] - 1s 28ms/step - loss: 1.3808 - accuracy: 0.2061 - f1_m: 0.0000e+00 - val_loss: 1.3819 - val_accuracy: 0.1777 - val_f1_m: 0.0000e+00\n",
      "Epoch 4/500\n",
      "34/34 [==============================] - 1s 28ms/step - loss: 1.3842 - accuracy: 0.2420 - f1_m: 0.0000e+00 - val_loss: 1.4021 - val_accuracy: 0.1777 - val_f1_m: 0.0000e+00\n",
      "Epoch 5/500\n",
      "34/34 [==============================] - 1s 28ms/step - loss: 1.3737 - accuracy: 0.2686 - f1_m: 0.0000e+00 - val_loss: 1.4024 - val_accuracy: 0.1777 - val_f1_m: 0.0000e+00\n",
      "Epoch 6/500\n",
      "34/34 [==============================] - 1s 27ms/step - loss: 1.3763 - accuracy: 0.2613 - f1_m: 0.0000e+00 - val_loss: 1.3667 - val_accuracy: 0.2848 - val_f1_m: 0.0000e+00\n"
     ]
    }
   ],
   "source": [
    "# Training the model\n",
    "es = EarlyStopping(patience=5, monitor=\"val_loss\", restore_best_weights=True)\n",
    "\n",
    "history = word2vev_rnn_model.fit(X_train, y_train,\n",
    "                    class_weight=d_class_weights,\n",
    "          \t\t\tbatch_size=32,\n",
    "         \t\t\tepochs=500,\n",
    "          \t\t\tvalidation_split=0.3,\n",
    "          \t\t\tcallbacks=[es])"
   ]
  },
  {
   "cell_type": "code",
   "execution_count": 61,
   "metadata": {},
   "outputs": [
    {
     "name": "stdout",
     "output_type": "stream",
     "text": [
      "Accuracy: 0.40929535031318665, F1-Score: 0.0\n"
     ]
    }
   ],
   "source": [
    "# Model evaluation with X_test\n",
    "loss, acc, f1 = word2vev_rnn_model.evaluate(X_test, y_test, verbose=0)\n",
    "\n",
    "print(f'Accuracy: {acc}, F1-Score: {f1}')"
   ]
  },
  {
   "cell_type": "markdown",
   "metadata": {},
   "source": [
    "### Understanding model functioning with confusion matrix"
   ]
  },
  {
   "cell_type": "code",
   "execution_count": 62,
   "metadata": {},
   "outputs": [
    {
     "name": "stdout",
     "output_type": "stream",
     "text": [
      "21/21 [==============================] - 1s 6ms/step\n",
      "0 topic_biology\n",
      "1 topic_mathematics\n",
      "2 topic_physics\n",
      "3 topic_psychology\n"
     ]
    },
    {
     "data": {
      "image/png": "[encoded data removed]",
      "text/plain": [
       "<Figure size 640x480 with 2 Axes>"
      ]
     },
     "metadata": {},
     "output_type": "display_data"
    }
   ],
   "source": [
    "# Making a confusion matrix\n",
    "y_test_id = np.argmax(np.array(y_test), axis=1)\n",
    "y_pred_id = np.argmax(word2vev_rnn_model.predict(X_test), axis=1)\n",
    "conf_matrix = confusion_matrix(labels=y_test_id, predictions=y_pred_id)\n",
    "sns.heatmap(conf_matrix/np.sum(conf_matrix), annot=True, fmt='.2%', cmap='Blues')\n",
    "for i, column in enumerate(topic_targets_enc.columns):\n",
    "    print(i, column)"
   ]
  },
  {
   "cell_type": "markdown",
   "metadata": {},
   "source": [
    "#### Model is underfitting and hardly learning anything."
   ]
  },
  {
   "cell_type": "code",
   "execution_count": null,
   "metadata": {},
   "outputs": [],
   "source": []
  }
 ],
 "metadata": {
  "kernelspec": {
   "display_name": "Python 3.8.12 64-bit ('shims')",
   "language": "python",
   "name": "python3"
  },
  "language_info": {
   "codemirror_mode": {
    "name": "ipython",
    "version": 3
   },
   "file_extension": ".py",
   "mimetype": "text/x-python",
   "name": "python",
   "nbconvert_exporter": "python",
   "pygments_lexer": "ipython3",
   "version": "3.8.12"
  },
  "orig_nbformat": 4,
  "vscode": {
   "interpreter": {
    "hash": "79e3cbcb12727a13c538e8f4c33487126bc93fdf98a9f8be4968948500aea80e"
   }
  }
 },
 "nbformat": 4,
 "nbformat_minor": 2
}
