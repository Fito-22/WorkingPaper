{
 "cells": [
  {
   "cell_type": "code",
   "execution_count": 1,
   "metadata": {},
   "outputs": [],
   "source": [
    "%load_ext autoreload\n",
    "%autoreload 2"
   ]
  },
  {
   "cell_type": "code",
   "execution_count": 2,
   "metadata": {},
   "outputs": [
    {
     "name": "stderr",
     "output_type": "stream",
     "text": [
      "2022-09-06 12:20:40.942905: I tensorflow/core/util/util.cc:169] oneDNN custom operations are on. You may see slightly different numerical results due to floating-point round-off errors from different computation orders. To turn them off, set the environment variable `TF_ENABLE_ONEDNN_OPTS=0`.\n",
      "2022-09-06 12:20:41.005061: W tensorflow/stream_executor/platform/default/dso_loader.cc:64] Could not load dynamic library 'libcudart.so.11.0'; dlerror: libcudart.so.11.0: cannot open shared object file: No such file or directory\n",
      "2022-09-06 12:20:41.005083: I tensorflow/stream_executor/cuda/cudart_stub.cc:29] Ignore above cudart dlerror if you do not have a GPU set up on your machine.\n"
     ]
    }
   ],
   "source": [
    "import pandas as pd\n",
    "import numpy as np\n",
    "import re\n",
    "from collections import Counter\n",
    "import matplotlib.pyplot as plt\n",
    "from sklearn.preprocessing import OneHotEncoder\n",
    "from sklearn.model_selection import train_test_split\n",
    "from nltk.tokenize import word_tokenize\n",
    "from nltk.corpus import stopwords\n",
    "from gensim.models import Word2Vec\n",
    "import gensim.downloader as api\n",
    "from sklearn.utils.class_weight import compute_class_weight\n",
    "from tensorflow.keras.preprocessing.sequence import pad_sequences\n",
    "from tensorflow.keras import layers, Sequential, regularizers\n",
    "from tensorflow.keras.callbacks import EarlyStopping\n",
    "from tensorflow.keras.optimizers import Adam\n",
    "from tensorflow.keras.optimizers.schedules import ExponentialDecay"
   ]
  },
  {
   "cell_type": "markdown",
   "metadata": {},
   "source": [
    "# Preprocessing, Target Engineering and RNN model with Word2Vec embedding \n",
    "### on final Data Set from OpenAlex"
   ]
  },
  {
   "cell_type": "code",
   "execution_count": 3,
   "metadata": {},
   "outputs": [
    {
     "data": {
      "text/html": [
       "<div>\n",
       "<style scoped>\n",
       "    .dataframe tbody tr th:only-of-type {\n",
       "        vertical-align: middle;\n",
       "    }\n",
       "\n",
       "    .dataframe tbody tr th {\n",
       "        vertical-align: top;\n",
       "    }\n",
       "\n",
       "    .dataframe thead th {\n",
       "        text-align: right;\n",
       "    }\n",
       "</style>\n",
       "<table border=\"1\" class=\"dataframe\">\n",
       "  <thead>\n",
       "    <tr style=\"text-align: right;\">\n",
       "      <th></th>\n",
       "      <th>id</th>\n",
       "      <th>title</th>\n",
       "      <th>text</th>\n",
       "      <th>topic</th>\n",
       "      <th>subtopic</th>\n",
       "    </tr>\n",
       "  </thead>\n",
       "  <tbody>\n",
       "    <tr>\n",
       "      <th>0</th>\n",
       "      <td>https://openalex.org/W2100716186</td>\n",
       "      <td>Large-scale screening of hypothetical metal-or...</td>\n",
       "      <td>PUBLISHED ONLINE: 6 NOVEMBER 2011 | DOI: 10.10...</td>\n",
       "      <td>Chemistry</td>\n",
       "      <td>Nanotechnology</td>\n",
       "    </tr>\n",
       "    <tr>\n",
       "      <th>1</th>\n",
       "      <td>https://openalex.org/W2109370530</td>\n",
       "      <td>Routing and wavelength assignment in all-optic...</td>\n",
       "      <td>[H+./ACM TRANSACTIONS ON NETWORKING, VO1. 3, N...</td>\n",
       "      <td>Computer science</td>\n",
       "      <td>Telecommunications</td>\n",
       "    </tr>\n",
       "    <tr>\n",
       "      <th>2</th>\n",
       "      <td>https://openalex.org/W2131625303</td>\n",
       "      <td>Potassium channel antibody-associated encephal...</td>\n",
       "      <td>DOI: 10.1093/brain/awh077  Brain (2004), 127, ...</td>\n",
       "      <td>Medicine</td>\n",
       "      <td>Pediatrics</td>\n",
       "    </tr>\n",
       "    <tr>\n",
       "      <th>3</th>\n",
       "      <td>https://openalex.org/W2131736388</td>\n",
       "      <td>MODBASE, a database of annotated comparative p...</td>\n",
       "      <td>D336–D346 Nucleic Acids Research, 2014, Vol. 4...</td>\n",
       "      <td>Computer science</td>\n",
       "      <td>Bioinformatics</td>\n",
       "    </tr>\n",
       "    <tr>\n",
       "      <th>4</th>\n",
       "      <td>https://openalex.org/W2144966005</td>\n",
       "      <td>Regional brain volume abnormalities and long-t...</td>\n",
       "      <td>ORIGINAL CONTRIBUTION  Regional Brain Volume A...</td>\n",
       "      <td>Medicine</td>\n",
       "      <td>Internal medicine</td>\n",
       "    </tr>\n",
       "  </tbody>\n",
       "</table>\n",
       "</div>"
      ],
      "text/plain": [
       "                                 id  \\\n",
       "0  https://openalex.org/W2100716186   \n",
       "1  https://openalex.org/W2109370530   \n",
       "2  https://openalex.org/W2131625303   \n",
       "3  https://openalex.org/W2131736388   \n",
       "4  https://openalex.org/W2144966005   \n",
       "\n",
       "                                               title  \\\n",
       "0  Large-scale screening of hypothetical metal-or...   \n",
       "1  Routing and wavelength assignment in all-optic...   \n",
       "2  Potassium channel antibody-associated encephal...   \n",
       "3  MODBASE, a database of annotated comparative p...   \n",
       "4  Regional brain volume abnormalities and long-t...   \n",
       "\n",
       "                                                text             topic  \\\n",
       "0  PUBLISHED ONLINE: 6 NOVEMBER 2011 | DOI: 10.10...         Chemistry   \n",
       "1  [H+./ACM TRANSACTIONS ON NETWORKING, VO1. 3, N...  Computer science   \n",
       "2  DOI: 10.1093/brain/awh077  Brain (2004), 127, ...          Medicine   \n",
       "3  D336–D346 Nucleic Acids Research, 2014, Vol. 4...  Computer science   \n",
       "4  ORIGINAL CONTRIBUTION  Regional Brain Volume A...          Medicine   \n",
       "\n",
       "             subtopic  \n",
       "0      Nanotechnology  \n",
       "1  Telecommunications  \n",
       "2          Pediatrics  \n",
       "3      Bioinformatics  \n",
       "4   Internal medicine  "
      ]
     },
     "execution_count": 3,
     "metadata": {},
     "output_type": "execute_result"
    }
   ],
   "source": [
    "# Reading Data\n",
    "data = pd.read_csv('../raw_data/data_3k.csv')\n",
    "data = data.drop(columns='Unnamed: 0')\n",
    "data.head()"
   ]
  },
  {
   "cell_type": "code",
   "execution_count": 4,
   "metadata": {},
   "outputs": [
    {
     "data": {
      "text/plain": [
       "(2867, 5)"
      ]
     },
     "execution_count": 4,
     "metadata": {},
     "output_type": "execute_result"
    }
   ],
   "source": [
    "# Dropping duplicates\n",
    "data.drop_duplicates(subset=['id'], keep='first', inplace=True, ignore_index=True)\n",
    "data.shape"
   ]
  },
  {
   "cell_type": "markdown",
   "metadata": {},
   "source": [
    "#### Further data cleaning is not necessary, since we built this dataset ourselves."
   ]
  },
  {
   "cell_type": "markdown",
   "metadata": {},
   "source": [
    "## Preprocessing"
   ]
  },
  {
   "cell_type": "code",
   "execution_count": 5,
   "metadata": {},
   "outputs": [],
   "source": [
    "# Lowercasing everything\n",
    "data = data.apply(lambda x: x.astype(str).str.lower())"
   ]
  },
  {
   "cell_type": "code",
   "execution_count": 6,
   "metadata": {},
   "outputs": [],
   "source": [
    "# Removing anything apart from lower case letters \n",
    "data['text'] = data['text'].apply(lambda x: re.sub(r'[^a-z]', ' ', x))"
   ]
  },
  {
   "cell_type": "code",
   "execution_count": 7,
   "metadata": {},
   "outputs": [
    {
     "data": {
      "image/png": "[encoded data removed]",
      "text/plain": [
       "<Figure size 640x480 with 1 Axes>"
      ]
     },
     "metadata": {},
     "output_type": "display_data"
    }
   ],
   "source": [
    "# This is the distribution of the total number of words per paper\n",
    "data['total words per text'] = data['text'].apply(lambda x : len(x)) \n",
    "data['total words per text'].hist(bins=100);"
   ]
  },
  {
   "cell_type": "markdown",
   "metadata": {},
   "source": [
    "#### In terms of computational efficiency it is reasonable to scale down the number of word taken into account from every paper. Otherwise, the file wouldn't be executable.\n",
    "\n",
    "#### We will do so by creating a reduced list of tokens from the paper texts, that we will later use for word embedding. To increase the quality we will remove stopwords and singel letter words."
   ]
  },
  {
   "cell_type": "code",
   "execution_count": 8,
   "metadata": {},
   "outputs": [],
   "source": [
    "# Tokenizing\n",
    "max_length_of_padding = 1000 # to save computational costs, we will already implement the max_length_of_padding here\n",
    "num_of_words_to_keep = int(max_length_of_padding*5) # adding some margin, because in spotword removal and word2vec embedding some will be removed\n",
    "\n",
    "data['modified text'] = data['text'].apply(lambda text: ' '.join(text.split()[:num_of_words_to_keep]))\n",
    "data['modified text'] = data['modified text'].apply(word_tokenize)"
   ]
  },
  {
   "cell_type": "code",
   "execution_count": 9,
   "metadata": {},
   "outputs": [],
   "source": [
    "# Removing stopwords and single letter words\n",
    "stop_words = set(stopwords.words('english'))\n",
    "\n",
    "data['modified text'] = data['modified text'].apply(lambda x: [word for word in x if not word in stop_words])\n",
    "data['modified text'] = data['modified text'].apply(lambda x: [word for word in x if len(word)>1])"
   ]
  },
  {
   "cell_type": "code",
   "execution_count": 10,
   "metadata": {},
   "outputs": [
    {
     "data": {
      "image/png": "[encoded data removed]",
      "text/plain": [
       "<Figure size 640x480 with 1 Axes>"
      ]
     },
     "metadata": {},
     "output_type": "display_data"
    }
   ],
   "source": [
    "# This is the distribution of numbers of selected tokens per paper after cutting down\n",
    "data['words per modified text'] = data['modified text'].apply(lambda x : len(x)) \n",
    "data['words per modified text'].hist(bins=100);"
   ]
  },
  {
   "cell_type": "code",
   "execution_count": 11,
   "metadata": {},
   "outputs": [
    {
     "data": {
      "text/plain": [
       "(2752, 8)"
      ]
     },
     "execution_count": 11,
     "metadata": {},
     "output_type": "execute_result"
    }
   ],
   "source": [
    "# Let's also exclude representations with less than 10 tokens\n",
    "data = data[data['words per modified text'] > 9].reset_index().drop(columns=['index'], axis=1)\n",
    "data.shape"
   ]
  },
  {
   "cell_type": "markdown",
   "metadata": {},
   "source": [
    "#### Now we will clean our data some more by reducing the samples of uncommon targets."
   ]
  },
  {
   "cell_type": "markdown",
   "metadata": {},
   "source": [
    "## Taking Care of the Targets"
   ]
  },
  {
   "cell_type": "code",
   "execution_count": 12,
   "metadata": {},
   "outputs": [
    {
     "data": {
      "text/plain": [
       "biology                  884\n",
       "medicine                 660\n",
       "chemistry                247\n",
       "psychology               223\n",
       "computer science         214\n",
       "physics                  110\n",
       "materials science         94\n",
       "mathematics               72\n",
       "environmental science     67\n",
       "economics                 51\n",
       "business                  40\n",
       "geology                   33\n",
       "geography                 21\n",
       "sociology                 13\n",
       "political science         10\n",
       "engineering                9\n",
       "history                    2\n",
       "philosophy                 1\n",
       "art                        1\n",
       "Name: topic, dtype: int64"
      ]
     },
     "execution_count": 12,
     "metadata": {},
     "output_type": "execute_result"
    }
   ],
   "source": [
    "# Let's check how our topics and subtopics are distributed\n",
    "data['topic'].value_counts()"
   ]
  },
  {
   "cell_type": "markdown",
   "metadata": {},
   "source": [
    "#### Topics are highly imballanced, we'll have to take care of this later."
   ]
  },
  {
   "cell_type": "code",
   "execution_count": 13,
   "metadata": {},
   "outputs": [
    {
     "data": {
      "text/plain": [
       "cell biology           196\n",
       "internal medicine      147\n",
       "genetics               132\n",
       "immunology             111\n",
       "neuroscience           110\n",
       "                      ... \n",
       "regional science         1\n",
       "classical economics      1\n",
       "actuarial science        1\n",
       "speech recognition       1\n",
       "political economy        1\n",
       "Name: subtopic, Length: 235, dtype: int64"
      ]
     },
     "execution_count": 13,
     "metadata": {},
     "output_type": "execute_result"
    }
   ],
   "source": [
    "# Now checking the counts of the subtopics\n",
    "data['subtopic'].value_counts()"
   ]
  },
  {
   "cell_type": "code",
   "execution_count": 14,
   "metadata": {},
   "outputs": [
    {
     "data": {
      "text/html": [
       "<div>\n",
       "<style scoped>\n",
       "    .dataframe tbody tr th:only-of-type {\n",
       "        vertical-align: middle;\n",
       "    }\n",
       "\n",
       "    .dataframe tbody tr th {\n",
       "        vertical-align: top;\n",
       "    }\n",
       "\n",
       "    .dataframe thead th {\n",
       "        text-align: right;\n",
       "    }\n",
       "</style>\n",
       "<table border=\"1\" class=\"dataframe\">\n",
       "  <thead>\n",
       "    <tr style=\"text-align: right;\">\n",
       "      <th></th>\n",
       "      <th></th>\n",
       "      <th>id</th>\n",
       "      <th>title</th>\n",
       "      <th>text</th>\n",
       "      <th>total words per text</th>\n",
       "      <th>modified text</th>\n",
       "      <th>words per modified text</th>\n",
       "    </tr>\n",
       "    <tr>\n",
       "      <th>topic</th>\n",
       "      <th>subtopic</th>\n",
       "      <th></th>\n",
       "      <th></th>\n",
       "      <th></th>\n",
       "      <th></th>\n",
       "      <th></th>\n",
       "      <th></th>\n",
       "    </tr>\n",
       "  </thead>\n",
       "  <tbody>\n",
       "    <tr>\n",
       "      <th>art</th>\n",
       "      <th>theology</th>\n",
       "      <td>1</td>\n",
       "      <td>1</td>\n",
       "      <td>1</td>\n",
       "      <td>1</td>\n",
       "      <td>1</td>\n",
       "      <td>1</td>\n",
       "    </tr>\n",
       "    <tr>\n",
       "      <th rowspan=\"4\" valign=\"top\">biology</th>\n",
       "      <th>agroforestry</th>\n",
       "      <td>2</td>\n",
       "      <td>2</td>\n",
       "      <td>2</td>\n",
       "      <td>2</td>\n",
       "      <td>2</td>\n",
       "      <td>2</td>\n",
       "    </tr>\n",
       "    <tr>\n",
       "      <th>algorithm</th>\n",
       "      <td>2</td>\n",
       "      <td>2</td>\n",
       "      <td>2</td>\n",
       "      <td>2</td>\n",
       "      <td>2</td>\n",
       "      <td>2</td>\n",
       "    </tr>\n",
       "    <tr>\n",
       "      <th>anatomy</th>\n",
       "      <td>11</td>\n",
       "      <td>11</td>\n",
       "      <td>11</td>\n",
       "      <td>11</td>\n",
       "      <td>11</td>\n",
       "      <td>11</td>\n",
       "    </tr>\n",
       "    <tr>\n",
       "      <th>andrology</th>\n",
       "      <td>3</td>\n",
       "      <td>3</td>\n",
       "      <td>3</td>\n",
       "      <td>3</td>\n",
       "      <td>3</td>\n",
       "      <td>3</td>\n",
       "    </tr>\n",
       "    <tr>\n",
       "      <th>...</th>\n",
       "      <th>...</th>\n",
       "      <td>...</td>\n",
       "      <td>...</td>\n",
       "      <td>...</td>\n",
       "      <td>...</td>\n",
       "      <td>...</td>\n",
       "      <td>...</td>\n",
       "    </tr>\n",
       "    <tr>\n",
       "      <th rowspan=\"5\" valign=\"top\">sociology</th>\n",
       "      <th>management science</th>\n",
       "      <td>1</td>\n",
       "      <td>1</td>\n",
       "      <td>1</td>\n",
       "      <td>1</td>\n",
       "      <td>1</td>\n",
       "      <td>1</td>\n",
       "    </tr>\n",
       "    <tr>\n",
       "      <th>mathematics education</th>\n",
       "      <td>1</td>\n",
       "      <td>1</td>\n",
       "      <td>1</td>\n",
       "      <td>1</td>\n",
       "      <td>1</td>\n",
       "      <td>1</td>\n",
       "    </tr>\n",
       "    <tr>\n",
       "      <th>public relations</th>\n",
       "      <td>3</td>\n",
       "      <td>3</td>\n",
       "      <td>3</td>\n",
       "      <td>3</td>\n",
       "      <td>3</td>\n",
       "      <td>3</td>\n",
       "    </tr>\n",
       "    <tr>\n",
       "      <th>social psychology</th>\n",
       "      <td>1</td>\n",
       "      <td>1</td>\n",
       "      <td>1</td>\n",
       "      <td>1</td>\n",
       "      <td>1</td>\n",
       "      <td>1</td>\n",
       "    </tr>\n",
       "    <tr>\n",
       "      <th>social science</th>\n",
       "      <td>2</td>\n",
       "      <td>2</td>\n",
       "      <td>2</td>\n",
       "      <td>2</td>\n",
       "      <td>2</td>\n",
       "      <td>2</td>\n",
       "    </tr>\n",
       "  </tbody>\n",
       "</table>\n",
       "<p>529 rows × 6 columns</p>\n",
       "</div>"
      ],
      "text/plain": [
       "                                 id  title  text  total words per text  \\\n",
       "topic     subtopic                                                       \n",
       "art       theology                1      1     1                     1   \n",
       "biology   agroforestry            2      2     2                     2   \n",
       "          algorithm               2      2     2                     2   \n",
       "          anatomy                11     11    11                    11   \n",
       "          andrology               3      3     3                     3   \n",
       "...                              ..    ...   ...                   ...   \n",
       "sociology management science      1      1     1                     1   \n",
       "          mathematics education   1      1     1                     1   \n",
       "          public relations        3      3     3                     3   \n",
       "          social psychology       1      1     1                     1   \n",
       "          social science          2      2     2                     2   \n",
       "\n",
       "                                 modified text  words per modified text  \n",
       "topic     subtopic                                                       \n",
       "art       theology                           1                        1  \n",
       "biology   agroforestry                       2                        2  \n",
       "          algorithm                          2                        2  \n",
       "          anatomy                           11                       11  \n",
       "          andrology                          3                        3  \n",
       "...                                        ...                      ...  \n",
       "sociology management science                 1                        1  \n",
       "          mathematics education              1                        1  \n",
       "          public relations                   3                        3  \n",
       "          social psychology                  1                        1  \n",
       "          social science                     2                        2  \n",
       "\n",
       "[529 rows x 6 columns]"
      ]
     },
     "execution_count": 14,
     "metadata": {},
     "output_type": "execute_result"
    }
   ],
   "source": [
    "# Inspecting the relationship between topics and subtopics\n",
    "data.groupby(by=['topic', 'subtopic']).count()"
   ]
  },
  {
   "cell_type": "code",
   "execution_count": 15,
   "metadata": {},
   "outputs": [
    {
     "name": "stdout",
     "output_type": "stream",
     "text": [
      "Since the number of subtopics is 235 and the number subtopics grouped by their topics increases to 529, we can deduce, that we have subtopics, that belong to several academic fields.\n"
     ]
    }
   ],
   "source": [
    "# Remark on the subtopics\n",
    "num_subtopics = len(data['subtopic'].value_counts())\n",
    "num_subtopics_grouped_by_topics = len(data.groupby(by=['topic', 'subtopic']).count())\n",
    "\n",
    "print(f'Since the number of subtopics is {num_subtopics} and the number subtopics grouped by their topics increases to {num_subtopics_grouped_by_topics}, we can deduce, that we have subtopics, that belong to several academic fields.')"
   ]
  },
  {
   "cell_type": "markdown",
   "metadata": {},
   "source": [
    "#### Which are these? And how common are those multiclass subtopics?"
   ]
  },
  {
   "cell_type": "code",
   "execution_count": 16,
   "metadata": {},
   "outputs": [],
   "source": [
    "# Getting the subtopics that are attributed to several topics\n",
    "def finding_multiassigned_subtopics():\n",
    "    list_of_multiclass_subtopics = []\n",
    "    for i in range(len(data.groupby(by=['subtopic', 'topic']).count())-1):\n",
    "        if (data.groupby(by=['subtopic', 'topic']).count().index[i][0] == \\\n",
    "            data.groupby(by=['subtopic', 'topic']).count().index[i+1][0]):\n",
    "            list_of_multiclass_subtopics.append(data.groupby(by=['subtopic', 'topic']).count().index[i])\n",
    "            list_of_multiclass_subtopics.append(data.groupby(by=['subtopic', 'topic']).count().index[i+1])\n",
    "\n",
    "    return list(set(list_of_multiclass_subtopics))"
   ]
  },
  {
   "cell_type": "code",
   "execution_count": 17,
   "metadata": {},
   "outputs": [
    {
     "data": {
      "text/html": [
       "<div>\n",
       "<style scoped>\n",
       "    .dataframe tbody tr th:only-of-type {\n",
       "        vertical-align: middle;\n",
       "    }\n",
       "\n",
       "    .dataframe tbody tr th {\n",
       "        vertical-align: top;\n",
       "    }\n",
       "\n",
       "    .dataframe thead th {\n",
       "        text-align: right;\n",
       "    }\n",
       "</style>\n",
       "<table border=\"1\" class=\"dataframe\">\n",
       "  <thead>\n",
       "    <tr style=\"text-align: right;\">\n",
       "      <th></th>\n",
       "      <th>id</th>\n",
       "      <th>title</th>\n",
       "      <th>text</th>\n",
       "      <th>topic</th>\n",
       "      <th>total words per text</th>\n",
       "      <th>modified text</th>\n",
       "      <th>words per modified text</th>\n",
       "    </tr>\n",
       "    <tr>\n",
       "      <th>subtopic</th>\n",
       "      <th></th>\n",
       "      <th></th>\n",
       "      <th></th>\n",
       "      <th></th>\n",
       "      <th></th>\n",
       "      <th></th>\n",
       "      <th></th>\n",
       "    </tr>\n",
       "  </thead>\n",
       "  <tbody>\n",
       "    <tr>\n",
       "      <th>cell biology</th>\n",
       "      <td>196</td>\n",
       "      <td>196</td>\n",
       "      <td>196</td>\n",
       "      <td>196</td>\n",
       "      <td>196</td>\n",
       "      <td>196</td>\n",
       "      <td>196</td>\n",
       "    </tr>\n",
       "    <tr>\n",
       "      <th>internal medicine</th>\n",
       "      <td>147</td>\n",
       "      <td>147</td>\n",
       "      <td>147</td>\n",
       "      <td>147</td>\n",
       "      <td>147</td>\n",
       "      <td>147</td>\n",
       "      <td>147</td>\n",
       "    </tr>\n",
       "    <tr>\n",
       "      <th>genetics</th>\n",
       "      <td>132</td>\n",
       "      <td>132</td>\n",
       "      <td>132</td>\n",
       "      <td>132</td>\n",
       "      <td>132</td>\n",
       "      <td>132</td>\n",
       "      <td>132</td>\n",
       "    </tr>\n",
       "    <tr>\n",
       "      <th>immunology</th>\n",
       "      <td>111</td>\n",
       "      <td>111</td>\n",
       "      <td>111</td>\n",
       "      <td>111</td>\n",
       "      <td>111</td>\n",
       "      <td>111</td>\n",
       "      <td>111</td>\n",
       "    </tr>\n",
       "    <tr>\n",
       "      <th>neuroscience</th>\n",
       "      <td>110</td>\n",
       "      <td>110</td>\n",
       "      <td>110</td>\n",
       "      <td>110</td>\n",
       "      <td>110</td>\n",
       "      <td>110</td>\n",
       "      <td>110</td>\n",
       "    </tr>\n",
       "    <tr>\n",
       "      <th>...</th>\n",
       "      <td>...</td>\n",
       "      <td>...</td>\n",
       "      <td>...</td>\n",
       "      <td>...</td>\n",
       "      <td>...</td>\n",
       "      <td>...</td>\n",
       "      <td>...</td>\n",
       "    </tr>\n",
       "    <tr>\n",
       "      <th>environmental planning</th>\n",
       "      <td>2</td>\n",
       "      <td>2</td>\n",
       "      <td>2</td>\n",
       "      <td>2</td>\n",
       "      <td>2</td>\n",
       "      <td>2</td>\n",
       "      <td>2</td>\n",
       "    </tr>\n",
       "    <tr>\n",
       "      <th>economic system</th>\n",
       "      <td>2</td>\n",
       "      <td>2</td>\n",
       "      <td>2</td>\n",
       "      <td>2</td>\n",
       "      <td>2</td>\n",
       "      <td>2</td>\n",
       "      <td>2</td>\n",
       "    </tr>\n",
       "    <tr>\n",
       "      <th>environmental ethics</th>\n",
       "      <td>2</td>\n",
       "      <td>2</td>\n",
       "      <td>2</td>\n",
       "      <td>2</td>\n",
       "      <td>2</td>\n",
       "      <td>2</td>\n",
       "      <td>2</td>\n",
       "    </tr>\n",
       "    <tr>\n",
       "      <th>law</th>\n",
       "      <td>2</td>\n",
       "      <td>2</td>\n",
       "      <td>2</td>\n",
       "      <td>2</td>\n",
       "      <td>2</td>\n",
       "      <td>2</td>\n",
       "      <td>2</td>\n",
       "    </tr>\n",
       "    <tr>\n",
       "      <th>geochemistry</th>\n",
       "      <td>2</td>\n",
       "      <td>2</td>\n",
       "      <td>2</td>\n",
       "      <td>2</td>\n",
       "      <td>2</td>\n",
       "      <td>2</td>\n",
       "      <td>2</td>\n",
       "    </tr>\n",
       "  </tbody>\n",
       "</table>\n",
       "<p>147 rows × 7 columns</p>\n",
       "</div>"
      ],
      "text/plain": [
       "                         id  title  text  topic  total words per text  \\\n",
       "subtopic                                                                \n",
       "cell biology            196    196   196    196                   196   \n",
       "internal medicine       147    147   147    147                   147   \n",
       "genetics                132    132   132    132                   132   \n",
       "immunology              111    111   111    111                   111   \n",
       "neuroscience            110    110   110    110                   110   \n",
       "...                     ...    ...   ...    ...                   ...   \n",
       "environmental planning    2      2     2      2                     2   \n",
       "economic system           2      2     2      2                     2   \n",
       "environmental ethics      2      2     2      2                     2   \n",
       "law                       2      2     2      2                     2   \n",
       "geochemistry              2      2     2      2                     2   \n",
       "\n",
       "                        modified text  words per modified text  \n",
       "subtopic                                                        \n",
       "cell biology                      196                      196  \n",
       "internal medicine                 147                      147  \n",
       "genetics                          132                      132  \n",
       "immunology                        111                      111  \n",
       "neuroscience                      110                      110  \n",
       "...                               ...                      ...  \n",
       "environmental planning              2                        2  \n",
       "economic system                     2                        2  \n",
       "environmental ethics                2                        2  \n",
       "law                                 2                        2  \n",
       "geochemistry                        2                        2  \n",
       "\n",
       "[147 rows x 7 columns]"
      ]
     },
     "execution_count": 17,
     "metadata": {},
     "output_type": "execute_result"
    }
   ],
   "source": [
    "# Which multiclass assigned subtopics are the most common ones?\n",
    "multiclass_subtopics = finding_multiassigned_subtopics()\n",
    "\n",
    "df = pd.DataFrame()\n",
    "for i in range(len(multiclass_subtopics)):\n",
    "    extracted_data = (data[(data['subtopic'] == multiclass_subtopics[i][0]) & (data['topic'] == multiclass_subtopics[i][1])])\n",
    "    extracted_data_old = df\n",
    "    df = pd.concat([extracted_data_old, extracted_data], ignore_index=True)\n",
    "df = df.sort_values(by='subtopic')\n",
    "\n",
    "df.groupby(by=\"subtopic\").count().sort_values(by='id', ascending=False)"
   ]
  },
  {
   "cell_type": "markdown",
   "metadata": {},
   "source": [
    "#### We can see that some interdisciplinary subtopics (those with high transfer potential) tend to live in several academic fields."
   ]
  },
  {
   "cell_type": "code",
   "execution_count": 18,
   "metadata": {},
   "outputs": [
    {
     "data": {
      "text/plain": [
       "biology              143\n",
       "chemistry             45\n",
       "mathematics            3\n",
       "computer science       2\n",
       "medicine               2\n",
       "materials science      1\n",
       "Name: topic, dtype: int64"
      ]
     },
     "execution_count": 18,
     "metadata": {},
     "output_type": "execute_result"
    }
   ],
   "source": [
    "# example subtopic 'cell biology' \n",
    "df[df['subtopic'] == 'cell biology']['topic'].value_counts()"
   ]
  },
  {
   "cell_type": "markdown",
   "metadata": {},
   "source": [
    "#### We want to join some of the subtopics, so that we have lesser and larger subtopics to classify."
   ]
  },
  {
   "cell_type": "markdown",
   "metadata": {},
   "source": [
    "### Reducing the subtopics"
   ]
  },
  {
   "cell_type": "code",
   "execution_count": 19,
   "metadata": {},
   "outputs": [
    {
     "name": "stdout",
     "output_type": "stream",
     "text": [
      "Counter({'astronomy': 32, 'quantum mechanics': 7, 'classical mechanics': 7, 'astrophysics': 5, 'neuroscience': 4, 'theoretical physics': 4, 'computational physics': 4, 'mechanics': 4, 'condensed matter physics': 4, 'statistical physics': 3, 'nuclear physics': 3, 'optics': 3, 'geometry': 2, 'systems engineering': 2, 'atomic physics': 2, 'mathematical physics': 2, 'astrobiology': 2, 'quantum electrodynamics': 2, 'particle physics': 2, 'biological system': 2, 'chemical physics': 1, 'electrical engineering': 1, 'simulation': 1, 'applied mathematics': 1, 'electronic engineering': 1, 'nuclear medicine': 1, 'optoelectronics': 1, 'nanotechnology': 1, 'molecular physics': 1, 'physical medicine and rehabilitation': 1, 'geochemistry': 1, 'pure mathematics': 1, 'meteorology': 1, 'thermodynamics': 1})\n"
     ]
    }
   ],
   "source": [
    "# Printing the subtopics from the field \"physics\", for matching purposes\n",
    "print(Counter(data[data['topic'] == 'physics']['subtopic']))"
   ]
  },
  {
   "cell_type": "code",
   "execution_count": 20,
   "metadata": {},
   "outputs": [],
   "source": [
    "# Make a mapping of physics subtopics from our api data to more generalised physics subtopics\n",
    "physics_mapping_dict = {'astrophysics': ['astronomy', 'astrophysics', 'astrobiology'],\\\n",
    "    'condensed matter': ['condensed matter', 'statistical physics', 'neuroscience', 'biological system', 'nanotechnology', 'molecular physics', 'computational physics'],\\\n",
    "    'general relativy and cosmology': ['classical mechanics', 'mechanics', 'optics'],\\\n",
    "    'high enery physics': ['atomic physics', 'particle physics'],\\\n",
    "    'mathematical physics': ['geometry', 'mathematical physics', 'applied mathematics', 'theoretical physics', 'pure mathematics'],\\\n",
    "    'nuclear': ['nuclear physics', 'nuclear medicine', 'physical medicine and rehabilitation'],\\\n",
    "    'quantum physics': ['quantum mechanics', 'quantum electrodinamics']}"
   ]
  },
  {
   "cell_type": "code",
   "execution_count": 21,
   "metadata": {},
   "outputs": [
    {
     "data": {
      "text/plain": [
       "{'astronomy': 'astrophysics',\n",
       " 'astrophysics': 'astrophysics',\n",
       " 'astrobiology': 'astrophysics',\n",
       " 'condensed matter': 'condensed matter',\n",
       " 'statistical physics': 'condensed matter',\n",
       " 'neuroscience': 'condensed matter',\n",
       " 'biological system': 'condensed matter',\n",
       " 'nanotechnology': 'condensed matter',\n",
       " 'molecular physics': 'condensed matter',\n",
       " 'computational physics': 'condensed matter',\n",
       " 'classical mechanics': 'general relativy and cosmology',\n",
       " 'mechanics': 'general relativy and cosmology',\n",
       " 'optics': 'general relativy and cosmology',\n",
       " 'atomic physics': 'high enery physics',\n",
       " 'particle physics': 'high enery physics',\n",
       " 'geometry': 'mathematical physics',\n",
       " 'mathematical physics': 'mathematical physics',\n",
       " 'applied mathematics': 'mathematical physics',\n",
       " 'theoretical physics': 'mathematical physics',\n",
       " 'pure mathematics': 'mathematical physics',\n",
       " 'nuclear physics': 'nuclear',\n",
       " 'nuclear medicine': 'nuclear',\n",
       " 'physical medicine and rehabilitation': 'nuclear',\n",
       " 'quantum mechanics': 'quantum physics',\n",
       " 'quantum electrodinamics': 'quantum physics'}"
      ]
     },
     "execution_count": 21,
     "metadata": {},
     "output_type": "execute_result"
    }
   ],
   "source": [
    "# Turning the dict, which as accidentally coded the wrong way around\n",
    "def turn_dict(physic_dict):\n",
    "    new_dict = {}\n",
    "    for key, values in physic_dict.items():\n",
    "        for value in values:\n",
    "            new_dict[value]=key\n",
    "    return new_dict\n",
    "\n",
    "new_mapping_dict = turn_dict(physics_mapping_dict)\n",
    "new_mapping_dict"
   ]
  },
  {
   "cell_type": "code",
   "execution_count": 22,
   "metadata": {},
   "outputs": [
    {
     "data": {
      "text/html": [
       "<div>\n",
       "<style scoped>\n",
       "    .dataframe tbody tr th:only-of-type {\n",
       "        vertical-align: middle;\n",
       "    }\n",
       "\n",
       "    .dataframe tbody tr th {\n",
       "        vertical-align: top;\n",
       "    }\n",
       "\n",
       "    .dataframe thead th {\n",
       "        text-align: right;\n",
       "    }\n",
       "</style>\n",
       "<table border=\"1\" class=\"dataframe\">\n",
       "  <thead>\n",
       "    <tr style=\"text-align: right;\">\n",
       "      <th></th>\n",
       "      <th>id</th>\n",
       "      <th>title</th>\n",
       "      <th>text</th>\n",
       "      <th>topic</th>\n",
       "      <th>subtopic</th>\n",
       "      <th>total words per text</th>\n",
       "      <th>modified text</th>\n",
       "      <th>words per modified text</th>\n",
       "      <th>broader_subtopic</th>\n",
       "    </tr>\n",
       "  </thead>\n",
       "  <tbody>\n",
       "    <tr>\n",
       "      <th>40</th>\n",
       "      <td>https://openalex.org/w1955575446</td>\n",
       "      <td>sharp wave-associated high-frequency oscillati...</td>\n",
       "      <td>the  journal  of  neuroscience    january     ...</td>\n",
       "      <td>physics</td>\n",
       "      <td>neuroscience</td>\n",
       "      <td>90278</td>\n",
       "      <td>[journal, neuroscience, january, sharp, wave, ...</td>\n",
       "      <td>3150</td>\n",
       "      <td>condensed matter</td>\n",
       "    </tr>\n",
       "    <tr>\n",
       "      <th>43</th>\n",
       "      <td>https://openalex.org/w2025236523</td>\n",
       "      <td>entanglement measures and purification procedures</td>\n",
       "      <td>physical review a  volume     number    march ...</td>\n",
       "      <td>physics</td>\n",
       "      <td>quantum mechanics</td>\n",
       "      <td>102312</td>\n",
       "      <td>[physical, review, volume, number, march, enta...</td>\n",
       "      <td>2857</td>\n",
       "      <td>quantum physics</td>\n",
       "    </tr>\n",
       "    <tr>\n",
       "      <th>48</th>\n",
       "      <td>https://openalex.org/w2102582588</td>\n",
       "      <td>the peregrine soliton in nonlinear fibre optics</td>\n",
       "      <td>letters  published online     august        do...</td>\n",
       "      <td>physics</td>\n",
       "      <td>quantum mechanics</td>\n",
       "      <td>32391</td>\n",
       "      <td>[letters, published, online, august, doi, nphy...</td>\n",
       "      <td>2836</td>\n",
       "      <td>quantum physics</td>\n",
       "    </tr>\n",
       "    <tr>\n",
       "      <th>56</th>\n",
       "      <td>https://openalex.org/w2005241888</td>\n",
       "      <td>constant temperature molecular dynamics methods</td>\n",
       "      <td>progress of theoretical  physics supplement no...</td>\n",
       "      <td>physics</td>\n",
       "      <td>statistical physics</td>\n",
       "      <td>123550</td>\n",
       "      <td>[progress, theoretical, physics, supplement, c...</td>\n",
       "      <td>2230</td>\n",
       "      <td>condensed matter</td>\n",
       "    </tr>\n",
       "    <tr>\n",
       "      <th>93</th>\n",
       "      <td>https://openalex.org/w1969658805</td>\n",
       "      <td>on the measurement of a weak classical force c...</td>\n",
       "      <td>on  the  measurement of  a  weak classical  fo...</td>\n",
       "      <td>physics</td>\n",
       "      <td>quantum mechanics</td>\n",
       "      <td>306620</td>\n",
       "      <td>[measurement, weak, classical, force, coupled,...</td>\n",
       "      <td>2827</td>\n",
       "      <td>quantum physics</td>\n",
       "    </tr>\n",
       "  </tbody>\n",
       "</table>\n",
       "</div>"
      ],
      "text/plain": [
       "                                  id  \\\n",
       "40  https://openalex.org/w1955575446   \n",
       "43  https://openalex.org/w2025236523   \n",
       "48  https://openalex.org/w2102582588   \n",
       "56  https://openalex.org/w2005241888   \n",
       "93  https://openalex.org/w1969658805   \n",
       "\n",
       "                                                title  \\\n",
       "40  sharp wave-associated high-frequency oscillati...   \n",
       "43  entanglement measures and purification procedures   \n",
       "48    the peregrine soliton in nonlinear fibre optics   \n",
       "56    constant temperature molecular dynamics methods   \n",
       "93  on the measurement of a weak classical force c...   \n",
       "\n",
       "                                                 text    topic  \\\n",
       "40  the  journal  of  neuroscience    january     ...  physics   \n",
       "43  physical review a  volume     number    march ...  physics   \n",
       "48  letters  published online     august        do...  physics   \n",
       "56  progress of theoretical  physics supplement no...  physics   \n",
       "93  on  the  measurement of  a  weak classical  fo...  physics   \n",
       "\n",
       "               subtopic  total words per text  \\\n",
       "40         neuroscience                 90278   \n",
       "43    quantum mechanics                102312   \n",
       "48    quantum mechanics                 32391   \n",
       "56  statistical physics                123550   \n",
       "93    quantum mechanics                306620   \n",
       "\n",
       "                                        modified text  \\\n",
       "40  [journal, neuroscience, january, sharp, wave, ...   \n",
       "43  [physical, review, volume, number, march, enta...   \n",
       "48  [letters, published, online, august, doi, nphy...   \n",
       "56  [progress, theoretical, physics, supplement, c...   \n",
       "93  [measurement, weak, classical, force, coupled,...   \n",
       "\n",
       "    words per modified text  broader_subtopic  \n",
       "40                     3150  condensed matter  \n",
       "43                     2857   quantum physics  \n",
       "48                     2836   quantum physics  \n",
       "56                     2230  condensed matter  \n",
       "93                     2827   quantum physics  "
      ]
     },
     "execution_count": 22,
     "metadata": {},
     "output_type": "execute_result"
    }
   ],
   "source": [
    "# Mapping the subtopics from the mapping dict to the broader subtopics\n",
    "data['broader_subtopic'] = data.where(data['topic'] == 'physics')['subtopic'].map(new_mapping_dict)\n",
    "data[data['topic'] == 'physics'].head()"
   ]
  },
  {
   "cell_type": "code",
   "execution_count": 23,
   "metadata": {},
   "outputs": [
    {
     "data": {
      "text/plain": [
       "astrophysics                      39\n",
       "condensed matter                  15\n",
       "general relativy and cosmology    14\n",
       "mathematical physics              10\n",
       "quantum physics                    7\n",
       "nuclear                            5\n",
       "high enery physics                 4\n",
       "Name: broader_subtopic, dtype: int64"
      ]
     },
     "execution_count": 23,
     "metadata": {},
     "output_type": "execute_result"
    }
   ],
   "source": [
    "# Checking if it worked\n",
    "data['broader_subtopic'].value_counts()"
   ]
  },
  {
   "cell_type": "markdown",
   "metadata": {},
   "source": [
    "### Getting rid of rare topics and subtopics"
   ]
  },
  {
   "cell_type": "code",
   "execution_count": 24,
   "metadata": {},
   "outputs": [
    {
     "data": {
      "text/plain": [
       "Index(['biology', 'medicine', 'chemistry', 'psychology', 'computer science',\n",
       "       'physics', 'materials science', 'mathematics', 'environmental science',\n",
       "       'economics', 'business', 'geology', 'geography', 'sociology'],\n",
       "      dtype='object')"
      ]
     },
     "execution_count": 24,
     "metadata": {},
     "output_type": "execute_result"
    }
   ],
   "source": [
    "# Filtering for those topics that occurr more commonly in our data        <----- percentile can be adjusted\n",
    "common_topics = (data['topic'].value_counts() > np.percentile(data['topic'].value_counts(), 25)) # topic occurrence until 25th percentile\n",
    "filtered_topics = common_topics[common_topics == True].index\n",
    "filtered_topics"
   ]
  },
  {
   "cell_type": "code",
   "execution_count": 25,
   "metadata": {},
   "outputs": [
    {
     "data": {
      "text/plain": [
       "Index(['cell biology', 'internal medicine', 'genetics', 'immunology',\n",
       "       'neuroscience', 'molecular biology', 'biochemistry',\n",
       "       'computational biology', 'endocrinology', 'cancer research',\n",
       "       'microbiology', 'gerontology', 'ecology', 'nanotechnology',\n",
       "       'pediatrics', 'surgery', 'biophysics', 'psychiatry', 'physical therapy',\n",
       "       'astronomy', 'cognitive psychology', 'cardiology',\n",
       "       'evolutionary biology', 'virology', 'pathology', 'pharmacology',\n",
       "       'algorithm', 'demography', 'bioinformatics', 'environmental health',\n",
       "       'intensive care medicine', 'artificial intelligence',\n",
       "       'gastroenterology', 'botany', 'anatomy', 'social psychology',\n",
       "       'clinical psychology', 'developmental psychology', 'statistics',\n",
       "       'data science', 'oncology', 'data mining', 'chemical engineering',\n",
       "       'family medicine', 'gynecology', 'mathematical optimization',\n",
       "       'audiology', 'atmospheric sciences', 'world wide web', 'econometrics',\n",
       "       'crystallography'],\n",
       "      dtype='object')"
      ]
     },
     "execution_count": 25,
     "metadata": {},
     "output_type": "execute_result"
    }
   ],
   "source": [
    "# Filtering for those subtopics that occurr more commonly in our data     <----- instead of cutting of at the mean, can also be adjusted like above\n",
    "common_subtopics = (data['subtopic'].value_counts() > data['subtopic'].value_counts().mean())\n",
    "filtered_subtopics = common_subtopics[common_subtopics == True].index\n",
    "filtered_subtopics"
   ]
  },
  {
   "cell_type": "code",
   "execution_count": 26,
   "metadata": {},
   "outputs": [],
   "source": [
    "# Filtering data according to the topics and subtopics that are more common\n",
    "#data = data[data['subtopic'].isin(list(filtered_subtopics)) & data['topic'].isin(list(filtered_topics))]\n",
    "#data.shape\n",
    "\n",
    "# There is a catch here though, because the occurrence of both, topics and subtopics, depend on each other.\n",
    "# This might leave us with some scarcely represented topics and subtopics still.\n",
    "# Should there be some time left before the deadline, this should be optimized."
   ]
  },
  {
   "cell_type": "code",
   "execution_count": 27,
   "metadata": {},
   "outputs": [],
   "source": [
    "# Filtering data according to the topics that are more common\n",
    "data = data[data['topic'].isin(list(filtered_topics))]"
   ]
  },
  {
   "cell_type": "code",
   "execution_count": 28,
   "metadata": {},
   "outputs": [
    {
     "data": {
      "image/png": "[encoded data removed]",
      "text/plain": [
       "<Figure size 1500x500 with 1 Axes>"
      ]
     },
     "metadata": {},
     "output_type": "display_data"
    }
   ],
   "source": [
    "# The remaining topics and the subtopics are distributed as such:\n",
    "plt.figure(figsize=(15, 5))\n",
    "plt.hist(data['topic'], bins=data['topic'].nunique())\n",
    "#plt.hist(data['subtopic'], bins=data['subtopic'].nunique())\n",
    "plt.xticks(rotation = 90)\n",
    "plt.show()"
   ]
  },
  {
   "cell_type": "code",
   "execution_count": 29,
   "metadata": {},
   "outputs": [
    {
     "name": "stdout",
     "output_type": "stream",
     "text": [
      "Counter({'biology': 884, 'medicine': 660, 'chemistry': 247, 'psychology': 223, 'computer science': 214, 'physics': 110, 'materials science': 94, 'mathematics': 72, 'environmental science': 67, 'economics': 51, 'business': 40, 'geology': 33, 'geography': 21, 'sociology': 13})\n"
     ]
    }
   ],
   "source": [
    "# Printing precise number of occurances for each topic\n",
    "print(Counter(data['topic']))"
   ]
  },
  {
   "cell_type": "markdown",
   "metadata": {},
   "source": [
    "#### The topics and subtopics are highly imbalanced still. They are our targets!!! So, we need to rebalance them (in the training set only) once we made our train-test.split.\n",
    "\n",
    "#### Before though, based on this new shape of the dataframe, we will create word embeddings with Word2Vec!"
   ]
  },
  {
   "cell_type": "markdown",
   "metadata": {},
   "source": [
    "### Word2Vec embedding of the text of the scientific papers"
   ]
  },
  {
   "cell_type": "code",
   "execution_count": 30,
   "metadata": {},
   "outputs": [
    {
     "name": "stdout",
     "output_type": "stream",
     "text": [
      "Vocabulary size 400000\n"
     ]
    }
   ],
   "source": [
    "# Downloading a pre-trained Word2Vec model, that delivers a 50 space vector representation of any word present in the Wikipedia in 2014\n",
    "word2vec_transfer = api.load(\"glove-wiki-gigaword-50\")\n",
    "word2vec_transfer['saturn'].shape # checking the shape of the vectors: (50, )\n",
    "print('Vocabulary size', len(word2vec_transfer))"
   ]
  },
  {
   "cell_type": "code",
   "execution_count": 31,
   "metadata": {},
   "outputs": [],
   "source": [
    "# Function to convert a paper (list of words) into a matrix representing the words in the embedding space\n",
    "def embed_paper(word2vec_space, paper):\n",
    "    embedded_paper = []\n",
    "    for word in paper:\n",
    "        if word in word2vec_space:\n",
    "            embedded_paper.append(word2vec_space[word])\n",
    "        \n",
    "    return np.array(embedded_paper)"
   ]
  },
  {
   "cell_type": "code",
   "execution_count": 32,
   "metadata": {},
   "outputs": [
    {
     "data": {
      "text/plain": [
       "(2849, 50)"
      ]
     },
     "execution_count": 32,
     "metadata": {},
     "output_type": "execute_result"
    }
   ],
   "source": [
    "# Testing the function\n",
    "test_sentence_embedded = embed_paper(word2vec_transfer, data['modified text'][0])\n",
    "test_sentence_embedded.shape # some words have been skipped, because certainly they weren't contained in the glove-wiki-gigaword-50 representation"
   ]
  },
  {
   "cell_type": "code",
   "execution_count": 33,
   "metadata": {},
   "outputs": [],
   "source": [
    "# Function to convert a list of papers into a list of matrices\n",
    "def embedding(word2vec_space, series_of_papers):\n",
    "    embed = []\n",
    "    \n",
    "    for ele in series_of_papers:\n",
    "        embedded_article = embed_paper(word2vec_space, ele)\n",
    "        embed.append(embedded_article)\n",
    "        \n",
    "    return embed"
   ]
  },
  {
   "cell_type": "code",
   "execution_count": 34,
   "metadata": {},
   "outputs": [
    {
     "data": {
      "text/html": [
       "<div>\n",
       "<style scoped>\n",
       "    .dataframe tbody tr th:only-of-type {\n",
       "        vertical-align: middle;\n",
       "    }\n",
       "\n",
       "    .dataframe tbody tr th {\n",
       "        vertical-align: top;\n",
       "    }\n",
       "\n",
       "    .dataframe thead th {\n",
       "        text-align: right;\n",
       "    }\n",
       "</style>\n",
       "<table border=\"1\" class=\"dataframe\">\n",
       "  <thead>\n",
       "    <tr style=\"text-align: right;\">\n",
       "      <th></th>\n",
       "      <th>id</th>\n",
       "      <th>title</th>\n",
       "      <th>text</th>\n",
       "      <th>topic</th>\n",
       "      <th>subtopic</th>\n",
       "      <th>total words per text</th>\n",
       "      <th>modified text</th>\n",
       "      <th>words per modified text</th>\n",
       "      <th>broader_subtopic</th>\n",
       "      <th>embedded text</th>\n",
       "    </tr>\n",
       "  </thead>\n",
       "  <tbody>\n",
       "    <tr>\n",
       "      <th>0</th>\n",
       "      <td>https://openalex.org/w2100716186</td>\n",
       "      <td>large-scale screening of hypothetical metal-or...</td>\n",
       "      <td>published online    november        doi       ...</td>\n",
       "      <td>chemistry</td>\n",
       "      <td>nanotechnology</td>\n",
       "      <td>38698</td>\n",
       "      <td>[published, online, november, doi, nchem, arti...</td>\n",
       "      <td>2973</td>\n",
       "      <td>NaN</td>\n",
       "      <td>[[-0.066601, 0.59438, -0.68071, -0.57313, -0.4...</td>\n",
       "    </tr>\n",
       "    <tr>\n",
       "      <th>1</th>\n",
       "      <td>https://openalex.org/w2109370530</td>\n",
       "      <td>routing and wavelength assignment in all-optic...</td>\n",
       "      <td>h   acm transactions on networking  vo      n...</td>\n",
       "      <td>computer science</td>\n",
       "      <td>telecommunications</td>\n",
       "      <td>53404</td>\n",
       "      <td>[acm, transactions, networking, vo, october, r...</td>\n",
       "      <td>2527</td>\n",
       "      <td>NaN</td>\n",
       "      <td>[[-1.5585, -0.19701, 0.18886, 1.4342, 0.11964,...</td>\n",
       "    </tr>\n",
       "    <tr>\n",
       "      <th>2</th>\n",
       "      <td>https://openalex.org/w2131625303</td>\n",
       "      <td>potassium channel antibody-associated encephal...</td>\n",
       "      <td>doi          brain awh     brain              ...</td>\n",
       "      <td>medicine</td>\n",
       "      <td>pediatrics</td>\n",
       "      <td>59290</td>\n",
       "      <td>[doi, brain, awh, brain, potassium, channel, a...</td>\n",
       "      <td>2944</td>\n",
       "      <td>NaN</td>\n",
       "      <td>[[-0.65238, 0.048755, 1.0263, 0.93965, -1.4769...</td>\n",
       "    </tr>\n",
       "    <tr>\n",
       "      <th>3</th>\n",
       "      <td>https://openalex.org/w2131736388</td>\n",
       "      <td>modbase, a database of annotated comparative p...</td>\n",
       "      <td>d    d    nucleic acids research        vol   ...</td>\n",
       "      <td>computer science</td>\n",
       "      <td>bioinformatics</td>\n",
       "      <td>61704</td>\n",
       "      <td>[nucleic, acids, research, vol, database, issu...</td>\n",
       "      <td>3100</td>\n",
       "      <td>NaN</td>\n",
       "      <td>[[1.2364, -0.90471, -0.41702, -0.064745, 0.273...</td>\n",
       "    </tr>\n",
       "    <tr>\n",
       "      <th>4</th>\n",
       "      <td>https://openalex.org/w2144966005</td>\n",
       "      <td>regional brain volume abnormalities and long-t...</td>\n",
       "      <td>original contribution  regional brain volume a...</td>\n",
       "      <td>medicine</td>\n",
       "      <td>internal medicine</td>\n",
       "      <td>50244</td>\n",
       "      <td>[original, contribution, regional, brain, volu...</td>\n",
       "      <td>3296</td>\n",
       "      <td>NaN</td>\n",
       "      <td>[[0.36584, 0.47422, -0.26492, -0.11875, 0.1736...</td>\n",
       "    </tr>\n",
       "  </tbody>\n",
       "</table>\n",
       "</div>"
      ],
      "text/plain": [
       "                                 id  \\\n",
       "0  https://openalex.org/w2100716186   \n",
       "1  https://openalex.org/w2109370530   \n",
       "2  https://openalex.org/w2131625303   \n",
       "3  https://openalex.org/w2131736388   \n",
       "4  https://openalex.org/w2144966005   \n",
       "\n",
       "                                               title  \\\n",
       "0  large-scale screening of hypothetical metal-or...   \n",
       "1  routing and wavelength assignment in all-optic...   \n",
       "2  potassium channel antibody-associated encephal...   \n",
       "3  modbase, a database of annotated comparative p...   \n",
       "4  regional brain volume abnormalities and long-t...   \n",
       "\n",
       "                                                text             topic  \\\n",
       "0  published online    november        doi       ...         chemistry   \n",
       "1   h   acm transactions on networking  vo      n...  computer science   \n",
       "2  doi          brain awh     brain              ...          medicine   \n",
       "3  d    d    nucleic acids research        vol   ...  computer science   \n",
       "4  original contribution  regional brain volume a...          medicine   \n",
       "\n",
       "             subtopic  total words per text  \\\n",
       "0      nanotechnology                 38698   \n",
       "1  telecommunications                 53404   \n",
       "2          pediatrics                 59290   \n",
       "3      bioinformatics                 61704   \n",
       "4   internal medicine                 50244   \n",
       "\n",
       "                                       modified text  words per modified text  \\\n",
       "0  [published, online, november, doi, nchem, arti...                     2973   \n",
       "1  [acm, transactions, networking, vo, october, r...                     2527   \n",
       "2  [doi, brain, awh, brain, potassium, channel, a...                     2944   \n",
       "3  [nucleic, acids, research, vol, database, issu...                     3100   \n",
       "4  [original, contribution, regional, brain, volu...                     3296   \n",
       "\n",
       "  broader_subtopic                                      embedded text  \n",
       "0              NaN  [[-0.066601, 0.59438, -0.68071, -0.57313, -0.4...  \n",
       "1              NaN  [[-1.5585, -0.19701, 0.18886, 1.4342, 0.11964,...  \n",
       "2              NaN  [[-0.65238, 0.048755, 1.0263, 0.93965, -1.4769...  \n",
       "3              NaN  [[1.2364, -0.90471, -0.41702, -0.064745, 0.273...  \n",
       "4              NaN  [[0.36584, 0.47422, -0.26492, -0.11875, 0.1736...  "
      ]
     },
     "execution_count": 34,
     "metadata": {},
     "output_type": "execute_result"
    }
   ],
   "source": [
    "# Adding a column with embedded words from the papers into data frame\n",
    "series_embedded = embedding(word2vec_transfer, data['modified text'])\n",
    "data['embedded text'] = series_embedded\n",
    "data.head()"
   ]
  },
  {
   "cell_type": "code",
   "execution_count": 35,
   "metadata": {},
   "outputs": [
    {
     "name": "stdout",
     "output_type": "stream",
     "text": [
      "The maximum length of the padding we had defined above is: 1000\n"
     ]
    }
   ],
   "source": [
    "# Padding all the embedded words\n",
    "print(f'The maximum length of the padding we had defined above is: {max_length_of_padding}')\n",
    "X_pad = pad_sequences(series_embedded, dtype='float32', padding='post', value=0, maxlen=max_length_of_padding)"
   ]
  },
  {
   "cell_type": "markdown",
   "metadata": {},
   "source": [
    "### OneHot Encoding Targets"
   ]
  },
  {
   "cell_type": "code",
   "execution_count": 36,
   "metadata": {},
   "outputs": [
    {
     "data": {
      "text/html": [
       "<div>\n",
       "<style scoped>\n",
       "    .dataframe tbody tr th:only-of-type {\n",
       "        vertical-align: middle;\n",
       "    }\n",
       "\n",
       "    .dataframe tbody tr th {\n",
       "        vertical-align: top;\n",
       "    }\n",
       "\n",
       "    .dataframe thead th {\n",
       "        text-align: right;\n",
       "    }\n",
       "</style>\n",
       "<table border=\"1\" class=\"dataframe\">\n",
       "  <thead>\n",
       "    <tr style=\"text-align: right;\">\n",
       "      <th></th>\n",
       "      <th>topic_biology</th>\n",
       "      <th>topic_business</th>\n",
       "      <th>topic_chemistry</th>\n",
       "      <th>topic_computer science</th>\n",
       "      <th>topic_economics</th>\n",
       "      <th>topic_environmental science</th>\n",
       "      <th>topic_geography</th>\n",
       "      <th>topic_geology</th>\n",
       "      <th>topic_materials science</th>\n",
       "      <th>topic_mathematics</th>\n",
       "      <th>topic_medicine</th>\n",
       "      <th>topic_physics</th>\n",
       "      <th>topic_psychology</th>\n",
       "      <th>topic_sociology</th>\n",
       "    </tr>\n",
       "  </thead>\n",
       "  <tbody>\n",
       "    <tr>\n",
       "      <th>0</th>\n",
       "      <td>0.0</td>\n",
       "      <td>0.0</td>\n",
       "      <td>1.0</td>\n",
       "      <td>0.0</td>\n",
       "      <td>0.0</td>\n",
       "      <td>0.0</td>\n",
       "      <td>0.0</td>\n",
       "      <td>0.0</td>\n",
       "      <td>0.0</td>\n",
       "      <td>0.0</td>\n",
       "      <td>0.0</td>\n",
       "      <td>0.0</td>\n",
       "      <td>0.0</td>\n",
       "      <td>0.0</td>\n",
       "    </tr>\n",
       "    <tr>\n",
       "      <th>1</th>\n",
       "      <td>0.0</td>\n",
       "      <td>0.0</td>\n",
       "      <td>0.0</td>\n",
       "      <td>1.0</td>\n",
       "      <td>0.0</td>\n",
       "      <td>0.0</td>\n",
       "      <td>0.0</td>\n",
       "      <td>0.0</td>\n",
       "      <td>0.0</td>\n",
       "      <td>0.0</td>\n",
       "      <td>0.0</td>\n",
       "      <td>0.0</td>\n",
       "      <td>0.0</td>\n",
       "      <td>0.0</td>\n",
       "    </tr>\n",
       "    <tr>\n",
       "      <th>2</th>\n",
       "      <td>0.0</td>\n",
       "      <td>0.0</td>\n",
       "      <td>0.0</td>\n",
       "      <td>0.0</td>\n",
       "      <td>0.0</td>\n",
       "      <td>0.0</td>\n",
       "      <td>0.0</td>\n",
       "      <td>0.0</td>\n",
       "      <td>0.0</td>\n",
       "      <td>0.0</td>\n",
       "      <td>1.0</td>\n",
       "      <td>0.0</td>\n",
       "      <td>0.0</td>\n",
       "      <td>0.0</td>\n",
       "    </tr>\n",
       "    <tr>\n",
       "      <th>3</th>\n",
       "      <td>0.0</td>\n",
       "      <td>0.0</td>\n",
       "      <td>0.0</td>\n",
       "      <td>1.0</td>\n",
       "      <td>0.0</td>\n",
       "      <td>0.0</td>\n",
       "      <td>0.0</td>\n",
       "      <td>0.0</td>\n",
       "      <td>0.0</td>\n",
       "      <td>0.0</td>\n",
       "      <td>0.0</td>\n",
       "      <td>0.0</td>\n",
       "      <td>0.0</td>\n",
       "      <td>0.0</td>\n",
       "    </tr>\n",
       "    <tr>\n",
       "      <th>4</th>\n",
       "      <td>0.0</td>\n",
       "      <td>0.0</td>\n",
       "      <td>0.0</td>\n",
       "      <td>0.0</td>\n",
       "      <td>0.0</td>\n",
       "      <td>0.0</td>\n",
       "      <td>0.0</td>\n",
       "      <td>0.0</td>\n",
       "      <td>0.0</td>\n",
       "      <td>0.0</td>\n",
       "      <td>1.0</td>\n",
       "      <td>0.0</td>\n",
       "      <td>0.0</td>\n",
       "      <td>0.0</td>\n",
       "    </tr>\n",
       "    <tr>\n",
       "      <th>...</th>\n",
       "      <td>...</td>\n",
       "      <td>...</td>\n",
       "      <td>...</td>\n",
       "      <td>...</td>\n",
       "      <td>...</td>\n",
       "      <td>...</td>\n",
       "      <td>...</td>\n",
       "      <td>...</td>\n",
       "      <td>...</td>\n",
       "      <td>...</td>\n",
       "      <td>...</td>\n",
       "      <td>...</td>\n",
       "      <td>...</td>\n",
       "      <td>...</td>\n",
       "    </tr>\n",
       "    <tr>\n",
       "      <th>2724</th>\n",
       "      <td>1.0</td>\n",
       "      <td>0.0</td>\n",
       "      <td>0.0</td>\n",
       "      <td>0.0</td>\n",
       "      <td>0.0</td>\n",
       "      <td>0.0</td>\n",
       "      <td>0.0</td>\n",
       "      <td>0.0</td>\n",
       "      <td>0.0</td>\n",
       "      <td>0.0</td>\n",
       "      <td>0.0</td>\n",
       "      <td>0.0</td>\n",
       "      <td>0.0</td>\n",
       "      <td>0.0</td>\n",
       "    </tr>\n",
       "    <tr>\n",
       "      <th>2725</th>\n",
       "      <td>0.0</td>\n",
       "      <td>0.0</td>\n",
       "      <td>0.0</td>\n",
       "      <td>0.0</td>\n",
       "      <td>0.0</td>\n",
       "      <td>0.0</td>\n",
       "      <td>0.0</td>\n",
       "      <td>0.0</td>\n",
       "      <td>0.0</td>\n",
       "      <td>0.0</td>\n",
       "      <td>1.0</td>\n",
       "      <td>0.0</td>\n",
       "      <td>0.0</td>\n",
       "      <td>0.0</td>\n",
       "    </tr>\n",
       "    <tr>\n",
       "      <th>2726</th>\n",
       "      <td>1.0</td>\n",
       "      <td>0.0</td>\n",
       "      <td>0.0</td>\n",
       "      <td>0.0</td>\n",
       "      <td>0.0</td>\n",
       "      <td>0.0</td>\n",
       "      <td>0.0</td>\n",
       "      <td>0.0</td>\n",
       "      <td>0.0</td>\n",
       "      <td>0.0</td>\n",
       "      <td>0.0</td>\n",
       "      <td>0.0</td>\n",
       "      <td>0.0</td>\n",
       "      <td>0.0</td>\n",
       "    </tr>\n",
       "    <tr>\n",
       "      <th>2727</th>\n",
       "      <td>0.0</td>\n",
       "      <td>0.0</td>\n",
       "      <td>0.0</td>\n",
       "      <td>0.0</td>\n",
       "      <td>0.0</td>\n",
       "      <td>0.0</td>\n",
       "      <td>0.0</td>\n",
       "      <td>0.0</td>\n",
       "      <td>0.0</td>\n",
       "      <td>0.0</td>\n",
       "      <td>1.0</td>\n",
       "      <td>0.0</td>\n",
       "      <td>0.0</td>\n",
       "      <td>0.0</td>\n",
       "    </tr>\n",
       "    <tr>\n",
       "      <th>2728</th>\n",
       "      <td>0.0</td>\n",
       "      <td>0.0</td>\n",
       "      <td>0.0</td>\n",
       "      <td>0.0</td>\n",
       "      <td>0.0</td>\n",
       "      <td>0.0</td>\n",
       "      <td>0.0</td>\n",
       "      <td>0.0</td>\n",
       "      <td>0.0</td>\n",
       "      <td>0.0</td>\n",
       "      <td>1.0</td>\n",
       "      <td>0.0</td>\n",
       "      <td>0.0</td>\n",
       "      <td>0.0</td>\n",
       "    </tr>\n",
       "  </tbody>\n",
       "</table>\n",
       "<p>2729 rows × 14 columns</p>\n",
       "</div>"
      ],
      "text/plain": [
       "      topic_biology  topic_business  topic_chemistry  topic_computer science  \\\n",
       "0               0.0             0.0              1.0                     0.0   \n",
       "1               0.0             0.0              0.0                     1.0   \n",
       "2               0.0             0.0              0.0                     0.0   \n",
       "3               0.0             0.0              0.0                     1.0   \n",
       "4               0.0             0.0              0.0                     0.0   \n",
       "...             ...             ...              ...                     ...   \n",
       "2724            1.0             0.0              0.0                     0.0   \n",
       "2725            0.0             0.0              0.0                     0.0   \n",
       "2726            1.0             0.0              0.0                     0.0   \n",
       "2727            0.0             0.0              0.0                     0.0   \n",
       "2728            0.0             0.0              0.0                     0.0   \n",
       "\n",
       "      topic_economics  topic_environmental science  topic_geography  \\\n",
       "0                 0.0                          0.0              0.0   \n",
       "1                 0.0                          0.0              0.0   \n",
       "2                 0.0                          0.0              0.0   \n",
       "3                 0.0                          0.0              0.0   \n",
       "4                 0.0                          0.0              0.0   \n",
       "...               ...                          ...              ...   \n",
       "2724              0.0                          0.0              0.0   \n",
       "2725              0.0                          0.0              0.0   \n",
       "2726              0.0                          0.0              0.0   \n",
       "2727              0.0                          0.0              0.0   \n",
       "2728              0.0                          0.0              0.0   \n",
       "\n",
       "      topic_geology  topic_materials science  topic_mathematics  \\\n",
       "0               0.0                      0.0                0.0   \n",
       "1               0.0                      0.0                0.0   \n",
       "2               0.0                      0.0                0.0   \n",
       "3               0.0                      0.0                0.0   \n",
       "4               0.0                      0.0                0.0   \n",
       "...             ...                      ...                ...   \n",
       "2724            0.0                      0.0                0.0   \n",
       "2725            0.0                      0.0                0.0   \n",
       "2726            0.0                      0.0                0.0   \n",
       "2727            0.0                      0.0                0.0   \n",
       "2728            0.0                      0.0                0.0   \n",
       "\n",
       "      topic_medicine  topic_physics  topic_psychology  topic_sociology  \n",
       "0                0.0            0.0               0.0              0.0  \n",
       "1                0.0            0.0               0.0              0.0  \n",
       "2                1.0            0.0               0.0              0.0  \n",
       "3                0.0            0.0               0.0              0.0  \n",
       "4                1.0            0.0               0.0              0.0  \n",
       "...              ...            ...               ...              ...  \n",
       "2724             0.0            0.0               0.0              0.0  \n",
       "2725             1.0            0.0               0.0              0.0  \n",
       "2726             0.0            0.0               0.0              0.0  \n",
       "2727             1.0            0.0               0.0              0.0  \n",
       "2728             1.0            0.0               0.0              0.0  \n",
       "\n",
       "[2729 rows x 14 columns]"
      ]
     },
     "execution_count": 36,
     "metadata": {},
     "output_type": "execute_result"
    }
   ],
   "source": [
    "# OneHot Encoding topics\n",
    "enc = OneHotEncoder(handle_unknown='ignore', sparse=False)\n",
    "topic_targets_enc = pd.DataFrame(enc.fit_transform(data[['topic']]))\n",
    "topic_targets_enc.columns = enc.get_feature_names_out()\n",
    "topic_targets_enc"
   ]
  },
  {
   "cell_type": "markdown",
   "metadata": {},
   "source": [
    "#### Note to self: with <code>loss='sparse_categorical_crossentropy'</code> while compiling we don't need to OHE the target (which would alter the following process, but makes it more stable)."
   ]
  },
  {
   "cell_type": "markdown",
   "metadata": {},
   "source": [
    "## RNN Model on Word2Vec pretrained vectors"
   ]
  },
  {
   "cell_type": "code",
   "execution_count": 37,
   "metadata": {},
   "outputs": [
    {
     "name": "stdout",
     "output_type": "stream",
     "text": [
      "(1910, 1000, 50)\n",
      "(1910, 14)\n"
     ]
    }
   ],
   "source": [
    "# Train test split\n",
    "X_train, X_test, y_train, y_test = train_test_split(X_pad, topic_targets_enc, test_size=0.3)\n",
    "print(X_train.shape)\n",
    "print(y_train.shape)"
   ]
  },
  {
   "cell_type": "markdown",
   "metadata": {},
   "source": [
    "#### The rebalancing due to strongly uneven distributed targets will be done by weighting each label's contribution to the cost function inversely proportional to the frequency of the label (since SMOTE doesn't seem to work on vectorized lists of words). \n",
    "#### The Keras model.fit() method has the hypterparameter class_weight that allows us to do this."
   ]
  },
  {
   "cell_type": "code",
   "execution_count": 38,
   "metadata": {},
   "outputs": [
    {
     "data": {
      "text/plain": [
       "{0: 0.21863553113553114,\n",
       " 1: 4.5476190476190474,\n",
       " 2: 0.7414596273291926,\n",
       " 3: 0.9675785207700102,\n",
       " 4: 3.8979591836734695,\n",
       " 5: 2.9658385093167703,\n",
       " 6: 8.526785714285714,\n",
       " 7: 5.052910052910053,\n",
       " 8: 2.352216748768473,\n",
       " 9: 2.4805194805194803,\n",
       " 10: 0.29466214131440915,\n",
       " 11: 1.9489795918367347,\n",
       " 12: 0.9095238095238095,\n",
       " 13: 12.402597402597403}"
      ]
     },
     "execution_count": 38,
     "metadata": {},
     "output_type": "execute_result"
    }
   ],
   "source": [
    "# Weighting the labels as a rebalancing technique\n",
    "y_integers = np.argmax(np.array(y_train), axis=1)\n",
    "class_weights = compute_class_weight(class_weight='balanced', classes=np.unique(y_integers), y=y_integers)\n",
    "d_class_weights = dict(enumerate(class_weights))\n",
    "d_class_weights"
   ]
  },
  {
   "cell_type": "markdown",
   "metadata": {},
   "source": [
    "#### With this dict, we will pass heigher weights for classes that are less present in our data set, that will be considered in the loss function. \n",
    "#### By doing this, we also increase the chance of overfitting to the rare labels, because our model will see the exact same X_train vectors for rarer labels several times instead of only once.\n",
    "#### So we will need to add some regularization."
   ]
  },
  {
   "cell_type": "code",
   "execution_count": 39,
   "metadata": {},
   "outputs": [],
   "source": [
    "# Defining Ridge Regularization\n",
    "reg_l2 = regularizers.L2(0.001)"
   ]
  },
  {
   "cell_type": "markdown",
   "metadata": {},
   "source": [
    "#### Adding two L2 regularization layers decreases the accuracy on the test set dramatically instead of increasing it. Maybe we hadn't overfit before?"
   ]
  },
  {
   "cell_type": "code",
   "execution_count": 40,
   "metadata": {},
   "outputs": [],
   "source": [
    "# Experimenting with learning rate optimization for Adam\n",
    "lr_schedule = ExponentialDecay(\n",
    "    initial_learning_rate=1e-2,\n",
    "    decay_steps=10000,\n",
    "    decay_rate=0.9)\n",
    "\n",
    "optimized_adam = Adam(learning_rate=lr_schedule)\n"
   ]
  },
  {
   "cell_type": "code",
   "execution_count": 41,
   "metadata": {},
   "outputs": [],
   "source": [
    "# Defining the F1 score manually\n",
    "from keras import backend as K\n",
    "\n",
    "def recall_m(y_true, y_pred):\n",
    "    true_positives = K.sum(K.round(K.clip(y_true * y_pred, 0, 1)))\n",
    "    possible_positives = K.sum(K.round(K.clip(y_true, 0, 1)))\n",
    "    recall = true_positives / (possible_positives + K.epsilon())\n",
    "    return recall\n",
    "\n",
    "def precision_m(y_true, y_pred):\n",
    "    true_positives = K.sum(K.round(K.clip(y_true * y_pred, 0, 1)))\n",
    "    predicted_positives = K.sum(K.round(K.clip(y_pred, 0, 1)))\n",
    "    precision = true_positives / (predicted_positives + K.epsilon())\n",
    "    return precision\n",
    "\n",
    "def f1_m(y_true, y_pred):\n",
    "    precision = precision_m(y_true, y_pred)\n",
    "    recall = recall_m(y_true, y_pred)\n",
    "    return 2*((precision*recall)/(precision+recall+K.epsilon()))\n"
   ]
  },
  {
   "cell_type": "code",
   "execution_count": 42,
   "metadata": {},
   "outputs": [],
   "source": [
    "# Model architecture\n",
    "def init_word2vev_rnn_model():\n",
    "    word2vev_rnn_model = Sequential()\n",
    "    word2vev_rnn_model.add(layers.Masking(input_shape=(X_train.shape[1], X_train.shape[2])))\n",
    "    word2vev_rnn_model.add(layers.LSTM(20, activation='tanh'))\n",
    "    #word2vev_rnn_model.add(layers.Dense(20, activation='relu', kernel_regularizer=reg_l2))\n",
    "    word2vev_rnn_model.add(layers.Dense(20, activation='relu'))\n",
    "    #word2vev_rnn_model.add(layers.Dense(15, activation='relu', kernel_regularizer=reg_l2))\n",
    "    word2vev_rnn_model.add(layers.Dense(y_train.shape[1], activation='softmax'))\n",
    "\n",
    "    word2vev_rnn_model.compile(loss='categorical_crossentropy',\n",
    "                  optimizer='adam',\n",
    "                  #optimizer=optimized_adam,\n",
    "                  metrics=['accuracy', f1_m])\n",
    "    \n",
    "    return word2vev_rnn_model"
   ]
  },
  {
   "cell_type": "code",
   "execution_count": 43,
   "metadata": {},
   "outputs": [
    {
     "name": "stderr",
     "output_type": "stream",
     "text": [
      "2022-09-06 12:22:14.935155: W tensorflow/stream_executor/platform/default/dso_loader.cc:64] Could not load dynamic library 'libcuda.so.1'; dlerror: libcuda.so.1: cannot open shared object file: No such file or directory\n",
      "2022-09-06 12:22:14.935186: W tensorflow/stream_executor/cuda/cuda_driver.cc:269] failed call to cuInit: UNKNOWN ERROR (303)\n",
      "2022-09-06 12:22:14.935208: I tensorflow/stream_executor/cuda/cuda_diagnostics.cc:156] kernel driver does not appear to be running on this host (Future): /proc/driver/nvidia/version does not exist\n",
      "2022-09-06 12:22:14.936140: I tensorflow/core/platform/cpu_feature_guard.cc:193] This TensorFlow binary is optimized with oneAPI Deep Neural Network Library (oneDNN) to use the following CPU instructions in performance-critical operations:  AVX2 AVX512F AVX512_VNNI FMA\n",
      "To enable them in other operations, rebuild TensorFlow with the appropriate compiler flags.\n"
     ]
    },
    {
     "name": "stdout",
     "output_type": "stream",
     "text": [
      "Model: \"sequential\"\n",
      "_________________________________________________________________\n",
      " Layer (type)                Output Shape              Param #   \n",
      "=================================================================\n",
      " masking (Masking)           (None, 1000, 50)          0         \n",
      "                                                                 \n",
      " lstm (LSTM)                 (None, 20)                5680      \n",
      "                                                                 \n",
      " dense (Dense)               (None, 20)                420       \n",
      "                                                                 \n",
      " dense_1 (Dense)             (None, 14)                294       \n",
      "                                                                 \n",
      "=================================================================\n",
      "Total params: 6,394\n",
      "Trainable params: 6,394\n",
      "Non-trainable params: 0\n",
      "_________________________________________________________________\n"
     ]
    }
   ],
   "source": [
    "# Building the model and looking at it's summary\n",
    "word2vev_rnn_model = init_word2vev_rnn_model()\n",
    "word2vev_rnn_model.summary()"
   ]
  },
  {
   "cell_type": "code",
   "execution_count": 48,
   "metadata": {},
   "outputs": [
    {
     "name": "stdout",
     "output_type": "stream",
     "text": [
      "Epoch 1/100\n",
      "42/42 [==============================] - 13s 301ms/step - loss: 2.2575 - accuracy: 0.2550 - f1_m: 0.0042 - val_loss: 2.4835 - val_accuracy: 0.1379 - val_f1_m: 0.0000e+00\n",
      "Epoch 2/100\n",
      "42/42 [==============================] - 13s 303ms/step - loss: 2.0850 - accuracy: 0.2199 - f1_m: 0.0014 - val_loss: 2.4678 - val_accuracy: 0.1326 - val_f1_m: 0.0000e+00\n",
      "Epoch 3/100\n",
      "42/42 [==============================] - 13s 300ms/step - loss: 2.0206 - accuracy: 0.2079 - f1_m: 0.0042 - val_loss: 2.5050 - val_accuracy: 0.0925 - val_f1_m: 0.0000e+00\n",
      "Epoch 4/100\n",
      "42/42 [==============================] - 12s 293ms/step - loss: 1.9406 - accuracy: 0.2027 - f1_m: 0.0155 - val_loss: 2.6333 - val_accuracy: 0.0558 - val_f1_m: 0.0033\n",
      "Epoch 5/100\n",
      "42/42 [==============================] - 12s 295ms/step - loss: 1.8816 - accuracy: 0.1728 - f1_m: 0.0306 - val_loss: 2.5945 - val_accuracy: 0.0698 - val_f1_m: 0.0033\n",
      "Epoch 6/100\n",
      "42/42 [==============================] - 12s 293ms/step - loss: 1.8295 - accuracy: 0.2034 - f1_m: 0.0309 - val_loss: 2.6175 - val_accuracy: 0.0593 - val_f1_m: 0.0033\n",
      "Epoch 7/100\n",
      "42/42 [==============================] - 12s 292ms/step - loss: 1.7701 - accuracy: 0.1952 - f1_m: 0.0350 - val_loss: 2.6470 - val_accuracy: 0.0558 - val_f1_m: 0.0033\n"
     ]
    }
   ],
   "source": [
    "# Training the model\n",
    "es = EarlyStopping(patience=5, restore_best_weights=True)\n",
    "\n",
    "history = word2vev_rnn_model.fit(X_train, y_train,\n",
    "                    class_weight=d_class_weights,\n",
    "          \t\t\tbatch_size=32,\n",
    "         \t\t\tepochs=100,\n",
    "          \t\t\tvalidation_split=0.3,\n",
    "          \t\t\tcallbacks=[es])"
   ]
  },
  {
   "cell_type": "code",
   "execution_count": 49,
   "metadata": {},
   "outputs": [
    {
     "name": "stdout",
     "output_type": "stream",
     "text": [
      "Accuracy: 0.12210012227296829, F1-Score: 0.0\n"
     ]
    }
   ],
   "source": [
    "# Model evaluation with X_test\n",
    "loss, acc, f1 = word2vev_rnn_model.evaluate(X_test, y_test, verbose=0)\n",
    "\n",
    "print(f'Accuracy: {acc}, F1-Score: {f1}')"
   ]
  },
  {
   "cell_type": "code",
   "execution_count": null,
   "metadata": {},
   "outputs": [],
   "source": []
  }
 ],
 "metadata": {
  "kernelspec": {
   "display_name": "Python 3.8.12 64-bit ('shims')",
   "language": "python",
   "name": "python3"
  },
  "language_info": {
   "codemirror_mode": {
    "name": "ipython",
    "version": 3
   },
   "file_extension": ".py",
   "mimetype": "text/x-python",
   "name": "python",
   "nbconvert_exporter": "python",
   "pygments_lexer": "ipython3",
   "version": "3.8.12"
  },
  "orig_nbformat": 4,
  "vscode": {
   "interpreter": {
    "hash": "736150739e4fb3df6051488b43d6994f529cd492b8cd4a40882204b23398c180"
   }
  }
 },
 "nbformat": 4,
 "nbformat_minor": 2
}
