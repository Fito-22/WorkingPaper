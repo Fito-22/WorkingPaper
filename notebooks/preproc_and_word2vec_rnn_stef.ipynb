{
 "cells": [
  {
   "cell_type": "code",
   "execution_count": 1,
   "metadata": {},
   "outputs": [],
   "source": [
    "%load_ext autoreload\n",
    "%autoreload 2"
   ]
  },
  {
   "cell_type": "code",
   "execution_count": 2,
   "metadata": {},
   "outputs": [
    {
     "name": "stderr",
     "output_type": "stream",
     "text": [
      "2022-09-07 10:47:44.125087: I tensorflow/core/util/util.cc:169] oneDNN custom operations are on. You may see slightly different numerical results due to floating-point round-off errors from different computation orders. To turn them off, set the environment variable `TF_ENABLE_ONEDNN_OPTS=0`.\n",
      "2022-09-07 10:47:44.130963: W tensorflow/stream_executor/platform/default/dso_loader.cc:64] Could not load dynamic library 'libcudart.so.11.0'; dlerror: libcudart.so.11.0: cannot open shared object file: No such file or directory\n",
      "2022-09-07 10:47:44.130980: I tensorflow/stream_executor/cuda/cudart_stub.cc:29] Ignore above cudart dlerror if you do not have a GPU set up on your machine.\n"
     ]
    }
   ],
   "source": [
    "import pandas as pd\n",
    "import numpy as np\n",
    "import re\n",
    "import seaborn as sns\n",
    "from collections import Counter\n",
    "import matplotlib.pyplot as plt\n",
    "from sklearn.preprocessing import OneHotEncoder\n",
    "from sklearn.model_selection import train_test_split\n",
    "from nltk.tokenize import word_tokenize\n",
    "from nltk.corpus import stopwords\n",
    "from nltk.stem import WordNetLemmatizer\n",
    "from gensim.models import Word2Vec\n",
    "import gensim.downloader as api\n",
    "from sklearn.utils.class_weight import compute_class_weight\n",
    "from tensorflow.keras.preprocessing.sequence import pad_sequences\n",
    "from tensorflow.keras import layers, Sequential, regularizers\n",
    "from tensorflow.keras.callbacks import EarlyStopping\n",
    "from tensorflow.keras.optimizers import Adam\n",
    "from tensorflow.keras.optimizers.schedules import ExponentialDecay\n",
    "from tensorflow.math import confusion_matrix"
   ]
  },
  {
   "cell_type": "markdown",
   "metadata": {},
   "source": [
    "# Preprocessing, Target Engineering and RNN model with Word2Vec embedding \n",
    "### on final Data Set from the OpenAlex API and ArXiv.org"
   ]
  },
  {
   "cell_type": "code",
   "execution_count": 3,
   "metadata": {},
   "outputs": [
    {
     "data": {
      "text/html": [
       "<div>\n",
       "<style scoped>\n",
       "    .dataframe tbody tr th:only-of-type {\n",
       "        vertical-align: middle;\n",
       "    }\n",
       "\n",
       "    .dataframe tbody tr th {\n",
       "        vertical-align: top;\n",
       "    }\n",
       "\n",
       "    .dataframe thead th {\n",
       "        text-align: right;\n",
       "    }\n",
       "</style>\n",
       "<table border=\"1\" class=\"dataframe\">\n",
       "  <thead>\n",
       "    <tr style=\"text-align: right;\">\n",
       "      <th></th>\n",
       "      <th>id</th>\n",
       "      <th>title</th>\n",
       "      <th>text</th>\n",
       "      <th>topic</th>\n",
       "      <th>subtopic</th>\n",
       "    </tr>\n",
       "  </thead>\n",
       "  <tbody>\n",
       "    <tr>\n",
       "      <th>0</th>\n",
       "      <td>https://openalex.org/W2100716186</td>\n",
       "      <td>Large-scale screening of hypothetical metal-or...</td>\n",
       "      <td>PUBLISHED ONLINE: 6 NOVEMBER 2011 | DOI: 10.10...</td>\n",
       "      <td>Chemistry</td>\n",
       "      <td>Nanotechnology</td>\n",
       "    </tr>\n",
       "    <tr>\n",
       "      <th>1</th>\n",
       "      <td>https://openalex.org/W2109370530</td>\n",
       "      <td>Routing and wavelength assignment in all-optic...</td>\n",
       "      <td>[H+./ACM TRANSACTIONS ON NETWORKING, VO1. 3, N...</td>\n",
       "      <td>Computer science</td>\n",
       "      <td>Telecommunications</td>\n",
       "    </tr>\n",
       "    <tr>\n",
       "      <th>2</th>\n",
       "      <td>https://openalex.org/W2131625303</td>\n",
       "      <td>Potassium channel antibody-associated encephal...</td>\n",
       "      <td>DOI: 10.1093/brain/awh077  Brain (2004), 127, ...</td>\n",
       "      <td>Medicine</td>\n",
       "      <td>Pediatrics</td>\n",
       "    </tr>\n",
       "    <tr>\n",
       "      <th>3</th>\n",
       "      <td>https://openalex.org/W2131736388</td>\n",
       "      <td>MODBASE, a database of annotated comparative p...</td>\n",
       "      <td>D336–D346 Nucleic Acids Research, 2014, Vol. 4...</td>\n",
       "      <td>Computer science</td>\n",
       "      <td>Bioinformatics</td>\n",
       "    </tr>\n",
       "    <tr>\n",
       "      <th>4</th>\n",
       "      <td>https://openalex.org/W2144966005</td>\n",
       "      <td>Regional brain volume abnormalities and long-t...</td>\n",
       "      <td>ORIGINAL CONTRIBUTION  Regional Brain Volume A...</td>\n",
       "      <td>Medicine</td>\n",
       "      <td>Internal medicine</td>\n",
       "    </tr>\n",
       "  </tbody>\n",
       "</table>\n",
       "</div>"
      ],
      "text/plain": [
       "                                 id  \\\n",
       "0  https://openalex.org/W2100716186   \n",
       "1  https://openalex.org/W2109370530   \n",
       "2  https://openalex.org/W2131625303   \n",
       "3  https://openalex.org/W2131736388   \n",
       "4  https://openalex.org/W2144966005   \n",
       "\n",
       "                                               title  \\\n",
       "0  Large-scale screening of hypothetical metal-or...   \n",
       "1  Routing and wavelength assignment in all-optic...   \n",
       "2  Potassium channel antibody-associated encephal...   \n",
       "3  MODBASE, a database of annotated comparative p...   \n",
       "4  Regional brain volume abnormalities and long-t...   \n",
       "\n",
       "                                                text             topic  \\\n",
       "0  PUBLISHED ONLINE: 6 NOVEMBER 2011 | DOI: 10.10...         Chemistry   \n",
       "1  [H+./ACM TRANSACTIONS ON NETWORKING, VO1. 3, N...  Computer science   \n",
       "2  DOI: 10.1093/brain/awh077  Brain (2004), 127, ...          Medicine   \n",
       "3  D336–D346 Nucleic Acids Research, 2014, Vol. 4...  Computer science   \n",
       "4  ORIGINAL CONTRIBUTION  Regional Brain Volume A...          Medicine   \n",
       "\n",
       "             subtopic  \n",
       "0      Nanotechnology  \n",
       "1  Telecommunications  \n",
       "2          Pediatrics  \n",
       "3      Bioinformatics  \n",
       "4   Internal medicine  "
      ]
     },
     "execution_count": 3,
     "metadata": {},
     "output_type": "execute_result"
    }
   ],
   "source": [
    "# Reading OpenAlex Data\n",
    "openalex_data = pd.read_csv('../raw_data/data_3k.csv')\n",
    "openalex_data = openalex_data.drop(columns='Unnamed: 0')\n",
    "openalex_data.head()"
   ]
  },
  {
   "cell_type": "code",
   "execution_count": 4,
   "metadata": {},
   "outputs": [
    {
     "data": {
      "text/html": [
       "<div>\n",
       "<style scoped>\n",
       "    .dataframe tbody tr th:only-of-type {\n",
       "        vertical-align: middle;\n",
       "    }\n",
       "\n",
       "    .dataframe tbody tr th {\n",
       "        vertical-align: top;\n",
       "    }\n",
       "\n",
       "    .dataframe thead th {\n",
       "        text-align: right;\n",
       "    }\n",
       "</style>\n",
       "<table border=\"1\" class=\"dataframe\">\n",
       "  <thead>\n",
       "    <tr style=\"text-align: right;\">\n",
       "      <th></th>\n",
       "      <th>text</th>\n",
       "      <th>subtopic</th>\n",
       "    </tr>\n",
       "  </thead>\n",
       "  <tbody>\n",
       "    <tr>\n",
       "      <th>0</th>\n",
       "      <td>2 2 0 2  g u A 6 2  ] E H . h p - o r t s a [ ...</td>\n",
       "      <td>Astrophysics</td>\n",
       "    </tr>\n",
       "    <tr>\n",
       "      <th>1</th>\n",
       "      <td>Draft version August 29, 2022 Typeset using LA...</td>\n",
       "      <td>Astrophysics</td>\n",
       "    </tr>\n",
       "    <tr>\n",
       "      <th>2</th>\n",
       "      <td>Astronomy &amp; Astrophysics manuscript no. 41891c...</td>\n",
       "      <td>Astrophysics</td>\n",
       "    </tr>\n",
       "    <tr>\n",
       "      <th>3</th>\n",
       "      <td>Astronomy &amp; Astrophysics manuscript no. aa Aug...</td>\n",
       "      <td>Astrophysics</td>\n",
       "    </tr>\n",
       "    <tr>\n",
       "      <th>4</th>\n",
       "      <td>2 2 0 2  g u A 6 2  ]  R S . h p - o r t s a [...</td>\n",
       "      <td>Astrophysics</td>\n",
       "    </tr>\n",
       "    <tr>\n",
       "      <th>...</th>\n",
       "      <td>...</td>\n",
       "      <td>...</td>\n",
       "    </tr>\n",
       "    <tr>\n",
       "      <th>2030</th>\n",
       "      <td>2 2 0 2  g u A 3 2  ]  A F . h t a m  [  1 v 5...</td>\n",
       "      <td>Symplectic Geometry</td>\n",
       "    </tr>\n",
       "    <tr>\n",
       "      <th>2031</th>\n",
       "      <td>UNIVERSIDAD COMPLUTENSE DE MADRID  FACULTAD DE...</td>\n",
       "      <td>Symplectic Geometry</td>\n",
       "    </tr>\n",
       "    <tr>\n",
       "      <th>2032</th>\n",
       "      <td>2 2 0 2  g u A 0 2  ]  G S . h t a m  [  1 v 4...</td>\n",
       "      <td>Symplectic Geometry</td>\n",
       "    </tr>\n",
       "    <tr>\n",
       "      <th>2033</th>\n",
       "      <td>2 2 0 2  g u A 6 1  ]  G S . h t a m  [  1 v 4...</td>\n",
       "      <td>Symplectic Geometry</td>\n",
       "    </tr>\n",
       "    <tr>\n",
       "      <th>2034</th>\n",
       "      <td>Free ﬁeld realisation and the chiral universal...</td>\n",
       "      <td>Symplectic Geometry</td>\n",
       "    </tr>\n",
       "  </tbody>\n",
       "</table>\n",
       "<p>2035 rows × 2 columns</p>\n",
       "</div>"
      ],
      "text/plain": [
       "                                                   text             subtopic\n",
       "0     2 2 0 2  g u A 6 2  ] E H . h p - o r t s a [ ...         Astrophysics\n",
       "1     Draft version August 29, 2022 Typeset using LA...         Astrophysics\n",
       "2     Astronomy & Astrophysics manuscript no. 41891c...         Astrophysics\n",
       "3     Astronomy & Astrophysics manuscript no. aa Aug...         Astrophysics\n",
       "4     2 2 0 2  g u A 6 2  ]  R S . h p - o r t s a [...         Astrophysics\n",
       "...                                                 ...                  ...\n",
       "2030  2 2 0 2  g u A 3 2  ]  A F . h t a m  [  1 v 5...  Symplectic Geometry\n",
       "2031  UNIVERSIDAD COMPLUTENSE DE MADRID  FACULTAD DE...  Symplectic Geometry\n",
       "2032  2 2 0 2  g u A 0 2  ]  G S . h t a m  [  1 v 4...  Symplectic Geometry\n",
       "2033  2 2 0 2  g u A 6 1  ]  G S . h t a m  [  1 v 4...  Symplectic Geometry\n",
       "2034  Free ﬁeld realisation and the chiral universal...  Symplectic Geometry\n",
       "\n",
       "[2035 rows x 2 columns]"
      ]
     },
     "execution_count": 4,
     "metadata": {},
     "output_type": "execute_result"
    }
   ],
   "source": [
    "# Reading Arxiv Data\n",
    "arxiv_data = pd.read_csv('../raw_data/small_dataset.csv')\n",
    "arxiv_data = arxiv_data.drop(columns='Unnamed: 0')\n",
    "arxiv_data = arxiv_data.rename(columns={'0': 'text'})\n",
    "arxiv_data"
   ]
  },
  {
   "cell_type": "code",
   "execution_count": 5,
   "metadata": {},
   "outputs": [
    {
     "data": {
      "text/html": [
       "<div>\n",
       "<style scoped>\n",
       "    .dataframe tbody tr th:only-of-type {\n",
       "        vertical-align: middle;\n",
       "    }\n",
       "\n",
       "    .dataframe tbody tr th {\n",
       "        vertical-align: top;\n",
       "    }\n",
       "\n",
       "    .dataframe thead th {\n",
       "        text-align: right;\n",
       "    }\n",
       "</style>\n",
       "<table border=\"1\" class=\"dataframe\">\n",
       "  <thead>\n",
       "    <tr style=\"text-align: right;\">\n",
       "      <th></th>\n",
       "      <th>text</th>\n",
       "      <th>subtopic</th>\n",
       "      <th>topic</th>\n",
       "    </tr>\n",
       "  </thead>\n",
       "  <tbody>\n",
       "    <tr>\n",
       "      <th>0</th>\n",
       "      <td>2 2 0 2  g u A 6 2  ] E H . h p - o r t s a [ ...</td>\n",
       "      <td>Astrophysics</td>\n",
       "      <td>physics</td>\n",
       "    </tr>\n",
       "    <tr>\n",
       "      <th>1</th>\n",
       "      <td>Draft version August 29, 2022 Typeset using LA...</td>\n",
       "      <td>Astrophysics</td>\n",
       "      <td>physics</td>\n",
       "    </tr>\n",
       "    <tr>\n",
       "      <th>2</th>\n",
       "      <td>Astronomy &amp; Astrophysics manuscript no. 41891c...</td>\n",
       "      <td>Astrophysics</td>\n",
       "      <td>physics</td>\n",
       "    </tr>\n",
       "    <tr>\n",
       "      <th>3</th>\n",
       "      <td>Astronomy &amp; Astrophysics manuscript no. aa Aug...</td>\n",
       "      <td>Astrophysics</td>\n",
       "      <td>physics</td>\n",
       "    </tr>\n",
       "    <tr>\n",
       "      <th>4</th>\n",
       "      <td>2 2 0 2  g u A 6 2  ]  R S . h p - o r t s a [...</td>\n",
       "      <td>Astrophysics</td>\n",
       "      <td>physics</td>\n",
       "    </tr>\n",
       "    <tr>\n",
       "      <th>...</th>\n",
       "      <td>...</td>\n",
       "      <td>...</td>\n",
       "      <td>...</td>\n",
       "    </tr>\n",
       "    <tr>\n",
       "      <th>2030</th>\n",
       "      <td>2 2 0 2  g u A 3 2  ]  A F . h t a m  [  1 v 5...</td>\n",
       "      <td>Symplectic Geometry</td>\n",
       "      <td>mathematics</td>\n",
       "    </tr>\n",
       "    <tr>\n",
       "      <th>2031</th>\n",
       "      <td>UNIVERSIDAD COMPLUTENSE DE MADRID  FACULTAD DE...</td>\n",
       "      <td>Symplectic Geometry</td>\n",
       "      <td>mathematics</td>\n",
       "    </tr>\n",
       "    <tr>\n",
       "      <th>2032</th>\n",
       "      <td>2 2 0 2  g u A 0 2  ]  G S . h t a m  [  1 v 4...</td>\n",
       "      <td>Symplectic Geometry</td>\n",
       "      <td>mathematics</td>\n",
       "    </tr>\n",
       "    <tr>\n",
       "      <th>2033</th>\n",
       "      <td>2 2 0 2  g u A 6 1  ]  G S . h t a m  [  1 v 4...</td>\n",
       "      <td>Symplectic Geometry</td>\n",
       "      <td>mathematics</td>\n",
       "    </tr>\n",
       "    <tr>\n",
       "      <th>2034</th>\n",
       "      <td>Free ﬁeld realisation and the chiral universal...</td>\n",
       "      <td>Symplectic Geometry</td>\n",
       "      <td>mathematics</td>\n",
       "    </tr>\n",
       "  </tbody>\n",
       "</table>\n",
       "<p>2035 rows × 3 columns</p>\n",
       "</div>"
      ],
      "text/plain": [
       "                                                   text             subtopic  \\\n",
       "0     2 2 0 2  g u A 6 2  ] E H . h p - o r t s a [ ...         Astrophysics   \n",
       "1     Draft version August 29, 2022 Typeset using LA...         Astrophysics   \n",
       "2     Astronomy & Astrophysics manuscript no. 41891c...         Astrophysics   \n",
       "3     Astronomy & Astrophysics manuscript no. aa Aug...         Astrophysics   \n",
       "4     2 2 0 2  g u A 6 2  ]  R S . h p - o r t s a [...         Astrophysics   \n",
       "...                                                 ...                  ...   \n",
       "2030  2 2 0 2  g u A 3 2  ]  A F . h t a m  [  1 v 5...  Symplectic Geometry   \n",
       "2031  UNIVERSIDAD COMPLUTENSE DE MADRID  FACULTAD DE...  Symplectic Geometry   \n",
       "2032  2 2 0 2  g u A 0 2  ]  G S . h t a m  [  1 v 4...  Symplectic Geometry   \n",
       "2033  2 2 0 2  g u A 6 1  ]  G S . h t a m  [  1 v 4...  Symplectic Geometry   \n",
       "2034  Free ﬁeld realisation and the chiral universal...  Symplectic Geometry   \n",
       "\n",
       "            topic  \n",
       "0         physics  \n",
       "1         physics  \n",
       "2         physics  \n",
       "3         physics  \n",
       "4         physics  \n",
       "...           ...  \n",
       "2030  mathematics  \n",
       "2031  mathematics  \n",
       "2032  mathematics  \n",
       "2033  mathematics  \n",
       "2034  mathematics  \n",
       "\n",
       "[2035 rows x 3 columns]"
      ]
     },
     "execution_count": 5,
     "metadata": {},
     "output_type": "execute_result"
    }
   ],
   "source": [
    "# Turning subtopics into topics\n",
    "physics_list = ['astrophysics', 'condensed matter', 'general relativity and quantum cosmology', 'high energy physics - experiment', \n",
    "                'high energy physics - lattice', 'high energy physics - phenomenology', 'high energy physics - Tteory',\n",
    "                'mathematical physics', 'nonlinear sciences', 'nuclear experiment', 'nuclear theory', 'physics', 'quantum physics']\n",
    "\n",
    "arxiv_data['topic'] = arxiv_data['subtopic'].apply(lambda x: 'physics' if x.lower() in physics_list else 'mathematics')\n",
    "arxiv_data"
   ]
  },
  {
   "cell_type": "code",
   "execution_count": 6,
   "metadata": {},
   "outputs": [
    {
     "data": {
      "text/plain": [
       "(4955, 5)"
      ]
     },
     "execution_count": 6,
     "metadata": {},
     "output_type": "execute_result"
    }
   ],
   "source": [
    "# Concatenating both datasets\n",
    "data = pd.concat([openalex_data, arxiv_data], ignore_index=True)\n",
    "data.shape"
   ]
  },
  {
   "cell_type": "code",
   "execution_count": 7,
   "metadata": {},
   "outputs": [
    {
     "data": {
      "text/plain": [
       "(3354, 5)"
      ]
     },
     "execution_count": 7,
     "metadata": {},
     "output_type": "execute_result"
    }
   ],
   "source": [
    "# Dropping duplicates\n",
    "data.drop_duplicates(subset=['text'], keep='first', inplace=True, ignore_index=True)\n",
    "data.shape"
   ]
  },
  {
   "cell_type": "markdown",
   "metadata": {},
   "source": [
    "#### Further data cleaning is not necessary, since we built this dataset ourselves."
   ]
  },
  {
   "cell_type": "markdown",
   "metadata": {},
   "source": [
    "## Preprocessing"
   ]
  },
  {
   "cell_type": "code",
   "execution_count": 8,
   "metadata": {},
   "outputs": [],
   "source": [
    "# Lowercasing everything\n",
    "data = data.apply(lambda x: x.astype(str).str.lower())"
   ]
  },
  {
   "cell_type": "code",
   "execution_count": 9,
   "metadata": {},
   "outputs": [],
   "source": [
    "# Removing anything apart from lower case letters \n",
    "data['text'] = data['text'].apply(lambda x: re.sub(r'[^a-z]', ' ', x))"
   ]
  },
  {
   "cell_type": "code",
   "execution_count": 10,
   "metadata": {},
   "outputs": [],
   "source": [
    "# Removing anything that comes before the abstract\n",
    "data['text'] = data['text'].apply(lambda x: re.sub(r\"^.+?(?=abstract)\", \"\", x))"
   ]
  },
  {
   "cell_type": "code",
   "execution_count": 11,
   "metadata": {},
   "outputs": [
    {
     "data": {
      "image/png": "[encoded data removed]",
      "text/plain": [
       "<Figure size 640x480 with 1 Axes>"
      ]
     },
     "metadata": {},
     "output_type": "display_data"
    }
   ],
   "source": [
    "# This is the distribution of the total number of words per paper\n",
    "data['total words per text'] = data['text'].apply(lambda x : len(x)) \n",
    "data['total words per text'].hist(bins=100);"
   ]
  },
  {
   "cell_type": "markdown",
   "metadata": {},
   "source": [
    "#### In terms of computational efficiency it is reasonable to scale down the number of word taken into account from every paper. Otherwise, the file wouldn't be executable.\n",
    "\n",
    "#### We will do so by creating a reduced list of tokens from the paper texts, that we will later use for word embedding. To increase the quality we will remove stopwords and singel letter words."
   ]
  },
  {
   "cell_type": "code",
   "execution_count": 12,
   "metadata": {},
   "outputs": [],
   "source": [
    "# Tokenizing\n",
    "max_length_of_padding = 1000 # to save computational costs, we will already implement the max_length_of_padding here\n",
    "num_of_words_to_keep = int(max_length_of_padding*5) # adding some margin, because in spotword removal and word2vec embedding some will be removed\n",
    "\n",
    "data['modified text'] = data['text'].apply(lambda text: ' '.join(text.split()[:num_of_words_to_keep]))\n",
    "data['modified text'] = data['modified text'].apply(word_tokenize)"
   ]
  },
  {
   "cell_type": "code",
   "execution_count": 13,
   "metadata": {},
   "outputs": [],
   "source": [
    "# Lemmatizing\n",
    "data['modified text'] = data['modified text'].apply(lambda x: [WordNetLemmatizer().lemmatize(word, pos = 'v') for word in x])\n",
    "data['modified text'] = data['modified text'].apply(lambda x: [WordNetLemmatizer().lemmatize(word, pos = 'n') for word in x])"
   ]
  },
  {
   "cell_type": "code",
   "execution_count": 14,
   "metadata": {},
   "outputs": [],
   "source": [
    "# Removing stopwords and single letter words\n",
    "stop_words = set(stopwords.words('english'))\n",
    "\n",
    "data['modified text'] = data['modified text'].apply(lambda x: [word for word in x if not word in stop_words])\n",
    "data['modified text'] = data['modified text'].apply(lambda x: [word for word in x if len(word)>1])"
   ]
  },
  {
   "cell_type": "code",
   "execution_count": 15,
   "metadata": {},
   "outputs": [
    {
     "data": {
      "image/png": "[encoded data removed]",
      "text/plain": [
       "<Figure size 640x480 with 1 Axes>"
      ]
     },
     "metadata": {},
     "output_type": "display_data"
    }
   ],
   "source": [
    "# This is the distribution of numbers of selected tokens per paper after cutting down\n",
    "data['words per modified text'] = data['modified text'].apply(lambda x : len(x)) \n",
    "data['words per modified text'].hist(bins=100);"
   ]
  },
  {
   "cell_type": "code",
   "execution_count": 16,
   "metadata": {},
   "outputs": [
    {
     "data": {
      "text/plain": [
       "(3299, 8)"
      ]
     },
     "execution_count": 16,
     "metadata": {},
     "output_type": "execute_result"
    }
   ],
   "source": [
    "# Let's also exclude representations with less than 10 tokens\n",
    "data = data[data['words per modified text'] > 9].reset_index().drop(columns=['index'], axis=1)\n",
    "data.shape"
   ]
  },
  {
   "cell_type": "markdown",
   "metadata": {},
   "source": [
    "#### Now we will clean our data some more by reducing the samples of uncommon targets."
   ]
  },
  {
   "cell_type": "markdown",
   "metadata": {},
   "source": [
    "## Taking Care of the Targets"
   ]
  },
  {
   "cell_type": "code",
   "execution_count": 17,
   "metadata": {},
   "outputs": [
    {
     "data": {
      "text/plain": [
       "mathematics              1053\n",
       "physics                   785\n",
       "biology                   462\n",
       "medicine                  383\n",
       "chemistry                 138\n",
       "computer science          134\n",
       "psychology                118\n",
       "materials science          58\n",
       "environmental science      42\n",
       "economics                  35\n",
       "business                   29\n",
       "geology                    21\n",
       "geography                  15\n",
       "sociology                  10\n",
       "political science           8\n",
       "engineering                 5\n",
       "history                     2\n",
       "art                         1\n",
       "Name: topic, dtype: int64"
      ]
     },
     "execution_count": 17,
     "metadata": {},
     "output_type": "execute_result"
    }
   ],
   "source": [
    "# Let's check how our topics and subtopics are distributed\n",
    "data['topic'].value_counts()"
   ]
  },
  {
   "cell_type": "markdown",
   "metadata": {},
   "source": [
    "#### Topics are highly imballanced, we'll have to take care of this later."
   ]
  },
  {
   "cell_type": "code",
   "execution_count": 18,
   "metadata": {},
   "outputs": [
    {
     "data": {
      "text/plain": [
       "mathematical physics    107\n",
       "astrophysics            101\n",
       "cell biology            101\n",
       "condensed matter        100\n",
       "quantum physics          89\n",
       "                       ... \n",
       "political economy         1\n",
       "nuclear physics           1\n",
       "simulation                1\n",
       "economic system           1\n",
       "market economy            1\n",
       "Name: subtopic, Length: 249, dtype: int64"
      ]
     },
     "execution_count": 18,
     "metadata": {},
     "output_type": "execute_result"
    }
   ],
   "source": [
    "# Now checking the counts of the subtopics\n",
    "data['subtopic'].value_counts()"
   ]
  },
  {
   "cell_type": "code",
   "execution_count": 19,
   "metadata": {},
   "outputs": [
    {
     "data": {
      "text/html": [
       "<div>\n",
       "<style scoped>\n",
       "    .dataframe tbody tr th:only-of-type {\n",
       "        vertical-align: middle;\n",
       "    }\n",
       "\n",
       "    .dataframe tbody tr th {\n",
       "        vertical-align: top;\n",
       "    }\n",
       "\n",
       "    .dataframe thead th {\n",
       "        text-align: right;\n",
       "    }\n",
       "</style>\n",
       "<table border=\"1\" class=\"dataframe\">\n",
       "  <thead>\n",
       "    <tr style=\"text-align: right;\">\n",
       "      <th></th>\n",
       "      <th></th>\n",
       "      <th>id</th>\n",
       "      <th>title</th>\n",
       "      <th>text</th>\n",
       "      <th>total words per text</th>\n",
       "      <th>modified text</th>\n",
       "      <th>words per modified text</th>\n",
       "    </tr>\n",
       "    <tr>\n",
       "      <th>topic</th>\n",
       "      <th>subtopic</th>\n",
       "      <th></th>\n",
       "      <th></th>\n",
       "      <th></th>\n",
       "      <th></th>\n",
       "      <th></th>\n",
       "      <th></th>\n",
       "    </tr>\n",
       "  </thead>\n",
       "  <tbody>\n",
       "    <tr>\n",
       "      <th>art</th>\n",
       "      <th>theology</th>\n",
       "      <td>1</td>\n",
       "      <td>1</td>\n",
       "      <td>1</td>\n",
       "      <td>1</td>\n",
       "      <td>1</td>\n",
       "      <td>1</td>\n",
       "    </tr>\n",
       "    <tr>\n",
       "      <th rowspan=\"4\" valign=\"top\">biology</th>\n",
       "      <th>algorithm</th>\n",
       "      <td>1</td>\n",
       "      <td>1</td>\n",
       "      <td>1</td>\n",
       "      <td>1</td>\n",
       "      <td>1</td>\n",
       "      <td>1</td>\n",
       "    </tr>\n",
       "    <tr>\n",
       "      <th>anatomy</th>\n",
       "      <td>6</td>\n",
       "      <td>6</td>\n",
       "      <td>6</td>\n",
       "      <td>6</td>\n",
       "      <td>6</td>\n",
       "      <td>6</td>\n",
       "    </tr>\n",
       "    <tr>\n",
       "      <th>archaeology</th>\n",
       "      <td>1</td>\n",
       "      <td>1</td>\n",
       "      <td>1</td>\n",
       "      <td>1</td>\n",
       "      <td>1</td>\n",
       "      <td>1</td>\n",
       "    </tr>\n",
       "    <tr>\n",
       "      <th>biochemical engineering</th>\n",
       "      <td>1</td>\n",
       "      <td>1</td>\n",
       "      <td>1</td>\n",
       "      <td>1</td>\n",
       "      <td>1</td>\n",
       "      <td>1</td>\n",
       "    </tr>\n",
       "    <tr>\n",
       "      <th>...</th>\n",
       "      <th>...</th>\n",
       "      <td>...</td>\n",
       "      <td>...</td>\n",
       "      <td>...</td>\n",
       "      <td>...</td>\n",
       "      <td>...</td>\n",
       "      <td>...</td>\n",
       "    </tr>\n",
       "    <tr>\n",
       "      <th rowspan=\"5\" valign=\"top\">sociology</th>\n",
       "      <th>law and economics</th>\n",
       "      <td>1</td>\n",
       "      <td>1</td>\n",
       "      <td>1</td>\n",
       "      <td>1</td>\n",
       "      <td>1</td>\n",
       "      <td>1</td>\n",
       "    </tr>\n",
       "    <tr>\n",
       "      <th>management science</th>\n",
       "      <td>1</td>\n",
       "      <td>1</td>\n",
       "      <td>1</td>\n",
       "      <td>1</td>\n",
       "      <td>1</td>\n",
       "      <td>1</td>\n",
       "    </tr>\n",
       "    <tr>\n",
       "      <th>public relations</th>\n",
       "      <td>2</td>\n",
       "      <td>2</td>\n",
       "      <td>2</td>\n",
       "      <td>2</td>\n",
       "      <td>2</td>\n",
       "      <td>2</td>\n",
       "    </tr>\n",
       "    <tr>\n",
       "      <th>social psychology</th>\n",
       "      <td>1</td>\n",
       "      <td>1</td>\n",
       "      <td>1</td>\n",
       "      <td>1</td>\n",
       "      <td>1</td>\n",
       "      <td>1</td>\n",
       "    </tr>\n",
       "    <tr>\n",
       "      <th>social science</th>\n",
       "      <td>2</td>\n",
       "      <td>2</td>\n",
       "      <td>2</td>\n",
       "      <td>2</td>\n",
       "      <td>2</td>\n",
       "      <td>2</td>\n",
       "    </tr>\n",
       "  </tbody>\n",
       "</table>\n",
       "<p>456 rows × 6 columns</p>\n",
       "</div>"
      ],
      "text/plain": [
       "                                   id  title  text  total words per text  \\\n",
       "topic     subtopic                                                         \n",
       "art       theology                  1      1     1                     1   \n",
       "biology   algorithm                 1      1     1                     1   \n",
       "          anatomy                   6      6     6                     6   \n",
       "          archaeology               1      1     1                     1   \n",
       "          biochemical engineering   1      1     1                     1   \n",
       "...                                ..    ...   ...                   ...   \n",
       "sociology law and economics         1      1     1                     1   \n",
       "          management science        1      1     1                     1   \n",
       "          public relations          2      2     2                     2   \n",
       "          social psychology         1      1     1                     1   \n",
       "          social science            2      2     2                     2   \n",
       "\n",
       "                                   modified text  words per modified text  \n",
       "topic     subtopic                                                         \n",
       "art       theology                             1                        1  \n",
       "biology   algorithm                            1                        1  \n",
       "          anatomy                              6                        6  \n",
       "          archaeology                          1                        1  \n",
       "          biochemical engineering              1                        1  \n",
       "...                                          ...                      ...  \n",
       "sociology law and economics                    1                        1  \n",
       "          management science                   1                        1  \n",
       "          public relations                     2                        2  \n",
       "          social psychology                    1                        1  \n",
       "          social science                       2                        2  \n",
       "\n",
       "[456 rows x 6 columns]"
      ]
     },
     "execution_count": 19,
     "metadata": {},
     "output_type": "execute_result"
    }
   ],
   "source": [
    "# Inspecting the relationship between topics and subtopics\n",
    "data.groupby(by=['topic', 'subtopic']).count()"
   ]
  },
  {
   "cell_type": "code",
   "execution_count": 20,
   "metadata": {},
   "outputs": [
    {
     "name": "stdout",
     "output_type": "stream",
     "text": [
      "Since the number of subtopics is 249 and the number subtopics grouped by their topics increases to 456, we can deduce, that we have subtopics, that belong to several academic fields.\n"
     ]
    }
   ],
   "source": [
    "# Remark on the subtopics\n",
    "num_subtopics = len(data['subtopic'].value_counts())\n",
    "num_subtopics_grouped_by_topics = len(data.groupby(by=['topic', 'subtopic']).count())\n",
    "\n",
    "print(f'Since the number of subtopics is {num_subtopics} and the number subtopics grouped by their topics increases to {num_subtopics_grouped_by_topics}, we can deduce, that we have subtopics, that belong to several academic fields.')"
   ]
  },
  {
   "cell_type": "markdown",
   "metadata": {},
   "source": [
    "#### Which are these? And how common are those multiclass subtopics?"
   ]
  },
  {
   "cell_type": "code",
   "execution_count": 21,
   "metadata": {},
   "outputs": [],
   "source": [
    "# Getting the subtopics that are assigned to several topics\n",
    "def finding_multiassigned_subtopics():\n",
    "    list_of_multiclass_subtopics = []\n",
    "    for i in range(len(data.groupby(by=['subtopic', 'topic']).count())-1):\n",
    "        if (data.groupby(by=['subtopic', 'topic']).count().index[i][0] == \\\n",
    "            data.groupby(by=['subtopic', 'topic']).count().index[i+1][0]):\n",
    "            list_of_multiclass_subtopics.append(data.groupby(by=['subtopic', 'topic']).count().index[i])\n",
    "            list_of_multiclass_subtopics.append(data.groupby(by=['subtopic', 'topic']).count().index[i+1])\n",
    "\n",
    "    return list(set(list_of_multiclass_subtopics))"
   ]
  },
  {
   "cell_type": "code",
   "execution_count": 22,
   "metadata": {},
   "outputs": [
    {
     "data": {
      "text/html": [
       "<div>\n",
       "<style scoped>\n",
       "    .dataframe tbody tr th:only-of-type {\n",
       "        vertical-align: middle;\n",
       "    }\n",
       "\n",
       "    .dataframe tbody tr th {\n",
       "        vertical-align: top;\n",
       "    }\n",
       "\n",
       "    .dataframe thead th {\n",
       "        text-align: right;\n",
       "    }\n",
       "</style>\n",
       "<table border=\"1\" class=\"dataframe\">\n",
       "  <thead>\n",
       "    <tr style=\"text-align: right;\">\n",
       "      <th></th>\n",
       "      <th>id</th>\n",
       "      <th>title</th>\n",
       "      <th>text</th>\n",
       "      <th>topic</th>\n",
       "      <th>total words per text</th>\n",
       "      <th>modified text</th>\n",
       "      <th>words per modified text</th>\n",
       "    </tr>\n",
       "    <tr>\n",
       "      <th>subtopic</th>\n",
       "      <th></th>\n",
       "      <th></th>\n",
       "      <th></th>\n",
       "      <th></th>\n",
       "      <th></th>\n",
       "      <th></th>\n",
       "      <th></th>\n",
       "    </tr>\n",
       "  </thead>\n",
       "  <tbody>\n",
       "    <tr>\n",
       "      <th>cell biology</th>\n",
       "      <td>101</td>\n",
       "      <td>101</td>\n",
       "      <td>101</td>\n",
       "      <td>101</td>\n",
       "      <td>101</td>\n",
       "      <td>101</td>\n",
       "      <td>101</td>\n",
       "    </tr>\n",
       "    <tr>\n",
       "      <th>internal medicine</th>\n",
       "      <td>80</td>\n",
       "      <td>80</td>\n",
       "      <td>80</td>\n",
       "      <td>80</td>\n",
       "      <td>80</td>\n",
       "      <td>80</td>\n",
       "      <td>80</td>\n",
       "    </tr>\n",
       "    <tr>\n",
       "      <th>neuroscience</th>\n",
       "      <td>68</td>\n",
       "      <td>68</td>\n",
       "      <td>68</td>\n",
       "      <td>68</td>\n",
       "      <td>68</td>\n",
       "      <td>68</td>\n",
       "      <td>68</td>\n",
       "    </tr>\n",
       "    <tr>\n",
       "      <th>genetics</th>\n",
       "      <td>67</td>\n",
       "      <td>67</td>\n",
       "      <td>67</td>\n",
       "      <td>67</td>\n",
       "      <td>67</td>\n",
       "      <td>67</td>\n",
       "      <td>67</td>\n",
       "    </tr>\n",
       "    <tr>\n",
       "      <th>immunology</th>\n",
       "      <td>63</td>\n",
       "      <td>63</td>\n",
       "      <td>63</td>\n",
       "      <td>63</td>\n",
       "      <td>63</td>\n",
       "      <td>63</td>\n",
       "      <td>63</td>\n",
       "    </tr>\n",
       "    <tr>\n",
       "      <th>...</th>\n",
       "      <td>...</td>\n",
       "      <td>...</td>\n",
       "      <td>...</td>\n",
       "      <td>...</td>\n",
       "      <td>...</td>\n",
       "      <td>...</td>\n",
       "      <td>...</td>\n",
       "    </tr>\n",
       "    <tr>\n",
       "      <th>agroforestry</th>\n",
       "      <td>2</td>\n",
       "      <td>2</td>\n",
       "      <td>2</td>\n",
       "      <td>2</td>\n",
       "      <td>2</td>\n",
       "      <td>2</td>\n",
       "      <td>2</td>\n",
       "    </tr>\n",
       "    <tr>\n",
       "      <th>internet privacy</th>\n",
       "      <td>2</td>\n",
       "      <td>2</td>\n",
       "      <td>2</td>\n",
       "      <td>2</td>\n",
       "      <td>2</td>\n",
       "      <td>2</td>\n",
       "      <td>2</td>\n",
       "    </tr>\n",
       "    <tr>\n",
       "      <th>law</th>\n",
       "      <td>2</td>\n",
       "      <td>2</td>\n",
       "      <td>2</td>\n",
       "      <td>2</td>\n",
       "      <td>2</td>\n",
       "      <td>2</td>\n",
       "      <td>2</td>\n",
       "    </tr>\n",
       "    <tr>\n",
       "      <th>medical physics</th>\n",
       "      <td>2</td>\n",
       "      <td>2</td>\n",
       "      <td>2</td>\n",
       "      <td>2</td>\n",
       "      <td>2</td>\n",
       "      <td>2</td>\n",
       "      <td>2</td>\n",
       "    </tr>\n",
       "    <tr>\n",
       "      <th>geochemistry</th>\n",
       "      <td>2</td>\n",
       "      <td>2</td>\n",
       "      <td>2</td>\n",
       "      <td>2</td>\n",
       "      <td>2</td>\n",
       "      <td>2</td>\n",
       "      <td>2</td>\n",
       "    </tr>\n",
       "  </tbody>\n",
       "</table>\n",
       "<p>116 rows × 7 columns</p>\n",
       "</div>"
      ],
      "text/plain": [
       "                    id  title  text  topic  total words per text  \\\n",
       "subtopic                                                           \n",
       "cell biology       101    101   101    101                   101   \n",
       "internal medicine   80     80    80     80                    80   \n",
       "neuroscience        68     68    68     68                    68   \n",
       "genetics            67     67    67     67                    67   \n",
       "immunology          63     63    63     63                    63   \n",
       "...                ...    ...   ...    ...                   ...   \n",
       "agroforestry         2      2     2      2                     2   \n",
       "internet privacy     2      2     2      2                     2   \n",
       "law                  2      2     2      2                     2   \n",
       "medical physics      2      2     2      2                     2   \n",
       "geochemistry         2      2     2      2                     2   \n",
       "\n",
       "                   modified text  words per modified text  \n",
       "subtopic                                                   \n",
       "cell biology                 101                      101  \n",
       "internal medicine             80                       80  \n",
       "neuroscience                  68                       68  \n",
       "genetics                      67                       67  \n",
       "immunology                    63                       63  \n",
       "...                          ...                      ...  \n",
       "agroforestry                   2                        2  \n",
       "internet privacy               2                        2  \n",
       "law                            2                        2  \n",
       "medical physics                2                        2  \n",
       "geochemistry                   2                        2  \n",
       "\n",
       "[116 rows x 7 columns]"
      ]
     },
     "execution_count": 22,
     "metadata": {},
     "output_type": "execute_result"
    }
   ],
   "source": [
    "# Which multiclass assigned subtopics are the most common ones?\n",
    "multiclass_subtopics = finding_multiassigned_subtopics()\n",
    "\n",
    "df = pd.DataFrame()\n",
    "for i in range(len(multiclass_subtopics)):\n",
    "    extracted_data = (data[(data['subtopic'] == multiclass_subtopics[i][0]) & (data['topic'] == multiclass_subtopics[i][1])])\n",
    "    extracted_data_old = df\n",
    "    df = pd.concat([extracted_data_old, extracted_data], ignore_index=True)\n",
    "df = df.sort_values(by='subtopic')\n",
    "\n",
    "df.groupby(by=\"subtopic\").count().sort_values(by='id', ascending=False)"
   ]
  },
  {
   "cell_type": "markdown",
   "metadata": {},
   "source": [
    "#### We can see that some interdisciplinary subtopics (those with high transfer potential) tend to live in several academic fields."
   ]
  },
  {
   "cell_type": "code",
   "execution_count": 23,
   "metadata": {},
   "outputs": [
    {
     "data": {
      "text/plain": [
       "biology             76\n",
       "chemistry           21\n",
       "computer science     2\n",
       "mathematics          1\n",
       "medicine             1\n",
       "Name: topic, dtype: int64"
      ]
     },
     "execution_count": 23,
     "metadata": {},
     "output_type": "execute_result"
    }
   ],
   "source": [
    "# example subtopic 'cell biology' \n",
    "df[df['subtopic'] == 'cell biology']['topic'].value_counts()"
   ]
  },
  {
   "cell_type": "markdown",
   "metadata": {},
   "source": [
    "#### We want to join some of the subtopics, so that we have lesser and larger subtopics to classify."
   ]
  },
  {
   "cell_type": "markdown",
   "metadata": {},
   "source": [
    "### Reducing the subtopics"
   ]
  },
  {
   "cell_type": "code",
   "execution_count": 24,
   "metadata": {},
   "outputs": [],
   "source": [
    "#from .. WorkingPaper.preprocessing.utils import make_broader_subdisciplines_physics\n",
    "#make_broader_subdisciplines_physics()"
   ]
  },
  {
   "cell_type": "code",
   "execution_count": 25,
   "metadata": {},
   "outputs": [
    {
     "name": "stdout",
     "output_type": "stream",
     "text": [
      "Counter({'mathematical physics': 107, 'astrophysics': 101, 'condensed matter': 100, 'quantum physics': 89, 'general relativity and quantum cosmology': 87, 'high energy physics - phenomenology': 69, 'nonlinear sciences': 64, 'high energy physics - experiment': 55, 'nuclear theory': 24, 'astronomy': 21, 'nuclear experiment': 16, 'high energy physics - lattice': 12, 'quantum mechanics': 5, 'neuroscience': 4, 'classical mechanics': 4, 'computational physics': 3, 'statistical physics': 2, 'optics': 2, 'mechanics': 2, 'biological system': 2, 'chemical physics': 1, 'theoretical physics': 1, 'nuclear physics': 1, 'geometry': 1, 'systems engineering': 1, 'electrical engineering': 1, 'simulation': 1, 'applied mathematics': 1, 'atomic physics': 1, 'nuclear medicine': 1, 'quantum electrodynamics': 1, 'optoelectronics': 1, 'molecular physics': 1, 'particle physics': 1, 'astrobiology': 1, 'geochemistry': 1})\n"
     ]
    }
   ],
   "source": [
    "# Printing the subtopics from the field \"physics\", for matching purposes\n",
    "print(Counter(data[data['topic'] == 'physics']['subtopic']))"
   ]
  },
  {
   "cell_type": "code",
   "execution_count": 26,
   "metadata": {},
   "outputs": [],
   "source": [
    "# Make a mapping of physics subtopics from our api data to more generalised physics subtopics\n",
    "physics_mapping_dict = {'astrophysics': ['astronomy', 'astrophysics', 'astrobiology'],\\\n",
    "    'condensed matter': ['condensed matter', 'statistical physics', 'neuroscience', 'biological system', 'nanotechnology', 'molecular physics', 'computational physics'],\\\n",
    "    'general relativy and cosmology': ['classical mechanics', 'mechanics', 'optics'],\\\n",
    "    'high energy physics': ['atomic physics', 'particle physics'],\\\n",
    "    'mathematical physics': ['geometry', 'mathematical physics', 'applied mathematics', 'theoretical physics', 'pure mathematics'],\\\n",
    "    'nuclear': ['nuclear physics', 'nuclear medicine', 'physical medicine and rehabilitation'],\\\n",
    "    'quantum physics': ['quantum mechanics', 'quantum electrodinamics']}"
   ]
  },
  {
   "cell_type": "code",
   "execution_count": 27,
   "metadata": {},
   "outputs": [
    {
     "data": {
      "text/plain": [
       "{'astronomy': 'astrophysics',\n",
       " 'astrophysics': 'astrophysics',\n",
       " 'astrobiology': 'astrophysics',\n",
       " 'condensed matter': 'condensed matter',\n",
       " 'statistical physics': 'condensed matter',\n",
       " 'neuroscience': 'condensed matter',\n",
       " 'biological system': 'condensed matter',\n",
       " 'nanotechnology': 'condensed matter',\n",
       " 'molecular physics': 'condensed matter',\n",
       " 'computational physics': 'condensed matter',\n",
       " 'classical mechanics': 'general relativy and cosmology',\n",
       " 'mechanics': 'general relativy and cosmology',\n",
       " 'optics': 'general relativy and cosmology',\n",
       " 'atomic physics': 'high energy physics',\n",
       " 'particle physics': 'high energy physics',\n",
       " 'geometry': 'mathematical physics',\n",
       " 'mathematical physics': 'mathematical physics',\n",
       " 'applied mathematics': 'mathematical physics',\n",
       " 'theoretical physics': 'mathematical physics',\n",
       " 'pure mathematics': 'mathematical physics',\n",
       " 'nuclear physics': 'nuclear',\n",
       " 'nuclear medicine': 'nuclear',\n",
       " 'physical medicine and rehabilitation': 'nuclear',\n",
       " 'quantum mechanics': 'quantum physics',\n",
       " 'quantum electrodinamics': 'quantum physics'}"
      ]
     },
     "execution_count": 27,
     "metadata": {},
     "output_type": "execute_result"
    }
   ],
   "source": [
    "# Turning the dict, which as accidentally coded the wrong way around\n",
    "def turn_dict(physic_dict):\n",
    "    new_dict = {}\n",
    "    for key, values in physic_dict.items():\n",
    "        for value in values:\n",
    "            new_dict[value]=key\n",
    "    return new_dict\n",
    "\n",
    "new_mapping_dict = turn_dict(physics_mapping_dict)\n",
    "new_mapping_dict"
   ]
  },
  {
   "cell_type": "code",
   "execution_count": 28,
   "metadata": {},
   "outputs": [
    {
     "data": {
      "text/html": [
       "<div>\n",
       "<style scoped>\n",
       "    .dataframe tbody tr th:only-of-type {\n",
       "        vertical-align: middle;\n",
       "    }\n",
       "\n",
       "    .dataframe tbody tr th {\n",
       "        vertical-align: top;\n",
       "    }\n",
       "\n",
       "    .dataframe thead th {\n",
       "        text-align: right;\n",
       "    }\n",
       "</style>\n",
       "<table border=\"1\" class=\"dataframe\">\n",
       "  <thead>\n",
       "    <tr style=\"text-align: right;\">\n",
       "      <th></th>\n",
       "      <th>id</th>\n",
       "      <th>title</th>\n",
       "      <th>text</th>\n",
       "      <th>topic</th>\n",
       "      <th>subtopic</th>\n",
       "      <th>total words per text</th>\n",
       "      <th>modified text</th>\n",
       "      <th>words per modified text</th>\n",
       "      <th>broader_subtopic</th>\n",
       "    </tr>\n",
       "  </thead>\n",
       "  <tbody>\n",
       "    <tr>\n",
       "      <th>41</th>\n",
       "      <td>https://openalex.org/w1955575446</td>\n",
       "      <td>sharp wave-associated high-frequency oscillati...</td>\n",
       "      <td>the  journal  of  neuroscience    january     ...</td>\n",
       "      <td>physics</td>\n",
       "      <td>neuroscience</td>\n",
       "      <td>90278</td>\n",
       "      <td>[journal, neuroscience, january, sharp, wave, ...</td>\n",
       "      <td>3142</td>\n",
       "      <td>condensed matter</td>\n",
       "    </tr>\n",
       "    <tr>\n",
       "      <th>44</th>\n",
       "      <td>https://openalex.org/w2025236523</td>\n",
       "      <td>entanglement measures and purification procedures</td>\n",
       "      <td>physical review a  volume     number    march ...</td>\n",
       "      <td>physics</td>\n",
       "      <td>quantum mechanics</td>\n",
       "      <td>102312</td>\n",
       "      <td>[physical, review, volume, number, march, enta...</td>\n",
       "      <td>2849</td>\n",
       "      <td>quantum physics</td>\n",
       "    </tr>\n",
       "    <tr>\n",
       "      <th>49</th>\n",
       "      <td>https://openalex.org/w2102582588</td>\n",
       "      <td>the peregrine soliton in nonlinear fibre optics</td>\n",
       "      <td>letters  published online     august        do...</td>\n",
       "      <td>physics</td>\n",
       "      <td>quantum mechanics</td>\n",
       "      <td>32391</td>\n",
       "      <td>[letter, publish, online, august, doi, nphys, ...</td>\n",
       "      <td>2827</td>\n",
       "      <td>quantum physics</td>\n",
       "    </tr>\n",
       "    <tr>\n",
       "      <th>57</th>\n",
       "      <td>https://openalex.org/w2005241888</td>\n",
       "      <td>constant temperature molecular dynamics methods</td>\n",
       "      <td>progress of theoretical  physics supplement no...</td>\n",
       "      <td>physics</td>\n",
       "      <td>statistical physics</td>\n",
       "      <td>123550</td>\n",
       "      <td>[progress, theoretical, physic, supplement, co...</td>\n",
       "      <td>2228</td>\n",
       "      <td>condensed matter</td>\n",
       "    </tr>\n",
       "    <tr>\n",
       "      <th>94</th>\n",
       "      <td>https://openalex.org/w1969658805</td>\n",
       "      <td>on the measurement of a weak classical force c...</td>\n",
       "      <td>abstract  terms focusing attention on  the  dy...</td>\n",
       "      <td>physics</td>\n",
       "      <td>quantum mechanics</td>\n",
       "      <td>182269</td>\n",
       "      <td>[abstract, term, focus, attention, dynamical, ...</td>\n",
       "      <td>2437</td>\n",
       "      <td>quantum physics</td>\n",
       "    </tr>\n",
       "  </tbody>\n",
       "</table>\n",
       "</div>"
      ],
      "text/plain": [
       "                                  id  \\\n",
       "41  https://openalex.org/w1955575446   \n",
       "44  https://openalex.org/w2025236523   \n",
       "49  https://openalex.org/w2102582588   \n",
       "57  https://openalex.org/w2005241888   \n",
       "94  https://openalex.org/w1969658805   \n",
       "\n",
       "                                                title  \\\n",
       "41  sharp wave-associated high-frequency oscillati...   \n",
       "44  entanglement measures and purification procedures   \n",
       "49    the peregrine soliton in nonlinear fibre optics   \n",
       "57    constant temperature molecular dynamics methods   \n",
       "94  on the measurement of a weak classical force c...   \n",
       "\n",
       "                                                 text    topic  \\\n",
       "41  the  journal  of  neuroscience    january     ...  physics   \n",
       "44  physical review a  volume     number    march ...  physics   \n",
       "49  letters  published online     august        do...  physics   \n",
       "57  progress of theoretical  physics supplement no...  physics   \n",
       "94  abstract  terms focusing attention on  the  dy...  physics   \n",
       "\n",
       "               subtopic  total words per text  \\\n",
       "41         neuroscience                 90278   \n",
       "44    quantum mechanics                102312   \n",
       "49    quantum mechanics                 32391   \n",
       "57  statistical physics                123550   \n",
       "94    quantum mechanics                182269   \n",
       "\n",
       "                                        modified text  \\\n",
       "41  [journal, neuroscience, january, sharp, wave, ...   \n",
       "44  [physical, review, volume, number, march, enta...   \n",
       "49  [letter, publish, online, august, doi, nphys, ...   \n",
       "57  [progress, theoretical, physic, supplement, co...   \n",
       "94  [abstract, term, focus, attention, dynamical, ...   \n",
       "\n",
       "    words per modified text  broader_subtopic  \n",
       "41                     3142  condensed matter  \n",
       "44                     2849   quantum physics  \n",
       "49                     2827   quantum physics  \n",
       "57                     2228  condensed matter  \n",
       "94                     2437   quantum physics  "
      ]
     },
     "execution_count": 28,
     "metadata": {},
     "output_type": "execute_result"
    }
   ],
   "source": [
    "# Mapping the subtopics from the mapping dict to the broader subtopics\n",
    "data['broader_subtopic'] = data.where(data['topic'] == 'physics')['subtopic'].map(new_mapping_dict)\n",
    "data[data['topic'] == 'physics'].head()"
   ]
  },
  {
   "cell_type": "code",
   "execution_count": 29,
   "metadata": {},
   "outputs": [
    {
     "data": {
      "text/plain": [
       "astrophysics                      123\n",
       "condensed matter                  112\n",
       "mathematical physics              110\n",
       "general relativy and cosmology      8\n",
       "quantum physics                     5\n",
       "nuclear                             2\n",
       "high energy physics                 2\n",
       "Name: broader_subtopic, dtype: int64"
      ]
     },
     "execution_count": 29,
     "metadata": {},
     "output_type": "execute_result"
    }
   ],
   "source": [
    "# Checking if it worked\n",
    "data['broader_subtopic'].value_counts()"
   ]
  },
  {
   "cell_type": "code",
   "execution_count": 30,
   "metadata": {},
   "outputs": [
    {
     "data": {
      "text/plain": [
       "(3189, 9)"
      ]
     },
     "execution_count": 30,
     "metadata": {},
     "output_type": "execute_result"
    }
   ],
   "source": [
    "# 'mathematical physics' is excluded (too similar to mathematics)\n",
    "data = data[data['broader_subtopic'] != 'mathematical physics']\n",
    "data.shape"
   ]
  },
  {
   "cell_type": "code",
   "execution_count": 31,
   "metadata": {},
   "outputs": [
    {
     "data": {
      "text/plain": [
       "genetics and molecular biology    152\n",
       "microbiology                      102\n",
       "physiology                         96\n",
       "computational biology              54\n",
       "botany                             14\n",
       "evolutionary biology               13\n",
       "ecology                             9\n",
       "zoology                             6\n",
       "Name: broader_subtopic, dtype: int64"
      ]
     },
     "execution_count": 31,
     "metadata": {},
     "output_type": "execute_result"
    }
   ],
   "source": [
    "# Make a mapping of biology subtopics from our api data to more generalised biology subtopics\n",
    "biology_mapping_dict = {'zoology': 'zoology', 'fishery':'zoology', 'animal science':'zoology', 'oceanography': 'zoology', 'cancer research':'genetics and molecular biology', \\\n",
    "    'biochemical engineering': 'genetics and molecular biology', 'genetics': 'genetics and molecular biology', 'molecular biology': 'genetics and molecular biology','biochemistry': 'genetics and molecular biology', 'chromatography': 'genetics and molecular biology', \\\n",
    "    'biotechnology':'genetics and molecular biology', 'biophysics': 'genetics and molecular biology', 'horticulture': 'botany','forestry': 'botany', 'agroforestry': 'botany', \\\n",
    "    'endocrinology': 'physiology', 'immunology': 'physiology', 'neuroscience': 'physiology', 'biological system': 'physiology', \\\n",
    "    'cell biology': 'microbiology', 'virology': 'microbiology', 'microbiology': 'microbiology', \\\n",
    "    'soil science': 'ecology', 'environmental health': 'ecology', 'environmental chemistry': 'ecology', 'ecology': 'ecology', \\\n",
    "    'computational biology': 'computational biology', 'bioinformatics': 'computational biology', 'statistics': 'computational biology',\n",
    "    'database': 'computational biology', 'data mining': 'computational biology', 'world wide web': 'computational biology', 'data science': 'computational biology', 'information retrieval': 'computational biology', 'algorithm': 'computational biology', 'programming language': 'computational biology', 'artificial intelligence': 'computational biology',\\\n",
    "    'evolutionary biology': 'evolutionary biology', 'botany': 'botany', 'physiology': 'physiology', 'internal medicine': 'physiology', 'anatomy': 'physiology', 'pathology':'physiology'}\n",
    "\n",
    "# Mapping the subtopics from the mapping dict to the broader subtopics\n",
    "data['broader_subtopic'] = data.where(data['topic'] == 'biology')['subtopic'].map(biology_mapping_dict)\n",
    "\n",
    "# Checking if it worked\n",
    "data['broader_subtopic'].value_counts()"
   ]
  },
  {
   "cell_type": "code",
   "execution_count": 32,
   "metadata": {},
   "outputs": [
    {
     "data": {
      "text/plain": [
       "(3039, 9)"
      ]
     },
     "execution_count": 32,
     "metadata": {},
     "output_type": "execute_result"
    }
   ],
   "source": [
    "# \"physiology\" and \"computational biology\" are excluded (too similar to medicine and computer science)\n",
    "data = data[data['broader_subtopic'] != 'physiology']\n",
    "data = data[data['broader_subtopic'] != 'computational biology']\n",
    "data.shape"
   ]
  },
  {
   "cell_type": "code",
   "execution_count": 34,
   "metadata": {},
   "outputs": [
    {
     "data": {
      "text/plain": [
       "array(['pediatrics', 'internal medicine', 'psychiatry', 'cardiology',\n",
       "       'intensive care medicine', 'cancer research', 'radiology',\n",
       "       'immunology', 'gerontology', 'environmental health',\n",
       "       'clinical psychology', 'gynecology', 'family medicine',\n",
       "       'endocrinology', 'algorithm', 'neuroscience', 'pharmacology',\n",
       "       'physical medicine and rehabilitation', 'oncology', 'pathology',\n",
       "       'medical emergency', 'gastroenterology', 'demography', 'dentistry',\n",
       "       'cell biology', 'environmental ethics', 'anatomy',\n",
       "       'physical therapy', 'surgery', 'audiology', 'physiology',\n",
       "       'virology', 'emergency medicine', 'optics', 'nursing',\n",
       "       'medical physics', 'anesthesia', 'genetics', 'andrology',\n",
       "       'nuclear magnetic resonance', 'bioinformatics', 'general surgery',\n",
       "       'orthodontics', 'data science', 'microbiology', 'nuclear medicine',\n",
       "       'obstetrics', 'microeconomics', 'biotechnology', 'urology',\n",
       "       'computational biology', 'psychotherapist', 'medical education',\n",
       "       'animal science', 'food science'], dtype=object)"
      ]
     },
     "execution_count": 34,
     "metadata": {},
     "output_type": "execute_result"
    }
   ],
   "source": [
    "# Getting subtopics from the medical field\n",
    "data[data['topic'] == 'medicine']['subtopic'].unique()"
   ]
  },
  {
   "cell_type": "code",
   "execution_count": null,
   "metadata": {},
   "outputs": [],
   "source": [
    "# Filtering the data to exclude interdisciplinary medical subtopics (for more clarity)\n",
    "\n",
    "data[data['subtopic'].isin(list(filtered_subtopics)) & data['topic'].isin(list(filtered_topics))]\n",
    "\n",
    "data[data['topic'] == 'medicine' & data['subtopic'] == 'algorithm']\n",
    "\n",
    "'algorithm', 'neuroscience', 'pharmacology',\n",
    "       'physical medicine and rehabilitation', 'oncology', 'pathology',\n",
    "       'medical emergency', 'gastroenterology', 'demography', 'dentistry',\n",
    "       'cell biology', 'environmental ethics', 'anatomy',\n",
    "       'physical therapy', 'surgery', 'audiology', 'physiology',\n",
    "       'virology', 'emergency medicine', 'optics', 'nursing',\n",
    "       'medical physics', 'anesthesia', 'genetics', 'andrology',\n",
    "       'nuclear magnetic resonance', 'bioinformatics', 'general surgery',\n",
    "       'orthodontics', 'data science', 'microbiology', 'nuclear medicine',\n",
    "       'obstetrics', 'microeconomics', 'biotechnology', 'urology',\n",
    "       'computational biology', 'psychotherapist', 'medical education',\n",
    "       'animal science', 'food science'], dtype=object)"
   ]
  },
  {
   "cell_type": "markdown",
   "metadata": {},
   "source": [
    "### Getting rid of rare topics and subtopics"
   ]
  },
  {
   "cell_type": "code",
   "execution_count": 33,
   "metadata": {},
   "outputs": [
    {
     "data": {
      "text/plain": [
       "Index(['mathematics', 'physics', 'medicine', 'biology'], dtype='object')"
      ]
     },
     "execution_count": 33,
     "metadata": {},
     "output_type": "execute_result"
    }
   ],
   "source": [
    "# Filtering for those topics that occurr more commonly in our data        <----- percentile can be adjusted\n",
    "common_topics = (data['topic'].value_counts() > np.percentile(data['topic'].value_counts(), 80)) # topic occurrence until xxth percentile\n",
    "filtered_topics = common_topics[common_topics == True].index\n",
    "filtered_topics"
   ]
  },
  {
   "cell_type": "code",
   "execution_count": 34,
   "metadata": {},
   "outputs": [
    {
     "data": {
      "text/plain": [
       "Index(['cell biology', 'astrophysics', 'condensed matter', 'quantum physics',\n",
       "       'combinatorics', 'general relativity and quantum cosmology',\n",
       "       'analysis of pdes', 'optimization and control',\n",
       "       'high energy physics - phenomenology', 'probability',\n",
       "       'high energy physics - theory', 'genetics', 'internal medicine',\n",
       "       'nonlinear sciences', 'numerical analysis', 'algebraic geometry',\n",
       "       'molecular biology', 'high energy physics - experiment',\n",
       "       'information theory', 'neuroscience', 'dynamical systems',\n",
       "       'number theory', 'biochemistry', 'differential geometry',\n",
       "       'functional analysis', 'statistics theory', 'nanotechnology',\n",
       "       'cancer research', 'classical analysis and odes', 'complex variables',\n",
       "       'algebraic topology', 'gerontology', 'representation theory',\n",
       "       'immunology', 'nuclear theory', 'microbiology', 'pediatrics',\n",
       "       'cardiology', 'ecology', 'geometric topology', 'astronomy',\n",
       "       'physical therapy', 'endocrinology', 'psychiatry', 'surgery',\n",
       "       'group theory', 'pharmacology', 'biophysics', 'commutative algebra'],\n",
       "      dtype='object')"
      ]
     },
     "execution_count": 34,
     "metadata": {},
     "output_type": "execute_result"
    }
   ],
   "source": [
    "# Filtering for those subtopics that occurr more commonly in our data     <----- percentile can be adjusted\n",
    "common_subtopics = (data['subtopic'].value_counts() > np.percentile(data['subtopic'].value_counts(), 80))\n",
    "filtered_subtopics = common_subtopics[common_subtopics == True].index\n",
    "filtered_subtopics"
   ]
  },
  {
   "cell_type": "code",
   "execution_count": 35,
   "metadata": {},
   "outputs": [
    {
     "data": {
      "text/plain": [
       "(2009, 9)"
      ]
     },
     "execution_count": 35,
     "metadata": {},
     "output_type": "execute_result"
    }
   ],
   "source": [
    "# Filtering data according to the topics and subtopics that are more common\n",
    "data = data[data['subtopic'].isin(list(filtered_subtopics)) & data['topic'].isin(list(filtered_topics))]\n",
    "data.shape\n",
    "\n",
    "# There is a catch here though, because the occurrence of both, topics and subtopics, depend on each other.\n",
    "# This might leave us with some scarcely represented topics and subtopics still.\n",
    "# Should there be some time left before the deadline, this should be optimized."
   ]
  },
  {
   "cell_type": "code",
   "execution_count": 36,
   "metadata": {},
   "outputs": [],
   "source": [
    "# Filtering data according to the topics that are more common\n",
    "#data = data[data['topic'].isin(list(filtered_topics))]\n",
    "\n",
    "# That's much worse than filtering for common topics and subtopics at the same time. \n",
    "# Although the above procedure isn't opitmal, it's a measure to reduce all the branching, so we'll stick with it for now."
   ]
  },
  {
   "cell_type": "code",
   "execution_count": 37,
   "metadata": {},
   "outputs": [
    {
     "data": {
      "image/png": "[encoded data removed]",
      "text/plain": [
       "<Figure size 1500x500 with 1 Axes>"
      ]
     },
     "metadata": {},
     "output_type": "display_data"
    }
   ],
   "source": [
    "# The remaining topics and the subtopics are distributed as such:\n",
    "plt.figure(figsize=(15, 5))\n",
    "plt.hist(data['topic'], bins=data['topic'].nunique())\n",
    "plt.hist(data['subtopic'], bins=data['subtopic'].nunique())\n",
    "plt.xticks(rotation = 90)\n",
    "plt.show()"
   ]
  },
  {
   "cell_type": "code",
   "execution_count": 38,
   "metadata": {},
   "outputs": [
    {
     "name": "stdout",
     "output_type": "stream",
     "text": [
      "Counter({'mathematics': 905, 'physics': 614, 'biology': 258, 'medicine': 232})\n"
     ]
    }
   ],
   "source": [
    "# Printing precise number of occurances for each topic\n",
    "print(Counter(data['topic']))"
   ]
  },
  {
   "cell_type": "code",
   "execution_count": 39,
   "metadata": {},
   "outputs": [],
   "source": [
    "# Saving preprocessed data in a csv\n",
    "data.to_csv(f'../raw_data/preprocessed_data.csv', index=False)"
   ]
  },
  {
   "cell_type": "markdown",
   "metadata": {},
   "source": [
    "#### The topics and subtopics are highly imbalanced still. They are our targets!!! So, we need to rebalance them (in the training set only) once we made our train-test.split.\n",
    "\n",
    "#### Before though, based on this new shape of the dataframe, we will create word embeddings with Word2Vec!"
   ]
  },
  {
   "cell_type": "markdown",
   "metadata": {},
   "source": [
    "### Word2Vec embedding of the text of the scientific papers"
   ]
  },
  {
   "cell_type": "code",
   "execution_count": 40,
   "metadata": {},
   "outputs": [],
   "source": [
    "# Load preprocessed data\n",
    "data = pd.read_csv('../raw_data/preprocessed_data.csv')"
   ]
  },
  {
   "cell_type": "code",
   "execution_count": 41,
   "metadata": {},
   "outputs": [
    {
     "name": "stdout",
     "output_type": "stream",
     "text": [
      "Vocabulary size 400000\n"
     ]
    }
   ],
   "source": [
    "# Downloading a pre-trained Word2Vec model, that delivers a 50 space vector representation of any word present in the Wikipedia in 2014\n",
    "word2vec_transfer = api.load(\"glove-wiki-gigaword-50\")\n",
    "word2vec_transfer['saturn'].shape # checking the shape of the vectors: (50, )\n",
    "print('Vocabulary size', len(word2vec_transfer))"
   ]
  },
  {
   "cell_type": "code",
   "execution_count": 42,
   "metadata": {},
   "outputs": [],
   "source": [
    "# Function to convert a paper (list of words) into a matrix representing the words in the embedding space\n",
    "def embed_paper(word2vec_space, paper):\n",
    "    embedded_paper = []\n",
    "    for word in paper:\n",
    "        if word in word2vec_space:\n",
    "            embedded_paper.append(word2vec_space[word])\n",
    "        \n",
    "    return np.array(embedded_paper)"
   ]
  },
  {
   "cell_type": "code",
   "execution_count": 43,
   "metadata": {},
   "outputs": [
    {
     "data": {
      "text/plain": [
       "(27574, 50)"
      ]
     },
     "execution_count": 43,
     "metadata": {},
     "output_type": "execute_result"
    }
   ],
   "source": [
    "# Testing the function\n",
    "test_sentence_embedded = embed_paper(word2vec_transfer, data['modified text'][0])\n",
    "test_sentence_embedded.shape # some words have been skipped, because certainly they weren't contained in the glove-wiki-gigaword-50 representation"
   ]
  },
  {
   "cell_type": "code",
   "execution_count": 44,
   "metadata": {},
   "outputs": [],
   "source": [
    "# Function to convert a list of papers into a list of matrices\n",
    "def embedding(word2vec_space, series_of_papers):\n",
    "    embed = []\n",
    "    \n",
    "    for ele in series_of_papers:\n",
    "        embedded_article = embed_paper(word2vec_space, ele)\n",
    "        embed.append(embedded_article)\n",
    "        \n",
    "    return embed"
   ]
  },
  {
   "cell_type": "code",
   "execution_count": 45,
   "metadata": {},
   "outputs": [
    {
     "data": {
      "text/html": [
       "<div>\n",
       "<style scoped>\n",
       "    .dataframe tbody tr th:only-of-type {\n",
       "        vertical-align: middle;\n",
       "    }\n",
       "\n",
       "    .dataframe tbody tr th {\n",
       "        vertical-align: top;\n",
       "    }\n",
       "\n",
       "    .dataframe thead th {\n",
       "        text-align: right;\n",
       "    }\n",
       "</style>\n",
       "<table border=\"1\" class=\"dataframe\">\n",
       "  <thead>\n",
       "    <tr style=\"text-align: right;\">\n",
       "      <th></th>\n",
       "      <th>id</th>\n",
       "      <th>title</th>\n",
       "      <th>text</th>\n",
       "      <th>topic</th>\n",
       "      <th>subtopic</th>\n",
       "      <th>total words per text</th>\n",
       "      <th>modified text</th>\n",
       "      <th>words per modified text</th>\n",
       "      <th>broader_subtopic</th>\n",
       "      <th>embedded text</th>\n",
       "    </tr>\n",
       "  </thead>\n",
       "  <tbody>\n",
       "    <tr>\n",
       "      <th>0</th>\n",
       "      <td>https://openalex.org/w2131625303</td>\n",
       "      <td>potassium channel antibody-associated encephal...</td>\n",
       "      <td>doi          brain awh     brain              ...</td>\n",
       "      <td>medicine</td>\n",
       "      <td>pediatrics</td>\n",
       "      <td>59290</td>\n",
       "      <td>['doi', 'brain', 'awh', 'brain', 'potassium', ...</td>\n",
       "      <td>2940</td>\n",
       "      <td>NaN</td>\n",
       "      <td>[[-0.61201, 0.98226, 0.11539, 0.014623, 0.2387...</td>\n",
       "    </tr>\n",
       "    <tr>\n",
       "      <th>1</th>\n",
       "      <td>https://openalex.org/w2144966005</td>\n",
       "      <td>regional brain volume abnormalities and long-t...</td>\n",
       "      <td>original contribution  regional brain volume a...</td>\n",
       "      <td>medicine</td>\n",
       "      <td>internal medicine</td>\n",
       "      <td>50244</td>\n",
       "      <td>['original', 'contribution', 'regional', 'brai...</td>\n",
       "      <td>3288</td>\n",
       "      <td>NaN</td>\n",
       "      <td>[[-0.61201, 0.98226, 0.11539, 0.014623, 0.2387...</td>\n",
       "    </tr>\n",
       "    <tr>\n",
       "      <th>2</th>\n",
       "      <td>https://openalex.org/w1968762427</td>\n",
       "      <td>rapid amplification of plasmid and phage dna u...</td>\n",
       "      <td>downloaded from   genome cshlp org   on septem...</td>\n",
       "      <td>biology</td>\n",
       "      <td>molecular biology</td>\n",
       "      <td>23397</td>\n",
       "      <td>['download', 'genome', 'cshlp', 'org', 'septem...</td>\n",
       "      <td>2303</td>\n",
       "      <td>genetics and molecular biology</td>\n",
       "      <td>[[-0.61201, 0.98226, 0.11539, 0.014623, 0.2387...</td>\n",
       "    </tr>\n",
       "    <tr>\n",
       "      <th>3</th>\n",
       "      <td>https://openalex.org/w1995183506</td>\n",
       "      <td>trends in suicide ideation, plans, gestures, a...</td>\n",
       "      <td>original contribution  trends in suicide ideat...</td>\n",
       "      <td>medicine</td>\n",
       "      <td>psychiatry</td>\n",
       "      <td>57478</td>\n",
       "      <td>['original', 'contribution', 'trend', 'suicide...</td>\n",
       "      <td>3082</td>\n",
       "      <td>NaN</td>\n",
       "      <td>[[-0.61201, 0.98226, 0.11539, 0.014623, 0.2387...</td>\n",
       "    </tr>\n",
       "    <tr>\n",
       "      <th>4</th>\n",
       "      <td>https://openalex.org/w2099571549</td>\n",
       "      <td>microbial communities in acid mine drainage</td>\n",
       "      <td>abstract  the dissolution of sulfide minerals ...</td>\n",
       "      <td>biology</td>\n",
       "      <td>ecology</td>\n",
       "      <td>71203</td>\n",
       "      <td>['abstract', 'dissolution', 'sulfide', 'minera...</td>\n",
       "      <td>2965</td>\n",
       "      <td>ecology</td>\n",
       "      <td>[[-0.61201, 0.98226, 0.11539, 0.014623, 0.2387...</td>\n",
       "    </tr>\n",
       "  </tbody>\n",
       "</table>\n",
       "</div>"
      ],
      "text/plain": [
       "                                 id  \\\n",
       "0  https://openalex.org/w2131625303   \n",
       "1  https://openalex.org/w2144966005   \n",
       "2  https://openalex.org/w1968762427   \n",
       "3  https://openalex.org/w1995183506   \n",
       "4  https://openalex.org/w2099571549   \n",
       "\n",
       "                                               title  \\\n",
       "0  potassium channel antibody-associated encephal...   \n",
       "1  regional brain volume abnormalities and long-t...   \n",
       "2  rapid amplification of plasmid and phage dna u...   \n",
       "3  trends in suicide ideation, plans, gestures, a...   \n",
       "4        microbial communities in acid mine drainage   \n",
       "\n",
       "                                                text     topic  \\\n",
       "0  doi          brain awh     brain              ...  medicine   \n",
       "1  original contribution  regional brain volume a...  medicine   \n",
       "2  downloaded from   genome cshlp org   on septem...   biology   \n",
       "3  original contribution  trends in suicide ideat...  medicine   \n",
       "4  abstract  the dissolution of sulfide minerals ...   biology   \n",
       "\n",
       "            subtopic  total words per text  \\\n",
       "0         pediatrics                 59290   \n",
       "1  internal medicine                 50244   \n",
       "2  molecular biology                 23397   \n",
       "3         psychiatry                 57478   \n",
       "4            ecology                 71203   \n",
       "\n",
       "                                       modified text  words per modified text  \\\n",
       "0  ['doi', 'brain', 'awh', 'brain', 'potassium', ...                     2940   \n",
       "1  ['original', 'contribution', 'regional', 'brai...                     3288   \n",
       "2  ['download', 'genome', 'cshlp', 'org', 'septem...                     2303   \n",
       "3  ['original', 'contribution', 'trend', 'suicide...                     3082   \n",
       "4  ['abstract', 'dissolution', 'sulfide', 'minera...                     2965   \n",
       "\n",
       "                 broader_subtopic  \\\n",
       "0                             NaN   \n",
       "1                             NaN   \n",
       "2  genetics and molecular biology   \n",
       "3                             NaN   \n",
       "4                         ecology   \n",
       "\n",
       "                                       embedded text  \n",
       "0  [[-0.61201, 0.98226, 0.11539, 0.014623, 0.2387...  \n",
       "1  [[-0.61201, 0.98226, 0.11539, 0.014623, 0.2387...  \n",
       "2  [[-0.61201, 0.98226, 0.11539, 0.014623, 0.2387...  \n",
       "3  [[-0.61201, 0.98226, 0.11539, 0.014623, 0.2387...  \n",
       "4  [[-0.61201, 0.98226, 0.11539, 0.014623, 0.2387...  "
      ]
     },
     "execution_count": 45,
     "metadata": {},
     "output_type": "execute_result"
    }
   ],
   "source": [
    "# Adding a column with embedded words from the papers into data frame\n",
    "series_embedded = embedding(word2vec_transfer, data['modified text'])\n",
    "data['embedded text'] = series_embedded\n",
    "data.head()"
   ]
  },
  {
   "cell_type": "code",
   "execution_count": 46,
   "metadata": {},
   "outputs": [
    {
     "name": "stdout",
     "output_type": "stream",
     "text": [
      "The maximum length of the padding we had defined above is: 1000\n"
     ]
    }
   ],
   "source": [
    "# Padding all the embedded words\n",
    "max_length_of_padding = 1000\n",
    "print(f'The maximum length of the padding we had defined above is: {max_length_of_padding}')\n",
    "X_pad = pad_sequences(series_embedded, dtype='float32', padding='post', value=0, maxlen=max_length_of_padding)"
   ]
  },
  {
   "cell_type": "markdown",
   "metadata": {},
   "source": [
    "### OneHot Encoding Targets"
   ]
  },
  {
   "cell_type": "code",
   "execution_count": 47,
   "metadata": {},
   "outputs": [
    {
     "data": {
      "text/html": [
       "<div>\n",
       "<style scoped>\n",
       "    .dataframe tbody tr th:only-of-type {\n",
       "        vertical-align: middle;\n",
       "    }\n",
       "\n",
       "    .dataframe tbody tr th {\n",
       "        vertical-align: top;\n",
       "    }\n",
       "\n",
       "    .dataframe thead th {\n",
       "        text-align: right;\n",
       "    }\n",
       "</style>\n",
       "<table border=\"1\" class=\"dataframe\">\n",
       "  <thead>\n",
       "    <tr style=\"text-align: right;\">\n",
       "      <th></th>\n",
       "      <th>topic_biology</th>\n",
       "      <th>topic_mathematics</th>\n",
       "      <th>topic_medicine</th>\n",
       "      <th>topic_physics</th>\n",
       "    </tr>\n",
       "  </thead>\n",
       "  <tbody>\n",
       "    <tr>\n",
       "      <th>0</th>\n",
       "      <td>0.0</td>\n",
       "      <td>0.0</td>\n",
       "      <td>1.0</td>\n",
       "      <td>0.0</td>\n",
       "    </tr>\n",
       "    <tr>\n",
       "      <th>1</th>\n",
       "      <td>0.0</td>\n",
       "      <td>0.0</td>\n",
       "      <td>1.0</td>\n",
       "      <td>0.0</td>\n",
       "    </tr>\n",
       "    <tr>\n",
       "      <th>2</th>\n",
       "      <td>1.0</td>\n",
       "      <td>0.0</td>\n",
       "      <td>0.0</td>\n",
       "      <td>0.0</td>\n",
       "    </tr>\n",
       "    <tr>\n",
       "      <th>3</th>\n",
       "      <td>0.0</td>\n",
       "      <td>0.0</td>\n",
       "      <td>1.0</td>\n",
       "      <td>0.0</td>\n",
       "    </tr>\n",
       "    <tr>\n",
       "      <th>4</th>\n",
       "      <td>1.0</td>\n",
       "      <td>0.0</td>\n",
       "      <td>0.0</td>\n",
       "      <td>0.0</td>\n",
       "    </tr>\n",
       "    <tr>\n",
       "      <th>...</th>\n",
       "      <td>...</td>\n",
       "      <td>...</td>\n",
       "      <td>...</td>\n",
       "      <td>...</td>\n",
       "    </tr>\n",
       "    <tr>\n",
       "      <th>2004</th>\n",
       "      <td>0.0</td>\n",
       "      <td>1.0</td>\n",
       "      <td>0.0</td>\n",
       "      <td>0.0</td>\n",
       "    </tr>\n",
       "    <tr>\n",
       "      <th>2005</th>\n",
       "      <td>0.0</td>\n",
       "      <td>1.0</td>\n",
       "      <td>0.0</td>\n",
       "      <td>0.0</td>\n",
       "    </tr>\n",
       "    <tr>\n",
       "      <th>2006</th>\n",
       "      <td>0.0</td>\n",
       "      <td>1.0</td>\n",
       "      <td>0.0</td>\n",
       "      <td>0.0</td>\n",
       "    </tr>\n",
       "    <tr>\n",
       "      <th>2007</th>\n",
       "      <td>0.0</td>\n",
       "      <td>1.0</td>\n",
       "      <td>0.0</td>\n",
       "      <td>0.0</td>\n",
       "    </tr>\n",
       "    <tr>\n",
       "      <th>2008</th>\n",
       "      <td>0.0</td>\n",
       "      <td>1.0</td>\n",
       "      <td>0.0</td>\n",
       "      <td>0.0</td>\n",
       "    </tr>\n",
       "  </tbody>\n",
       "</table>\n",
       "<p>2009 rows × 4 columns</p>\n",
       "</div>"
      ],
      "text/plain": [
       "      topic_biology  topic_mathematics  topic_medicine  topic_physics\n",
       "0               0.0                0.0             1.0            0.0\n",
       "1               0.0                0.0             1.0            0.0\n",
       "2               1.0                0.0             0.0            0.0\n",
       "3               0.0                0.0             1.0            0.0\n",
       "4               1.0                0.0             0.0            0.0\n",
       "...             ...                ...             ...            ...\n",
       "2004            0.0                1.0             0.0            0.0\n",
       "2005            0.0                1.0             0.0            0.0\n",
       "2006            0.0                1.0             0.0            0.0\n",
       "2007            0.0                1.0             0.0            0.0\n",
       "2008            0.0                1.0             0.0            0.0\n",
       "\n",
       "[2009 rows x 4 columns]"
      ]
     },
     "execution_count": 47,
     "metadata": {},
     "output_type": "execute_result"
    }
   ],
   "source": [
    "# OneHot Encoding topics\n",
    "enc = OneHotEncoder(handle_unknown='ignore', sparse=False)\n",
    "topic_targets_enc = pd.DataFrame(enc.fit_transform(data[['topic']]))\n",
    "topic_targets_enc.columns = enc.get_feature_names_out()\n",
    "topic_targets_enc"
   ]
  },
  {
   "cell_type": "markdown",
   "metadata": {},
   "source": [
    "#### Note to self: with <code>loss='sparse_categorical_crossentropy'</code> while compiling we don't need to OHE the target (which would alter the following process, but makes it more stable)."
   ]
  },
  {
   "cell_type": "markdown",
   "metadata": {},
   "source": [
    "## RNN Model on Word2Vec pretrained vectors"
   ]
  },
  {
   "cell_type": "code",
   "execution_count": 48,
   "metadata": {},
   "outputs": [
    {
     "name": "stdout",
     "output_type": "stream",
     "text": [
      "(1406, 1000, 50)\n",
      "(1406, 4)\n"
     ]
    }
   ],
   "source": [
    "# Train test split\n",
    "X_train, X_test, y_train, y_test = train_test_split(X_pad, topic_targets_enc, test_size=0.3)\n",
    "print(X_train.shape)\n",
    "print(y_train.shape)"
   ]
  },
  {
   "cell_type": "markdown",
   "metadata": {},
   "source": [
    "#### The rebalancing due to strongly uneven distributed targets will be done by weighting each label's contribution to the cost function inversely proportional to the frequency of the label (since SMOTE doesn't seem to work on vectorized lists of words). \n",
    "#### The Keras model.fit() method has the hypterparameter class_weight that allows us to do this."
   ]
  },
  {
   "cell_type": "code",
   "execution_count": 49,
   "metadata": {},
   "outputs": [
    {
     "data": {
      "text/plain": [
       "{0: 1.784263959390863,\n",
       " 1: 0.5678513731825525,\n",
       " 2: 2.0798816568047336,\n",
       " 3: 0.834916864608076}"
      ]
     },
     "execution_count": 49,
     "metadata": {},
     "output_type": "execute_result"
    }
   ],
   "source": [
    "# Weighting the labels as a rebalancing technique\n",
    "y_integers = np.argmax(np.array(y_train), axis=1)\n",
    "class_weights = compute_class_weight(class_weight='balanced', classes=np.unique(y_integers), y=y_integers)\n",
    "d_class_weights = dict(enumerate(class_weights))\n",
    "d_class_weights"
   ]
  },
  {
   "cell_type": "markdown",
   "metadata": {},
   "source": [
    "#### With this dict, we will pass heigher weights for classes that are less present in our data set, that will be considered in the loss function. \n",
    "#### By doing this, we also increase the chance of overfitting to the rare labels, because our model will see the exact same X_train vectors for rarer labels several times instead of only once.\n",
    "#### So we will need to add some regularization."
   ]
  },
  {
   "cell_type": "code",
   "execution_count": 50,
   "metadata": {},
   "outputs": [],
   "source": [
    "# Defining Ridge Regularization\n",
    "reg_l2 = regularizers.L2(0.0001)"
   ]
  },
  {
   "cell_type": "markdown",
   "metadata": {},
   "source": [
    "#### Adding two L2 regularization layers decreases the accuracy on the test set dramatically instead of increasing it. Maybe we hadn't overfit before?"
   ]
  },
  {
   "cell_type": "code",
   "execution_count": 51,
   "metadata": {},
   "outputs": [],
   "source": [
    "# Experimenting with learning rate optimization for Adam\n",
    "lr_schedule = ExponentialDecay(\n",
    "    initial_learning_rate=1e-2,\n",
    "    decay_steps=10000,\n",
    "    decay_rate=0.9)\n",
    "\n",
    "optimized_adam = Adam(learning_rate=lr_schedule)\n"
   ]
  },
  {
   "cell_type": "code",
   "execution_count": 52,
   "metadata": {},
   "outputs": [],
   "source": [
    "# Defining the F1 score manually\n",
    "from keras import backend as K\n",
    "\n",
    "def recall_m(y_true, y_pred):\n",
    "    true_positives = K.sum(K.round(K.clip(y_true * y_pred, 0, 1)))\n",
    "    possible_positives = K.sum(K.round(K.clip(y_true, 0, 1)))\n",
    "    recall = true_positives / (possible_positives + K.epsilon())\n",
    "    return recall\n",
    "\n",
    "def precision_m(y_true, y_pred):\n",
    "    true_positives = K.sum(K.round(K.clip(y_true * y_pred, 0, 1)))\n",
    "    predicted_positives = K.sum(K.round(K.clip(y_pred, 0, 1)))\n",
    "    precision = true_positives / (predicted_positives + K.epsilon())\n",
    "    return precision\n",
    "\n",
    "def f1_m(y_true, y_pred):\n",
    "    precision = precision_m(y_true, y_pred)\n",
    "    recall = recall_m(y_true, y_pred)\n",
    "    return 2*((precision*recall)/(precision+recall+K.epsilon()))\n"
   ]
  },
  {
   "cell_type": "code",
   "execution_count": 53,
   "metadata": {},
   "outputs": [],
   "source": [
    "# Model architecture\n",
    "def init_word2vev_rnn_model():\n",
    "    word2vev_rnn_model = Sequential()\n",
    "    word2vev_rnn_model.add(layers.Masking(input_shape=(X_train.shape[1], X_train.shape[2])))\n",
    "    word2vev_rnn_model.add(layers.LSTM(20, activation='tanh'))\n",
    "    word2vev_rnn_model.add(layers.Dense(20, activation='relu', kernel_regularizer=reg_l2))\n",
    "    word2vev_rnn_model.add(layers.Dense(20, activation='relu'))\n",
    "    word2vev_rnn_model.add(layers.Dense(15, activation='relu', kernel_regularizer=reg_l2))\n",
    "    word2vev_rnn_model.add(layers.Dense(y_train.shape[1], activation='softmax'))\n",
    "\n",
    "    word2vev_rnn_model.compile(loss='categorical_crossentropy',\n",
    "                  optimizer='adam',\n",
    "                  #optimizer=optimized_adam,\n",
    "                  #optimizer='rmsprop',\n",
    "                  metrics=['accuracy', f1_m])\n",
    "    \n",
    "    return word2vev_rnn_model"
   ]
  },
  {
   "cell_type": "code",
   "execution_count": 54,
   "metadata": {},
   "outputs": [
    {
     "name": "stderr",
     "output_type": "stream",
     "text": [
      "2022-09-07 09:17:43.426525: W tensorflow/stream_executor/platform/default/dso_loader.cc:64] Could not load dynamic library 'libcuda.so.1'; dlerror: libcuda.so.1: cannot open shared object file: No such file or directory\n",
      "2022-09-07 09:17:43.426834: W tensorflow/stream_executor/cuda/cuda_driver.cc:269] failed call to cuInit: UNKNOWN ERROR (303)\n",
      "2022-09-07 09:17:43.426852: I tensorflow/stream_executor/cuda/cuda_diagnostics.cc:156] kernel driver does not appear to be running on this host (Future): /proc/driver/nvidia/version does not exist\n",
      "2022-09-07 09:17:43.427872: I tensorflow/core/platform/cpu_feature_guard.cc:193] This TensorFlow binary is optimized with oneAPI Deep Neural Network Library (oneDNN) to use the following CPU instructions in performance-critical operations:  AVX2 AVX512F AVX512_VNNI FMA\n",
      "To enable them in other operations, rebuild TensorFlow with the appropriate compiler flags.\n"
     ]
    },
    {
     "name": "stdout",
     "output_type": "stream",
     "text": [
      "Model: \"sequential\"\n",
      "_________________________________________________________________\n",
      " Layer (type)                Output Shape              Param #   \n",
      "=================================================================\n",
      " masking (Masking)           (None, 1000, 50)          0         \n",
      "                                                                 \n",
      " lstm (LSTM)                 (None, 20)                5680      \n",
      "                                                                 \n",
      " dense (Dense)               (None, 20)                420       \n",
      "                                                                 \n",
      " dense_1 (Dense)             (None, 20)                420       \n",
      "                                                                 \n",
      " dense_2 (Dense)             (None, 15)                315       \n",
      "                                                                 \n",
      " dense_3 (Dense)             (None, 4)                 64        \n",
      "                                                                 \n",
      "=================================================================\n",
      "Total params: 6,899\n",
      "Trainable params: 6,899\n",
      "Non-trainable params: 0\n",
      "_________________________________________________________________\n"
     ]
    }
   ],
   "source": [
    "# Building the model and looking at it's summary\n",
    "word2vev_rnn_model = init_word2vev_rnn_model()\n",
    "word2vev_rnn_model.summary()"
   ]
  },
  {
   "cell_type": "code",
   "execution_count": 55,
   "metadata": {},
   "outputs": [
    {
     "name": "stdout",
     "output_type": "stream",
     "text": [
      "Epoch 1/100\n",
      "31/31 [==============================] - 13s 329ms/step - loss: 1.4018 - accuracy: 0.1291 - f1_m: 0.0000e+00 - val_loss: 1.3982 - val_accuracy: 0.1114 - val_f1_m: 0.0000e+00\n",
      "Epoch 2/100\n",
      "31/31 [==============================] - 12s 397ms/step - loss: 1.3999 - accuracy: 0.1768 - f1_m: 0.0000e+00 - val_loss: 1.4028 - val_accuracy: 0.1114 - val_f1_m: 0.0000e+00\n",
      "Epoch 3/100\n",
      "31/31 [==============================] - 10s 321ms/step - loss: 1.3971 - accuracy: 0.1728 - f1_m: 0.0000e+00 - val_loss: 1.3844 - val_accuracy: 0.3128 - val_f1_m: 0.0000e+00\n",
      "Epoch 4/100\n",
      "31/31 [==============================] - 10s 320ms/step - loss: 1.3946 - accuracy: 0.2053 - f1_m: 0.0000e+00 - val_loss: 1.4162 - val_accuracy: 0.1114 - val_f1_m: 0.0000e+00\n",
      "Epoch 5/100\n",
      "31/31 [==============================] - 10s 341ms/step - loss: 1.3893 - accuracy: 0.3069 - f1_m: 0.0000e+00 - val_loss: 1.4111 - val_accuracy: 0.2062 - val_f1_m: 0.0000e+00\n",
      "Epoch 6/100\n",
      "31/31 [==============================] - 11s 354ms/step - loss: 1.3835 - accuracy: 0.3110 - f1_m: 0.0000e+00 - val_loss: 1.3807 - val_accuracy: 0.3365 - val_f1_m: 0.0000e+00\n",
      "Epoch 7/100\n",
      "31/31 [==============================] - 10s 326ms/step - loss: 1.3809 - accuracy: 0.2957 - f1_m: 0.0000e+00 - val_loss: 1.4042 - val_accuracy: 0.2227 - val_f1_m: 0.0000e+00\n",
      "Epoch 8/100\n",
      "31/31 [==============================] - 10s 324ms/step - loss: 1.3690 - accuracy: 0.3496 - f1_m: 0.0000e+00 - val_loss: 1.3833 - val_accuracy: 0.2915 - val_f1_m: 0.0000e+00\n",
      "Epoch 9/100\n",
      "31/31 [==============================] - 10s 335ms/step - loss: 1.3594 - accuracy: 0.3455 - f1_m: 0.0000e+00 - val_loss: 1.3829 - val_accuracy: 0.3318 - val_f1_m: 0.0000e+00\n",
      "Epoch 10/100\n",
      "31/31 [==============================] - 11s 340ms/step - loss: 1.3468 - accuracy: 0.3699 - f1_m: 0.0000e+00 - val_loss: 1.4297 - val_accuracy: 0.2607 - val_f1_m: 0.0000e+00\n",
      "Epoch 11/100\n",
      "31/31 [==============================] - 10s 314ms/step - loss: 1.3360 - accuracy: 0.3760 - f1_m: 0.0000e+00 - val_loss: 1.3876 - val_accuracy: 0.3033 - val_f1_m: 0.0000e+00\n"
     ]
    }
   ],
   "source": [
    "# Training the model\n",
    "es = EarlyStopping(patience=5, monitor=\"val_loss\", restore_best_weights=True)\n",
    "\n",
    "history = word2vev_rnn_model.fit(X_train, y_train,\n",
    "                    class_weight=d_class_weights,\n",
    "          \t\t\tbatch_size=32,\n",
    "         \t\t\tepochs=100,\n",
    "          \t\t\tvalidation_split=0.3,\n",
    "          \t\t\tcallbacks=[es])"
   ]
  },
  {
   "cell_type": "code",
   "execution_count": 56,
   "metadata": {},
   "outputs": [
    {
     "name": "stdout",
     "output_type": "stream",
     "text": [
      "Accuracy: 0.2935323417186737, F1-Score: 0.0\n"
     ]
    }
   ],
   "source": [
    "# Model evaluation with X_test\n",
    "loss, acc, f1 = word2vev_rnn_model.evaluate(X_test, y_test, verbose=0)\n",
    "\n",
    "print(f'Accuracy: {acc}, F1-Score: {f1}')"
   ]
  },
  {
   "cell_type": "markdown",
   "metadata": {},
   "source": [
    "### Understanding model functioning with confusion matrix"
   ]
  },
  {
   "cell_type": "code",
   "execution_count": 57,
   "metadata": {},
   "outputs": [
    {
     "name": "stdout",
     "output_type": "stream",
     "text": [
      "19/19 [==============================] - 2s 68ms/step\n",
      "0 topic_biology\n",
      "1 topic_mathematics\n",
      "2 topic_medicine\n",
      "3 topic_physics\n"
     ]
    },
    {
     "data": {
      "image/png": "[encoded data removed]",
      "text/plain": [
       "<Figure size 640x480 with 2 Axes>"
      ]
     },
     "metadata": {},
     "output_type": "display_data"
    }
   ],
   "source": [
    "# Making a confusion matrix\n",
    "y_test_id = np.argmax(np.array(y_test), axis=1)\n",
    "y_pred_id = np.argmax(word2vev_rnn_model.predict(X_test), axis=1)\n",
    "conf_matrix = confusion_matrix(labels=y_test_id, predictions=y_pred_id)\n",
    "sns.heatmap(conf_matrix/np.sum(conf_matrix), annot=True, fmt='.2%', cmap='Blues')\n",
    "for i, column in enumerate(topic_targets_enc.columns):\n",
    "    print(i, column)"
   ]
  },
  {
   "cell_type": "code",
   "execution_count": null,
   "metadata": {},
   "outputs": [],
   "source": []
  }
 ],
 "metadata": {
  "kernelspec": {
   "display_name": "Python 3.8.12 64-bit ('shims')",
   "language": "python",
   "name": "python3"
  },
  "language_info": {
   "codemirror_mode": {
    "name": "ipython",
    "version": 3
   },
   "file_extension": ".py",
   "mimetype": "text/x-python",
   "name": "python",
   "nbconvert_exporter": "python",
   "pygments_lexer": "ipython3",
   "version": "3.8.12"
  },
  "orig_nbformat": 4,
  "vscode": {
   "interpreter": {
    "hash": "79e3cbcb12727a13c538e8f4c33487126bc93fdf98a9f8be4968948500aea80e"
   }
  }
 },
 "nbformat": 4,
 "nbformat_minor": 2
}
