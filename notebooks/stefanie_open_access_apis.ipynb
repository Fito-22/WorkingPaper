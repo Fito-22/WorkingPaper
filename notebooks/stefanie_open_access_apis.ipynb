{
 "cells": [
  {
   "cell_type": "code",
   "execution_count": 7,
   "metadata": {},
   "outputs": [],
   "source": [
    "import os\n",
    "import requests\n",
    "from bs4 import BeautifulSoup\n",
    "import pandas as pd\n",
    "import re"
   ]
  },
  {
   "cell_type": "markdown",
   "metadata": {},
   "source": [
    "# Obtaining data from Springernature Open Access API\n",
    "### Manual Search via query"
   ]
  },
  {
   "cell_type": "code",
   "execution_count": 64,
   "metadata": {},
   "outputs": [
    {
     "data": {
      "text/plain": [
       "(['http://dx.doi.org/10.1007/s00256-022-04051-3',\n",
       "  'http://dx.doi.org/10.1007/s00264-022-05485-z',\n",
       "  'http://dx.doi.org/10.1007/s40122-022-00395-9',\n",
       "  'http://dx.doi.org/10.1007/s12325-022-02246-7',\n",
       "  'http://dx.doi.org/10.1186/s12891-022-05768-x'],\n",
       " ['Predictive value of immediate pain relief after lumbar transforaminal epidural injection with local anesthetics and steroids for single level radiculopathy',\n",
       "  'Comparison of hidden blood loss and clinical efficacy of percutaneous endoscopic transforaminal lumbar interbody fusion and minimally invasive transforaminal lumbar interbody fusion',\n",
       "  'Bilateral Erector Spinae Plane Block for Quality of Recovery Following Posterior Lumbar Interbody Fusion: A Randomized Controlled Trial',\n",
       "  'Brain Abnormalities in PIK3CA-Related Overgrowth Spectrum: Physician, Patient, and Caregiver Experiences',\n",
       "  'Finite element analysis after rod fracture of the spinal hybrid elastic rod system'])"
      ]
     },
     "execution_count": 64,
     "metadata": {},
     "output_type": "execute_result"
    }
   ],
   "source": [
    "# We will first return urls of open access articles from the springer link group, filtered manually by search query\n",
    "\n",
    "query = 'spinal decompression' # search query: field or subfield\n",
    "user_key = os.getenv('SPRINGER_API_KEY')\n",
    "index = 0 # first index to return\n",
    "num_return = 10 # number of results to return per api call\n",
    "url = f'https://api.springernature.com/openaccess/json?api_key={user_key}&q={query}&s={index}&p={num_return}'\n",
    "\n",
    "open_source_article_urls = []\n",
    "titles = []\n",
    "for i in range(num_return):\n",
    "    try: # check whether the type is article and whether it doesn't exceed 10 pages\n",
    "        if (requests.get(url).json()['records'][i]['contentType'] == 'Article') \\\n",
    "        & (int(requests.get(url).json()['records'][i]['endingPage']) \\\n",
    "        - int(requests.get(url).json()['records'][i]['startingPage']) <= 10):\n",
    "            open_source_article_urls.append(requests.get(url).json()['records'][i]['url'][0]['value'])\n",
    "            titles.append(requests.get(url).json()['records'][i]['title'])\n",
    "    except:\n",
    "        continue\n",
    "    \n",
    "open_source_article_urls[:5], titles[:5]"
   ]
  },
  {
   "cell_type": "code",
   "execution_count": 65,
   "metadata": {},
   "outputs": [
    {
     "data": {
      "text/plain": [
       "['https://link.springer.com/content/pdf/10.1007/s00256-022-04051-3.pdf',\n",
       " 'https://link.springer.com/content/pdf/10.1007/s00264-022-05485-z.pdf',\n",
       " 'https://link.springer.com/content/pdf/10.1007/s40122-022-00395-9.pdf',\n",
       " 'https://link.springer.com/content/pdf/10.1007/s12325-022-02246-7.pdf',\n",
       " 'bmcmusculoskeletdisord.biomedcentral.com/track/pdf/10.1186/s12891-022-05768-x.pdf']"
      ]
     },
     "execution_count": 65,
     "metadata": {},
     "output_type": "execute_result"
    }
   ],
   "source": [
    "# Now for the obtained urls, we will scrape the pdf-urls of the articles\n",
    "\n",
    "pdf_links = []\n",
    "for link in open_source_article_urls:\n",
    "    response = requests.get(link)\n",
    "    soup = BeautifulSoup(response.content, \"html.parser\")\n",
    "    pdf_links.append(str(soup.find_all('a', href=re.compile(r'(.pdf)'))).split('href=\"')[1].split('\">\\n')[0].strip('/'))\n",
    "pdf_links[:5]"
   ]
  },
  {
   "cell_type": "code",
   "execution_count": 66,
   "metadata": {},
   "outputs": [
    {
     "data": {
      "text/html": [
       "<div>\n",
       "<style scoped>\n",
       "    .dataframe tbody tr th:only-of-type {\n",
       "        vertical-align: middle;\n",
       "    }\n",
       "\n",
       "    .dataframe tbody tr th {\n",
       "        vertical-align: top;\n",
       "    }\n",
       "\n",
       "    .dataframe thead th {\n",
       "        text-align: right;\n",
       "    }\n",
       "</style>\n",
       "<table border=\"1\" class=\"dataframe\">\n",
       "  <thead>\n",
       "    <tr style=\"text-align: right;\">\n",
       "      <th></th>\n",
       "      <th>Title</th>\n",
       "      <th>PDF_link</th>\n",
       "    </tr>\n",
       "  </thead>\n",
       "  <tbody>\n",
       "    <tr>\n",
       "      <th>0</th>\n",
       "      <td>Predictive value of immediate pain relief afte...</td>\n",
       "      <td>https://link.springer.com/content/pdf/10.1007/...</td>\n",
       "    </tr>\n",
       "    <tr>\n",
       "      <th>1</th>\n",
       "      <td>Comparison of hidden blood loss and clinical e...</td>\n",
       "      <td>https://link.springer.com/content/pdf/10.1007/...</td>\n",
       "    </tr>\n",
       "    <tr>\n",
       "      <th>2</th>\n",
       "      <td>Bilateral Erector Spinae Plane Block for Quali...</td>\n",
       "      <td>https://link.springer.com/content/pdf/10.1007/...</td>\n",
       "    </tr>\n",
       "    <tr>\n",
       "      <th>3</th>\n",
       "      <td>Brain Abnormalities in PIK3CA-Related Overgrow...</td>\n",
       "      <td>https://link.springer.com/content/pdf/10.1007/...</td>\n",
       "    </tr>\n",
       "    <tr>\n",
       "      <th>4</th>\n",
       "      <td>Finite element analysis after rod fracture of ...</td>\n",
       "      <td>bmcmusculoskeletdisord.biomedcentral.com/track...</td>\n",
       "    </tr>\n",
       "  </tbody>\n",
       "</table>\n",
       "</div>"
      ],
      "text/plain": [
       "                                               Title  \\\n",
       "0  Predictive value of immediate pain relief afte...   \n",
       "1  Comparison of hidden blood loss and clinical e...   \n",
       "2  Bilateral Erector Spinae Plane Block for Quali...   \n",
       "3  Brain Abnormalities in PIK3CA-Related Overgrow...   \n",
       "4  Finite element analysis after rod fracture of ...   \n",
       "\n",
       "                                            PDF_link  \n",
       "0  https://link.springer.com/content/pdf/10.1007/...  \n",
       "1  https://link.springer.com/content/pdf/10.1007/...  \n",
       "2  https://link.springer.com/content/pdf/10.1007/...  \n",
       "3  https://link.springer.com/content/pdf/10.1007/...  \n",
       "4  bmcmusculoskeletdisord.biomedcentral.com/track...  "
      ]
     },
     "execution_count": 66,
     "metadata": {},
     "output_type": "execute_result"
    }
   ],
   "source": [
    "# Saving the result in a pandas DataFrame\n",
    "\n",
    "link_data = pd.DataFrame({'Title':titles,'PDF_link':pdf_links})\n",
    "link_data.head()"
   ]
  },
  {
   "cell_type": "markdown",
   "metadata": {},
   "source": [
    "#### But: apart from maybe the search queries, we're lacking the field of research (target)."
   ]
  },
  {
   "cell_type": "markdown",
   "metadata": {},
   "source": [
    "# Obtaining data from OpenAlex\n",
    "\n",
    "#### OpenALex is a knowledge graph that has already links and a labeling for the subdisciplines, see the [OpenAlex Concepts](https://docs.openalex.org/about-the-data/concept)."
   ]
  },
  {
   "cell_type": "code",
   "execution_count": 2,
   "metadata": {},
   "outputs": [],
   "source": [
    "# Getting works from mixed disciplines and topics with an open access PDF link\n",
    "\n",
    "page = 1\n",
    "res_per_page = 100 # number of results per page, must be between 25 and 200\n",
    "filter_condition_oa = 'has_oa_accepted_or_published_version:true'\n",
    "url_openalex = f'https://api.openalex.org/works?filter={filter_condition_oa}&page={page}&per-page={res_per_page}'\n"
   ]
  },
  {
   "cell_type": "markdown",
   "metadata": {},
   "source": [
    "#### This API returns 33407041 results!!!"
   ]
  },
  {
   "cell_type": "code",
   "execution_count": 3,
   "metadata": {},
   "outputs": [
    {
     "data": {
      "text/html": [
       "<div>\n",
       "<style scoped>\n",
       "    .dataframe tbody tr th:only-of-type {\n",
       "        vertical-align: middle;\n",
       "    }\n",
       "\n",
       "    .dataframe tbody tr th {\n",
       "        vertical-align: top;\n",
       "    }\n",
       "\n",
       "    .dataframe thead th {\n",
       "        text-align: right;\n",
       "    }\n",
       "</style>\n",
       "<table border=\"1\" class=\"dataframe\">\n",
       "  <thead>\n",
       "    <tr style=\"text-align: right;\">\n",
       "      <th></th>\n",
       "      <th>PDF_link</th>\n",
       "      <th>Concept</th>\n",
       "      <th>ConceptID</th>\n",
       "    </tr>\n",
       "  </thead>\n",
       "  <tbody>\n",
       "    <tr>\n",
       "      <th>0</th>\n",
       "      <td>http://journals.iucr.org/a/issues/2008/01/00/s...</td>\n",
       "      <td>Computer science</td>\n",
       "      <td>https://openalex.org/C41008148</td>\n",
       "    </tr>\n",
       "    <tr>\n",
       "      <th>1</th>\n",
       "      <td>https://academic.oup.com/nar/article-pdf/25/17...</td>\n",
       "      <td>Biology</td>\n",
       "      <td>https://openalex.org/C86803240</td>\n",
       "    </tr>\n",
       "    <tr>\n",
       "      <th>2</th>\n",
       "      <td>https://academic.oup.com/nar/article-pdf/25/17...</td>\n",
       "      <td>Computer science</td>\n",
       "      <td>https://openalex.org/C41008148</td>\n",
       "    </tr>\n",
       "    <tr>\n",
       "      <th>3</th>\n",
       "      <td>https://link.springer.com/content/pdf/10.1023%...</td>\n",
       "      <td>Mathematics</td>\n",
       "      <td>https://openalex.org/C33923547</td>\n",
       "    </tr>\n",
       "    <tr>\n",
       "      <th>4</th>\n",
       "      <td>http://www.pnas.org/content/76/9/4350.full.pdf</td>\n",
       "      <td>Chemistry</td>\n",
       "      <td>https://openalex.org/C185592680</td>\n",
       "    </tr>\n",
       "    <tr>\n",
       "      <th>...</th>\n",
       "      <td>...</td>\n",
       "      <td>...</td>\n",
       "      <td>...</td>\n",
       "    </tr>\n",
       "    <tr>\n",
       "      <th>59</th>\n",
       "      <td>http://genome.cshlp.org/content/20/9/1297.full...</td>\n",
       "      <td>Biology</td>\n",
       "      <td>https://openalex.org/C86803240</td>\n",
       "    </tr>\n",
       "    <tr>\n",
       "      <th>60</th>\n",
       "      <td>https://academic.oup.com/schizophreniabulletin...</td>\n",
       "      <td>Psychology</td>\n",
       "      <td>https://openalex.org/C15744967</td>\n",
       "    </tr>\n",
       "    <tr>\n",
       "      <th>61</th>\n",
       "      <td>https://serval.unil.ch/resource/serval:BIB_2B5...</td>\n",
       "      <td>Biology</td>\n",
       "      <td>https://openalex.org/C86803240</td>\n",
       "    </tr>\n",
       "    <tr>\n",
       "      <th>62</th>\n",
       "      <td>http://journals.iucr.org/j/issues/2007/04/00/h...</td>\n",
       "      <td>Computer science</td>\n",
       "      <td>https://openalex.org/C41008148</td>\n",
       "    </tr>\n",
       "    <tr>\n",
       "      <th>63</th>\n",
       "      <td>https://academic.oup.com/nar/article-pdf/43/7/...</td>\n",
       "      <td>Biology</td>\n",
       "      <td>https://openalex.org/C86803240</td>\n",
       "    </tr>\n",
       "  </tbody>\n",
       "</table>\n",
       "<p>64 rows × 3 columns</p>\n",
       "</div>"
      ],
      "text/plain": [
       "                                             PDF_link           Concept  \\\n",
       "0   http://journals.iucr.org/a/issues/2008/01/00/s...  Computer science   \n",
       "1   https://academic.oup.com/nar/article-pdf/25/17...           Biology   \n",
       "2   https://academic.oup.com/nar/article-pdf/25/17...  Computer science   \n",
       "3   https://link.springer.com/content/pdf/10.1023%...       Mathematics   \n",
       "4      http://www.pnas.org/content/76/9/4350.full.pdf         Chemistry   \n",
       "..                                                ...               ...   \n",
       "59  http://genome.cshlp.org/content/20/9/1297.full...           Biology   \n",
       "60  https://academic.oup.com/schizophreniabulletin...        Psychology   \n",
       "61  https://serval.unil.ch/resource/serval:BIB_2B5...           Biology   \n",
       "62  http://journals.iucr.org/j/issues/2007/04/00/h...  Computer science   \n",
       "63  https://academic.oup.com/nar/article-pdf/43/7/...           Biology   \n",
       "\n",
       "                          ConceptID  \n",
       "0    https://openalex.org/C41008148  \n",
       "1    https://openalex.org/C86803240  \n",
       "2    https://openalex.org/C41008148  \n",
       "3    https://openalex.org/C33923547  \n",
       "4   https://openalex.org/C185592680  \n",
       "..                              ...  \n",
       "59   https://openalex.org/C86803240  \n",
       "60   https://openalex.org/C15744967  \n",
       "61   https://openalex.org/C86803240  \n",
       "62   https://openalex.org/C41008148  \n",
       "63   https://openalex.org/C86803240  \n",
       "\n",
       "[64 rows x 3 columns]"
      ]
     },
     "execution_count": 3,
     "metadata": {},
     "output_type": "execute_result"
    }
   ],
   "source": [
    "# Searching on page 1\n",
    "\n",
    "open_source_article_pdfs = []\n",
    "concept_ids = []\n",
    "concept_names = []\n",
    "for i in range(res_per_page):\n",
    "    try: # check whether the type is article and whether it has a open access url pointing to a pdf\n",
    "        if (requests.get(url_openalex).json()['results'][i]['type'] == 'journal-article') \\\n",
    "        & (requests.get(url_openalex).json()['results'][i]['open_access']['oa_url'].endswith('.pdf')):\n",
    "            for concept in requests.get(url_openalex).json()['results'][i]['concepts']:\n",
    "                if concept['level'] == 0: # for the start we want to extract only the level 0 concepts\n",
    "                    # when we go down to level 1, we also want to filter by score to get the best matching subdiscipline\n",
    "                    concept_id = concept['id']\n",
    "                    concept_name = concept['display_name']\n",
    "                    concept_ids.append(concept_id)\n",
    "                    concept_names.append(concept_name)\n",
    "                    open_source_article_pdfs.append(requests.get(url_openalex).json()['results'][i]['open_access']['oa_url'])\n",
    "    except:\n",
    "        continue\n",
    "    \n",
    "link_data = pd.DataFrame({'PDF_link':open_source_article_pdfs, 'Concept': concept_names, 'ConceptID': concept_ids})\n",
    "link_data"
   ]
  },
  {
   "cell_type": "code",
   "execution_count": 4,
   "metadata": {},
   "outputs": [
    {
     "data": {
      "text/html": [
       "<div>\n",
       "<style scoped>\n",
       "    .dataframe tbody tr th:only-of-type {\n",
       "        vertical-align: middle;\n",
       "    }\n",
       "\n",
       "    .dataframe tbody tr th {\n",
       "        vertical-align: top;\n",
       "    }\n",
       "\n",
       "    .dataframe thead th {\n",
       "        text-align: right;\n",
       "    }\n",
       "</style>\n",
       "<table border=\"1\" class=\"dataframe\">\n",
       "  <thead>\n",
       "    <tr style=\"text-align: right;\">\n",
       "      <th></th>\n",
       "      <th>PDF_link</th>\n",
       "      <th>ConceptID</th>\n",
       "    </tr>\n",
       "    <tr>\n",
       "      <th>Concept</th>\n",
       "      <th></th>\n",
       "      <th></th>\n",
       "    </tr>\n",
       "  </thead>\n",
       "  <tbody>\n",
       "    <tr>\n",
       "      <th>Biology</th>\n",
       "      <td>20</td>\n",
       "      <td>20</td>\n",
       "    </tr>\n",
       "    <tr>\n",
       "      <th>Chemistry</th>\n",
       "      <td>3</td>\n",
       "      <td>3</td>\n",
       "    </tr>\n",
       "    <tr>\n",
       "      <th>Computer science</th>\n",
       "      <td>29</td>\n",
       "      <td>29</td>\n",
       "    </tr>\n",
       "    <tr>\n",
       "      <th>Materials science</th>\n",
       "      <td>1</td>\n",
       "      <td>1</td>\n",
       "    </tr>\n",
       "    <tr>\n",
       "      <th>Mathematics</th>\n",
       "      <td>6</td>\n",
       "      <td>6</td>\n",
       "    </tr>\n",
       "    <tr>\n",
       "      <th>Medicine</th>\n",
       "      <td>2</td>\n",
       "      <td>2</td>\n",
       "    </tr>\n",
       "    <tr>\n",
       "      <th>Psychology</th>\n",
       "      <td>3</td>\n",
       "      <td>3</td>\n",
       "    </tr>\n",
       "  </tbody>\n",
       "</table>\n",
       "</div>"
      ],
      "text/plain": [
       "                   PDF_link  ConceptID\n",
       "Concept                               \n",
       "Biology                  20         20\n",
       "Chemistry                 3          3\n",
       "Computer science         29         29\n",
       "Materials science         1          1\n",
       "Mathematics               6          6\n",
       "Medicine                  2          2\n",
       "Psychology                3          3"
      ]
     },
     "execution_count": 4,
     "metadata": {},
     "output_type": "execute_result"
    }
   ],
   "source": [
    "# Checking whether academic fields are evenly distributed within page 1 of the data (the are not)\n",
    "\n",
    "link_data.groupby(by='Concept').count()"
   ]
  },
  {
   "cell_type": "code",
   "execution_count": 8,
   "metadata": {},
   "outputs": [],
   "source": [
    "# Filling up the DataFrame with more results\n",
    "\n",
    "res_per_page = 100\n",
    "filter_condition_oa = 'has_oa_accepted_or_published_version:true'\n",
    "for page in range(100):\n",
    "    url_openalex = f'https://api.openalex.org/works?filter={filter_condition_oa}&page={page}&per-page={res_per_page}'\n",
    "    \n",
    "    open_source_article_pdfs = []\n",
    "    concept_names = []\n",
    "\n",
    "    for i in range(res_per_page):\n",
    "        try: # check whether the type is article and whether it has a open access url pointing to a pdf\n",
    "            if (requests.get(url_openalex).json()['results'][i]['type'] == 'journal-article') \\\n",
    "            & (requests.get(url_openalex).json()['results'][i]['open_access']['oa_url'].endswith('.pdf')):\n",
    "                for concept in requests.get(url_openalex).json()['results'][i]['concepts']:\n",
    "                    if concept['level'] == 0: # for the start we want to extract only the level 0 concepts\n",
    "                        # when we go down to level 1, we also want to filter by score to get the best matching subdiscipline\n",
    "                        concept_names.append(concept['display_name'])\n",
    "                        open_source_article_pdfs.append(requests.get(url_openalex).json()['results'][i]['open_access']['oa_url'])\n",
    "        except:\n",
    "            continue\n",
    "    \n",
    "    if page%10 == 0: # every 1000 entries create a new csv\n",
    "        link_data = pd.DataFrame({'PDF_link':open_source_article_pdfs, 'Concept': concept_names})\n",
    "        link_data.to_csv(f'raw_data/{page}p_link_data.csv', index=False)\n",
    "        "
   ]
  }
 ],
 "metadata": {
  "kernelspec": {
   "display_name": "Python 3.8.12 64-bit ('shims')",
   "language": "python",
   "name": "python3"
  },
  "language_info": {
   "codemirror_mode": {
    "name": "ipython",
    "version": 3
   },
   "file_extension": ".py",
   "mimetype": "text/x-python",
   "name": "python",
   "nbconvert_exporter": "python",
   "pygments_lexer": "ipython3",
   "version": "3.8.12"
  },
  "orig_nbformat": 4,
  "vscode": {
   "interpreter": {
    "hash": "736150739e4fb3df6051488b43d6994f529cd492b8cd4a40882204b23398c180"
   }
  }
 },
 "nbformat": 4,
 "nbformat_minor": 2
}
