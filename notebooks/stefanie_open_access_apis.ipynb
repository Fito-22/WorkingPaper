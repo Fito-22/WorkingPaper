{
 "cells": [
  {
   "cell_type": "code",
   "execution_count": 1,
   "metadata": {},
   "outputs": [],
   "source": [
    "import os\n",
    "import requests\n",
    "from bs4 import BeautifulSoup\n",
    "import pandas as pd\n",
    "import re"
   ]
  },
  {
   "cell_type": "markdown",
   "metadata": {},
   "source": [
    "# Obtaining data from Springernature Open Access API\n",
    "### Manual Search via query"
   ]
  },
  {
   "cell_type": "code",
   "execution_count": 64,
   "metadata": {},
   "outputs": [
    {
     "data": {
      "text/plain": [
       "(['http://dx.doi.org/10.1007/s00256-022-04051-3',\n",
       "  'http://dx.doi.org/10.1007/s00264-022-05485-z',\n",
       "  'http://dx.doi.org/10.1007/s40122-022-00395-9',\n",
       "  'http://dx.doi.org/10.1007/s12325-022-02246-7',\n",
       "  'http://dx.doi.org/10.1186/s12891-022-05768-x'],\n",
       " ['Predictive value of immediate pain relief after lumbar transforaminal epidural injection with local anesthetics and steroids for single level radiculopathy',\n",
       "  'Comparison of hidden blood loss and clinical efficacy of percutaneous endoscopic transforaminal lumbar interbody fusion and minimally invasive transforaminal lumbar interbody fusion',\n",
       "  'Bilateral Erector Spinae Plane Block for Quality of Recovery Following Posterior Lumbar Interbody Fusion: A Randomized Controlled Trial',\n",
       "  'Brain Abnormalities in PIK3CA-Related Overgrowth Spectrum: Physician, Patient, and Caregiver Experiences',\n",
       "  'Finite element analysis after rod fracture of the spinal hybrid elastic rod system'])"
      ]
     },
     "execution_count": 64,
     "metadata": {},
     "output_type": "execute_result"
    }
   ],
   "source": [
    "# We will first return urls of open access articles from the springer link group, filtered manually by search query\n",
    "\n",
    "query = 'spinal decompression' # search query: field or subfield\n",
    "user_key = os.getenv('SPRINGER_API_KEY')\n",
    "index = 0 # first index to return\n",
    "num_return = 10 # number of results to return per api call\n",
    "url = f'https://api.springernature.com/openaccess/json?api_key={user_key}&q={query}&s={index}&p={num_return}'\n",
    "\n",
    "open_source_article_urls = []\n",
    "titles = []\n",
    "for i in range(num_return):\n",
    "    try: # check whether the type is article and whether it doesn't exceed 10 pages\n",
    "        if (requests.get(url).json()['records'][i]['contentType'] == 'Article') \\\n",
    "        & (int(requests.get(url).json()['records'][i]['endingPage']) \\\n",
    "        - int(requests.get(url).json()['records'][i]['startingPage']) <= 10):\n",
    "            open_source_article_urls.append(requests.get(url).json()['records'][i]['url'][0]['value'])\n",
    "            titles.append(requests.get(url).json()['records'][i]['title'])\n",
    "    except:\n",
    "        continue\n",
    "    \n",
    "open_source_article_urls[:5], titles[:5]"
   ]
  },
  {
   "cell_type": "code",
   "execution_count": 65,
   "metadata": {},
   "outputs": [
    {
     "data": {
      "text/plain": [
       "['https://link.springer.com/content/pdf/10.1007/s00256-022-04051-3.pdf',\n",
       " 'https://link.springer.com/content/pdf/10.1007/s00264-022-05485-z.pdf',\n",
       " 'https://link.springer.com/content/pdf/10.1007/s40122-022-00395-9.pdf',\n",
       " 'https://link.springer.com/content/pdf/10.1007/s12325-022-02246-7.pdf',\n",
       " 'bmcmusculoskeletdisord.biomedcentral.com/track/pdf/10.1186/s12891-022-05768-x.pdf']"
      ]
     },
     "execution_count": 65,
     "metadata": {},
     "output_type": "execute_result"
    }
   ],
   "source": [
    "# Now for the obtained urls, we will scrape the pdf-urls of the articles\n",
    "\n",
    "pdf_links = []\n",
    "for link in open_source_article_urls:\n",
    "    response = requests.get(link)\n",
    "    soup = BeautifulSoup(response.content, \"html.parser\")\n",
    "    pdf_links.append(str(soup.find_all('a', href=re.compile(r'(.pdf)'))).split('href=\"')[1].split('\">\\n')[0].strip('/'))\n",
    "pdf_links[:5]"
   ]
  },
  {
   "cell_type": "code",
   "execution_count": 66,
   "metadata": {},
   "outputs": [
    {
     "data": {
      "text/html": [
       "<div>\n",
       "<style scoped>\n",
       "    .dataframe tbody tr th:only-of-type {\n",
       "        vertical-align: middle;\n",
       "    }\n",
       "\n",
       "    .dataframe tbody tr th {\n",
       "        vertical-align: top;\n",
       "    }\n",
       "\n",
       "    .dataframe thead th {\n",
       "        text-align: right;\n",
       "    }\n",
       "</style>\n",
       "<table border=\"1\" class=\"dataframe\">\n",
       "  <thead>\n",
       "    <tr style=\"text-align: right;\">\n",
       "      <th></th>\n",
       "      <th>Title</th>\n",
       "      <th>PDF_link</th>\n",
       "    </tr>\n",
       "  </thead>\n",
       "  <tbody>\n",
       "    <tr>\n",
       "      <th>0</th>\n",
       "      <td>Predictive value of immediate pain relief afte...</td>\n",
       "      <td>https://link.springer.com/content/pdf/10.1007/...</td>\n",
       "    </tr>\n",
       "    <tr>\n",
       "      <th>1</th>\n",
       "      <td>Comparison of hidden blood loss and clinical e...</td>\n",
       "      <td>https://link.springer.com/content/pdf/10.1007/...</td>\n",
       "    </tr>\n",
       "    <tr>\n",
       "      <th>2</th>\n",
       "      <td>Bilateral Erector Spinae Plane Block for Quali...</td>\n",
       "      <td>https://link.springer.com/content/pdf/10.1007/...</td>\n",
       "    </tr>\n",
       "    <tr>\n",
       "      <th>3</th>\n",
       "      <td>Brain Abnormalities in PIK3CA-Related Overgrow...</td>\n",
       "      <td>https://link.springer.com/content/pdf/10.1007/...</td>\n",
       "    </tr>\n",
       "    <tr>\n",
       "      <th>4</th>\n",
       "      <td>Finite element analysis after rod fracture of ...</td>\n",
       "      <td>bmcmusculoskeletdisord.biomedcentral.com/track...</td>\n",
       "    </tr>\n",
       "  </tbody>\n",
       "</table>\n",
       "</div>"
      ],
      "text/plain": [
       "                                               Title  \\\n",
       "0  Predictive value of immediate pain relief afte...   \n",
       "1  Comparison of hidden blood loss and clinical e...   \n",
       "2  Bilateral Erector Spinae Plane Block for Quali...   \n",
       "3  Brain Abnormalities in PIK3CA-Related Overgrow...   \n",
       "4  Finite element analysis after rod fracture of ...   \n",
       "\n",
       "                                            PDF_link  \n",
       "0  https://link.springer.com/content/pdf/10.1007/...  \n",
       "1  https://link.springer.com/content/pdf/10.1007/...  \n",
       "2  https://link.springer.com/content/pdf/10.1007/...  \n",
       "3  https://link.springer.com/content/pdf/10.1007/...  \n",
       "4  bmcmusculoskeletdisord.biomedcentral.com/track...  "
      ]
     },
     "execution_count": 66,
     "metadata": {},
     "output_type": "execute_result"
    }
   ],
   "source": [
    "# Saving the result in a pandas DataFrame\n",
    "\n",
    "link_data = pd.DataFrame({'Title':titles,'PDF_link':pdf_links})\n",
    "link_data.head()"
   ]
  },
  {
   "cell_type": "markdown",
   "metadata": {},
   "source": [
    "#### But: apart from maybe the search queries, we're lacking the field of research (target)."
   ]
  },
  {
   "cell_type": "markdown",
   "metadata": {},
   "source": [
    "# Obtaining data from OpenAlex\n",
    "\n",
    "#### OpenAlex is a knowledge graph that already comes with linkage and a labeling for the subdisciplines, see the [OpenAlex Concepts](https://docs.openalex.org/about-the-data/concept). This API returns 33407041 results!!!"
   ]
  },
  {
   "cell_type": "code",
   "execution_count": 43,
   "metadata": {},
   "outputs": [],
   "source": [
    "# Getting links to open access PDFs from mixed disciplines and subtopics from page 1\n",
    "\n",
    "page = 1\n",
    "res_per_page = 25 # number of results per page, must be between 25 and 200\n",
    "filter_condition_oa = 'has_oa_accepted_or_published_version:true'\n",
    "url_openalex = f'https://api.openalex.org/works?filter={filter_condition_oa}&page={page}&per-page={res_per_page}'\n",
    "\n",
    "open_source_article_pdfs = []\n",
    "publication_years = []\n",
    "concept_names = []\n",
    "subconcept_names = []\n",
    "for i in range(res_per_page): # check whether the type is 'journal article' and whether it has a open access url pointing to a pdf and if it has topis or subtopics\n",
    "    if (requests.get(url_openalex).json()['results'][i]['type'] == 'journal-article') \\\n",
    "    & (requests.get(url_openalex).json()['results'][i]['open_access']['oa_url'].endswith('.pdf')):\n",
    "        try:\n",
    "            for concept in requests.get(url_openalex).json()['results'][i]['concepts']:\n",
    "                if concept['level'] == 0:\n",
    "                    topic = concept['display_name']\n",
    "                elif concept['level'] == 1:\n",
    "                    subtopic = concept['display_name']\n",
    "            if concept and subtopic: # only append information to lists if concepts and subconcepts have been found\n",
    "                publication_years.append(requests.get(url_openalex).json()['results'][i]['publication_year'])\n",
    "                open_source_article_pdfs.append(requests.get(url_openalex).json()['results'][i]['open_access']['oa_url'])\n",
    "                subconcept_names.append(subtopic)\n",
    "                concept_names.append(topic)\n",
    "        except:\n",
    "            continue\n",
    "    \n",
    "link_data = pd.DataFrame({'pdf_link':open_source_article_pdfs, 'year': publication_years, 'concepts': concept_names, 'subconcepts': subconcept_names})\n",
    "link_data.to_csv(f'../raw_data/page{page}_link_data.csv', index=False)"
   ]
  },
  {
   "cell_type": "code",
   "execution_count": 37,
   "metadata": {},
   "outputs": [
    {
     "data": {
      "text/html": [
       "<div>\n",
       "<style scoped>\n",
       "    .dataframe tbody tr th:only-of-type {\n",
       "        vertical-align: middle;\n",
       "    }\n",
       "\n",
       "    .dataframe tbody tr th {\n",
       "        vertical-align: top;\n",
       "    }\n",
       "\n",
       "    .dataframe thead th {\n",
       "        text-align: right;\n",
       "    }\n",
       "</style>\n",
       "<table border=\"1\" class=\"dataframe\">\n",
       "  <thead>\n",
       "    <tr style=\"text-align: right;\">\n",
       "      <th></th>\n",
       "      <th>pdf_link</th>\n",
       "      <th>year</th>\n",
       "      <th>concepts</th>\n",
       "      <th>subconcepts</th>\n",
       "    </tr>\n",
       "  </thead>\n",
       "  <tbody>\n",
       "    <tr>\n",
       "      <th>0</th>\n",
       "      <td>http://journals.iucr.org/a/issues/2008/01/00/s...</td>\n",
       "      <td>2008</td>\n",
       "      <td>Computer science</td>\n",
       "      <td>Software engineering</td>\n",
       "    </tr>\n",
       "    <tr>\n",
       "      <th>1</th>\n",
       "      <td>https://academic.oup.com/nar/article-pdf/25/17...</td>\n",
       "      <td>1997</td>\n",
       "      <td>Computer science</td>\n",
       "      <td>Computational biology</td>\n",
       "    </tr>\n",
       "    <tr>\n",
       "      <th>2</th>\n",
       "      <td>https://link.springer.com/content/pdf/10.1023%...</td>\n",
       "      <td>2001</td>\n",
       "      <td>Mathematics</td>\n",
       "      <td>Artificial intelligence</td>\n",
       "    </tr>\n",
       "    <tr>\n",
       "      <th>3</th>\n",
       "      <td>http://www.pnas.org/content/76/9/4350.full.pdf</td>\n",
       "      <td>1979</td>\n",
       "      <td>Chemistry</td>\n",
       "      <td>Biochemistry</td>\n",
       "    </tr>\n",
       "    <tr>\n",
       "      <th>4</th>\n",
       "      <td>https://repositorio.unal.edu.co/bitstream/unal...</td>\n",
       "      <td>1974</td>\n",
       "      <td>Computer science</td>\n",
       "      <td>Algorithm</td>\n",
       "    </tr>\n",
       "    <tr>\n",
       "      <th>5</th>\n",
       "      <td>https://academic.oup.com/bioinformatics/articl...</td>\n",
       "      <td>2009</td>\n",
       "      <td>Computer science</td>\n",
       "      <td>Computational biology</td>\n",
       "    </tr>\n",
       "    <tr>\n",
       "      <th>6</th>\n",
       "      <td>https://academic.oup.com/nar/article-pdf/25/24...</td>\n",
       "      <td>1997</td>\n",
       "      <td>Biology</td>\n",
       "      <td>Computational biology</td>\n",
       "    </tr>\n",
       "    <tr>\n",
       "      <th>7</th>\n",
       "      <td>https://academic.oup.com/mbe/article-pdf/28/10...</td>\n",
       "      <td>2011</td>\n",
       "      <td>Biology</td>\n",
       "      <td>Computational biology</td>\n",
       "    </tr>\n",
       "    <tr>\n",
       "      <th>8</th>\n",
       "      <td>https://www.jstatsoft.org/index.php/jss/articl...</td>\n",
       "      <td>2015</td>\n",
       "      <td>Computer science</td>\n",
       "      <td>Mathematical optimization</td>\n",
       "    </tr>\n",
       "    <tr>\n",
       "      <th>9</th>\n",
       "      <td>https://academic.oup.com/bioinformatics/articl...</td>\n",
       "      <td>2009</td>\n",
       "      <td>Computer science</td>\n",
       "      <td>Algorithm</td>\n",
       "    </tr>\n",
       "    <tr>\n",
       "      <th>10</th>\n",
       "      <td>https://academic.oup.com/mbe/article-pdf/30/12...</td>\n",
       "      <td>2013</td>\n",
       "      <td>Computer science</td>\n",
       "      <td>Evolutionary biology</td>\n",
       "    </tr>\n",
       "  </tbody>\n",
       "</table>\n",
       "</div>"
      ],
      "text/plain": [
       "                                             pdf_link  year          concepts  \\\n",
       "0   http://journals.iucr.org/a/issues/2008/01/00/s...  2008  Computer science   \n",
       "1   https://academic.oup.com/nar/article-pdf/25/17...  1997  Computer science   \n",
       "2   https://link.springer.com/content/pdf/10.1023%...  2001       Mathematics   \n",
       "3      http://www.pnas.org/content/76/9/4350.full.pdf  1979         Chemistry   \n",
       "4   https://repositorio.unal.edu.co/bitstream/unal...  1974  Computer science   \n",
       "5   https://academic.oup.com/bioinformatics/articl...  2009  Computer science   \n",
       "6   https://academic.oup.com/nar/article-pdf/25/24...  1997           Biology   \n",
       "7   https://academic.oup.com/mbe/article-pdf/28/10...  2011           Biology   \n",
       "8   https://www.jstatsoft.org/index.php/jss/articl...  2015  Computer science   \n",
       "9   https://academic.oup.com/bioinformatics/articl...  2009  Computer science   \n",
       "10  https://academic.oup.com/mbe/article-pdf/30/12...  2013  Computer science   \n",
       "\n",
       "                  subconcepts  \n",
       "0        Software engineering  \n",
       "1       Computational biology  \n",
       "2     Artificial intelligence  \n",
       "3                Biochemistry  \n",
       "4                   Algorithm  \n",
       "5       Computational biology  \n",
       "6       Computational biology  \n",
       "7       Computational biology  \n",
       "8   Mathematical optimization  \n",
       "9                   Algorithm  \n",
       "10       Evolutionary biology  "
      ]
     },
     "execution_count": 37,
     "metadata": {},
     "output_type": "execute_result"
    }
   ],
   "source": [
    "link_data # --> out of 25 results from the first page of the json, 11 fulfilled our conditions"
   ]
  },
  {
   "cell_type": "code",
   "execution_count": 2,
   "metadata": {},
   "outputs": [],
   "source": [
    "# Filling a csv with more results (ran in Colab with Google Drive)\n",
    "\n",
    "res_per_page = 100\n",
    "filter_condition_oa = 'has_oa_accepted_or_published_version:true'\n",
    "for page in range(100):\n",
    "    url_openalex = f'https://api.openalex.org/works?filter={filter_condition_oa}&page={page}&per-page={res_per_page}'\n",
    "\n",
    "    open_source_article_pdfs = []\n",
    "    publication_years = []\n",
    "    concept_names = []\n",
    "    subconcept_names = []\n",
    "    for i in range(res_per_page): # check whether the type is 'journal article' and whether it has a open access url pointing to a pdf and if it has topis or subtopics\n",
    "        try:\n",
    "            if (requests.get(url_openalex).json()['results'][i]['type'] == 'journal-article') \\\n",
    "            & (requests.get(url_openalex).json()['results'][i]['open_access']['oa_url'].endswith('.pdf')):\n",
    "                for concept in requests.get(url_openalex).json()['results'][i]['concepts']:\n",
    "                    if concept['level'] == 0:\n",
    "                        topic = concept['display_name']\n",
    "                    elif concept['level'] == 1:\n",
    "                        subtopic = concept['display_name']\n",
    "                if concept and subtopic: # only append information to lists if concepts and subconcepts have been found\n",
    "                    publication_years.append(requests.get(url_openalex).json()['results'][i]['publication_year'])\n",
    "                    open_source_article_pdfs.append(requests.get(url_openalex).json()['results'][i]['open_access']['oa_url'])\n",
    "                    subconcept_names.append(subtopic)\n",
    "                    concept_names.append(topic)\n",
    "        except:\n",
    "            continue\n",
    "    \n",
    "    # creating a new csv for every page in the json (100 entries), otherwiese could use \"if page%10 == 0:\"\"\n",
    "    link_data = pd.DataFrame({'pdf_link':open_source_article_pdfs, 'year': publication_years, 'concepts': concept_names, 'subconcepts': subconcept_names})\n",
    "    link_data.to_csv(f'../raw_data/page{page}_link_data.csv', index=False)"
   ]
  },
  {
   "cell_type": "code",
   "execution_count": null,
   "metadata": {},
   "outputs": [],
   "source": []
  }
 ],
 "metadata": {
  "kernelspec": {
   "display_name": "Python 3.8.12 64-bit ('shims')",
   "language": "python",
   "name": "python3"
  },
  "language_info": {
   "codemirror_mode": {
    "name": "ipython",
    "version": 3
   },
   "file_extension": ".py",
   "mimetype": "text/x-python",
   "name": "python",
   "nbconvert_exporter": "python",
   "pygments_lexer": "ipython3",
   "version": "3.8.12"
  },
  "orig_nbformat": 4,
  "vscode": {
   "interpreter": {
    "hash": "736150739e4fb3df6051488b43d6994f529cd492b8cd4a40882204b23398c180"
   }
  }
 },
 "nbformat": 4,
 "nbformat_minor": 2
}
