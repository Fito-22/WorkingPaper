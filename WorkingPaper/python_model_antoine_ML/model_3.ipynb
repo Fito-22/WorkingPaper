{
 "cells": [
  {
   "cell_type": "code",
   "execution_count": 1,
   "metadata": {},
   "outputs": [],
   "source": [
    "import pandas as pd\n",
    "import numpy as np\n",
    "from nltk.tokenize import word_tokenize\n",
    "from nltk import pos_tag\n",
    "from nltk.corpus import stopwords\n",
    "from nltk.stem import WordNetLemmatizer\n",
    "from sklearn.preprocessing import LabelEncoder\n",
    "from sklearn.preprocessing import OneHotEncoder\n",
    "from sklearn.model_selection import train_test_split\n",
    "from collections import defaultdict\n",
    "from nltk.corpus import wordnet as wn\n",
    "from sklearn.feature_extraction.text import TfidfVectorizer, CountVectorizer\n",
    "from sklearn import model_selection, naive_bayes, svm\n",
    "from sklearn.metrics import accuracy_score\n",
    "from tensorflow.math import confusion_matrix\n",
    "import seaborn as sns\n",
    "from sklearn import metrics\n",
    "from WorkingPaper.python_model_antoine_ML.DL_logic.cleaning import final_cleaning\n",
    "from sklearn.pipeline import Pipeline\n",
    "from sklearn.model_selection import GridSearchCV"
   ]
  },
  {
   "cell_type": "code",
   "execution_count": 2,
   "metadata": {},
   "outputs": [
    {
     "data": {
      "text/html": [
       "<div>\n",
       "<style scoped>\n",
       "    .dataframe tbody tr th:only-of-type {\n",
       "        vertical-align: middle;\n",
       "    }\n",
       "\n",
       "    .dataframe tbody tr th {\n",
       "        vertical-align: top;\n",
       "    }\n",
       "\n",
       "    .dataframe thead th {\n",
       "        text-align: right;\n",
       "    }\n",
       "</style>\n",
       "<table border=\"1\" class=\"dataframe\">\n",
       "  <thead>\n",
       "    <tr style=\"text-align: right;\">\n",
       "      <th></th>\n",
       "      <th>Unnamed: 0.2</th>\n",
       "      <th>Unnamed: 0</th>\n",
       "      <th>Unnamed: 0.1</th>\n",
       "      <th>id</th>\n",
       "      <th>title</th>\n",
       "      <th>text</th>\n",
       "      <th>topic</th>\n",
       "      <th>subtopic</th>\n",
       "    </tr>\n",
       "  </thead>\n",
       "  <tbody>\n",
       "    <tr>\n",
       "      <th>0</th>\n",
       "      <td>0</td>\n",
       "      <td>0.0</td>\n",
       "      <td>0.0</td>\n",
       "      <td>https://openalex.org/W2100716186</td>\n",
       "      <td>Large-scale screening of hypothetical metal-or...</td>\n",
       "      <td>PUBLISHED ONLINE: 6 NOVEMBER 2011 | DOI: 10.10...</td>\n",
       "      <td>Chemistry</td>\n",
       "      <td>Nanotechnology</td>\n",
       "    </tr>\n",
       "    <tr>\n",
       "      <th>1</th>\n",
       "      <td>1</td>\n",
       "      <td>1.0</td>\n",
       "      <td>1.0</td>\n",
       "      <td>https://openalex.org/W2109370530</td>\n",
       "      <td>Routing and wavelength assignment in all-optic...</td>\n",
       "      <td>[H+./ACM TRANSACTIONS ON NETWORKING, VO1. 3, N...</td>\n",
       "      <td>Computer science</td>\n",
       "      <td>Telecommunications</td>\n",
       "    </tr>\n",
       "    <tr>\n",
       "      <th>2</th>\n",
       "      <td>2</td>\n",
       "      <td>2.0</td>\n",
       "      <td>2.0</td>\n",
       "      <td>https://openalex.org/W2131625303</td>\n",
       "      <td>Potassium channel antibody-associated encephal...</td>\n",
       "      <td>DOI: 10.1093/brain/awh077  Brain (2004), 127, ...</td>\n",
       "      <td>Medicine</td>\n",
       "      <td>Pediatrics</td>\n",
       "    </tr>\n",
       "    <tr>\n",
       "      <th>3</th>\n",
       "      <td>3</td>\n",
       "      <td>3.0</td>\n",
       "      <td>3.0</td>\n",
       "      <td>https://openalex.org/W2131736388</td>\n",
       "      <td>MODBASE, a database of annotated comparative p...</td>\n",
       "      <td>D336–D346 Nucleic Acids Research, 2014, Vol. 4...</td>\n",
       "      <td>Computer science</td>\n",
       "      <td>Bioinformatics</td>\n",
       "    </tr>\n",
       "    <tr>\n",
       "      <th>4</th>\n",
       "      <td>4</td>\n",
       "      <td>4.0</td>\n",
       "      <td>4.0</td>\n",
       "      <td>https://openalex.org/W2144966005</td>\n",
       "      <td>Regional brain volume abnormalities and long-t...</td>\n",
       "      <td>ORIGINAL CONTRIBUTION  Regional Brain Volume A...</td>\n",
       "      <td>Medicine</td>\n",
       "      <td>Internal medicine</td>\n",
       "    </tr>\n",
       "  </tbody>\n",
       "</table>\n",
       "</div>"
      ],
      "text/plain": [
       "   Unnamed: 0.2  Unnamed: 0  Unnamed: 0.1                                id  \\\n",
       "0             0         0.0           0.0  https://openalex.org/W2100716186   \n",
       "1             1         1.0           1.0  https://openalex.org/W2109370530   \n",
       "2             2         2.0           2.0  https://openalex.org/W2131625303   \n",
       "3             3         3.0           3.0  https://openalex.org/W2131736388   \n",
       "4             4         4.0           4.0  https://openalex.org/W2144966005   \n",
       "\n",
       "                                               title  \\\n",
       "0  Large-scale screening of hypothetical metal-or...   \n",
       "1  Routing and wavelength assignment in all-optic...   \n",
       "2  Potassium channel antibody-associated encephal...   \n",
       "3  MODBASE, a database of annotated comparative p...   \n",
       "4  Regional brain volume abnormalities and long-t...   \n",
       "\n",
       "                                                text             topic  \\\n",
       "0  PUBLISHED ONLINE: 6 NOVEMBER 2011 | DOI: 10.10...         Chemistry   \n",
       "1  [H+./ACM TRANSACTIONS ON NETWORKING, VO1. 3, N...  Computer science   \n",
       "2  DOI: 10.1093/brain/awh077  Brain (2004), 127, ...          Medicine   \n",
       "3  D336–D346 Nucleic Acids Research, 2014, Vol. 4...  Computer science   \n",
       "4  ORIGINAL CONTRIBUTION  Regional Brain Volume A...          Medicine   \n",
       "\n",
       "             subtopic  \n",
       "0      Nanotechnology  \n",
       "1  Telecommunications  \n",
       "2          Pediatrics  \n",
       "3      Bioinformatics  \n",
       "4   Internal medicine  "
      ]
     },
     "execution_count": 2,
     "metadata": {},
     "output_type": "execute_result"
    }
   ],
   "source": [
    "data = pd.read_csv('../../raw_data/data_9k.csv')\n",
    "data.head()"
   ]
  },
  {
   "cell_type": "code",
   "execution_count": 3,
   "metadata": {},
   "outputs": [
    {
     "data": {
      "text/html": [
       "<div>\n",
       "<style scoped>\n",
       "    .dataframe tbody tr th:only-of-type {\n",
       "        vertical-align: middle;\n",
       "    }\n",
       "\n",
       "    .dataframe tbody tr th {\n",
       "        vertical-align: top;\n",
       "    }\n",
       "\n",
       "    .dataframe thead th {\n",
       "        text-align: right;\n",
       "    }\n",
       "</style>\n",
       "<table border=\"1\" class=\"dataframe\">\n",
       "  <thead>\n",
       "    <tr style=\"text-align: right;\">\n",
       "      <th></th>\n",
       "      <th>id</th>\n",
       "      <th>title</th>\n",
       "      <th>text</th>\n",
       "      <th>topic</th>\n",
       "      <th>subtopic</th>\n",
       "      <th>total words per text</th>\n",
       "      <th>modified text</th>\n",
       "      <th>words per modified text</th>\n",
       "      <th>broader_subtopic</th>\n",
       "    </tr>\n",
       "  </thead>\n",
       "  <tbody>\n",
       "    <tr>\n",
       "      <th>0</th>\n",
       "      <td>https://openalex.org/w1968762427</td>\n",
       "      <td>rapid amplification of plasmid and phage dna u...</td>\n",
       "      <td>downloaded from   genome cshlp org   on septem...</td>\n",
       "      <td>biology</td>\n",
       "      <td>molecular biology</td>\n",
       "      <td>23397</td>\n",
       "      <td>['download', 'genome', 'cshlp', 'org', 'septem...</td>\n",
       "      <td>2303</td>\n",
       "      <td>genetics and molecular biology</td>\n",
       "    </tr>\n",
       "    <tr>\n",
       "      <th>1</th>\n",
       "      <td>https://openalex.org/w2099571549</td>\n",
       "      <td>microbial communities in acid mine drainage</td>\n",
       "      <td>abstract  the dissolution of sulfide minerals ...</td>\n",
       "      <td>biology</td>\n",
       "      <td>ecology</td>\n",
       "      <td>71203</td>\n",
       "      <td>['abstract', 'dissolution', 'sulfide', 'minera...</td>\n",
       "      <td>2965</td>\n",
       "      <td>ecology</td>\n",
       "    </tr>\n",
       "    <tr>\n",
       "      <th>2</th>\n",
       "      <td>https://openalex.org/w2123562143</td>\n",
       "      <td>polynomial time algorithms for multicast netwo...</td>\n",
       "      <td>abstract the famous max  ow min cut theorem st...</td>\n",
       "      <td>mathematics</td>\n",
       "      <td>combinatorics</td>\n",
       "      <td>45200</td>\n",
       "      <td>['abstract', 'famous', 'max', 'ow', 'min', 'cu...</td>\n",
       "      <td>2774</td>\n",
       "      <td>NaN</td>\n",
       "    </tr>\n",
       "    <tr>\n",
       "      <th>3</th>\n",
       "      <td>https://openalex.org/w2149244682</td>\n",
       "      <td>combination immunotherapy of b16 melanoma usin...</td>\n",
       "      <td>combination immunotherapy of b   melanoma usin...</td>\n",
       "      <td>biology</td>\n",
       "      <td>cancer research</td>\n",
       "      <td>63844</td>\n",
       "      <td>['combination', 'immunotherapy', 'melanoma', '...</td>\n",
       "      <td>2884</td>\n",
       "      <td>genetics and molecular biology</td>\n",
       "    </tr>\n",
       "    <tr>\n",
       "      <th>4</th>\n",
       "      <td>https://openalex.org/w2536956629</td>\n",
       "      <td>situating the default-mode network along a pri...</td>\n",
       "      <td>abstract  background psp is a neuropathologica...</td>\n",
       "      <td>psychology</td>\n",
       "      <td>neuroscience</td>\n",
       "      <td>59152</td>\n",
       "      <td>['abstract', 'background', 'psp', 'neuropathol...</td>\n",
       "      <td>2901</td>\n",
       "      <td>NaN</td>\n",
       "    </tr>\n",
       "  </tbody>\n",
       "</table>\n",
       "</div>"
      ],
      "text/plain": [
       "                                 id  \\\n",
       "0  https://openalex.org/w1968762427   \n",
       "1  https://openalex.org/w2099571549   \n",
       "2  https://openalex.org/w2123562143   \n",
       "3  https://openalex.org/w2149244682   \n",
       "4  https://openalex.org/w2536956629   \n",
       "\n",
       "                                               title  \\\n",
       "0  rapid amplification of plasmid and phage dna u...   \n",
       "1        microbial communities in acid mine drainage   \n",
       "2  polynomial time algorithms for multicast netwo...   \n",
       "3  combination immunotherapy of b16 melanoma usin...   \n",
       "4  situating the default-mode network along a pri...   \n",
       "\n",
       "                                                text        topic  \\\n",
       "0  downloaded from   genome cshlp org   on septem...      biology   \n",
       "1  abstract  the dissolution of sulfide minerals ...      biology   \n",
       "2  abstract the famous max  ow min cut theorem st...  mathematics   \n",
       "3  combination immunotherapy of b   melanoma usin...      biology   \n",
       "4  abstract  background psp is a neuropathologica...   psychology   \n",
       "\n",
       "            subtopic  total words per text  \\\n",
       "0  molecular biology                 23397   \n",
       "1            ecology                 71203   \n",
       "2      combinatorics                 45200   \n",
       "3    cancer research                 63844   \n",
       "4       neuroscience                 59152   \n",
       "\n",
       "                                       modified text  words per modified text  \\\n",
       "0  ['download', 'genome', 'cshlp', 'org', 'septem...                     2303   \n",
       "1  ['abstract', 'dissolution', 'sulfide', 'minera...                     2965   \n",
       "2  ['abstract', 'famous', 'max', 'ow', 'min', 'cu...                     2774   \n",
       "3  ['combination', 'immunotherapy', 'melanoma', '...                     2884   \n",
       "4  ['abstract', 'background', 'psp', 'neuropathol...                     2901   \n",
       "\n",
       "                 broader_subtopic  \n",
       "0  genetics and molecular biology  \n",
       "1                         ecology  \n",
       "2                             NaN  \n",
       "3  genetics and molecular biology  \n",
       "4                             NaN  "
      ]
     },
     "execution_count": 3,
     "metadata": {},
     "output_type": "execute_result"
    }
   ],
   "source": [
    "# Reading data 2\n",
    "data_2 = pd.read_csv('../../raw_data/preprocessed_data.csv')\n",
    "data_2.head()"
   ]
  },
  {
   "cell_type": "code",
   "execution_count": 4,
   "metadata": {},
   "outputs": [],
   "source": [
    "data_math = data_2.loc[data_2['topic'] == 'mathematics']\n",
    "data_phy = data_2.loc[data_2['topic'] == 'physics']\n",
    "data_biology = data.loc[data['topic'] == 'Biology'][:1000]\n",
    "data_medecine = data.loc[data['topic'] == 'Medicine'][:1000]\n",
    "\n",
    "\n",
    "\n",
    "frames = [data_biology[['text','topic']],data_medecine[['text','topic']]]\n",
    "result = pd.concat(frames)"
   ]
  },
  {
   "cell_type": "code",
   "execution_count": 5,
   "metadata": {},
   "outputs": [],
   "source": [
    "result['text'] = result['text'].apply(lambda x: final_cleaning(str(x)))"
   ]
  },
  {
   "cell_type": "code",
   "execution_count": 6,
   "metadata": {},
   "outputs": [],
   "source": [
    "final_data = pd.concat([result[['text','topic']],data_math[['text','topic']],data_phy[['text','topic']]])"
   ]
  },
  {
   "cell_type": "code",
   "execution_count": 7,
   "metadata": {},
   "outputs": [
    {
     "data": {
      "text/plain": [
       "(3548, 2)"
      ]
     },
     "execution_count": 7,
     "metadata": {},
     "output_type": "execute_result"
    }
   ],
   "source": [
    "final_data.shape"
   ]
  },
  {
   "cell_type": "code",
   "execution_count": 8,
   "metadata": {},
   "outputs": [],
   "source": [
    "data = final_data\n",
    "data = data.dropna()"
   ]
  },
  {
   "cell_type": "code",
   "execution_count": 9,
   "metadata": {},
   "outputs": [],
   "source": [
    "data['text'] = data['text'].apply(lambda x : ' '.join(x.split()[0:1000]))"
   ]
  },
  {
   "cell_type": "code",
   "execution_count": 10,
   "metadata": {},
   "outputs": [],
   "source": [
    "# OneHot Encoding topics\n",
    "enc = OneHotEncoder(handle_unknown='ignore', sparse=False)\n",
    "topic_targets_enc = pd.DataFrame(enc.fit_transform(data[['topic']]))\n",
    "topic_targets_enc.columns = enc.get_feature_names_out()"
   ]
  },
  {
   "cell_type": "code",
   "execution_count": 11,
   "metadata": {},
   "outputs": [
    {
     "data": {
      "text/plain": [
       "Index(['topic_Biology', 'topic_Medicine', 'topic_mathematics',\n",
       "       'topic_physics'],\n",
       "      dtype='object')"
      ]
     },
     "execution_count": 11,
     "metadata": {},
     "output_type": "execute_result"
    }
   ],
   "source": [
    "topic_targets_enc.columns"
   ]
  },
  {
   "cell_type": "code",
   "execution_count": 12,
   "metadata": {},
   "outputs": [
    {
     "data": {
      "text/plain": [
       "topic      \n",
       "Biology        1000\n",
       "Medicine       1000\n",
       "mathematics     918\n",
       "physics         630\n",
       "dtype: int64"
      ]
     },
     "execution_count": 12,
     "metadata": {},
     "output_type": "execute_result"
    }
   ],
   "source": [
    "data[['topic']].value_counts()"
   ]
  },
  {
   "cell_type": "code",
   "execution_count": 13,
   "metadata": {},
   "outputs": [
    {
     "data": {
      "text/plain": [
       "text     0\n",
       "topic    0\n",
       "dtype: int64"
      ]
     },
     "execution_count": 13,
     "metadata": {},
     "output_type": "execute_result"
    }
   ],
   "source": [
    "data.isnull().sum()"
   ]
  },
  {
   "cell_type": "code",
   "execution_count": 14,
   "metadata": {},
   "outputs": [],
   "source": [
    "# Train test split\n",
    "X_train, X_test, y_train, y_test = train_test_split(data['text'], topic_targets_enc, test_size=0.3)"
   ]
  },
  {
   "cell_type": "code",
   "execution_count": 22,
   "metadata": {},
   "outputs": [
    {
     "data": {
      "text/html": [
       "<style>#sk-container-id-3 {color: black;background-color: white;}#sk-container-id-3 pre{padding: 0;}#sk-container-id-3 div.sk-toggleable {background-color: white;}#sk-container-id-3 label.sk-toggleable__label {cursor: pointer;display: block;width: 100%;margin-bottom: 0;padding: 0.3em;box-sizing: border-box;text-align: center;}#sk-container-id-3 label.sk-toggleable__label-arrow:before {content: \"▸\";float: left;margin-right: 0.25em;color: #696969;}#sk-container-id-3 label.sk-toggleable__label-arrow:hover:before {color: black;}#sk-container-id-3 div.sk-estimator:hover label.sk-toggleable__label-arrow:before {color: black;}#sk-container-id-3 div.sk-toggleable__content {max-height: 0;max-width: 0;overflow: hidden;text-align: left;background-color: #f0f8ff;}#sk-container-id-3 div.sk-toggleable__content pre {margin: 0.2em;color: black;border-radius: 0.25em;background-color: #f0f8ff;}#sk-container-id-3 input.sk-toggleable__control:checked~div.sk-toggleable__content {max-height: 200px;max-width: 100%;overflow: auto;}#sk-container-id-3 input.sk-toggleable__control:checked~label.sk-toggleable__label-arrow:before {content: \"▾\";}#sk-container-id-3 div.sk-estimator input.sk-toggleable__control:checked~label.sk-toggleable__label {background-color: #d4ebff;}#sk-container-id-3 div.sk-label input.sk-toggleable__control:checked~label.sk-toggleable__label {background-color: #d4ebff;}#sk-container-id-3 input.sk-hidden--visually {border: 0;clip: rect(1px 1px 1px 1px);clip: rect(1px, 1px, 1px, 1px);height: 1px;margin: -1px;overflow: hidden;padding: 0;position: absolute;width: 1px;}#sk-container-id-3 div.sk-estimator {font-family: monospace;background-color: #f0f8ff;border: 1px dotted black;border-radius: 0.25em;box-sizing: border-box;margin-bottom: 0.5em;}#sk-container-id-3 div.sk-estimator:hover {background-color: #d4ebff;}#sk-container-id-3 div.sk-parallel-item::after {content: \"\";width: 100%;border-bottom: 1px solid gray;flex-grow: 1;}#sk-container-id-3 div.sk-label:hover label.sk-toggleable__label {background-color: #d4ebff;}#sk-container-id-3 div.sk-serial::before {content: \"\";position: absolute;border-left: 1px solid gray;box-sizing: border-box;top: 0;bottom: 0;left: 50%;z-index: 0;}#sk-container-id-3 div.sk-serial {display: flex;flex-direction: column;align-items: center;background-color: white;padding-right: 0.2em;padding-left: 0.2em;position: relative;}#sk-container-id-3 div.sk-item {position: relative;z-index: 1;}#sk-container-id-3 div.sk-parallel {display: flex;align-items: stretch;justify-content: center;background-color: white;position: relative;}#sk-container-id-3 div.sk-item::before, #sk-container-id-3 div.sk-parallel-item::before {content: \"\";position: absolute;border-left: 1px solid gray;box-sizing: border-box;top: 0;bottom: 0;left: 50%;z-index: -1;}#sk-container-id-3 div.sk-parallel-item {display: flex;flex-direction: column;z-index: 1;position: relative;background-color: white;}#sk-container-id-3 div.sk-parallel-item:first-child::after {align-self: flex-end;width: 50%;}#sk-container-id-3 div.sk-parallel-item:last-child::after {align-self: flex-start;width: 50%;}#sk-container-id-3 div.sk-parallel-item:only-child::after {width: 0;}#sk-container-id-3 div.sk-dashed-wrapped {border: 1px dashed gray;margin: 0 0.4em 0.5em 0.4em;box-sizing: border-box;padding-bottom: 0.4em;background-color: white;}#sk-container-id-3 div.sk-label label {font-family: monospace;font-weight: bold;display: inline-block;line-height: 1.2em;}#sk-container-id-3 div.sk-label-container {text-align: center;}#sk-container-id-3 div.sk-container {/* jupyter's `normalize.less` sets `[hidden] { display: none; }` but bootstrap.min.css set `[hidden] { display: none !important; }` so we also need the `!important` here to be able to override the default hidden behavior on the sphinx rendered scikit-learn.org. See: https://github.com/scikit-learn/scikit-learn/issues/21755 */display: inline-block !important;position: relative;}#sk-container-id-3 div.sk-text-repr-fallback {display: none;}</style><div id=\"sk-container-id-3\" class=\"sk-top-container\"><div class=\"sk-text-repr-fallback\"><pre>Pipeline(steps=[(&#x27;preprocesser&#x27;,\n",
       "                 CountVectorizer(max_df=100, max_features=30000,\n",
       "                                 ngram_range=(2, 2))),\n",
       "                (&#x27;classifier_SVM&#x27;, SVC(C=0.1, gamma=&#x27;auto&#x27;, kernel=&#x27;linear&#x27;))])</pre><b>In a Jupyter environment, please rerun this cell to show the HTML representation or trust the notebook. <br />On GitHub, the HTML representation is unable to render, please try loading this page with nbviewer.org.</b></div><div class=\"sk-container\" hidden><div class=\"sk-item sk-dashed-wrapped\"><div class=\"sk-label-container\"><div class=\"sk-label sk-toggleable\"><input class=\"sk-toggleable__control sk-hidden--visually\" id=\"sk-estimator-id-7\" type=\"checkbox\" ><label for=\"sk-estimator-id-7\" class=\"sk-toggleable__label sk-toggleable__label-arrow\">Pipeline</label><div class=\"sk-toggleable__content\"><pre>Pipeline(steps=[(&#x27;preprocesser&#x27;,\n",
       "                 CountVectorizer(max_df=100, max_features=30000,\n",
       "                                 ngram_range=(2, 2))),\n",
       "                (&#x27;classifier_SVM&#x27;, SVC(C=0.1, gamma=&#x27;auto&#x27;, kernel=&#x27;linear&#x27;))])</pre></div></div></div><div class=\"sk-serial\"><div class=\"sk-item\"><div class=\"sk-estimator sk-toggleable\"><input class=\"sk-toggleable__control sk-hidden--visually\" id=\"sk-estimator-id-8\" type=\"checkbox\" ><label for=\"sk-estimator-id-8\" class=\"sk-toggleable__label sk-toggleable__label-arrow\">CountVectorizer</label><div class=\"sk-toggleable__content\"><pre>CountVectorizer(max_df=100, max_features=30000, ngram_range=(2, 2))</pre></div></div></div><div class=\"sk-item\"><div class=\"sk-estimator sk-toggleable\"><input class=\"sk-toggleable__control sk-hidden--visually\" id=\"sk-estimator-id-9\" type=\"checkbox\" ><label for=\"sk-estimator-id-9\" class=\"sk-toggleable__label sk-toggleable__label-arrow\">SVC</label><div class=\"sk-toggleable__content\"><pre>SVC(C=0.1, gamma=&#x27;auto&#x27;, kernel=&#x27;linear&#x27;)</pre></div></div></div></div></div></div></div>"
      ],
      "text/plain": [
       "Pipeline(steps=[('preprocesser',\n",
       "                 CountVectorizer(max_df=100, max_features=30000,\n",
       "                                 ngram_range=(2, 2))),\n",
       "                ('classifier_SVM', SVC(C=0.1, gamma='auto', kernel='linear'))])"
      ]
     },
     "execution_count": 22,
     "metadata": {},
     "output_type": "execute_result"
    }
   ],
   "source": [
    "preprocessor = CountVectorizer(max_df=100,max_features=30000,ngram_range=(2,2))\n",
    "classifier_SVM = svm.SVC(gamma='auto', C=0.1, kernel='linear')\n",
    "\n",
    "\n",
    "pipeline_3 = Pipeline(steps=[(\"preprocesser\", preprocessor), (\"classifier_SVM\", classifier_SVM)])\n",
    "pipeline_3"
   ]
  },
  {
   "cell_type": "code",
   "execution_count": 23,
   "metadata": {},
   "outputs": [
    {
     "data": {
      "text/html": [
       "<style>#sk-container-id-4 {color: black;background-color: white;}#sk-container-id-4 pre{padding: 0;}#sk-container-id-4 div.sk-toggleable {background-color: white;}#sk-container-id-4 label.sk-toggleable__label {cursor: pointer;display: block;width: 100%;margin-bottom: 0;padding: 0.3em;box-sizing: border-box;text-align: center;}#sk-container-id-4 label.sk-toggleable__label-arrow:before {content: \"▸\";float: left;margin-right: 0.25em;color: #696969;}#sk-container-id-4 label.sk-toggleable__label-arrow:hover:before {color: black;}#sk-container-id-4 div.sk-estimator:hover label.sk-toggleable__label-arrow:before {color: black;}#sk-container-id-4 div.sk-toggleable__content {max-height: 0;max-width: 0;overflow: hidden;text-align: left;background-color: #f0f8ff;}#sk-container-id-4 div.sk-toggleable__content pre {margin: 0.2em;color: black;border-radius: 0.25em;background-color: #f0f8ff;}#sk-container-id-4 input.sk-toggleable__control:checked~div.sk-toggleable__content {max-height: 200px;max-width: 100%;overflow: auto;}#sk-container-id-4 input.sk-toggleable__control:checked~label.sk-toggleable__label-arrow:before {content: \"▾\";}#sk-container-id-4 div.sk-estimator input.sk-toggleable__control:checked~label.sk-toggleable__label {background-color: #d4ebff;}#sk-container-id-4 div.sk-label input.sk-toggleable__control:checked~label.sk-toggleable__label {background-color: #d4ebff;}#sk-container-id-4 input.sk-hidden--visually {border: 0;clip: rect(1px 1px 1px 1px);clip: rect(1px, 1px, 1px, 1px);height: 1px;margin: -1px;overflow: hidden;padding: 0;position: absolute;width: 1px;}#sk-container-id-4 div.sk-estimator {font-family: monospace;background-color: #f0f8ff;border: 1px dotted black;border-radius: 0.25em;box-sizing: border-box;margin-bottom: 0.5em;}#sk-container-id-4 div.sk-estimator:hover {background-color: #d4ebff;}#sk-container-id-4 div.sk-parallel-item::after {content: \"\";width: 100%;border-bottom: 1px solid gray;flex-grow: 1;}#sk-container-id-4 div.sk-label:hover label.sk-toggleable__label {background-color: #d4ebff;}#sk-container-id-4 div.sk-serial::before {content: \"\";position: absolute;border-left: 1px solid gray;box-sizing: border-box;top: 0;bottom: 0;left: 50%;z-index: 0;}#sk-container-id-4 div.sk-serial {display: flex;flex-direction: column;align-items: center;background-color: white;padding-right: 0.2em;padding-left: 0.2em;position: relative;}#sk-container-id-4 div.sk-item {position: relative;z-index: 1;}#sk-container-id-4 div.sk-parallel {display: flex;align-items: stretch;justify-content: center;background-color: white;position: relative;}#sk-container-id-4 div.sk-item::before, #sk-container-id-4 div.sk-parallel-item::before {content: \"\";position: absolute;border-left: 1px solid gray;box-sizing: border-box;top: 0;bottom: 0;left: 50%;z-index: -1;}#sk-container-id-4 div.sk-parallel-item {display: flex;flex-direction: column;z-index: 1;position: relative;background-color: white;}#sk-container-id-4 div.sk-parallel-item:first-child::after {align-self: flex-end;width: 50%;}#sk-container-id-4 div.sk-parallel-item:last-child::after {align-self: flex-start;width: 50%;}#sk-container-id-4 div.sk-parallel-item:only-child::after {width: 0;}#sk-container-id-4 div.sk-dashed-wrapped {border: 1px dashed gray;margin: 0 0.4em 0.5em 0.4em;box-sizing: border-box;padding-bottom: 0.4em;background-color: white;}#sk-container-id-4 div.sk-label label {font-family: monospace;font-weight: bold;display: inline-block;line-height: 1.2em;}#sk-container-id-4 div.sk-label-container {text-align: center;}#sk-container-id-4 div.sk-container {/* jupyter's `normalize.less` sets `[hidden] { display: none; }` but bootstrap.min.css set `[hidden] { display: none !important; }` so we also need the `!important` here to be able to override the default hidden behavior on the sphinx rendered scikit-learn.org. See: https://github.com/scikit-learn/scikit-learn/issues/21755 */display: inline-block !important;position: relative;}#sk-container-id-4 div.sk-text-repr-fallback {display: none;}</style><div id=\"sk-container-id-4\" class=\"sk-top-container\"><div class=\"sk-text-repr-fallback\"><pre>Pipeline(steps=[(&#x27;preprocesser&#x27;,\n",
       "                 CountVectorizer(max_df=100, max_features=30000,\n",
       "                                 ngram_range=(2, 2))),\n",
       "                (&#x27;classifier_SVM&#x27;, SVC(C=0.1, gamma=&#x27;auto&#x27;, kernel=&#x27;linear&#x27;))])</pre><b>In a Jupyter environment, please rerun this cell to show the HTML representation or trust the notebook. <br />On GitHub, the HTML representation is unable to render, please try loading this page with nbviewer.org.</b></div><div class=\"sk-container\" hidden><div class=\"sk-item sk-dashed-wrapped\"><div class=\"sk-label-container\"><div class=\"sk-label sk-toggleable\"><input class=\"sk-toggleable__control sk-hidden--visually\" id=\"sk-estimator-id-10\" type=\"checkbox\" ><label for=\"sk-estimator-id-10\" class=\"sk-toggleable__label sk-toggleable__label-arrow\">Pipeline</label><div class=\"sk-toggleable__content\"><pre>Pipeline(steps=[(&#x27;preprocesser&#x27;,\n",
       "                 CountVectorizer(max_df=100, max_features=30000,\n",
       "                                 ngram_range=(2, 2))),\n",
       "                (&#x27;classifier_SVM&#x27;, SVC(C=0.1, gamma=&#x27;auto&#x27;, kernel=&#x27;linear&#x27;))])</pre></div></div></div><div class=\"sk-serial\"><div class=\"sk-item\"><div class=\"sk-estimator sk-toggleable\"><input class=\"sk-toggleable__control sk-hidden--visually\" id=\"sk-estimator-id-11\" type=\"checkbox\" ><label for=\"sk-estimator-id-11\" class=\"sk-toggleable__label sk-toggleable__label-arrow\">CountVectorizer</label><div class=\"sk-toggleable__content\"><pre>CountVectorizer(max_df=100, max_features=30000, ngram_range=(2, 2))</pre></div></div></div><div class=\"sk-item\"><div class=\"sk-estimator sk-toggleable\"><input class=\"sk-toggleable__control sk-hidden--visually\" id=\"sk-estimator-id-12\" type=\"checkbox\" ><label for=\"sk-estimator-id-12\" class=\"sk-toggleable__label sk-toggleable__label-arrow\">SVC</label><div class=\"sk-toggleable__content\"><pre>SVC(C=0.1, gamma=&#x27;auto&#x27;, kernel=&#x27;linear&#x27;)</pre></div></div></div></div></div></div></div>"
      ],
      "text/plain": [
       "Pipeline(steps=[('preprocesser',\n",
       "                 CountVectorizer(max_df=100, max_features=30000,\n",
       "                                 ngram_range=(2, 2))),\n",
       "                ('classifier_SVM', SVC(C=0.1, gamma='auto', kernel='linear'))])"
      ]
     },
     "execution_count": 23,
     "metadata": {},
     "output_type": "execute_result"
    }
   ],
   "source": [
    "pipeline_3.fit(X_train, np.argmax(np.array(y_train), axis=1))"
   ]
  },
  {
   "cell_type": "code",
   "execution_count": 24,
   "metadata": {},
   "outputs": [
    {
     "data": {
      "text/plain": [
       "<bound method Pipeline.score of Pipeline(steps=[('preprocesser',\n",
       "                 CountVectorizer(max_df=100, max_features=30000,\n",
       "                                 ngram_range=(2, 2))),\n",
       "                ('classifier_SVM', SVC(C=0.1, gamma='auto', kernel='linear'))])>"
      ]
     },
     "execution_count": 24,
     "metadata": {},
     "output_type": "execute_result"
    }
   ],
   "source": [
    "pipeline_3.score"
   ]
  },
  {
   "cell_type": "code",
   "execution_count": 25,
   "metadata": {},
   "outputs": [],
   "source": [
    "prediction_pipe = pipeline_3.predict(X_test)"
   ]
  },
  {
   "cell_type": "code",
   "execution_count": 26,
   "metadata": {},
   "outputs": [
    {
     "data": {
      "text/plain": [
       "0.676056338028169"
      ]
     },
     "execution_count": 26,
     "metadata": {},
     "output_type": "execute_result"
    }
   ],
   "source": [
    "accuracy_score(prediction_pipe, np.argmax(np.array(y_test), axis=1))"
   ]
  },
  {
   "cell_type": "code",
   "execution_count": 27,
   "metadata": {},
   "outputs": [
    {
     "name": "stdout",
     "output_type": "stream",
     "text": [
      "Confusion matrix:\n",
      "[[175 132   0   0]\n",
      " [169 121   0   0]\n",
      " [  3   0 266  25]\n",
      " [  3   1  12 158]]\n",
      "0 topic_Biology\n",
      "1 topic_Medicine\n",
      "2 topic_mathematics\n",
      "3 topic_physics\n"
     ]
    },
    {
     "data": {
      "image/png": "[encoded data removed]",
      "text/plain": [
       "<Figure size 640x480 with 2 Axes>"
      ]
     },
     "metadata": {},
     "output_type": "display_data"
    }
   ],
   "source": [
    "print(\"Confusion matrix:\")\n",
    "print(metrics.confusion_matrix(np.argmax(np.array(y_test), axis=1), prediction_pipe))\n",
    "\n",
    "conf_matrix = confusion_matrix(labels=np.argmax(np.array(y_test), axis=1), predictions=prediction_pipe)\n",
    "sns.heatmap(conf_matrix/np.sum(conf_matrix), annot=True, fmt='.2%', cmap='Blues')\n",
    "for i, column in enumerate(topic_targets_enc.columns):\n",
    "    print(i, column)"
   ]
  },
  {
   "cell_type": "markdown",
   "metadata": {},
   "source": [
    "# saving model"
   ]
  },
  {
   "cell_type": "code",
   "execution_count": 28,
   "metadata": {},
   "outputs": [],
   "source": [
    "from tensorflow.keras import models\n",
    "import joblib\n",
    "\n",
    "def save_model_2(model = None):\n",
    "    #model.save('WorkingPaper/local/ML_model_layer1.h5')\n",
    "    path = '../local/ML_model_layer3.joblib'\n",
    "    joblib.dump(model, path)\n",
    "    return None"
   ]
  },
  {
   "cell_type": "code",
   "execution_count": 29,
   "metadata": {},
   "outputs": [],
   "source": [
    "save_model_2(model = pipeline_3)"
   ]
  },
  {
   "cell_type": "code",
   "execution_count": null,
   "metadata": {},
   "outputs": [],
   "source": []
  }
 ],
 "metadata": {
  "kernelspec": {
   "display_name": "Python 3.8.12 64-bit ('WorkingPaper')",
   "language": "python",
   "name": "python3"
  },
  "language_info": {
   "codemirror_mode": {
    "name": "ipython",
    "version": 3
   },
   "file_extension": ".py",
   "mimetype": "text/x-python",
   "name": "python",
   "nbconvert_exporter": "python",
   "pygments_lexer": "ipython3",
   "version": "3.8.12"
  },
  "orig_nbformat": 4,
  "vscode": {
   "interpreter": {
    "hash": "1e586201604a5b35e9150247dec59911dfaaad6994608e828b5c764230b96f67"
   }
  }
 },
 "nbformat": 4,
 "nbformat_minor": 2
}
